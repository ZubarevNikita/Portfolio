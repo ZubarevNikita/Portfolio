{
 "cells": [
  {
   "cell_type": "markdown",
   "id": "df0b1fb4",
   "metadata": {
    "toc": true
   },
   "source": [
    "<h1>Содержание<span class=\"tocSkip\"></span></h1>\n",
    "<div class=\"toc\"><ul class=\"toc-item\"><li><span><a href=\"#Описание-проекта\" data-toc-modified-id=\"Описание-проекта-1\"><span class=\"toc-item-num\">1&nbsp;&nbsp;</span>Описание проекта</a></span></li><li><span><a href=\"#Цель-проекта\" data-toc-modified-id=\"Цель-проекта-2\"><span class=\"toc-item-num\">2&nbsp;&nbsp;</span>Цель проекта</a></span></li><li><span><a href=\"#Исходные-данные\" data-toc-modified-id=\"Исходные-данные-3\"><span class=\"toc-item-num\">3&nbsp;&nbsp;</span>Исходные данные</a></span><ul class=\"toc-item\"><li><span><a href=\"#Описание-тарифов\" data-toc-modified-id=\"Описание-тарифов-3.1\"><span class=\"toc-item-num\">3.1&nbsp;&nbsp;</span>Описание тарифов</a></span><ul class=\"toc-item\"><li><span><a href=\"#Тариф-&quot;Смарт&quot;\" data-toc-modified-id=\"Тариф-&quot;Смарт&quot;-3.1.1\"><span class=\"toc-item-num\">3.1.1&nbsp;&nbsp;</span>Тариф \"Смарт\"</a></span></li><li><span><a href=\"#Тариф-«Ультра»\" data-toc-modified-id=\"Тариф-«Ультра»-3.1.2\"><span class=\"toc-item-num\">3.1.2&nbsp;&nbsp;</span>Тариф «Ультра»</a></span></li></ul></li><li><span><a href=\"#Предоставленные-датасеты\" data-toc-modified-id=\"Предоставленные-датасеты-3.2\"><span class=\"toc-item-num\">3.2&nbsp;&nbsp;</span>Предоставленные датасеты</a></span></li><li><span><a href=\"#Описание-данных\" data-toc-modified-id=\"Описание-данных-3.3\"><span class=\"toc-item-num\">3.3&nbsp;&nbsp;</span>Описание данных</a></span><ul class=\"toc-item\"><li><span><a href=\"#Таблица-users-(информация-о-пользователях)\" data-toc-modified-id=\"Таблица-users-(информация-о-пользователях)-3.3.1\"><span class=\"toc-item-num\">3.3.1&nbsp;&nbsp;</span>Таблица <strong>users</strong> (информация о пользователях)</a></span></li><li><span><a href=\"#Таблица-calls-(информация-о-звонках)\" data-toc-modified-id=\"Таблица-calls-(информация-о-звонках)-3.3.2\"><span class=\"toc-item-num\">3.3.2&nbsp;&nbsp;</span>Таблица <strong>calls</strong> (информация о звонках)</a></span></li><li><span><a href=\"#Таблица-messages-(информация-о-сообщениях)\" data-toc-modified-id=\"Таблица-messages-(информация-о-сообщениях)-3.3.3\"><span class=\"toc-item-num\">3.3.3&nbsp;&nbsp;</span>Таблица <strong>messages</strong> (информация о сообщениях)</a></span></li><li><span><a href=\"#Таблица-internet-(информация-об-интернет-сессиях)\" data-toc-modified-id=\"Таблица-internet-(информация-об-интернет-сессиях)-3.3.4\"><span class=\"toc-item-num\">3.3.4&nbsp;&nbsp;</span>Таблица <strong>internet</strong> (информация об интернет-сессиях)</a></span></li><li><span><a href=\"#Таблица-tariffs-(информация-о-тарифах)\" data-toc-modified-id=\"Таблица-tariffs-(информация-о-тарифах)-3.3.5\"><span class=\"toc-item-num\">3.3.5&nbsp;&nbsp;</span>Таблица <strong>tariffs</strong> (информация о тарифах)</a></span></li></ul></li></ul></li><li><span><a href=\"#Откроем-и-изучим-данные\" data-toc-modified-id=\"Откроем-и-изучим-данные-4\"><span class=\"toc-item-num\">4&nbsp;&nbsp;</span>Откроем и изучим данные</a></span><ul class=\"toc-item\"><li><span><a href=\"#Таблица-calls\" data-toc-modified-id=\"Таблица-calls-4.1\"><span class=\"toc-item-num\">4.1&nbsp;&nbsp;</span>Таблица calls</a></span></li><li><span><a href=\"#Таблица-internet\" data-toc-modified-id=\"Таблица-internet-4.2\"><span class=\"toc-item-num\">4.2&nbsp;&nbsp;</span>Таблица internet</a></span></li><li><span><a href=\"#Таблица-messages\" data-toc-modified-id=\"Таблица-messages-4.3\"><span class=\"toc-item-num\">4.3&nbsp;&nbsp;</span>Таблица messages</a></span></li><li><span><a href=\"#Таблица-tariffs\" data-toc-modified-id=\"Таблица-tariffs-4.4\"><span class=\"toc-item-num\">4.4&nbsp;&nbsp;</span>Таблица tariffs</a></span></li><li><span><a href=\"#Таблица-users\" data-toc-modified-id=\"Таблица-users-4.5\"><span class=\"toc-item-num\">4.5&nbsp;&nbsp;</span>Таблица users</a></span></li></ul></li><li><span><a href=\"#Подготовка-данных\" data-toc-modified-id=\"Подготовка-данных-5\"><span class=\"toc-item-num\">5&nbsp;&nbsp;</span>Подготовка данных</a></span><ul class=\"toc-item\"><li><span><a href=\"#Приведем-столбцы-ниже-к-типу-datetime\" data-toc-modified-id=\"Приведем-столбцы-ниже-к-типу-datetime-5.1\"><span class=\"toc-item-num\">5.1&nbsp;&nbsp;</span>Приведем столбцы ниже к типу datetime</a></span></li><li><span><a href=\"#Округлим-значения\" data-toc-modified-id=\"Округлим-значения-5.2\"><span class=\"toc-item-num\">5.2&nbsp;&nbsp;</span>Округлим значения</a></span></li><li><span><a href=\"#Удалим-столбец-Unnamed:-0-из-датафрейма-sessions\" data-toc-modified-id=\"Удалим-столбец-Unnamed:-0-из-датафрейма-sessions-5.3\"><span class=\"toc-item-num\">5.3&nbsp;&nbsp;</span>Удалим столбец <code>Unnamed: 0</code> из датафрейма <code>sessions</code></a></span></li><li><span><a href=\"#Добавим-столбец-month-в-датафреймах\" data-toc-modified-id=\"Добавим-столбец-month-в-датафреймах-5.4\"><span class=\"toc-item-num\">5.4&nbsp;&nbsp;</span>Добавим столбец <code>month</code> в датафреймах</a></span></li><li><span><a href=\"#Посчитаем-количество-сделанных-звонков-разговора-для-каждого-пользователя-по-месяцам\" data-toc-modified-id=\"Посчитаем-количество-сделанных-звонков-разговора-для-каждого-пользователя-по-месяцам-5.5\"><span class=\"toc-item-num\">5.5&nbsp;&nbsp;</span>Посчитаем количество сделанных звонков разговора для каждого пользователя по месяцам</a></span></li><li><span><a href=\"#Посчитаем-количество-израсходованных-минут-разговора-для-каждого-пользователя-по-месяцам\" data-toc-modified-id=\"Посчитаем-количество-израсходованных-минут-разговора-для-каждого-пользователя-по-месяцам-5.6\"><span class=\"toc-item-num\">5.6&nbsp;&nbsp;</span>Посчитаем количество израсходованных минут разговора для каждого пользователя по месяцам</a></span></li><li><span><a href=\"#Посчитаем-количество-отправленных-сообщений-по-месяцам-для-каждого-пользователя\" data-toc-modified-id=\"Посчитаем-количество-отправленных-сообщений-по-месяцам-для-каждого-пользователя-5.7\"><span class=\"toc-item-num\">5.7&nbsp;&nbsp;</span>Посчитаем количество отправленных сообщений по месяцам для каждого пользователя</a></span></li><li><span><a href=\"#Посчитаем-количество-потраченных-мегабайт-по-месяцам-для-каждого-пользователя\" data-toc-modified-id=\"Посчитаем-количество-потраченных-мегабайт-по-месяцам-для-каждого-пользователя-5.8\"><span class=\"toc-item-num\">5.8&nbsp;&nbsp;</span>Посчитаем количество потраченных мегабайт по месяцам для каждого пользователя</a></span></li></ul></li><li><span><a href=\"#Анализ-данных-и-подсчет-выручки\" data-toc-modified-id=\"Анализ-данных-и-подсчет-выручки-6\"><span class=\"toc-item-num\">6&nbsp;&nbsp;</span>Анализ данных и подсчет выручки</a></span><ul class=\"toc-item\"><li><span><a href=\"#Проверим-пропуски-в-сводных-данных\" data-toc-modified-id=\"Проверим-пропуски-в-сводных-данных-6.1\"><span class=\"toc-item-num\">6.1&nbsp;&nbsp;</span>Проверим пропуски в сводных данных</a></span></li><li><span><a href=\"#Посчитаем-количество-минут-разговора,-сообщений-и-мегабайт,-превышающих-включенные-в-тариф\" data-toc-modified-id=\"Посчитаем-количество-минут-разговора,-сообщений-и-мегабайт,-превышающих-включенные-в-тариф-6.2\"><span class=\"toc-item-num\">6.2&nbsp;&nbsp;</span>Посчитаем количество минут разговора, сообщений и мегабайт, превышающих включенные в тариф</a></span></li><li><span><a href=\"#Посчитаем-выручку-за-минуты-разговора,-сообщения-и-интернет\" data-toc-modified-id=\"Посчитаем-выручку-за-минуты-разговора,-сообщения-и-интернет-6.3\"><span class=\"toc-item-num\">6.3&nbsp;&nbsp;</span>Посчитаем выручку за минуты разговора, сообщения и интернет</a></span></li><li><span><a href=\"#Считаем-помесячную-выручку-с-каждого-пользователя\" data-toc-modified-id=\"Считаем-помесячную-выручку-с-каждого-пользователя-6.4\"><span class=\"toc-item-num\">6.4&nbsp;&nbsp;</span>Считаем помесячную выручку с каждого пользователя</a></span></li><li><span><a href=\"#Определяем-основные-характеристики-по-тарифам-за-каждый-месяц\" data-toc-modified-id=\"Определяем-основные-характеристики-по-тарифам-за-каждый-месяц-6.5\"><span class=\"toc-item-num\">6.5&nbsp;&nbsp;</span>Определяем основные характеристики по тарифам за каждый месяц</a></span><ul class=\"toc-item\"><li><span><a href=\"#Распределение-среднего-количества-звонков-по-видам-тарифов-и-месяцам\" data-toc-modified-id=\"Распределение-среднего-количества-звонков-по-видам-тарифов-и-месяцам-6.5.1\"><span class=\"toc-item-num\">6.5.1&nbsp;&nbsp;</span>Распределение среднего количества звонков по видам тарифов и месяцам</a></span></li></ul></li><li><span><a href=\"#Распределение-средней-продолжительности-звонков-по-видам-тарифов-и-месяцам\" data-toc-modified-id=\"Распределение-средней-продолжительности-звонков-по-видам-тарифов-и-месяцам-6.6\"><span class=\"toc-item-num\">6.6&nbsp;&nbsp;</span>Распределение средней продолжительности звонков по видам тарифов и месяцам</a></span></li><li><span><a href=\"#Распределение-среднего-количества-сообщений-по-видам-тарифов-и-месяцам\" data-toc-modified-id=\"Распределение-среднего-количества-сообщений-по-видам-тарифов-и-месяцам-6.7\"><span class=\"toc-item-num\">6.7&nbsp;&nbsp;</span>Распределение среднего количества сообщений по видам тарифов и месяцам</a></span></li><li><span><a href=\"#Распределение-потраченных-мегабайт-трафика-по-месяцам-и-тарифам\" data-toc-modified-id=\"Распределение-потраченных-мегабайт-трафика-по-месяцам-и-тарифам-6.8\"><span class=\"toc-item-num\">6.8&nbsp;&nbsp;</span>Распределение потраченных мегабайт трафика по месяцам и тарифам</a></span></li></ul></li><li><span><a href=\"#Проверка-гипотез\" data-toc-modified-id=\"Проверка-гипотез-7\"><span class=\"toc-item-num\">7&nbsp;&nbsp;</span>Проверка гипотез</a></span><ul class=\"toc-item\"><li><span><a href=\"#Гипотеза-о-равенстве-средней-выручки-пользователей-тарифов-&quot;smart&quot;-и-&quot;ultra&quot;\" data-toc-modified-id=\"Гипотеза-о-равенстве-средней-выручки-пользователей-тарифов-&quot;smart&quot;-и-&quot;ultra&quot;-7.1\"><span class=\"toc-item-num\">7.1&nbsp;&nbsp;</span>Гипотеза о равенстве средней выручки пользователей тарифов \"smart\" и \"ultra\"</a></span></li><li><span><a href=\"#Гипотеза-о-равестве-выручки-от-пользователей-Москвы-и-других-городов\" data-toc-modified-id=\"Гипотеза-о-равестве-выручки-от-пользователей-Москвы-и-других-городов-7.2\"><span class=\"toc-item-num\">7.2&nbsp;&nbsp;</span>Гипотеза о равестве выручки от пользователей Москвы и других городов</a></span></li></ul></li><li><span><a href=\"#Вывод\" data-toc-modified-id=\"Вывод-8\"><span class=\"toc-item-num\">8&nbsp;&nbsp;</span>Вывод</a></span></li></ul></div>"
   ]
  },
  {
   "cell_type": "markdown",
   "id": "b74f005e",
   "metadata": {},
   "source": [
    "# Описание проекта"
   ]
  },
  {
   "cell_type": "markdown",
   "id": "5644f416",
   "metadata": {},
   "source": [
    "Мы выступаем в роли аналитика компании \"Мегалайн\" - федерального оператора сотовой связи.  \n",
    "Клиентам предлагают два тарифных плана: \"Смарт\" и \"Ультра\".  \n",
    "Чтобы скорректировать рекламный бюджет, коммерческий департамент хочет понять, какой тариф приносит больше денег.  \n",
    "\n",
    "Нам необходимо сделать предварительный анализ тарифов на небольшой выборке клиентов. В нашем распоряжении данные 500 пользователей \"Мегалайна\": кто она, откуда, каким тарифом пользуются, сколько звонков и сообщений отправил за 2018-й год. Нужно проанализировать поведение клиентов и сделать вывод - какой тариф лучше. "
   ]
  },
  {
   "cell_type": "markdown",
   "id": "b1018364",
   "metadata": {},
   "source": [
    "# Цель проекта"
   ]
  },
  {
   "cell_type": "markdown",
   "id": "0f9f2eae",
   "metadata": {},
   "source": [
    "Определить какой из двух представленных тарифных планов приносит больше денег, чтобы на основании данного анализа скорректировать рекламный бюджет."
   ]
  },
  {
   "cell_type": "markdown",
   "id": "dec05779",
   "metadata": {},
   "source": [
    "# Исходные данные"
   ]
  },
  {
   "cell_type": "markdown",
   "id": "58b05876",
   "metadata": {},
   "source": [
    "## Описание тарифов"
   ]
  },
  {
   "cell_type": "markdown",
   "id": "91889de5",
   "metadata": {},
   "source": [
    "### Тариф \"Смарт\"  \n",
    "1. Ежемесячная плата: 550 рублей\n",
    "2. Включено 500 минут разговора, 50 сообщений и 15 Гб интернет-трафика\n",
    "3. Стоимость услуг сверх тарифного пакета:\n",
    " - минута разговора: 3 рубля\n",
    " - сообщение: 3 рубля\n",
    " - 1 Гб интернет-трафика: 200 рублей"
   ]
  },
  {
   "cell_type": "markdown",
   "id": "a93e69f0",
   "metadata": {},
   "source": [
    "### Тариф «Ультра»\n",
    "1. Ежемесячная плата: 1950 рублей\n",
    "2. Включено 3000 минут разговора, 1000 сообщений и 30 Гб интернет-трафика\n",
    "3. Стоимость услуг сверх тарифного пакета:\n",
    " - минута разговора: 1 рубль\n",
    " - сообщение: 1 рубль\n",
    " - 1 Гб интернет-трафика: 150 рублей"
   ]
  },
  {
   "cell_type": "markdown",
   "id": "641611c9",
   "metadata": {},
   "source": [
    "## Предоставленные датасеты"
   ]
  },
  {
   "cell_type": "markdown",
   "id": "07dfe675",
   "metadata": {},
   "source": [
    "- calls.csv\n",
    "- internet.csv\n",
    "- messages.csv\n",
    "- tariffs.csv\n",
    "- users.csv"
   ]
  },
  {
   "cell_type": "markdown",
   "id": "cacf7b27",
   "metadata": {},
   "source": [
    "## Описание данных"
   ]
  },
  {
   "cell_type": "markdown",
   "id": "f4f4d991",
   "metadata": {},
   "source": [
    "### Таблица **users** (информация о пользователях)  \n",
    "- **user_id** — уникальный идентификатор пользователя\n",
    "- **first_name** — имя пользователя\n",
    "- **last_name** — фамилия пользователя\n",
    "- **age** — возраст пользователя (годы)\n",
    "- **reg_date** — дата подключения тарифа (день, месяц, год)\n",
    "- **churn_date** — дата прекращения пользования тарифом (если значение пропущено, то тариф ещё действовал на момент выгрузки данных)\n",
    "- **city** — город проживания пользователя\n",
    "- **tariff** — название тарифного плана"
   ]
  },
  {
   "cell_type": "markdown",
   "id": "90c10e42",
   "metadata": {},
   "source": [
    "### Таблица **calls** (информация о звонках)   \n",
    "- **id** — уникальный номер звонка\n",
    "- **call_date** — дата звонка\n",
    "- **duration** — длительность звонка в минутах\n",
    "- **user_id** — идентификатор пользователя, сделавшего звонок"
   ]
  },
  {
   "cell_type": "markdown",
   "id": "e1c8737c",
   "metadata": {},
   "source": [
    "### Таблица **messages** (информация о сообщениях)     \n",
    "- **id** — уникальный номер сообщения\n",
    "- **message_date** — дата сообщения\n",
    "- **user_id** — идентификатор пользователя, отправившего сообщение"
   ]
  },
  {
   "cell_type": "markdown",
   "id": "69166c13",
   "metadata": {},
   "source": [
    "### Таблица **internet** (информация об интернет-сессиях)       \n",
    "- **id** — уникальный номер сессии\n",
    "- **mb_used** — объём потраченного за сессию интернет-трафика (в мегабайтах)\n",
    "- **session_date** — дата интернет-сессии\n",
    "- **user_id** — идентификатор пользователя"
   ]
  },
  {
   "cell_type": "markdown",
   "id": "a82e1227",
   "metadata": {},
   "source": [
    "### Таблица **tariffs** (информация о тарифах)  \n",
    "- **tariff_name** — название тарифа\n",
    "- **rub_monthly_fee** — ежемесячная абонентская плата в рублях\n",
    "- **minutes_included** — количество минут разговора в месяц, включённых в абонентскую плату\n",
    "- **messages_included** — количество сообщений в месяц, включённых в абонентскую плату\n",
    "- **mb_per_month_included** — объём интернет-трафика, включённого в абонентскую плату (в мегабайтах)\n",
    "- **rub_per_minute** — стоимость минуты разговора сверх тарифного пакета (например, если в тарифе 100 минут разговора в месяц, то со 101 минуты будет взиматься плата)\n",
    "- **rub_per_message** — стоимость отправки сообщения сверх тарифного пакета\n",
    "- **rub_per_gb** — стоимость дополнительного гигабайта интернет-трафика сверх тарифного пакета (1 гигабайт = 1024 мегабайта)"
   ]
  },
  {
   "cell_type": "markdown",
   "id": "6ce6aff4",
   "metadata": {},
   "source": [
    "# Откроем и изучим данные"
   ]
  },
  {
   "cell_type": "code",
   "execution_count": 1,
   "id": "8c434b59",
   "metadata": {},
   "outputs": [],
   "source": [
    "# импортируем библиотеки\n",
    "import pandas as pd\n",
    "import numpy as np\n",
    "import seaborn as sns\n",
    "import matplotlib.pyplot as plt\n",
    "from scipy import stats as st"
   ]
  },
  {
   "cell_type": "markdown",
   "id": "17139f05",
   "metadata": {},
   "source": [
    "## Таблица calls"
   ]
  },
  {
   "cell_type": "markdown",
   "id": "10b1981d",
   "metadata": {},
   "source": [
    "Откроем файл calls.csv и сохраним датафрейм в переменную `calls`."
   ]
  },
  {
   "cell_type": "code",
   "execution_count": 2,
   "id": "105f41df",
   "metadata": {},
   "outputs": [],
   "source": [
    "calls = pd.read_csv(\n",
    "    r'C:\\Users\\Dell Inspirion 15 #1\\JyputerRoot\\Проекты по Практикуму\\Обработанные проекты\\Datasets\\Тарифы\\calls.csv')"
   ]
  },
  {
   "cell_type": "code",
   "execution_count": 3,
   "id": "7c080302",
   "metadata": {},
   "outputs": [
    {
     "data": {
      "text/html": [
       "<div>\n",
       "<style scoped>\n",
       "    .dataframe tbody tr th:only-of-type {\n",
       "        vertical-align: middle;\n",
       "    }\n",
       "\n",
       "    .dataframe tbody tr th {\n",
       "        vertical-align: top;\n",
       "    }\n",
       "\n",
       "    .dataframe thead th {\n",
       "        text-align: right;\n",
       "    }\n",
       "</style>\n",
       "<table border=\"1\" class=\"dataframe\">\n",
       "  <thead>\n",
       "    <tr style=\"text-align: right;\">\n",
       "      <th></th>\n",
       "      <th>id</th>\n",
       "      <th>call_date</th>\n",
       "      <th>duration</th>\n",
       "      <th>user_id</th>\n",
       "    </tr>\n",
       "  </thead>\n",
       "  <tbody>\n",
       "    <tr>\n",
       "      <th>0</th>\n",
       "      <td>1000_0</td>\n",
       "      <td>2018-07-25</td>\n",
       "      <td>0.00</td>\n",
       "      <td>1000</td>\n",
       "    </tr>\n",
       "    <tr>\n",
       "      <th>1</th>\n",
       "      <td>1000_1</td>\n",
       "      <td>2018-08-17</td>\n",
       "      <td>0.00</td>\n",
       "      <td>1000</td>\n",
       "    </tr>\n",
       "    <tr>\n",
       "      <th>2</th>\n",
       "      <td>1000_2</td>\n",
       "      <td>2018-06-11</td>\n",
       "      <td>2.85</td>\n",
       "      <td>1000</td>\n",
       "    </tr>\n",
       "    <tr>\n",
       "      <th>3</th>\n",
       "      <td>1000_3</td>\n",
       "      <td>2018-09-21</td>\n",
       "      <td>13.80</td>\n",
       "      <td>1000</td>\n",
       "    </tr>\n",
       "    <tr>\n",
       "      <th>4</th>\n",
       "      <td>1000_4</td>\n",
       "      <td>2018-12-15</td>\n",
       "      <td>5.18</td>\n",
       "      <td>1000</td>\n",
       "    </tr>\n",
       "  </tbody>\n",
       "</table>\n",
       "</div>"
      ],
      "text/plain": [
       "       id   call_date  duration  user_id\n",
       "0  1000_0  2018-07-25      0.00     1000\n",
       "1  1000_1  2018-08-17      0.00     1000\n",
       "2  1000_2  2018-06-11      2.85     1000\n",
       "3  1000_3  2018-09-21     13.80     1000\n",
       "4  1000_4  2018-12-15      5.18     1000"
      ]
     },
     "execution_count": 3,
     "metadata": {},
     "output_type": "execute_result"
    }
   ],
   "source": [
    "calls.head()"
   ]
  },
  {
   "cell_type": "markdown",
   "id": "9528cf9c",
   "metadata": {},
   "source": [
    "Выведем основную информацию для датафрейма `calls`"
   ]
  },
  {
   "cell_type": "code",
   "execution_count": 4,
   "id": "febeffa7",
   "metadata": {},
   "outputs": [
    {
     "name": "stdout",
     "output_type": "stream",
     "text": [
      "<class 'pandas.core.frame.DataFrame'>\n",
      "RangeIndex: 202607 entries, 0 to 202606\n",
      "Data columns (total 4 columns):\n",
      " #   Column     Non-Null Count   Dtype  \n",
      "---  ------     --------------   -----  \n",
      " 0   id         202607 non-null  object \n",
      " 1   call_date  202607 non-null  object \n",
      " 2   duration   202607 non-null  float64\n",
      " 3   user_id    202607 non-null  int64  \n",
      "dtypes: float64(1), int64(1), object(2)\n",
      "memory usage: 6.2+ MB\n"
     ]
    }
   ],
   "source": [
    "calls.info()"
   ]
  },
  {
   "cell_type": "code",
   "execution_count": 5,
   "id": "400cfcae",
   "metadata": {},
   "outputs": [
    {
     "data": {
      "image/png": "[encoded data removed]",
      "text/plain": [
       "<Figure size 640x480 with 1 Axes>"
      ]
     },
     "metadata": {},
     "output_type": "display_data"
    }
   ],
   "source": [
    "calls['duration'].hist()\n",
    "plt.title('Гистограмма для продолжительности звонков')\n",
    "plt.xlabel('Продолжительность звонка в минутах')\n",
    "plt.ylabel('Количество звонков')"
   ]
  },
  {
   "cell_type": "markdown",
   "id": "b323f23f",
   "metadata": {},
   "source": [
    "Гистограмма имеет нормальное распределение, усеченной слева, так как продолжительность звонков не может быть ниже нуля. Больше всего звонков приходится на длительность менее 5 минут, с увеличением продолжительности звонков их количество уменьшается."
   ]
  },
  {
   "cell_type": "markdown",
   "id": "94cc04ae",
   "metadata": {},
   "source": [
    "## Таблица internet"
   ]
  },
  {
   "cell_type": "markdown",
   "id": "fe804775",
   "metadata": {},
   "source": [
    "Откроем файл internet.csv и сохраним датафрейм в переменную `sessions`."
   ]
  },
  {
   "cell_type": "code",
   "execution_count": 6,
   "id": "dc0f2515",
   "metadata": {},
   "outputs": [],
   "source": [
    "sessions = pd.read_csv(\n",
    "    r'C:\\Users\\Dell Inspirion 15 #1\\JyputerRoot\\Проекты по Практикуму\\Обработанные проекты\\Datasets\\Тарифы\\internet.csv')"
   ]
  },
  {
   "cell_type": "code",
   "execution_count": 7,
   "id": "24634ac2",
   "metadata": {},
   "outputs": [
    {
     "data": {
      "text/html": [
       "<div>\n",
       "<style scoped>\n",
       "    .dataframe tbody tr th:only-of-type {\n",
       "        vertical-align: middle;\n",
       "    }\n",
       "\n",
       "    .dataframe tbody tr th {\n",
       "        vertical-align: top;\n",
       "    }\n",
       "\n",
       "    .dataframe thead th {\n",
       "        text-align: right;\n",
       "    }\n",
       "</style>\n",
       "<table border=\"1\" class=\"dataframe\">\n",
       "  <thead>\n",
       "    <tr style=\"text-align: right;\">\n",
       "      <th></th>\n",
       "      <th>Unnamed: 0</th>\n",
       "      <th>id</th>\n",
       "      <th>mb_used</th>\n",
       "      <th>session_date</th>\n",
       "      <th>user_id</th>\n",
       "    </tr>\n",
       "  </thead>\n",
       "  <tbody>\n",
       "    <tr>\n",
       "      <th>0</th>\n",
       "      <td>0</td>\n",
       "      <td>1000_0</td>\n",
       "      <td>112.95</td>\n",
       "      <td>2018-11-25</td>\n",
       "      <td>1000</td>\n",
       "    </tr>\n",
       "    <tr>\n",
       "      <th>1</th>\n",
       "      <td>1</td>\n",
       "      <td>1000_1</td>\n",
       "      <td>1052.81</td>\n",
       "      <td>2018-09-07</td>\n",
       "      <td>1000</td>\n",
       "    </tr>\n",
       "    <tr>\n",
       "      <th>2</th>\n",
       "      <td>2</td>\n",
       "      <td>1000_2</td>\n",
       "      <td>1197.26</td>\n",
       "      <td>2018-06-25</td>\n",
       "      <td>1000</td>\n",
       "    </tr>\n",
       "    <tr>\n",
       "      <th>3</th>\n",
       "      <td>3</td>\n",
       "      <td>1000_3</td>\n",
       "      <td>550.27</td>\n",
       "      <td>2018-08-22</td>\n",
       "      <td>1000</td>\n",
       "    </tr>\n",
       "    <tr>\n",
       "      <th>4</th>\n",
       "      <td>4</td>\n",
       "      <td>1000_4</td>\n",
       "      <td>302.56</td>\n",
       "      <td>2018-09-24</td>\n",
       "      <td>1000</td>\n",
       "    </tr>\n",
       "  </tbody>\n",
       "</table>\n",
       "</div>"
      ],
      "text/plain": [
       "   Unnamed: 0      id  mb_used session_date  user_id\n",
       "0           0  1000_0   112.95   2018-11-25     1000\n",
       "1           1  1000_1  1052.81   2018-09-07     1000\n",
       "2           2  1000_2  1197.26   2018-06-25     1000\n",
       "3           3  1000_3   550.27   2018-08-22     1000\n",
       "4           4  1000_4   302.56   2018-09-24     1000"
      ]
     },
     "execution_count": 7,
     "metadata": {},
     "output_type": "execute_result"
    }
   ],
   "source": [
    "sessions.head()"
   ]
  },
  {
   "cell_type": "markdown",
   "id": "c50fcd1e",
   "metadata": {},
   "source": [
    "Выведем основную информацию для датафрейма `sessions`"
   ]
  },
  {
   "cell_type": "code",
   "execution_count": 8,
   "id": "a00b388e",
   "metadata": {},
   "outputs": [
    {
     "name": "stdout",
     "output_type": "stream",
     "text": [
      "<class 'pandas.core.frame.DataFrame'>\n",
      "RangeIndex: 149396 entries, 0 to 149395\n",
      "Data columns (total 5 columns):\n",
      " #   Column        Non-Null Count   Dtype  \n",
      "---  ------        --------------   -----  \n",
      " 0   Unnamed: 0    149396 non-null  int64  \n",
      " 1   id            149396 non-null  object \n",
      " 2   mb_used       149396 non-null  float64\n",
      " 3   session_date  149396 non-null  object \n",
      " 4   user_id       149396 non-null  int64  \n",
      "dtypes: float64(1), int64(2), object(2)\n",
      "memory usage: 5.7+ MB\n"
     ]
    }
   ],
   "source": [
    "sessions.info()"
   ]
  },
  {
   "cell_type": "code",
   "execution_count": 9,
   "id": "d4b6c6e3",
   "metadata": {},
   "outputs": [
    {
     "data": {
      "image/png": "[encoded data removed]",
      "text/plain": [
       "<Figure size 640x480 with 1 Axes>"
      ]
     },
     "metadata": {},
     "output_type": "display_data"
    }
   ],
   "source": [
    "sessions['mb_used'].hist()\n",
    "plt.title('Гистограмма для количества потраченных мегабайт')\n",
    "plt.xlabel('Количество потраченных мегабайт')\n",
    "plt.ylabel('Количество сессий')"
   ]
  },
  {
   "cell_type": "markdown",
   "id": "d68f2d20",
   "metadata": {},
   "source": [
    "Наибольшее количество сессий завершается после траты не более 500 мегабайт, далее, с ростом потраченных мегабайт количество сессий падает."
   ]
  },
  {
   "cell_type": "markdown",
   "id": "47f2a362",
   "metadata": {},
   "source": [
    "## Таблица messages"
   ]
  },
  {
   "cell_type": "markdown",
   "id": "b7a67466",
   "metadata": {},
   "source": [
    "Откроем файл messages.csv и сохраним датафрейм в переменную `messages`."
   ]
  },
  {
   "cell_type": "code",
   "execution_count": 10,
   "id": "7c91a291",
   "metadata": {},
   "outputs": [],
   "source": [
    "messages = pd.read_csv(\n",
    "    r'C:\\Users\\Dell Inspirion 15 #1\\JyputerRoot\\Проекты по Практикуму\\Обработанные проекты\\Datasets\\Тарифы\\messages.csv')"
   ]
  },
  {
   "cell_type": "code",
   "execution_count": 11,
   "id": "aac1f5ef",
   "metadata": {},
   "outputs": [
    {
     "data": {
      "text/html": [
       "<div>\n",
       "<style scoped>\n",
       "    .dataframe tbody tr th:only-of-type {\n",
       "        vertical-align: middle;\n",
       "    }\n",
       "\n",
       "    .dataframe tbody tr th {\n",
       "        vertical-align: top;\n",
       "    }\n",
       "\n",
       "    .dataframe thead th {\n",
       "        text-align: right;\n",
       "    }\n",
       "</style>\n",
       "<table border=\"1\" class=\"dataframe\">\n",
       "  <thead>\n",
       "    <tr style=\"text-align: right;\">\n",
       "      <th></th>\n",
       "      <th>id</th>\n",
       "      <th>message_date</th>\n",
       "      <th>user_id</th>\n",
       "    </tr>\n",
       "  </thead>\n",
       "  <tbody>\n",
       "    <tr>\n",
       "      <th>0</th>\n",
       "      <td>1000_0</td>\n",
       "      <td>2018-06-27</td>\n",
       "      <td>1000</td>\n",
       "    </tr>\n",
       "    <tr>\n",
       "      <th>1</th>\n",
       "      <td>1000_1</td>\n",
       "      <td>2018-10-08</td>\n",
       "      <td>1000</td>\n",
       "    </tr>\n",
       "    <tr>\n",
       "      <th>2</th>\n",
       "      <td>1000_2</td>\n",
       "      <td>2018-08-04</td>\n",
       "      <td>1000</td>\n",
       "    </tr>\n",
       "    <tr>\n",
       "      <th>3</th>\n",
       "      <td>1000_3</td>\n",
       "      <td>2018-06-16</td>\n",
       "      <td>1000</td>\n",
       "    </tr>\n",
       "    <tr>\n",
       "      <th>4</th>\n",
       "      <td>1000_4</td>\n",
       "      <td>2018-12-05</td>\n",
       "      <td>1000</td>\n",
       "    </tr>\n",
       "  </tbody>\n",
       "</table>\n",
       "</div>"
      ],
      "text/plain": [
       "       id message_date  user_id\n",
       "0  1000_0   2018-06-27     1000\n",
       "1  1000_1   2018-10-08     1000\n",
       "2  1000_2   2018-08-04     1000\n",
       "3  1000_3   2018-06-16     1000\n",
       "4  1000_4   2018-12-05     1000"
      ]
     },
     "execution_count": 11,
     "metadata": {},
     "output_type": "execute_result"
    }
   ],
   "source": [
    "messages.head()"
   ]
  },
  {
   "cell_type": "markdown",
   "id": "cfd3bb1d",
   "metadata": {},
   "source": [
    "Выведем основную информацию для датафрейма `messages`"
   ]
  },
  {
   "cell_type": "code",
   "execution_count": 12,
   "id": "482b7938",
   "metadata": {},
   "outputs": [
    {
     "name": "stdout",
     "output_type": "stream",
     "text": [
      "<class 'pandas.core.frame.DataFrame'>\n",
      "RangeIndex: 123036 entries, 0 to 123035\n",
      "Data columns (total 3 columns):\n",
      " #   Column        Non-Null Count   Dtype \n",
      "---  ------        --------------   ----- \n",
      " 0   id            123036 non-null  object\n",
      " 1   message_date  123036 non-null  object\n",
      " 2   user_id       123036 non-null  int64 \n",
      "dtypes: int64(1), object(2)\n",
      "memory usage: 2.8+ MB\n"
     ]
    }
   ],
   "source": [
    "messages.info()"
   ]
  },
  {
   "cell_type": "markdown",
   "id": "aca8995f",
   "metadata": {},
   "source": [
    "## Таблица tariffs"
   ]
  },
  {
   "cell_type": "markdown",
   "id": "e37a9b89",
   "metadata": {},
   "source": [
    "Откроем файл tariffs.csv и сохраним датафрейм в переменную `tariffs`."
   ]
  },
  {
   "cell_type": "code",
   "execution_count": 13,
   "id": "3154e5b9",
   "metadata": {},
   "outputs": [],
   "source": [
    "tariffs = pd.read_csv(\n",
    "    r'C:\\Users\\Dell Inspirion 15 #1\\JyputerRoot\\Проекты по Практикуму\\Обработанные проекты\\Datasets\\Тарифы\\tariffs.csv')"
   ]
  },
  {
   "cell_type": "code",
   "execution_count": 14,
   "id": "57d22a70",
   "metadata": {},
   "outputs": [
    {
     "data": {
      "text/html": [
       "<div>\n",
       "<style scoped>\n",
       "    .dataframe tbody tr th:only-of-type {\n",
       "        vertical-align: middle;\n",
       "    }\n",
       "\n",
       "    .dataframe tbody tr th {\n",
       "        vertical-align: top;\n",
       "    }\n",
       "\n",
       "    .dataframe thead th {\n",
       "        text-align: right;\n",
       "    }\n",
       "</style>\n",
       "<table border=\"1\" class=\"dataframe\">\n",
       "  <thead>\n",
       "    <tr style=\"text-align: right;\">\n",
       "      <th></th>\n",
       "      <th>messages_included</th>\n",
       "      <th>mb_per_month_included</th>\n",
       "      <th>minutes_included</th>\n",
       "      <th>rub_monthly_fee</th>\n",
       "      <th>rub_per_gb</th>\n",
       "      <th>rub_per_message</th>\n",
       "      <th>rub_per_minute</th>\n",
       "      <th>tariff_name</th>\n",
       "    </tr>\n",
       "  </thead>\n",
       "  <tbody>\n",
       "    <tr>\n",
       "      <th>0</th>\n",
       "      <td>50</td>\n",
       "      <td>15360</td>\n",
       "      <td>500</td>\n",
       "      <td>550</td>\n",
       "      <td>200</td>\n",
       "      <td>3</td>\n",
       "      <td>3</td>\n",
       "      <td>smart</td>\n",
       "    </tr>\n",
       "    <tr>\n",
       "      <th>1</th>\n",
       "      <td>1000</td>\n",
       "      <td>30720</td>\n",
       "      <td>3000</td>\n",
       "      <td>1950</td>\n",
       "      <td>150</td>\n",
       "      <td>1</td>\n",
       "      <td>1</td>\n",
       "      <td>ultra</td>\n",
       "    </tr>\n",
       "  </tbody>\n",
       "</table>\n",
       "</div>"
      ],
      "text/plain": [
       "   messages_included  mb_per_month_included  minutes_included  \\\n",
       "0                 50                  15360               500   \n",
       "1               1000                  30720              3000   \n",
       "\n",
       "   rub_monthly_fee  rub_per_gb  rub_per_message  rub_per_minute tariff_name  \n",
       "0              550         200                3               3       smart  \n",
       "1             1950         150                1               1       ultra  "
      ]
     },
     "execution_count": 14,
     "metadata": {},
     "output_type": "execute_result"
    }
   ],
   "source": [
    "tariffs"
   ]
  },
  {
   "cell_type": "markdown",
   "id": "08be27e6",
   "metadata": {},
   "source": [
    "Выведем основную информацию для датафрейма `tariffs`"
   ]
  },
  {
   "cell_type": "code",
   "execution_count": 15,
   "id": "ef4230e7",
   "metadata": {},
   "outputs": [
    {
     "name": "stdout",
     "output_type": "stream",
     "text": [
      "<class 'pandas.core.frame.DataFrame'>\n",
      "RangeIndex: 2 entries, 0 to 1\n",
      "Data columns (total 8 columns):\n",
      " #   Column                 Non-Null Count  Dtype \n",
      "---  ------                 --------------  ----- \n",
      " 0   messages_included      2 non-null      int64 \n",
      " 1   mb_per_month_included  2 non-null      int64 \n",
      " 2   minutes_included       2 non-null      int64 \n",
      " 3   rub_monthly_fee        2 non-null      int64 \n",
      " 4   rub_per_gb             2 non-null      int64 \n",
      " 5   rub_per_message        2 non-null      int64 \n",
      " 6   rub_per_minute         2 non-null      int64 \n",
      " 7   tariff_name            2 non-null      object\n",
      "dtypes: int64(7), object(1)\n",
      "memory usage: 256.0+ bytes\n"
     ]
    }
   ],
   "source": [
    "tariffs.info()"
   ]
  },
  {
   "cell_type": "markdown",
   "id": "8c90bdff",
   "metadata": {},
   "source": [
    "## Таблица users"
   ]
  },
  {
   "cell_type": "markdown",
   "id": "e6bc2818",
   "metadata": {},
   "source": [
    "Откроем файл users.csv и сохраним датафрейм в переменную `users`."
   ]
  },
  {
   "cell_type": "code",
   "execution_count": 16,
   "id": "0030afad",
   "metadata": {},
   "outputs": [],
   "source": [
    "users = pd.read_csv(\n",
    "    r'C:\\Users\\Dell Inspirion 15 #1\\JyputerRoot\\Проекты по Практикуму\\Обработанные проекты\\Datasets\\Тарифы\\users.csv')"
   ]
  },
  {
   "cell_type": "code",
   "execution_count": 17,
   "id": "f98be072",
   "metadata": {},
   "outputs": [
    {
     "data": {
      "text/html": [
       "<div>\n",
       "<style scoped>\n",
       "    .dataframe tbody tr th:only-of-type {\n",
       "        vertical-align: middle;\n",
       "    }\n",
       "\n",
       "    .dataframe tbody tr th {\n",
       "        vertical-align: top;\n",
       "    }\n",
       "\n",
       "    .dataframe thead th {\n",
       "        text-align: right;\n",
       "    }\n",
       "</style>\n",
       "<table border=\"1\" class=\"dataframe\">\n",
       "  <thead>\n",
       "    <tr style=\"text-align: right;\">\n",
       "      <th></th>\n",
       "      <th>user_id</th>\n",
       "      <th>age</th>\n",
       "      <th>churn_date</th>\n",
       "      <th>city</th>\n",
       "      <th>first_name</th>\n",
       "      <th>last_name</th>\n",
       "      <th>reg_date</th>\n",
       "      <th>tariff</th>\n",
       "    </tr>\n",
       "  </thead>\n",
       "  <tbody>\n",
       "    <tr>\n",
       "      <th>0</th>\n",
       "      <td>1000</td>\n",
       "      <td>52</td>\n",
       "      <td>NaN</td>\n",
       "      <td>Краснодар</td>\n",
       "      <td>Рафаил</td>\n",
       "      <td>Верещагин</td>\n",
       "      <td>2018-05-25</td>\n",
       "      <td>ultra</td>\n",
       "    </tr>\n",
       "    <tr>\n",
       "      <th>1</th>\n",
       "      <td>1001</td>\n",
       "      <td>41</td>\n",
       "      <td>NaN</td>\n",
       "      <td>Москва</td>\n",
       "      <td>Иван</td>\n",
       "      <td>Ежов</td>\n",
       "      <td>2018-11-01</td>\n",
       "      <td>smart</td>\n",
       "    </tr>\n",
       "    <tr>\n",
       "      <th>2</th>\n",
       "      <td>1002</td>\n",
       "      <td>59</td>\n",
       "      <td>NaN</td>\n",
       "      <td>Стерлитамак</td>\n",
       "      <td>Евгений</td>\n",
       "      <td>Абрамович</td>\n",
       "      <td>2018-06-17</td>\n",
       "      <td>smart</td>\n",
       "    </tr>\n",
       "    <tr>\n",
       "      <th>3</th>\n",
       "      <td>1003</td>\n",
       "      <td>23</td>\n",
       "      <td>NaN</td>\n",
       "      <td>Москва</td>\n",
       "      <td>Белла</td>\n",
       "      <td>Белякова</td>\n",
       "      <td>2018-08-17</td>\n",
       "      <td>ultra</td>\n",
       "    </tr>\n",
       "    <tr>\n",
       "      <th>4</th>\n",
       "      <td>1004</td>\n",
       "      <td>68</td>\n",
       "      <td>NaN</td>\n",
       "      <td>Новокузнецк</td>\n",
       "      <td>Татьяна</td>\n",
       "      <td>Авдеенко</td>\n",
       "      <td>2018-05-14</td>\n",
       "      <td>ultra</td>\n",
       "    </tr>\n",
       "  </tbody>\n",
       "</table>\n",
       "</div>"
      ],
      "text/plain": [
       "   user_id  age churn_date         city first_name  last_name    reg_date  \\\n",
       "0     1000   52        NaN    Краснодар     Рафаил  Верещагин  2018-05-25   \n",
       "1     1001   41        NaN       Москва       Иван       Ежов  2018-11-01   \n",
       "2     1002   59        NaN  Стерлитамак    Евгений  Абрамович  2018-06-17   \n",
       "3     1003   23        NaN       Москва      Белла   Белякова  2018-08-17   \n",
       "4     1004   68        NaN  Новокузнецк    Татьяна   Авдеенко  2018-05-14   \n",
       "\n",
       "  tariff  \n",
       "0  ultra  \n",
       "1  smart  \n",
       "2  smart  \n",
       "3  ultra  \n",
       "4  ultra  "
      ]
     },
     "execution_count": 17,
     "metadata": {},
     "output_type": "execute_result"
    }
   ],
   "source": [
    "users.head()"
   ]
  },
  {
   "cell_type": "markdown",
   "id": "1f4e0d41",
   "metadata": {},
   "source": [
    "Выведем основную информацию для датафрейма `users`"
   ]
  },
  {
   "cell_type": "code",
   "execution_count": 18,
   "id": "175e657e",
   "metadata": {},
   "outputs": [
    {
     "name": "stdout",
     "output_type": "stream",
     "text": [
      "<class 'pandas.core.frame.DataFrame'>\n",
      "RangeIndex: 500 entries, 0 to 499\n",
      "Data columns (total 8 columns):\n",
      " #   Column      Non-Null Count  Dtype \n",
      "---  ------      --------------  ----- \n",
      " 0   user_id     500 non-null    int64 \n",
      " 1   age         500 non-null    int64 \n",
      " 2   churn_date  38 non-null     object\n",
      " 3   city        500 non-null    object\n",
      " 4   first_name  500 non-null    object\n",
      " 5   last_name   500 non-null    object\n",
      " 6   reg_date    500 non-null    object\n",
      " 7   tariff      500 non-null    object\n",
      "dtypes: int64(2), object(6)\n",
      "memory usage: 31.4+ KB\n"
     ]
    }
   ],
   "source": [
    "users.info()"
   ]
  },
  {
   "cell_type": "markdown",
   "id": "7c67c442",
   "metadata": {},
   "source": [
    "# Подготовка данных"
   ]
  },
  {
   "cell_type": "markdown",
   "id": "a7ea8af1",
   "metadata": {},
   "source": [
    "## Приведем столбцы ниже к типу datetime  \n",
    "\n",
    "Из таблицы `users`:  \n",
    "- reg_date\n",
    "- churn_date  \n",
    "\n",
    "Из таблицы `calls`:\n",
    "- call_date  \n",
    "\n",
    "Из таблицы `massager`:  \n",
    "- massage_date  \n",
    "\n",
    "Из таблицы `sessions`:  \n",
    "- session_date"
   ]
  },
  {
   "cell_type": "code",
   "execution_count": 19,
   "id": "ef3d128d",
   "metadata": {},
   "outputs": [],
   "source": [
    "# обработка столбца reg_date\n",
    "users['reg_date'] = pd.to_datetime(\n",
    "    users['reg_date'], format='%Y-%m-%d', errors='ignore')\n",
    "# обработка столбца churn_date\n",
    "users['churn_date'] = pd.to_datetime(\n",
    "    users['churn_date'], format='%Y-%m-%d', errors='ignore')\n",
    "# обработка столбца call_date\n",
    "calls['call_date'] = pd.to_datetime(\n",
    "    calls['call_date'], format='%Y-%m-%d', errors='ignore')\n",
    "# обработка столбца message_date\n",
    "messages['message_date'] = pd.to_datetime(\n",
    "    messages['message_date'], format='%Y-%m-%d', errors='ignore')\n",
    "# обработка столбца session_date\n",
    "sessions['session_date'] = pd.to_datetime(\n",
    "    sessions['session_date'], format='%Y-%m-%d', errors='ignore')"
   ]
  },
  {
   "cell_type": "markdown",
   "id": "b957d308",
   "metadata": {},
   "source": [
    "## Округлим значения"
   ]
  },
  {
   "cell_type": "markdown",
   "id": "d9247220",
   "metadata": {},
   "source": [
    "Звонки с нулевой продолжительностью не являются ошибкой, нулями обозначены пропущенные звонки, поэтому удалять их не будем.  \n",
    "\n",
    "Однако в столбце `duration` датафрейма `calls` значения дробные. Округлим даннык значения вверх и приведем столбец к целочисленному типу."
   ]
  },
  {
   "cell_type": "code",
   "execution_count": 20,
   "id": "0b685905",
   "metadata": {},
   "outputs": [],
   "source": [
    "calls['duration'] = np.ceil(calls['duration']).astype('int')"
   ]
  },
  {
   "cell_type": "markdown",
   "id": "c9756b75",
   "metadata": {},
   "source": [
    "## Удалим столбец `Unnamed: 0` из датафрейма `sessions`"
   ]
  },
  {
   "cell_type": "markdown",
   "id": "a5cd5197",
   "metadata": {},
   "source": [
    "Такой столбец возникает, когда данные сохраняются с указанием индекса (`df.to_csv(..., index=column)`)."
   ]
  },
  {
   "cell_type": "code",
   "execution_count": 21,
   "id": "e9b45f09",
   "metadata": {},
   "outputs": [],
   "source": [
    "sessions.drop(columns='Unnamed: 0', inplace=True)"
   ]
  },
  {
   "cell_type": "markdown",
   "id": "db846b56",
   "metadata": {},
   "source": [
    "## Добавим столбец `month` в датафреймах"
   ]
  },
  {
   "cell_type": "markdown",
   "id": "20151065",
   "metadata": {},
   "source": [
    "Это необходимо для удобства анализа данных по месяцам."
   ]
  },
  {
   "cell_type": "code",
   "execution_count": 22,
   "id": "4760119b",
   "metadata": {},
   "outputs": [],
   "source": [
    "# для calls\n",
    "calls['month'] = calls['call_date'].dt.month"
   ]
  },
  {
   "cell_type": "code",
   "execution_count": 23,
   "id": "ba1bfc52",
   "metadata": {},
   "outputs": [],
   "source": [
    "# для messages\n",
    "messages['month'] = messages['message_date'].dt.month"
   ]
  },
  {
   "cell_type": "code",
   "execution_count": 24,
   "id": "e1984c33",
   "metadata": {},
   "outputs": [],
   "source": [
    "# для sessions\n",
    "sessions['month'] = sessions['session_date'].dt.month"
   ]
  },
  {
   "cell_type": "markdown",
   "id": "bd1944f7",
   "metadata": {},
   "source": [
    "## Посчитаем количество сделанных звонков разговора для каждого пользователя по месяцам"
   ]
  },
  {
   "cell_type": "code",
   "execution_count": 25,
   "id": "6142ca5f",
   "metadata": {},
   "outputs": [],
   "source": [
    "calls_per_month = (calls\n",
    "                   .pivot_table(index=['user_id', 'month'], values='duration', aggfunc='count')\n",
    "                   .rename(columns={'duration': 'calls'})\n",
    "                   )"
   ]
  },
  {
   "cell_type": "code",
   "execution_count": 26,
   "id": "cd0e62cf",
   "metadata": {},
   "outputs": [
    {
     "data": {
      "text/html": [
       "<div>\n",
       "<style scoped>\n",
       "    .dataframe tbody tr th:only-of-type {\n",
       "        vertical-align: middle;\n",
       "    }\n",
       "\n",
       "    .dataframe tbody tr th {\n",
       "        vertical-align: top;\n",
       "    }\n",
       "\n",
       "    .dataframe thead th {\n",
       "        text-align: right;\n",
       "    }\n",
       "</style>\n",
       "<table border=\"1\" class=\"dataframe\">\n",
       "  <thead>\n",
       "    <tr style=\"text-align: right;\">\n",
       "      <th></th>\n",
       "      <th></th>\n",
       "      <th>calls</th>\n",
       "    </tr>\n",
       "    <tr>\n",
       "      <th>user_id</th>\n",
       "      <th>month</th>\n",
       "      <th></th>\n",
       "    </tr>\n",
       "  </thead>\n",
       "  <tbody>\n",
       "    <tr>\n",
       "      <th rowspan=\"8\" valign=\"top\">1000</th>\n",
       "      <th>5</th>\n",
       "      <td>22</td>\n",
       "    </tr>\n",
       "    <tr>\n",
       "      <th>6</th>\n",
       "      <td>43</td>\n",
       "    </tr>\n",
       "    <tr>\n",
       "      <th>7</th>\n",
       "      <td>47</td>\n",
       "    </tr>\n",
       "    <tr>\n",
       "      <th>8</th>\n",
       "      <td>52</td>\n",
       "    </tr>\n",
       "    <tr>\n",
       "      <th>9</th>\n",
       "      <td>58</td>\n",
       "    </tr>\n",
       "    <tr>\n",
       "      <th>10</th>\n",
       "      <td>57</td>\n",
       "    </tr>\n",
       "    <tr>\n",
       "      <th>11</th>\n",
       "      <td>43</td>\n",
       "    </tr>\n",
       "    <tr>\n",
       "      <th>12</th>\n",
       "      <td>46</td>\n",
       "    </tr>\n",
       "    <tr>\n",
       "      <th rowspan=\"2\" valign=\"top\">1001</th>\n",
       "      <th>11</th>\n",
       "      <td>59</td>\n",
       "    </tr>\n",
       "    <tr>\n",
       "      <th>12</th>\n",
       "      <td>63</td>\n",
       "    </tr>\n",
       "    <tr>\n",
       "      <th rowspan=\"5\" valign=\"top\">1002</th>\n",
       "      <th>6</th>\n",
       "      <td>15</td>\n",
       "    </tr>\n",
       "    <tr>\n",
       "      <th>7</th>\n",
       "      <td>26</td>\n",
       "    </tr>\n",
       "    <tr>\n",
       "      <th>8</th>\n",
       "      <td>42</td>\n",
       "    </tr>\n",
       "    <tr>\n",
       "      <th>9</th>\n",
       "      <td>36</td>\n",
       "    </tr>\n",
       "    <tr>\n",
       "      <th>10</th>\n",
       "      <td>33</td>\n",
       "    </tr>\n",
       "  </tbody>\n",
       "</table>\n",
       "</div>"
      ],
      "text/plain": [
       "               calls\n",
       "user_id month       \n",
       "1000    5         22\n",
       "        6         43\n",
       "        7         47\n",
       "        8         52\n",
       "        9         58\n",
       "        10        57\n",
       "        11        43\n",
       "        12        46\n",
       "1001    11        59\n",
       "        12        63\n",
       "1002    6         15\n",
       "        7         26\n",
       "        8         42\n",
       "        9         36\n",
       "        10        33"
      ]
     },
     "execution_count": 26,
     "metadata": {},
     "output_type": "execute_result"
    }
   ],
   "source": [
    "calls_per_month.head(15)"
   ]
  },
  {
   "cell_type": "markdown",
   "id": "acbc7a65",
   "metadata": {},
   "source": [
    "## Посчитаем количество израсходованных минут разговора для каждого пользователя по месяцам"
   ]
  },
  {
   "cell_type": "code",
   "execution_count": 27,
   "id": "e2b2f539",
   "metadata": {},
   "outputs": [],
   "source": [
    "minutes_per_month = (calls\n",
    "                     .pivot_table(index=['user_id', 'month'], values='duration', aggfunc='sum')\n",
    "                     .rename(columns={'duration': 'minutes'})\n",
    "                     )"
   ]
  },
  {
   "cell_type": "code",
   "execution_count": 28,
   "id": "a080f41b",
   "metadata": {},
   "outputs": [
    {
     "data": {
      "text/html": [
       "<div>\n",
       "<style scoped>\n",
       "    .dataframe tbody tr th:only-of-type {\n",
       "        vertical-align: middle;\n",
       "    }\n",
       "\n",
       "    .dataframe tbody tr th {\n",
       "        vertical-align: top;\n",
       "    }\n",
       "\n",
       "    .dataframe thead th {\n",
       "        text-align: right;\n",
       "    }\n",
       "</style>\n",
       "<table border=\"1\" class=\"dataframe\">\n",
       "  <thead>\n",
       "    <tr style=\"text-align: right;\">\n",
       "      <th></th>\n",
       "      <th></th>\n",
       "      <th>minutes</th>\n",
       "    </tr>\n",
       "    <tr>\n",
       "      <th>user_id</th>\n",
       "      <th>month</th>\n",
       "      <th></th>\n",
       "    </tr>\n",
       "  </thead>\n",
       "  <tbody>\n",
       "    <tr>\n",
       "      <th rowspan=\"8\" valign=\"top\">1000</th>\n",
       "      <th>5</th>\n",
       "      <td>159</td>\n",
       "    </tr>\n",
       "    <tr>\n",
       "      <th>6</th>\n",
       "      <td>172</td>\n",
       "    </tr>\n",
       "    <tr>\n",
       "      <th>7</th>\n",
       "      <td>340</td>\n",
       "    </tr>\n",
       "    <tr>\n",
       "      <th>8</th>\n",
       "      <td>408</td>\n",
       "    </tr>\n",
       "    <tr>\n",
       "      <th>9</th>\n",
       "      <td>466</td>\n",
       "    </tr>\n",
       "    <tr>\n",
       "      <th>10</th>\n",
       "      <td>350</td>\n",
       "    </tr>\n",
       "    <tr>\n",
       "      <th>11</th>\n",
       "      <td>338</td>\n",
       "    </tr>\n",
       "    <tr>\n",
       "      <th>12</th>\n",
       "      <td>333</td>\n",
       "    </tr>\n",
       "    <tr>\n",
       "      <th rowspan=\"2\" valign=\"top\">1001</th>\n",
       "      <th>11</th>\n",
       "      <td>430</td>\n",
       "    </tr>\n",
       "    <tr>\n",
       "      <th>12</th>\n",
       "      <td>414</td>\n",
       "    </tr>\n",
       "    <tr>\n",
       "      <th rowspan=\"5\" valign=\"top\">1002</th>\n",
       "      <th>6</th>\n",
       "      <td>117</td>\n",
       "    </tr>\n",
       "    <tr>\n",
       "      <th>7</th>\n",
       "      <td>214</td>\n",
       "    </tr>\n",
       "    <tr>\n",
       "      <th>8</th>\n",
       "      <td>289</td>\n",
       "    </tr>\n",
       "    <tr>\n",
       "      <th>9</th>\n",
       "      <td>206</td>\n",
       "    </tr>\n",
       "    <tr>\n",
       "      <th>10</th>\n",
       "      <td>212</td>\n",
       "    </tr>\n",
       "  </tbody>\n",
       "</table>\n",
       "</div>"
      ],
      "text/plain": [
       "               minutes\n",
       "user_id month         \n",
       "1000    5          159\n",
       "        6          172\n",
       "        7          340\n",
       "        8          408\n",
       "        9          466\n",
       "        10         350\n",
       "        11         338\n",
       "        12         333\n",
       "1001    11         430\n",
       "        12         414\n",
       "1002    6          117\n",
       "        7          214\n",
       "        8          289\n",
       "        9          206\n",
       "        10         212"
      ]
     },
     "execution_count": 28,
     "metadata": {},
     "output_type": "execute_result"
    }
   ],
   "source": [
    "minutes_per_month.head(15)"
   ]
  },
  {
   "cell_type": "markdown",
   "id": "452e050c",
   "metadata": {},
   "source": [
    "## Посчитаем количество отправленных сообщений по месяцам для каждого пользователя"
   ]
  },
  {
   "cell_type": "code",
   "execution_count": 29,
   "id": "649d5953",
   "metadata": {},
   "outputs": [],
   "source": [
    "messages_per_month = (messages\n",
    "                      .pivot_table(index=['user_id', 'month'], values='message_date', aggfunc='count')\n",
    "                      .rename(columns={'message_date': 'messages'}))"
   ]
  },
  {
   "cell_type": "code",
   "execution_count": 30,
   "id": "8af7c55d",
   "metadata": {},
   "outputs": [
    {
     "data": {
      "text/html": [
       "<div>\n",
       "<style scoped>\n",
       "    .dataframe tbody tr th:only-of-type {\n",
       "        vertical-align: middle;\n",
       "    }\n",
       "\n",
       "    .dataframe tbody tr th {\n",
       "        vertical-align: top;\n",
       "    }\n",
       "\n",
       "    .dataframe thead th {\n",
       "        text-align: right;\n",
       "    }\n",
       "</style>\n",
       "<table border=\"1\" class=\"dataframe\">\n",
       "  <thead>\n",
       "    <tr style=\"text-align: right;\">\n",
       "      <th></th>\n",
       "      <th></th>\n",
       "      <th>messages</th>\n",
       "    </tr>\n",
       "    <tr>\n",
       "      <th>user_id</th>\n",
       "      <th>month</th>\n",
       "      <th></th>\n",
       "    </tr>\n",
       "  </thead>\n",
       "  <tbody>\n",
       "    <tr>\n",
       "      <th rowspan=\"8\" valign=\"top\">1000</th>\n",
       "      <th>5</th>\n",
       "      <td>22</td>\n",
       "    </tr>\n",
       "    <tr>\n",
       "      <th>6</th>\n",
       "      <td>60</td>\n",
       "    </tr>\n",
       "    <tr>\n",
       "      <th>7</th>\n",
       "      <td>75</td>\n",
       "    </tr>\n",
       "    <tr>\n",
       "      <th>8</th>\n",
       "      <td>81</td>\n",
       "    </tr>\n",
       "    <tr>\n",
       "      <th>9</th>\n",
       "      <td>57</td>\n",
       "    </tr>\n",
       "    <tr>\n",
       "      <th>10</th>\n",
       "      <td>73</td>\n",
       "    </tr>\n",
       "    <tr>\n",
       "      <th>11</th>\n",
       "      <td>58</td>\n",
       "    </tr>\n",
       "    <tr>\n",
       "      <th>12</th>\n",
       "      <td>70</td>\n",
       "    </tr>\n",
       "    <tr>\n",
       "      <th rowspan=\"7\" valign=\"top\">1002</th>\n",
       "      <th>6</th>\n",
       "      <td>4</td>\n",
       "    </tr>\n",
       "    <tr>\n",
       "      <th>7</th>\n",
       "      <td>11</td>\n",
       "    </tr>\n",
       "    <tr>\n",
       "      <th>8</th>\n",
       "      <td>13</td>\n",
       "    </tr>\n",
       "    <tr>\n",
       "      <th>9</th>\n",
       "      <td>4</td>\n",
       "    </tr>\n",
       "    <tr>\n",
       "      <th>10</th>\n",
       "      <td>10</td>\n",
       "    </tr>\n",
       "    <tr>\n",
       "      <th>11</th>\n",
       "      <td>16</td>\n",
       "    </tr>\n",
       "    <tr>\n",
       "      <th>12</th>\n",
       "      <td>12</td>\n",
       "    </tr>\n",
       "  </tbody>\n",
       "</table>\n",
       "</div>"
      ],
      "text/plain": [
       "               messages\n",
       "user_id month          \n",
       "1000    5            22\n",
       "        6            60\n",
       "        7            75\n",
       "        8            81\n",
       "        9            57\n",
       "        10           73\n",
       "        11           58\n",
       "        12           70\n",
       "1002    6             4\n",
       "        7            11\n",
       "        8            13\n",
       "        9             4\n",
       "        10           10\n",
       "        11           16\n",
       "        12           12"
      ]
     },
     "execution_count": 30,
     "metadata": {},
     "output_type": "execute_result"
    }
   ],
   "source": [
    "messages_per_month.head(15)"
   ]
  },
  {
   "cell_type": "markdown",
   "id": "c82688cc",
   "metadata": {},
   "source": [
    "## Посчитаем количество потраченных мегабайт по месяцам для каждого пользователя"
   ]
  },
  {
   "cell_type": "code",
   "execution_count": 31,
   "id": "149618d0",
   "metadata": {},
   "outputs": [],
   "source": [
    "sessions_per_month = (sessions\n",
    "                      .pivot_table(index=['user_id', 'month'], values='mb_used', aggfunc='sum')\n",
    "                      )"
   ]
  },
  {
   "cell_type": "code",
   "execution_count": 32,
   "id": "979e036f",
   "metadata": {},
   "outputs": [
    {
     "data": {
      "text/html": [
       "<div>\n",
       "<style scoped>\n",
       "    .dataframe tbody tr th:only-of-type {\n",
       "        vertical-align: middle;\n",
       "    }\n",
       "\n",
       "    .dataframe tbody tr th {\n",
       "        vertical-align: top;\n",
       "    }\n",
       "\n",
       "    .dataframe thead th {\n",
       "        text-align: right;\n",
       "    }\n",
       "</style>\n",
       "<table border=\"1\" class=\"dataframe\">\n",
       "  <thead>\n",
       "    <tr style=\"text-align: right;\">\n",
       "      <th></th>\n",
       "      <th></th>\n",
       "      <th>mb_used</th>\n",
       "    </tr>\n",
       "    <tr>\n",
       "      <th>user_id</th>\n",
       "      <th>month</th>\n",
       "      <th></th>\n",
       "    </tr>\n",
       "  </thead>\n",
       "  <tbody>\n",
       "    <tr>\n",
       "      <th rowspan=\"8\" valign=\"top\">1000</th>\n",
       "      <th>5</th>\n",
       "      <td>2253.49</td>\n",
       "    </tr>\n",
       "    <tr>\n",
       "      <th>6</th>\n",
       "      <td>23233.77</td>\n",
       "    </tr>\n",
       "    <tr>\n",
       "      <th>7</th>\n",
       "      <td>14003.64</td>\n",
       "    </tr>\n",
       "    <tr>\n",
       "      <th>8</th>\n",
       "      <td>14055.93</td>\n",
       "    </tr>\n",
       "    <tr>\n",
       "      <th>9</th>\n",
       "      <td>14568.91</td>\n",
       "    </tr>\n",
       "    <tr>\n",
       "      <th>10</th>\n",
       "      <td>14702.49</td>\n",
       "    </tr>\n",
       "    <tr>\n",
       "      <th>11</th>\n",
       "      <td>14756.47</td>\n",
       "    </tr>\n",
       "    <tr>\n",
       "      <th>12</th>\n",
       "      <td>9817.61</td>\n",
       "    </tr>\n",
       "    <tr>\n",
       "      <th rowspan=\"2\" valign=\"top\">1001</th>\n",
       "      <th>11</th>\n",
       "      <td>18429.34</td>\n",
       "    </tr>\n",
       "    <tr>\n",
       "      <th>12</th>\n",
       "      <td>14036.66</td>\n",
       "    </tr>\n",
       "    <tr>\n",
       "      <th rowspan=\"5\" valign=\"top\">1002</th>\n",
       "      <th>6</th>\n",
       "      <td>10856.82</td>\n",
       "    </tr>\n",
       "    <tr>\n",
       "      <th>7</th>\n",
       "      <td>17580.10</td>\n",
       "    </tr>\n",
       "    <tr>\n",
       "      <th>8</th>\n",
       "      <td>20319.26</td>\n",
       "    </tr>\n",
       "    <tr>\n",
       "      <th>9</th>\n",
       "      <td>16691.08</td>\n",
       "    </tr>\n",
       "    <tr>\n",
       "      <th>10</th>\n",
       "      <td>13888.25</td>\n",
       "    </tr>\n",
       "  </tbody>\n",
       "</table>\n",
       "</div>"
      ],
      "text/plain": [
       "                mb_used\n",
       "user_id month          \n",
       "1000    5       2253.49\n",
       "        6      23233.77\n",
       "        7      14003.64\n",
       "        8      14055.93\n",
       "        9      14568.91\n",
       "        10     14702.49\n",
       "        11     14756.47\n",
       "        12      9817.61\n",
       "1001    11     18429.34\n",
       "        12     14036.66\n",
       "1002    6      10856.82\n",
       "        7      17580.10\n",
       "        8      20319.26\n",
       "        9      16691.08\n",
       "        10     13888.25"
      ]
     },
     "execution_count": 32,
     "metadata": {},
     "output_type": "execute_result"
    }
   ],
   "source": [
    "sessions_per_month.head(15)"
   ]
  },
  {
   "cell_type": "markdown",
   "id": "e0d249bc",
   "metadata": {},
   "source": [
    "# Анализ данных и подсчет выручки"
   ]
  },
  {
   "cell_type": "markdown",
   "id": "074badf0",
   "metadata": {},
   "source": [
    "Объединим все посчитанные выше значения в один датафрейм `user_behavior`. Соответственно, для каждой пары \"пользователь-месяц\" будут доступны информация о тарифе, количестве звонков, сообщений и потраченных мегабайтах."
   ]
  },
  {
   "cell_type": "code",
   "execution_count": 33,
   "id": "28b828d5",
   "metadata": {},
   "outputs": [],
   "source": [
    "user_behavior = (calls_per_month\n",
    "                 .merge(messages_per_month, left_index=True, right_index=True, how='outer')\n",
    "                 .merge(sessions_per_month, left_index=True, right_index=True, how='outer')\n",
    "                 .merge(minutes_per_month, left_index=True, right_index=True, how='outer')\n",
    "                 .reset_index()\n",
    "                 .merge(users, how='left', left_on='user_id', right_on='user_id')\n",
    "                 )"
   ]
  },
  {
   "cell_type": "code",
   "execution_count": 34,
   "id": "fd6527b0",
   "metadata": {},
   "outputs": [
    {
     "data": {
      "text/html": [
       "<div>\n",
       "<style scoped>\n",
       "    .dataframe tbody tr th:only-of-type {\n",
       "        vertical-align: middle;\n",
       "    }\n",
       "\n",
       "    .dataframe tbody tr th {\n",
       "        vertical-align: top;\n",
       "    }\n",
       "\n",
       "    .dataframe thead th {\n",
       "        text-align: right;\n",
       "    }\n",
       "</style>\n",
       "<table border=\"1\" class=\"dataframe\">\n",
       "  <thead>\n",
       "    <tr style=\"text-align: right;\">\n",
       "      <th></th>\n",
       "      <th>user_id</th>\n",
       "      <th>month</th>\n",
       "      <th>calls</th>\n",
       "      <th>messages</th>\n",
       "      <th>mb_used</th>\n",
       "      <th>minutes</th>\n",
       "      <th>age</th>\n",
       "      <th>churn_date</th>\n",
       "      <th>city</th>\n",
       "      <th>first_name</th>\n",
       "      <th>last_name</th>\n",
       "      <th>reg_date</th>\n",
       "      <th>tariff</th>\n",
       "    </tr>\n",
       "  </thead>\n",
       "  <tbody>\n",
       "    <tr>\n",
       "      <th>717</th>\n",
       "      <td>1113</td>\n",
       "      <td>5</td>\n",
       "      <td>85.0</td>\n",
       "      <td>57.0</td>\n",
       "      <td>16663.00</td>\n",
       "      <td>501.0</td>\n",
       "      <td>52</td>\n",
       "      <td>NaT</td>\n",
       "      <td>Чита</td>\n",
       "      <td>Харитон</td>\n",
       "      <td>Булгаков</td>\n",
       "      <td>2018-01-24</td>\n",
       "      <td>smart</td>\n",
       "    </tr>\n",
       "    <tr>\n",
       "      <th>1869</th>\n",
       "      <td>1294</td>\n",
       "      <td>7</td>\n",
       "      <td>43.0</td>\n",
       "      <td>21.0</td>\n",
       "      <td>21722.69</td>\n",
       "      <td>295.0</td>\n",
       "      <td>66</td>\n",
       "      <td>NaT</td>\n",
       "      <td>Владивосток</td>\n",
       "      <td>Дебора</td>\n",
       "      <td>Асафьева</td>\n",
       "      <td>2018-02-20</td>\n",
       "      <td>ultra</td>\n",
       "    </tr>\n",
       "    <tr>\n",
       "      <th>822</th>\n",
       "      <td>1127</td>\n",
       "      <td>8</td>\n",
       "      <td>34.0</td>\n",
       "      <td>82.0</td>\n",
       "      <td>18466.94</td>\n",
       "      <td>173.0</td>\n",
       "      <td>26</td>\n",
       "      <td>NaT</td>\n",
       "      <td>Казань</td>\n",
       "      <td>Альберта</td>\n",
       "      <td>Ильина</td>\n",
       "      <td>2018-04-11</td>\n",
       "      <td>smart</td>\n",
       "    </tr>\n",
       "    <tr>\n",
       "      <th>369</th>\n",
       "      <td>1057</td>\n",
       "      <td>12</td>\n",
       "      <td>124.0</td>\n",
       "      <td>28.0</td>\n",
       "      <td>21972.63</td>\n",
       "      <td>837.0</td>\n",
       "      <td>43</td>\n",
       "      <td>NaT</td>\n",
       "      <td>Москва</td>\n",
       "      <td>Динара</td>\n",
       "      <td>Дьячкова</td>\n",
       "      <td>2018-03-12</td>\n",
       "      <td>ultra</td>\n",
       "    </tr>\n",
       "    <tr>\n",
       "      <th>595</th>\n",
       "      <td>1094</td>\n",
       "      <td>8</td>\n",
       "      <td>100.0</td>\n",
       "      <td>23.0</td>\n",
       "      <td>21323.07</td>\n",
       "      <td>617.0</td>\n",
       "      <td>37</td>\n",
       "      <td>NaT</td>\n",
       "      <td>Новосибирск</td>\n",
       "      <td>Даниэла</td>\n",
       "      <td>Пугачева</td>\n",
       "      <td>2018-05-28</td>\n",
       "      <td>ultra</td>\n",
       "    </tr>\n",
       "  </tbody>\n",
       "</table>\n",
       "</div>"
      ],
      "text/plain": [
       "      user_id  month  calls  messages   mb_used  minutes  age churn_date  \\\n",
       "717      1113      5   85.0      57.0  16663.00    501.0   52        NaT   \n",
       "1869     1294      7   43.0      21.0  21722.69    295.0   66        NaT   \n",
       "822      1127      8   34.0      82.0  18466.94    173.0   26        NaT   \n",
       "369      1057     12  124.0      28.0  21972.63    837.0   43        NaT   \n",
       "595      1094      8  100.0      23.0  21323.07    617.0   37        NaT   \n",
       "\n",
       "             city first_name last_name   reg_date tariff  \n",
       "717          Чита    Харитон  Булгаков 2018-01-24  smart  \n",
       "1869  Владивосток     Дебора  Асафьева 2018-02-20  ultra  \n",
       "822        Казань   Альберта    Ильина 2018-04-11  smart  \n",
       "369        Москва     Динара  Дьячкова 2018-03-12  ultra  \n",
       "595   Новосибирск    Даниэла  Пугачева 2018-05-28  ultra  "
      ]
     },
     "execution_count": 34,
     "metadata": {},
     "output_type": "execute_result"
    }
   ],
   "source": [
    "user_behavior.sample(5)"
   ]
  },
  {
   "cell_type": "markdown",
   "id": "535f717b",
   "metadata": {},
   "source": [
    "## Проверим пропуски в сводных данных"
   ]
  },
  {
   "cell_type": "code",
   "execution_count": 35,
   "id": "b2cd2a61",
   "metadata": {},
   "outputs": [
    {
     "data": {
      "text/plain": [
       "user_id          0\n",
       "month            0\n",
       "calls           40\n",
       "messages       497\n",
       "mb_used         11\n",
       "minutes         40\n",
       "age              0\n",
       "churn_date    3027\n",
       "city             0\n",
       "first_name       0\n",
       "last_name        0\n",
       "reg_date         0\n",
       "tariff           0\n",
       "dtype: int64"
      ]
     },
     "execution_count": 35,
     "metadata": {},
     "output_type": "execute_result"
    }
   ],
   "source": [
    "user_behavior.isna().sum()"
   ]
  },
  {
   "cell_type": "markdown",
   "id": "87950ccb",
   "metadata": {},
   "source": [
    "Заполним образовавшиеся пропуски нулевыми значениямя. Это можно сделать, так как пропуски указывают на то, что некоторые пользователи не используют некоторые услуги по тарифу (например пользователь звонит и пользуется интернетом, но не отправляет сообщений).\n"
   ]
  },
  {
   "cell_type": "code",
   "execution_count": 36,
   "id": "d45e4026",
   "metadata": {},
   "outputs": [],
   "source": [
    "user_behavior['calls'] = user_behavior['calls'].fillna(0)\n",
    "user_behavior['minutes'] = user_behavior['minutes'].fillna(0)\n",
    "user_behavior['messages'] = user_behavior['messages'].fillna(0)\n",
    "user_behavior['mb_used'] = user_behavior['mb_used'].fillna(0)"
   ]
  },
  {
   "cell_type": "markdown",
   "id": "9848b844",
   "metadata": {},
   "source": [
    "Добавим в таблицу информацию о тарифе."
   ]
  },
  {
   "cell_type": "code",
   "execution_count": 37,
   "id": "247b09da",
   "metadata": {},
   "outputs": [],
   "source": [
    "user_behavior = user_behavior.merge(\n",
    "    tariffs, how='left', left_on='tariff', right_on='tariff_name')"
   ]
  },
  {
   "cell_type": "code",
   "execution_count": 38,
   "id": "10c4a5b9",
   "metadata": {},
   "outputs": [
    {
     "data": {
      "text/html": [
       "<div>\n",
       "<style scoped>\n",
       "    .dataframe tbody tr th:only-of-type {\n",
       "        vertical-align: middle;\n",
       "    }\n",
       "\n",
       "    .dataframe tbody tr th {\n",
       "        vertical-align: top;\n",
       "    }\n",
       "\n",
       "    .dataframe thead th {\n",
       "        text-align: right;\n",
       "    }\n",
       "</style>\n",
       "<table border=\"1\" class=\"dataframe\">\n",
       "  <thead>\n",
       "    <tr style=\"text-align: right;\">\n",
       "      <th></th>\n",
       "      <th>user_id</th>\n",
       "      <th>month</th>\n",
       "      <th>calls</th>\n",
       "      <th>messages</th>\n",
       "      <th>mb_used</th>\n",
       "      <th>minutes</th>\n",
       "      <th>age</th>\n",
       "      <th>churn_date</th>\n",
       "      <th>city</th>\n",
       "      <th>first_name</th>\n",
       "      <th>...</th>\n",
       "      <th>reg_date</th>\n",
       "      <th>tariff</th>\n",
       "      <th>messages_included</th>\n",
       "      <th>mb_per_month_included</th>\n",
       "      <th>minutes_included</th>\n",
       "      <th>rub_monthly_fee</th>\n",
       "      <th>rub_per_gb</th>\n",
       "      <th>rub_per_message</th>\n",
       "      <th>rub_per_minute</th>\n",
       "      <th>tariff_name</th>\n",
       "    </tr>\n",
       "  </thead>\n",
       "  <tbody>\n",
       "    <tr>\n",
       "      <th>0</th>\n",
       "      <td>1000</td>\n",
       "      <td>5</td>\n",
       "      <td>22.0</td>\n",
       "      <td>22.0</td>\n",
       "      <td>2253.49</td>\n",
       "      <td>159.0</td>\n",
       "      <td>52</td>\n",
       "      <td>NaT</td>\n",
       "      <td>Краснодар</td>\n",
       "      <td>Рафаил</td>\n",
       "      <td>...</td>\n",
       "      <td>2018-05-25</td>\n",
       "      <td>ultra</td>\n",
       "      <td>1000</td>\n",
       "      <td>30720</td>\n",
       "      <td>3000</td>\n",
       "      <td>1950</td>\n",
       "      <td>150</td>\n",
       "      <td>1</td>\n",
       "      <td>1</td>\n",
       "      <td>ultra</td>\n",
       "    </tr>\n",
       "    <tr>\n",
       "      <th>1</th>\n",
       "      <td>1000</td>\n",
       "      <td>6</td>\n",
       "      <td>43.0</td>\n",
       "      <td>60.0</td>\n",
       "      <td>23233.77</td>\n",
       "      <td>172.0</td>\n",
       "      <td>52</td>\n",
       "      <td>NaT</td>\n",
       "      <td>Краснодар</td>\n",
       "      <td>Рафаил</td>\n",
       "      <td>...</td>\n",
       "      <td>2018-05-25</td>\n",
       "      <td>ultra</td>\n",
       "      <td>1000</td>\n",
       "      <td>30720</td>\n",
       "      <td>3000</td>\n",
       "      <td>1950</td>\n",
       "      <td>150</td>\n",
       "      <td>1</td>\n",
       "      <td>1</td>\n",
       "      <td>ultra</td>\n",
       "    </tr>\n",
       "    <tr>\n",
       "      <th>2</th>\n",
       "      <td>1000</td>\n",
       "      <td>7</td>\n",
       "      <td>47.0</td>\n",
       "      <td>75.0</td>\n",
       "      <td>14003.64</td>\n",
       "      <td>340.0</td>\n",
       "      <td>52</td>\n",
       "      <td>NaT</td>\n",
       "      <td>Краснодар</td>\n",
       "      <td>Рафаил</td>\n",
       "      <td>...</td>\n",
       "      <td>2018-05-25</td>\n",
       "      <td>ultra</td>\n",
       "      <td>1000</td>\n",
       "      <td>30720</td>\n",
       "      <td>3000</td>\n",
       "      <td>1950</td>\n",
       "      <td>150</td>\n",
       "      <td>1</td>\n",
       "      <td>1</td>\n",
       "      <td>ultra</td>\n",
       "    </tr>\n",
       "    <tr>\n",
       "      <th>3</th>\n",
       "      <td>1000</td>\n",
       "      <td>8</td>\n",
       "      <td>52.0</td>\n",
       "      <td>81.0</td>\n",
       "      <td>14055.93</td>\n",
       "      <td>408.0</td>\n",
       "      <td>52</td>\n",
       "      <td>NaT</td>\n",
       "      <td>Краснодар</td>\n",
       "      <td>Рафаил</td>\n",
       "      <td>...</td>\n",
       "      <td>2018-05-25</td>\n",
       "      <td>ultra</td>\n",
       "      <td>1000</td>\n",
       "      <td>30720</td>\n",
       "      <td>3000</td>\n",
       "      <td>1950</td>\n",
       "      <td>150</td>\n",
       "      <td>1</td>\n",
       "      <td>1</td>\n",
       "      <td>ultra</td>\n",
       "    </tr>\n",
       "    <tr>\n",
       "      <th>4</th>\n",
       "      <td>1000</td>\n",
       "      <td>9</td>\n",
       "      <td>58.0</td>\n",
       "      <td>57.0</td>\n",
       "      <td>14568.91</td>\n",
       "      <td>466.0</td>\n",
       "      <td>52</td>\n",
       "      <td>NaT</td>\n",
       "      <td>Краснодар</td>\n",
       "      <td>Рафаил</td>\n",
       "      <td>...</td>\n",
       "      <td>2018-05-25</td>\n",
       "      <td>ultra</td>\n",
       "      <td>1000</td>\n",
       "      <td>30720</td>\n",
       "      <td>3000</td>\n",
       "      <td>1950</td>\n",
       "      <td>150</td>\n",
       "      <td>1</td>\n",
       "      <td>1</td>\n",
       "      <td>ultra</td>\n",
       "    </tr>\n",
       "  </tbody>\n",
       "</table>\n",
       "<p>5 rows × 21 columns</p>\n",
       "</div>"
      ],
      "text/plain": [
       "   user_id  month  calls  messages   mb_used  minutes  age churn_date  \\\n",
       "0     1000      5   22.0      22.0   2253.49    159.0   52        NaT   \n",
       "1     1000      6   43.0      60.0  23233.77    172.0   52        NaT   \n",
       "2     1000      7   47.0      75.0  14003.64    340.0   52        NaT   \n",
       "3     1000      8   52.0      81.0  14055.93    408.0   52        NaT   \n",
       "4     1000      9   58.0      57.0  14568.91    466.0   52        NaT   \n",
       "\n",
       "        city first_name  ...   reg_date tariff messages_included  \\\n",
       "0  Краснодар     Рафаил  ... 2018-05-25  ultra              1000   \n",
       "1  Краснодар     Рафаил  ... 2018-05-25  ultra              1000   \n",
       "2  Краснодар     Рафаил  ... 2018-05-25  ultra              1000   \n",
       "3  Краснодар     Рафаил  ... 2018-05-25  ultra              1000   \n",
       "4  Краснодар     Рафаил  ... 2018-05-25  ultra              1000   \n",
       "\n",
       "   mb_per_month_included  minutes_included  rub_monthly_fee  rub_per_gb  \\\n",
       "0                  30720              3000             1950         150   \n",
       "1                  30720              3000             1950         150   \n",
       "2                  30720              3000             1950         150   \n",
       "3                  30720              3000             1950         150   \n",
       "4                  30720              3000             1950         150   \n",
       "\n",
       "   rub_per_message  rub_per_minute  tariff_name  \n",
       "0                1               1        ultra  \n",
       "1                1               1        ultra  \n",
       "2                1               1        ultra  \n",
       "3                1               1        ultra  \n",
       "4                1               1        ultra  \n",
       "\n",
       "[5 rows x 21 columns]"
      ]
     },
     "execution_count": 38,
     "metadata": {},
     "output_type": "execute_result"
    }
   ],
   "source": [
    "user_behavior.head()"
   ]
  },
  {
   "cell_type": "markdown",
   "id": "2f31bc82",
   "metadata": {},
   "source": [
    "## Посчитаем количество минут разговора, сообщений и мегабайт, превышающих включенные в тариф"
   ]
  },
  {
   "cell_type": "code",
   "execution_count": 39,
   "id": "4acbe242",
   "metadata": {},
   "outputs": [],
   "source": [
    "user_behavior['paid_minutes'] = (user_behavior['minutes'] -\n",
    "                                 user_behavior['minutes_included'])\n",
    "user_behavior['paid_messages'] = (user_behavior['messages'] -\n",
    "                                  user_behavior['messages_included'])\n",
    "user_behavior['paid_mb'] = (user_behavior['mb_used'] -\n",
    "                            user_behavior['mb_per_month_included'])\n",
    "\n",
    "for col in ['paid_messages', 'paid_minutes', 'paid_mb']:\n",
    "    user_behavior.loc[user_behavior[col] < 0, col] = 0"
   ]
  },
  {
   "cell_type": "markdown",
   "id": "d4480924",
   "metadata": {},
   "source": [
    "Переведем превышающие тариф мегабайты в гигабайты и сохраняем в столбец `paid_gb`"
   ]
  },
  {
   "cell_type": "code",
   "execution_count": 40,
   "id": "29ca6536",
   "metadata": {},
   "outputs": [],
   "source": [
    "user_behavior['paid_gb'] = np.ceil(user_behavior['paid_mb'] / 1024).astype(int)"
   ]
  },
  {
   "cell_type": "markdown",
   "id": "1144e615",
   "metadata": {},
   "source": [
    "## Посчитаем выручку за минуты разговора, сообщения и интернет"
   ]
  },
  {
   "cell_type": "code",
   "execution_count": 41,
   "id": "827869d2",
   "metadata": {},
   "outputs": [],
   "source": [
    "user_behavior['cost_minutes'] = (user_behavior['paid_minutes'] *\n",
    "                                 user_behavior['rub_per_minute'])\n",
    "user_behavior['cost_messages'] = (user_behavior['paid_messages'] *\n",
    "                                  user_behavior['rub_per_message'])\n",
    "user_behavior['cost_gb'] = (user_behavior['paid_gb'] *\n",
    "                            user_behavior['rub_per_gb'])"
   ]
  },
  {
   "cell_type": "markdown",
   "id": "e998bd38",
   "metadata": {},
   "source": [
    "## Считаем помесячную выручку с каждого пользователя"
   ]
  },
  {
   "cell_type": "markdown",
   "id": "d3a71b89",
   "metadata": {},
   "source": [
    "Создадим дополнительный столбец `total_cost`"
   ]
  },
  {
   "cell_type": "code",
   "execution_count": 42,
   "id": "002f152e",
   "metadata": {},
   "outputs": [],
   "source": [
    "user_behavior['total_cost'] = (user_behavior['rub_monthly_fee']\n",
    "                               + user_behavior['cost_minutes']\n",
    "                               + user_behavior['cost_messages']\n",
    "                               + user_behavior['cost_gb'])"
   ]
  },
  {
   "cell_type": "code",
   "execution_count": 43,
   "id": "da89746c",
   "metadata": {},
   "outputs": [
    {
     "data": {
      "text/html": [
       "<div>\n",
       "<style scoped>\n",
       "    .dataframe tbody tr th:only-of-type {\n",
       "        vertical-align: middle;\n",
       "    }\n",
       "\n",
       "    .dataframe tbody tr th {\n",
       "        vertical-align: top;\n",
       "    }\n",
       "\n",
       "    .dataframe thead th {\n",
       "        text-align: right;\n",
       "    }\n",
       "</style>\n",
       "<table border=\"1\" class=\"dataframe\">\n",
       "  <thead>\n",
       "    <tr style=\"text-align: right;\">\n",
       "      <th></th>\n",
       "      <th>user_id</th>\n",
       "      <th>month</th>\n",
       "      <th>calls</th>\n",
       "      <th>messages</th>\n",
       "      <th>mb_used</th>\n",
       "      <th>minutes</th>\n",
       "      <th>age</th>\n",
       "      <th>churn_date</th>\n",
       "      <th>city</th>\n",
       "      <th>first_name</th>\n",
       "      <th>...</th>\n",
       "      <th>rub_per_minute</th>\n",
       "      <th>tariff_name</th>\n",
       "      <th>paid_minutes</th>\n",
       "      <th>paid_messages</th>\n",
       "      <th>paid_mb</th>\n",
       "      <th>paid_gb</th>\n",
       "      <th>cost_minutes</th>\n",
       "      <th>cost_messages</th>\n",
       "      <th>cost_gb</th>\n",
       "      <th>total_cost</th>\n",
       "    </tr>\n",
       "  </thead>\n",
       "  <tbody>\n",
       "    <tr>\n",
       "      <th>0</th>\n",
       "      <td>1000</td>\n",
       "      <td>5</td>\n",
       "      <td>22.0</td>\n",
       "      <td>22.0</td>\n",
       "      <td>2253.49</td>\n",
       "      <td>159.0</td>\n",
       "      <td>52</td>\n",
       "      <td>NaT</td>\n",
       "      <td>Краснодар</td>\n",
       "      <td>Рафаил</td>\n",
       "      <td>...</td>\n",
       "      <td>1</td>\n",
       "      <td>ultra</td>\n",
       "      <td>0.0</td>\n",
       "      <td>0.0</td>\n",
       "      <td>0.0</td>\n",
       "      <td>0</td>\n",
       "      <td>0.0</td>\n",
       "      <td>0.0</td>\n",
       "      <td>0</td>\n",
       "      <td>1950.0</td>\n",
       "    </tr>\n",
       "    <tr>\n",
       "      <th>1</th>\n",
       "      <td>1000</td>\n",
       "      <td>6</td>\n",
       "      <td>43.0</td>\n",
       "      <td>60.0</td>\n",
       "      <td>23233.77</td>\n",
       "      <td>172.0</td>\n",
       "      <td>52</td>\n",
       "      <td>NaT</td>\n",
       "      <td>Краснодар</td>\n",
       "      <td>Рафаил</td>\n",
       "      <td>...</td>\n",
       "      <td>1</td>\n",
       "      <td>ultra</td>\n",
       "      <td>0.0</td>\n",
       "      <td>0.0</td>\n",
       "      <td>0.0</td>\n",
       "      <td>0</td>\n",
       "      <td>0.0</td>\n",
       "      <td>0.0</td>\n",
       "      <td>0</td>\n",
       "      <td>1950.0</td>\n",
       "    </tr>\n",
       "    <tr>\n",
       "      <th>2</th>\n",
       "      <td>1000</td>\n",
       "      <td>7</td>\n",
       "      <td>47.0</td>\n",
       "      <td>75.0</td>\n",
       "      <td>14003.64</td>\n",
       "      <td>340.0</td>\n",
       "      <td>52</td>\n",
       "      <td>NaT</td>\n",
       "      <td>Краснодар</td>\n",
       "      <td>Рафаил</td>\n",
       "      <td>...</td>\n",
       "      <td>1</td>\n",
       "      <td>ultra</td>\n",
       "      <td>0.0</td>\n",
       "      <td>0.0</td>\n",
       "      <td>0.0</td>\n",
       "      <td>0</td>\n",
       "      <td>0.0</td>\n",
       "      <td>0.0</td>\n",
       "      <td>0</td>\n",
       "      <td>1950.0</td>\n",
       "    </tr>\n",
       "    <tr>\n",
       "      <th>3</th>\n",
       "      <td>1000</td>\n",
       "      <td>8</td>\n",
       "      <td>52.0</td>\n",
       "      <td>81.0</td>\n",
       "      <td>14055.93</td>\n",
       "      <td>408.0</td>\n",
       "      <td>52</td>\n",
       "      <td>NaT</td>\n",
       "      <td>Краснодар</td>\n",
       "      <td>Рафаил</td>\n",
       "      <td>...</td>\n",
       "      <td>1</td>\n",
       "      <td>ultra</td>\n",
       "      <td>0.0</td>\n",
       "      <td>0.0</td>\n",
       "      <td>0.0</td>\n",
       "      <td>0</td>\n",
       "      <td>0.0</td>\n",
       "      <td>0.0</td>\n",
       "      <td>0</td>\n",
       "      <td>1950.0</td>\n",
       "    </tr>\n",
       "    <tr>\n",
       "      <th>4</th>\n",
       "      <td>1000</td>\n",
       "      <td>9</td>\n",
       "      <td>58.0</td>\n",
       "      <td>57.0</td>\n",
       "      <td>14568.91</td>\n",
       "      <td>466.0</td>\n",
       "      <td>52</td>\n",
       "      <td>NaT</td>\n",
       "      <td>Краснодар</td>\n",
       "      <td>Рафаил</td>\n",
       "      <td>...</td>\n",
       "      <td>1</td>\n",
       "      <td>ultra</td>\n",
       "      <td>0.0</td>\n",
       "      <td>0.0</td>\n",
       "      <td>0.0</td>\n",
       "      <td>0</td>\n",
       "      <td>0.0</td>\n",
       "      <td>0.0</td>\n",
       "      <td>0</td>\n",
       "      <td>1950.0</td>\n",
       "    </tr>\n",
       "  </tbody>\n",
       "</table>\n",
       "<p>5 rows × 29 columns</p>\n",
       "</div>"
      ],
      "text/plain": [
       "   user_id  month  calls  messages   mb_used  minutes  age churn_date  \\\n",
       "0     1000      5   22.0      22.0   2253.49    159.0   52        NaT   \n",
       "1     1000      6   43.0      60.0  23233.77    172.0   52        NaT   \n",
       "2     1000      7   47.0      75.0  14003.64    340.0   52        NaT   \n",
       "3     1000      8   52.0      81.0  14055.93    408.0   52        NaT   \n",
       "4     1000      9   58.0      57.0  14568.91    466.0   52        NaT   \n",
       "\n",
       "        city first_name  ... rub_per_minute tariff_name paid_minutes  \\\n",
       "0  Краснодар     Рафаил  ...              1       ultra          0.0   \n",
       "1  Краснодар     Рафаил  ...              1       ultra          0.0   \n",
       "2  Краснодар     Рафаил  ...              1       ultra          0.0   \n",
       "3  Краснодар     Рафаил  ...              1       ultra          0.0   \n",
       "4  Краснодар     Рафаил  ...              1       ultra          0.0   \n",
       "\n",
       "   paid_messages  paid_mb  paid_gb  cost_minutes  cost_messages  cost_gb  \\\n",
       "0            0.0      0.0        0           0.0            0.0        0   \n",
       "1            0.0      0.0        0           0.0            0.0        0   \n",
       "2            0.0      0.0        0           0.0            0.0        0   \n",
       "3            0.0      0.0        0           0.0            0.0        0   \n",
       "4            0.0      0.0        0           0.0            0.0        0   \n",
       "\n",
       "   total_cost  \n",
       "0      1950.0  \n",
       "1      1950.0  \n",
       "2      1950.0  \n",
       "3      1950.0  \n",
       "4      1950.0  \n",
       "\n",
       "[5 rows x 29 columns]"
      ]
     },
     "execution_count": 43,
     "metadata": {},
     "output_type": "execute_result"
    }
   ],
   "source": [
    "user_behavior.head()"
   ]
  },
  {
   "cell_type": "markdown",
   "id": "bf94f702",
   "metadata": {},
   "source": [
    "## Определяем основные характеристики по тарифам за каждый месяц"
   ]
  },
  {
   "cell_type": "markdown",
   "id": "41e32e85",
   "metadata": {},
   "source": [
    "В сводной таблице `stats_df` для каждой пары \"месяц-тариф\" будем хрвнить основные характеристики (среднее значение, стандартное отклонение, медиана)"
   ]
  },
  {
   "cell_type": "code",
   "execution_count": 44,
   "id": "d01208da",
   "metadata": {},
   "outputs": [],
   "source": [
    "stats_df = user_behavior.pivot_table(\n",
    "    index=['month', 'tariff'],\n",
    "    values=['calls', 'minutes', 'messages', 'mb_used'],\n",
    "    aggfunc=['mean', 'std', 'median']\n",
    ").round(2).reset_index()\n",
    "\n",
    "stats_df.columns = ['month', 'tariff', 'calls_mean', 'sessions_mean', 'messages_mean', 'minutes_mean',\n",
    "                    'calls_std',  'sessions_std', 'messages_std', 'minutes_std',\n",
    "                    'calls_median', 'sessions_median', 'messages_median',  'minutes_median']"
   ]
  },
  {
   "cell_type": "code",
   "execution_count": 45,
   "id": "fa45abff",
   "metadata": {},
   "outputs": [
    {
     "data": {
      "text/html": [
       "<div>\n",
       "<style scoped>\n",
       "    .dataframe tbody tr th:only-of-type {\n",
       "        vertical-align: middle;\n",
       "    }\n",
       "\n",
       "    .dataframe tbody tr th {\n",
       "        vertical-align: top;\n",
       "    }\n",
       "\n",
       "    .dataframe thead th {\n",
       "        text-align: right;\n",
       "    }\n",
       "</style>\n",
       "<table border=\"1\" class=\"dataframe\">\n",
       "  <thead>\n",
       "    <tr style=\"text-align: right;\">\n",
       "      <th></th>\n",
       "      <th>month</th>\n",
       "      <th>tariff</th>\n",
       "      <th>calls_mean</th>\n",
       "      <th>sessions_mean</th>\n",
       "      <th>messages_mean</th>\n",
       "      <th>minutes_mean</th>\n",
       "      <th>calls_std</th>\n",
       "      <th>sessions_std</th>\n",
       "      <th>messages_std</th>\n",
       "      <th>minutes_std</th>\n",
       "      <th>calls_median</th>\n",
       "      <th>sessions_median</th>\n",
       "      <th>messages_median</th>\n",
       "      <th>minutes_median</th>\n",
       "    </tr>\n",
       "  </thead>\n",
       "  <tbody>\n",
       "    <tr>\n",
       "      <th>0</th>\n",
       "      <td>1</td>\n",
       "      <td>smart</td>\n",
       "      <td>27.68</td>\n",
       "      <td>8513.72</td>\n",
       "      <td>18.24</td>\n",
       "      <td>203.85</td>\n",
       "      <td>20.81</td>\n",
       "      <td>6444.68</td>\n",
       "      <td>16.20</td>\n",
       "      <td>154.23</td>\n",
       "      <td>20.5</td>\n",
       "      <td>7096.18</td>\n",
       "      <td>15.0</td>\n",
       "      <td>162.5</td>\n",
       "    </tr>\n",
       "    <tr>\n",
       "      <th>1</th>\n",
       "      <td>1</td>\n",
       "      <td>ultra</td>\n",
       "      <td>59.44</td>\n",
       "      <td>13140.68</td>\n",
       "      <td>33.78</td>\n",
       "      <td>428.11</td>\n",
       "      <td>41.64</td>\n",
       "      <td>6865.35</td>\n",
       "      <td>30.67</td>\n",
       "      <td>269.76</td>\n",
       "      <td>51.0</td>\n",
       "      <td>14791.37</td>\n",
       "      <td>32.0</td>\n",
       "      <td>382.0</td>\n",
       "    </tr>\n",
       "    <tr>\n",
       "      <th>2</th>\n",
       "      <td>2</td>\n",
       "      <td>smart</td>\n",
       "      <td>40.19</td>\n",
       "      <td>11597.05</td>\n",
       "      <td>24.09</td>\n",
       "      <td>298.69</td>\n",
       "      <td>25.39</td>\n",
       "      <td>6247.35</td>\n",
       "      <td>21.75</td>\n",
       "      <td>190.82</td>\n",
       "      <td>38.5</td>\n",
       "      <td>12553.71</td>\n",
       "      <td>20.0</td>\n",
       "      <td>258.0</td>\n",
       "    </tr>\n",
       "    <tr>\n",
       "      <th>3</th>\n",
       "      <td>2</td>\n",
       "      <td>ultra</td>\n",
       "      <td>41.54</td>\n",
       "      <td>11775.94</td>\n",
       "      <td>21.96</td>\n",
       "      <td>297.12</td>\n",
       "      <td>40.97</td>\n",
       "      <td>10644.64</td>\n",
       "      <td>26.77</td>\n",
       "      <td>296.51</td>\n",
       "      <td>25.0</td>\n",
       "      <td>7327.12</td>\n",
       "      <td>5.5</td>\n",
       "      <td>168.0</td>\n",
       "    </tr>\n",
       "    <tr>\n",
       "      <th>4</th>\n",
       "      <td>3</td>\n",
       "      <td>smart</td>\n",
       "      <td>54.32</td>\n",
       "      <td>15104.16</td>\n",
       "      <td>31.86</td>\n",
       "      <td>390.05</td>\n",
       "      <td>25.54</td>\n",
       "      <td>5828.24</td>\n",
       "      <td>26.80</td>\n",
       "      <td>191.89</td>\n",
       "      <td>59.0</td>\n",
       "      <td>15670.25</td>\n",
       "      <td>23.0</td>\n",
       "      <td>409.0</td>\n",
       "    </tr>\n",
       "    <tr>\n",
       "      <th>5</th>\n",
       "      <td>3</td>\n",
       "      <td>ultra</td>\n",
       "      <td>67.68</td>\n",
       "      <td>17535.55</td>\n",
       "      <td>32.30</td>\n",
       "      <td>489.65</td>\n",
       "      <td>44.84</td>\n",
       "      <td>10951.79</td>\n",
       "      <td>41.62</td>\n",
       "      <td>333.74</td>\n",
       "      <td>57.0</td>\n",
       "      <td>17495.18</td>\n",
       "      <td>20.0</td>\n",
       "      <td>403.0</td>\n",
       "    </tr>\n",
       "    <tr>\n",
       "      <th>6</th>\n",
       "      <td>4</td>\n",
       "      <td>smart</td>\n",
       "      <td>51.31</td>\n",
       "      <td>13462.18</td>\n",
       "      <td>30.74</td>\n",
       "      <td>367.13</td>\n",
       "      <td>25.70</td>\n",
       "      <td>5698.25</td>\n",
       "      <td>24.54</td>\n",
       "      <td>186.49</td>\n",
       "      <td>52.0</td>\n",
       "      <td>14087.65</td>\n",
       "      <td>28.0</td>\n",
       "      <td>368.5</td>\n",
       "    </tr>\n",
       "    <tr>\n",
       "      <th>7</th>\n",
       "      <td>4</td>\n",
       "      <td>ultra</td>\n",
       "      <td>64.09</td>\n",
       "      <td>16828.13</td>\n",
       "      <td>31.56</td>\n",
       "      <td>458.02</td>\n",
       "      <td>36.27</td>\n",
       "      <td>9718.65</td>\n",
       "      <td>37.51</td>\n",
       "      <td>267.68</td>\n",
       "      <td>61.0</td>\n",
       "      <td>16645.78</td>\n",
       "      <td>17.0</td>\n",
       "      <td>453.0</td>\n",
       "    </tr>\n",
       "    <tr>\n",
       "      <th>8</th>\n",
       "      <td>5</td>\n",
       "      <td>smart</td>\n",
       "      <td>55.24</td>\n",
       "      <td>15805.18</td>\n",
       "      <td>33.77</td>\n",
       "      <td>387.36</td>\n",
       "      <td>25.38</td>\n",
       "      <td>5978.23</td>\n",
       "      <td>27.04</td>\n",
       "      <td>186.60</td>\n",
       "      <td>59.0</td>\n",
       "      <td>16323.94</td>\n",
       "      <td>30.0</td>\n",
       "      <td>433.0</td>\n",
       "    </tr>\n",
       "    <tr>\n",
       "      <th>9</th>\n",
       "      <td>5</td>\n",
       "      <td>ultra</td>\n",
       "      <td>72.51</td>\n",
       "      <td>19363.15</td>\n",
       "      <td>37.85</td>\n",
       "      <td>510.33</td>\n",
       "      <td>41.08</td>\n",
       "      <td>10046.11</td>\n",
       "      <td>40.31</td>\n",
       "      <td>289.60</td>\n",
       "      <td>75.0</td>\n",
       "      <td>18696.43</td>\n",
       "      <td>25.0</td>\n",
       "      <td>519.0</td>\n",
       "    </tr>\n",
       "  </tbody>\n",
       "</table>\n",
       "</div>"
      ],
      "text/plain": [
       "   month tariff  calls_mean  sessions_mean  messages_mean  minutes_mean  \\\n",
       "0      1  smart       27.68        8513.72          18.24        203.85   \n",
       "1      1  ultra       59.44       13140.68          33.78        428.11   \n",
       "2      2  smart       40.19       11597.05          24.09        298.69   \n",
       "3      2  ultra       41.54       11775.94          21.96        297.12   \n",
       "4      3  smart       54.32       15104.16          31.86        390.05   \n",
       "5      3  ultra       67.68       17535.55          32.30        489.65   \n",
       "6      4  smart       51.31       13462.18          30.74        367.13   \n",
       "7      4  ultra       64.09       16828.13          31.56        458.02   \n",
       "8      5  smart       55.24       15805.18          33.77        387.36   \n",
       "9      5  ultra       72.51       19363.15          37.85        510.33   \n",
       "\n",
       "   calls_std  sessions_std  messages_std  minutes_std  calls_median  \\\n",
       "0      20.81       6444.68         16.20       154.23          20.5   \n",
       "1      41.64       6865.35         30.67       269.76          51.0   \n",
       "2      25.39       6247.35         21.75       190.82          38.5   \n",
       "3      40.97      10644.64         26.77       296.51          25.0   \n",
       "4      25.54       5828.24         26.80       191.89          59.0   \n",
       "5      44.84      10951.79         41.62       333.74          57.0   \n",
       "6      25.70       5698.25         24.54       186.49          52.0   \n",
       "7      36.27       9718.65         37.51       267.68          61.0   \n",
       "8      25.38       5978.23         27.04       186.60          59.0   \n",
       "9      41.08      10046.11         40.31       289.60          75.0   \n",
       "\n",
       "   sessions_median  messages_median  minutes_median  \n",
       "0          7096.18             15.0           162.5  \n",
       "1         14791.37             32.0           382.0  \n",
       "2         12553.71             20.0           258.0  \n",
       "3          7327.12              5.5           168.0  \n",
       "4         15670.25             23.0           409.0  \n",
       "5         17495.18             20.0           403.0  \n",
       "6         14087.65             28.0           368.5  \n",
       "7         16645.78             17.0           453.0  \n",
       "8         16323.94             30.0           433.0  \n",
       "9         18696.43             25.0           519.0  "
      ]
     },
     "execution_count": 45,
     "metadata": {},
     "output_type": "execute_result"
    }
   ],
   "source": [
    "stats_df.head(10)"
   ]
  },
  {
   "cell_type": "markdown",
   "id": "4762b36e",
   "metadata": {},
   "source": [
    "### Распределение среднего количества звонков по видам тарифов и месяцам"
   ]
  },
  {
   "cell_type": "code",
   "execution_count": 46,
   "id": "642f0a3b",
   "metadata": {},
   "outputs": [
    {
     "data": {
      "image/png": "[encoded data removed]",
      "text/plain": [
       "<Figure size 640x480 with 1 Axes>"
      ]
     },
     "metadata": {},
     "output_type": "display_data"
    }
   ],
   "source": [
    "ax = sns.barplot(x='month',\n",
    "                 y='calls_mean',\n",
    "                 hue='tariff',\n",
    "                 data=stats_df,\n",
    "                 palette=['lightblue', 'blue']\n",
    "                 )\n",
    "ax.set_title('Распределение количества звонков по видам тарифов и месяцам')\n",
    "ax.set(xlabel='Номер месяца', ylabel='Среднее количество звонков')"
   ]
  },
  {
   "cell_type": "markdown",
   "id": "4b214e4c",
   "metadata": {},
   "source": [
    "Мы видим, что среднее количество звонков в тарифе \"ultra\" больше, чем в 'smart' для каждого месяца."
   ]
  },
  {
   "cell_type": "markdown",
   "id": "22819f5d",
   "metadata": {},
   "source": [
    "Рассмотрим распределение количества звонков по клиентам для каждого тарифа."
   ]
  },
  {
   "cell_type": "code",
   "execution_count": 47,
   "id": "6356ea78",
   "metadata": {},
   "outputs": [
    {
     "data": {
      "image/png": "[encoded data removed]",
      "text/plain": [
       "<Figure size 640x480 with 1 Axes>"
      ]
     },
     "metadata": {},
     "output_type": "display_data"
    }
   ],
   "source": [
    "user_behavior.groupby('tariff')['calls'].plot(kind='hist', bins=35, alpha=0.5)\n",
    "plt.legend(['Smart', 'Ultra'])\n",
    "plt.xlabel('Количество звонков')\n",
    "plt.ylabel('Количество клиентов')\n",
    "plt.title('Распределение клиентов по количеству звонков')\n",
    "plt.show()"
   ]
  },
  {
   "cell_type": "markdown",
   "id": "eb3d1826",
   "metadata": {},
   "source": [
    "Можно отметить, что в тарифе \"ultra\" количество пользователей совершающих разное количество звонков распределено более плавно. То есть количество пользователей которые совершают менее 10 звонков не сильно отличается от количества пользователей, которые совершают 50 звонков или 100. Заметный спад количества клиентов наблюдается после совершения 110-120 звонков.  \n",
    "\n",
    "В тарифе \"Smart\" наблюдается иная картина. Большая часть пользователей состредоточена в диапазоне 20-100 звонков и рачпределение пользователей схоже с нормальным."
   ]
  },
  {
   "cell_type": "markdown",
   "id": "6bfe0c46",
   "metadata": {},
   "source": [
    "## Распределение средней продолжительности звонков по видам тарифов и месяцам"
   ]
  },
  {
   "cell_type": "code",
   "execution_count": 48,
   "id": "69aa3481",
   "metadata": {},
   "outputs": [
    {
     "data": {
      "image/png": "[encoded data removed]",
      "text/plain": [
       "<Figure size 640x480 with 1 Axes>"
      ]
     },
     "metadata": {},
     "output_type": "display_data"
    }
   ],
   "source": [
    "ax = sns.barplot(x='month',\n",
    "                 y='minutes_mean',\n",
    "                 hue=\"tariff\",\n",
    "                 data=stats_df,\n",
    "                 palette=['lightblue', 'blue'])\n",
    "\n",
    "ax.set_title(\n",
    "    'Распределение продолжительности звонков по видам тарифов и месяцам')\n",
    "ax.set(xlabel='Номер месяца', ylabel='Средняя продолжительность звонков')"
   ]
  },
  {
   "cell_type": "markdown",
   "id": "d763782e",
   "metadata": {},
   "source": [
    "Почти всегда (за исключением февраля) средняя продолжительность разговоров больше у пользователей тарифа \"ultra\"."
   ]
  },
  {
   "cell_type": "markdown",
   "id": "3db0fa65",
   "metadata": {},
   "source": [
    "Рассмотрим распределение пользователей по каждому тарифу в зависимости от продолжительности разговора."
   ]
  },
  {
   "cell_type": "code",
   "execution_count": 49,
   "id": "a897e441",
   "metadata": {},
   "outputs": [
    {
     "data": {
      "image/png": "[encoded data removed]",
      "text/plain": [
       "<Figure size 640x480 with 1 Axes>"
      ]
     },
     "metadata": {},
     "output_type": "display_data"
    }
   ],
   "source": [
    "user_behavior.groupby('tariff')['minutes'].plot(\n",
    "    kind='hist', bins=35, alpha=0.5)\n",
    "plt.legend(['Smart', 'Ultra'])\n",
    "plt.xlabel('Количество минут')\n",
    "plt.ylabel('Количество клиентов')\n",
    "plt.title('Распределение клиентов по продолжительности разговора, мин.')\n",
    "plt.show()"
   ]
  },
  {
   "cell_type": "markdown",
   "id": "c4d9e503",
   "metadata": {},
   "source": [
    "Средняя длительность разговоров у абонентов тарифа \"ultra\" больше, чем у абонентов тарифа \"smart\". В течение года пользователи обоих тарифов увеличивают среднюю продолжительность своих разговоров. Рост средней длительности разговоров у абонентов тарифа \"smart\" равномерный в течение года. Пользователи тарифа \"ultra\" не проявляют подобной линейной стабильности. Стоит отметить, что феврале у абонентов обоих тарифных планов наблюдались самые низкие показатели."
   ]
  },
  {
   "cell_type": "markdown",
   "id": "85e0fa2c",
   "metadata": {},
   "source": [
    "## Распределение среднего количества сообщений по видам тарифов и месяцам"
   ]
  },
  {
   "cell_type": "code",
   "execution_count": 50,
   "id": "936e9b4f",
   "metadata": {},
   "outputs": [
    {
     "data": {
      "image/png": "[encoded data removed]",
      "text/plain": [
       "<Figure size 640x480 with 1 Axes>"
      ]
     },
     "metadata": {},
     "output_type": "display_data"
    }
   ],
   "source": [
    "ax = sns.barplot(x='month',\n",
    "                 y='messages_mean',\n",
    "                 hue=\"tariff\",\n",
    "                 data=stats_df,\n",
    "                 palette=['lightblue', 'blue']\n",
    "                 )\n",
    "\n",
    "ax.set_title('Распределение количества сообщений по видам тарифов и месяцам')\n",
    "ax.set(xlabel='Номер месяца', ylabel='Среднее количество сообщений')"
   ]
  },
  {
   "cell_type": "markdown",
   "id": "b6a3f3dd",
   "metadata": {},
   "source": [
    "Рассмотрим распределение пользователей по каждому тарифу в зависимости от количества сообщений."
   ]
  },
  {
   "cell_type": "code",
   "execution_count": 51,
   "id": "aeab19c6",
   "metadata": {},
   "outputs": [
    {
     "data": {
      "image/png": "[encoded data removed]",
      "text/plain": [
       "<Figure size 640x480 with 1 Axes>"
      ]
     },
     "metadata": {},
     "output_type": "display_data"
    }
   ],
   "source": [
    "user_behavior.groupby('tariff')['messages'].plot(\n",
    "    kind='hist', bins=35, alpha=0.5)\n",
    "plt.legend(['Smart', 'Ultra'])\n",
    "plt.xlabel('Количество сообщений')\n",
    "plt.ylabel('Количество клиентов')\n",
    "plt.title('Распределение клиентов по количеству сообщений')\n",
    "plt.show()"
   ]
  },
  {
   "cell_type": "markdown",
   "id": "cc81e059",
   "metadata": {},
   "source": [
    "В среднем количество сообщений пользователи тарифа \"ultra\" отправляют больше - почти на 20 сообщений больше, чем пользователи тарифа \"smart\". Количество сообщений в течение года на обоих тарифак растет. Динамика по отправке сообщений схожа с тенденциями по длительности разговоров: в феврале отмечено наименьшее количество сообщений за год и пользователи тарифа \"ultra\" также проявляют нелинейную положительную динамику."
   ]
  },
  {
   "cell_type": "markdown",
   "id": "c5963a3b",
   "metadata": {},
   "source": [
    "## Распределение потраченных мегабайт трафика по месяцам и тарифам"
   ]
  },
  {
   "cell_type": "code",
   "execution_count": 52,
   "id": "d8ad8913",
   "metadata": {},
   "outputs": [
    {
     "data": {
      "image/png": "[encoded data removed]",
      "text/plain": [
       "<Figure size 640x480 with 1 Axes>"
      ]
     },
     "metadata": {},
     "output_type": "display_data"
    }
   ],
   "source": [
    "ax = sns.barplot(x='month',\n",
    "                 y='sessions_mean',\n",
    "                 hue=\"tariff\",\n",
    "                 data=stats_df,\n",
    "                 palette=['lightblue', 'blue']\n",
    "                 )\n",
    "\n",
    "ax.set_title(\n",
    "    'Распределение количества потраченного трафика (Мб) по видам тарифов и месяцам')\n",
    "ax.set(xlabel='Номер месяца', ylabel='Среднее количество мегабайт')"
   ]
  },
  {
   "cell_type": "markdown",
   "id": "24209915",
   "metadata": {},
   "source": [
    "Сравним количество потраченных мегабайт среди пользоватлей двух тарифов."
   ]
  },
  {
   "cell_type": "code",
   "execution_count": 53,
   "id": "300d24db",
   "metadata": {},
   "outputs": [
    {
     "data": {
      "image/png": "[encoded data removed]",
      "text/plain": [
       "<Figure size 640x480 with 1 Axes>"
      ]
     },
     "metadata": {},
     "output_type": "display_data"
    }
   ],
   "source": [
    "user_behavior.groupby('tariff')['mb_used'].plot(\n",
    "    kind='hist', bins=35, alpha=0.5)\n",
    "plt.legend(['Smart', 'Ultra'])\n",
    "plt.xlabel('Количество потраченных мегабайт')\n",
    "plt.ylabel('Количество клиентов')\n",
    "plt.title('Распределение клиентов по количеству потраченных мегабайт')\n",
    "plt.show()"
   ]
  },
  {
   "cell_type": "markdown",
   "id": "135959ca",
   "metadata": {},
   "source": [
    "Меньше всего пользователи использовали интернет в январе, феврале и апреле. Чаще всего абоненты тарифа \"smart\" тратят 15-17 Гб, а абоненты тарифного плана \"ultra\" - 19-21 ГБ. Распределение по потребляемому трафику у пользователей \"ultra\" снова намного равномернее, правый \"хвост\" гораздо длиннее."
   ]
  },
  {
   "cell_type": "markdown",
   "id": "0f7161f7",
   "metadata": {},
   "source": [
    "# Проверка гипотез"
   ]
  },
  {
   "cell_type": "markdown",
   "id": "2009779e",
   "metadata": {},
   "source": [
    "## Гипотеза о равенстве средней выручки пользователей тарифов \"smart\" и \"ultra\""
   ]
  },
  {
   "cell_type": "markdown",
   "id": "06f78994",
   "metadata": {},
   "source": [
    "Сформулируем нулевую и альтернативную гипотезы:  \n",
    "```\n",
    "H_0: Выручка (total_cost) пользователей \"Ультра\" = выручка (total_cost) пользователей \"Смарт\"\n",
    "H_a: Выручка (total_cost) пользователей \"Ультра\" ≠ выручка (total_cost) пользователей \"Смарт\"\n",
    "```\n",
    "alpha = 0.05"
   ]
  },
  {
   "cell_type": "code",
   "execution_count": 54,
   "id": "89f46b53",
   "metadata": {},
   "outputs": [
    {
     "name": "stdout",
     "output_type": "stream",
     "text": [
      "4.2606313931076085e-250\n",
      "Отвергаем нулевую гипотезу\n"
     ]
    }
   ],
   "source": [
    "# results = вызов метода для проверки гипотезы\n",
    "results = st.ttest_ind(np.array(user_behavior[user_behavior['tariff'] == 'smart']['total_cost']),\n",
    "                       np.array(\n",
    "                           user_behavior[user_behavior['tariff'] == 'ultra']['total_cost']),\n",
    "                       equal_var=False)\n",
    "\n",
    "\n",
    "# alpha =  уровень значимости\n",
    "alpha = .05\n",
    "# вывод значения p-value на экран\n",
    "print(results.pvalue)\n",
    "# условный оператор с выводом строки с ответом\n",
    "if results.pvalue < alpha:\n",
    "    print('Отвергаем нулевую гипотезу')\n",
    "else:\n",
    "    print('Не получилось отвергнуть нулевую гипотезу')"
   ]
  },
  {
   "cell_type": "markdown",
   "id": "c1349902",
   "metadata": {},
   "source": [
    "Выручка у тарифов статистически различается."
   ]
  },
  {
   "cell_type": "markdown",
   "id": "496b5f54",
   "metadata": {},
   "source": [
    "## Гипотеза о равестве выручки от пользователей Москвы и других городов"
   ]
  },
  {
   "cell_type": "markdown",
   "id": "92f4be42",
   "metadata": {},
   "source": [
    "Сформулируем нулевую и альтернативную гипотезы:  \n",
    "```\n",
    "H_0: Выручка (total_cost) пользователей из Москвы = выручка (total_cost) пользователей не из Москвы`\n",
    "H_1: Выручка (total_cost) пользователей из Москвы ≠ выручка (total_cost) пользователей не из Москвы`\n",
    "```\n",
    "alpha = 0.05"
   ]
  },
  {
   "cell_type": "code",
   "execution_count": 55,
   "id": "60aef8c0",
   "metadata": {},
   "outputs": [
    {
     "name": "stdout",
     "output_type": "stream",
     "text": [
      "0.5989670526299271\n",
      "Не получилось отвергнуть нулевую гипотезу\n"
     ]
    }
   ],
   "source": [
    "# results = вызов метода для проверки гипотезы\n",
    "results = st.ttest_ind(user_behavior[user_behavior['city'] == 'Москва']['total_cost'],\n",
    "                       user_behavior[user_behavior['tariff']\n",
    "                                     != 'Москва']['total_cost'],\n",
    "                       equal_var=False)\n",
    "# alpha = уровень значимости\n",
    "alpha = 0.05\n",
    "# вывод значения p-value на экран\n",
    "print(results.pvalue)\n",
    "# условный оператор с выводом строки с ответом\n",
    "if results.pvalue < alpha:\n",
    "    print('Отвергаем нулевую гипотезу')\n",
    "else:\n",
    "    print('Не получилось отвергнуть нулевую гипотезу')"
   ]
  },
  {
   "cell_type": "markdown",
   "id": "3df10b56",
   "metadata": {},
   "source": [
    "Статистически пользователи из Москвы приносят столько же выручки сколько и пользователи других городов."
   ]
  },
  {
   "cell_type": "markdown",
   "id": "c8712efa",
   "metadata": {},
   "source": [
    "# Вывод"
   ]
  },
  {
   "cell_type": "markdown",
   "id": "8e0be20c",
   "metadata": {},
   "source": [
    "**Предобработка данных**  \n",
    "- Удален столбец \"Unnamed 0\" в таблице internet;  \n",
    "- Во всех таблицах изменен тип данных на DateTime там, где это было необходимо;  \n",
    "\n",
    "\n",
    "Аномальные значения отсутствуют в таблицах.\n",
    "\n",
    "**Исследовательский анализ данных**\n",
    "\n",
    "- Пользователи тарифа Ultra в подавляющем большинстве тратаят в среднем больше минут на разговор, чем пользователи тарифа Smart (400 минут в месяц в среднем против 200 минут). Так же пользователи тарифа Ultra совершают в среднем больше звонков. \n",
    "\n",
    "- Пользователи тарифа Ultra тратят в месяц больше мегабайт интернета, чем пользователи тарифа Smart.\n",
    "\n",
    "- Пользователи тарифа Ultra так же отправляют больше сообщений, чем пользователи тарифа Smart.\n",
    "\n",
    "- На протяжении всего года пользователи тарифа Ultra показывают положительную динамику по потреблению всех видов услуг их тарифного плана.  \n",
    "\n",
    "**Проверка гипотез**  \n",
    "\n",
    "Из проведенного выше анализа, пользователи тарифа Ultra принесли компании бОльшую выручку, чем пользователи тарифа Smart. Статистический анализ подтверждает различие в средних выручках тарифов.  \n",
    "\n",
    "Гипотеза о различии доходов от пользователей Москвы и пользователей из других регионов не подтвердилась.  \n",
    "\n",
    "Таким образом, тариф Ultra более выгодный для компании.  \n",
    "\n",
    "\n",
    "\n",
    "\n",
    "\n"
   ]
  }
 ],
 "metadata": {
  "kernelspec": {
   "display_name": "Python 3 (ipykernel)",
   "language": "python",
   "name": "python3"
  },
  "language_info": {
   "codemirror_mode": {
    "name": "ipython",
    "version": 3
   },
   "file_extension": ".py",
   "mimetype": "text/x-python",
   "name": "python",
   "nbconvert_exporter": "python",
   "pygments_lexer": "ipython3",
   "version": "3.9.13"
  },
  "toc": {
   "base_numbering": 1,
   "nav_menu": {},
   "number_sections": true,
   "sideBar": true,
   "skip_h1_title": false,
   "title_cell": "Содержание",
   "title_sidebar": "Contents",
   "toc_cell": true,
   "toc_position": {
    "height": "calc(100% - 180px)",
    "left": "10px",
    "top": "150px",
    "width": "153.438px"
   },
   "toc_section_display": true,
   "toc_window_display": true
  }
 },
 "nbformat": 4,
 "nbformat_minor": 5
}
