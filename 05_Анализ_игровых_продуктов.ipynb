{
 "cells": [
  {
   "cell_type": "markdown",
   "id": "9ff1166a",
   "metadata": {
    "toc": true
   },
   "source": [
    "<h1>Содержание<span class=\"tocSkip\"></span></h1>\n",
    "<div class=\"toc\"><ul class=\"toc-item\"><li><span><a href=\"#Краткое-описание-проекта\" data-toc-modified-id=\"Краткое-описание-проекта-1\"><span class=\"toc-item-num\">1&nbsp;&nbsp;</span>Краткое описание проекта</a></span></li><li><span><a href=\"#Описание-данных\" data-toc-modified-id=\"Описание-данных-2\"><span class=\"toc-item-num\">2&nbsp;&nbsp;</span>Описание данных</a></span><ul class=\"toc-item\"><li><span><a href=\"#Откроем-файл-с-данными-и-изучим-общую-информацию\" data-toc-modified-id=\"Откроем-файл-с-данными-и-изучим-общую-информацию-2.1\"><span class=\"toc-item-num\">2.1&nbsp;&nbsp;</span>Откроем файл с данными и изучим общую информацию</a></span></li><li><span><a href=\"#Подготовим-данные\" data-toc-modified-id=\"Подготовим-данные-2.2\"><span class=\"toc-item-num\">2.2&nbsp;&nbsp;</span>Подготовим данные</a></span><ul class=\"toc-item\"><li><span><a href=\"#Приведем-к-нижнему-регистру-названия-столбцов\" data-toc-modified-id=\"Приведем-к-нижнему-регистру-названия-столбцов-2.2.1\"><span class=\"toc-item-num\">2.2.1&nbsp;&nbsp;</span>Приведем к нижнему регистру названия столбцов</a></span></li><li><span><a href=\"#Обработаем-пропуски\" data-toc-modified-id=\"Обработаем-пропуски-2.2.2\"><span class=\"toc-item-num\">2.2.2&nbsp;&nbsp;</span>Обработаем пропуски</a></span></li><li><span><a href=\"#Преобразуем-данные-в-нужные-типы\" data-toc-modified-id=\"Преобразуем-данные-в-нужные-типы-2.2.3\"><span class=\"toc-item-num\">2.2.3&nbsp;&nbsp;</span>Преобразуем данные в нужные типы</a></span></li><li><span><a href=\"#Добавим-столбец-с-суммарными-продажами-свех-регионов\" data-toc-modified-id=\"Добавим-столбец-с-суммарными-продажами-свех-регионов-2.2.4\"><span class=\"toc-item-num\">2.2.4&nbsp;&nbsp;</span>Добавим столбец с суммарными продажами свех регионов</a></span></li><li><span><a href=\"#Промежуточные-выводы-по-подготовке-данных\" data-toc-modified-id=\"Промежуточные-выводы-по-подготовке-данных-2.2.5\"><span class=\"toc-item-num\">2.2.5&nbsp;&nbsp;</span>Промежуточные выводы по подготовке данных</a></span></li></ul></li><li><span><a href=\"#Исследовательский-анализ-данных\" data-toc-modified-id=\"Исследовательский-анализ-данных-2.3\"><span class=\"toc-item-num\">2.3&nbsp;&nbsp;</span>Исследовательский анализ данных</a></span><ul class=\"toc-item\"><li><span><a href=\"#Посмотрим-сколько-игр-выпускалось-в-разные-годы\" data-toc-modified-id=\"Посмотрим-сколько-игр-выпускалось-в-разные-годы-2.3.1\"><span class=\"toc-item-num\">2.3.1&nbsp;&nbsp;</span>Посмотрим сколько игр выпускалось в разные годы</a></span></li><li><span><a href=\"#Посмотрим-как-менялись-продажи-по-платформам.\" data-toc-modified-id=\"Посмотрим-как-менялись-продажи-по-платформам.-2.3.2\"><span class=\"toc-item-num\">2.3.2&nbsp;&nbsp;</span>Посмотрим как менялись продажи по платформам.</a></span></li><li><span><a href=\"#Выберем-актуальный-период\" data-toc-modified-id=\"Выберем-актуальный-период-2.3.3\"><span class=\"toc-item-num\">2.3.3&nbsp;&nbsp;</span>Выберем актуальный период</a></span></li><li><span><a href=\"#Выберем-несколько-потенциально-прибыльных-плафторм.\" data-toc-modified-id=\"Выберем-несколько-потенциально-прибыльных-плафторм.-2.3.4\"><span class=\"toc-item-num\">2.3.4&nbsp;&nbsp;</span>Выберем несколько потенциально прибыльных плафторм.</a></span></li><li><span><a href=\"#Построим-ящики-с-усами-для-перспективных-платформ\" data-toc-modified-id=\"Построим-ящики-с-усами-для-перспективных-платформ-2.3.5\"><span class=\"toc-item-num\">2.3.5&nbsp;&nbsp;</span>Построим ящики с усами для перспективных платформ</a></span></li><li><span><a href=\"#Проверим-как-влияют-отзывы-пользователей-и-критиков-на-продажи-для-популярных-платформ\" data-toc-modified-id=\"Проверим-как-влияют-отзывы-пользователей-и-критиков-на-продажи-для-популярных-платформ-2.3.6\"><span class=\"toc-item-num\">2.3.6&nbsp;&nbsp;</span>Проверим как влияют отзывы пользователей и критиков на продажи для популярных платформ</a></span></li><li><span><a href=\"#Посмотрим-на-общее-распределение-игр-по-жанрам\" data-toc-modified-id=\"Посмотрим-на-общее-распределение-игр-по-жанрам-2.3.7\"><span class=\"toc-item-num\">2.3.7&nbsp;&nbsp;</span>Посмотрим на общее распределение игр по жанрам</a></span></li></ul></li><li><span><a href=\"#Составим-портрет-пользователя-каждого-региона\" data-toc-modified-id=\"Составим-портрет-пользователя-каждого-региона-2.4\"><span class=\"toc-item-num\">2.4&nbsp;&nbsp;</span>Составим портрет пользователя каждого региона</a></span><ul class=\"toc-item\"><li><span><a href=\"#Выделим-Топ-5-самых-популярных-платформ-для-каждого-региона\" data-toc-modified-id=\"Выделим-Топ-5-самых-популярных-платформ-для-каждого-региона-2.4.1\"><span class=\"toc-item-num\">2.4.1&nbsp;&nbsp;</span>Выделим Топ-5 самых популярных платформ для каждого региона</a></span></li><li><span><a href=\"#Выделим-Топ-5-самых-популярных-жанров-для-каждого-региона\" data-toc-modified-id=\"Выделим-Топ-5-самых-популярных-жанров-для-каждого-региона-2.4.2\"><span class=\"toc-item-num\">2.4.2&nbsp;&nbsp;</span>Выделим Топ-5 самых популярных жанров для каждого региона</a></span></li><li><span><a href=\"#Выясним:-влияет-ли-рейтинг-ESRB-на-продажи-в-отдельном-регионе?\" data-toc-modified-id=\"Выясним:-влияет-ли-рейтинг-ESRB-на-продажи-в-отдельном-регионе?-2.4.3\"><span class=\"toc-item-num\">2.4.3&nbsp;&nbsp;</span>Выясним: влияет ли рейтинг ESRB на продажи в отдельном регионе?</a></span></li></ul></li><li><span><a href=\"#Проверка-гипотез\" data-toc-modified-id=\"Проверка-гипотез-2.5\"><span class=\"toc-item-num\">2.5&nbsp;&nbsp;</span>Проверка гипотез</a></span><ul class=\"toc-item\"><li><span><a href=\"#Проверим,-что-средние-пользовательские-рейтинги-платформ-Xbox-One-и-PC-одинаковые\" data-toc-modified-id=\"Проверим,-что-средние-пользовательские-рейтинги-платформ-Xbox-One-и-PC-одинаковые-2.5.1\"><span class=\"toc-item-num\">2.5.1&nbsp;&nbsp;</span>Проверим, что средние пользовательские рейтинги платформ Xbox One и PC одинаковые</a></span></li><li><span><a href=\"#Проверим,-что-средние-пользовательские-рейтинги-жанров-Action-и-Sports-разные.\" data-toc-modified-id=\"Проверим,-что-средние-пользовательские-рейтинги-жанров-Action-и-Sports-разные.-2.5.2\"><span class=\"toc-item-num\">2.5.2&nbsp;&nbsp;</span>Проверим, что средние пользовательские рейтинги жанров Action и Sports разные.</a></span></li></ul></li><li><span><a href=\"#Вывод\" data-toc-modified-id=\"Вывод-2.6\"><span class=\"toc-item-num\">2.6&nbsp;&nbsp;</span>Вывод</a></span></li></ul></li></ul></div>"
   ]
  },
  {
   "cell_type": "markdown",
   "id": "78f18e88",
   "metadata": {},
   "source": [
    "# Краткое описание проекта"
   ]
  },
  {
   "cell_type": "markdown",
   "id": "65dd0601",
   "metadata": {},
   "source": [
    "Из открытых источников нам доступны исторические данные о продажах игр, оценки пользователей и экспертов, жанры и платформы. Перед нами данные о продаже игр до 2016 года. Представим, что сейчас декабрь 2016 г., и мы планируем кампанию на 2017-й. Нужно отработать принцип работы с данными.  \n",
    "\n",
    "**Цель исследования** - выявить определяющие успешность игры закономерности. Основываясь на эти закономерности, определить потенциально популярный продукт в 2017 году, чтобы сделать упор на его продажи. Сформулировать и проверить несколько гипотез относительно пользовательских рейтингов для двух популярных платформ и жанров.\n",
    "\n",
    "**Ход работ:**\n",
    "1. Ознакомление с данными.\n",
    "2. Подготовка данных.\n",
    "3. Исследовательский анализ, визуализация результатов.\n",
    "4. Вывод."
   ]
  },
  {
   "cell_type": "markdown",
   "id": "c6292f38",
   "metadata": {},
   "source": [
    "# Описание данных"
   ]
  },
  {
   "cell_type": "markdown",
   "id": "e25594ca",
   "metadata": {},
   "source": [
    "\n",
    "**Name**  — название игры  \n",
    "**Platform**  — платформа  \n",
    "**Year_of_Release**  — год выпуска  \n",
    "**Genre**  — жанр игры  \n",
    "**NA_sales**  — продажи в Северной Америке (миллионы проданных копий)  \n",
    "**EU_sales**  — продажи в Европе (миллионы проданных копий)  \n",
    "**JP_sales**  — продажи в Японии (миллионы проданных копий)  \n",
    "**Other_sales**  — продажи в других странах (миллионы проданных копий)  \n",
    "**Critic_Score**  — оценка критиков (максимум 100)  \n",
    "**User_Score**  — оценка пользователей (максимум 10)  \n",
    "**Rating**  — рейтинг от организации ESRB (англ. Entertainment Software Rating Board). Эта ассоциация определяет рейтинг компьютерных игр и присваивает им подходящую возрастную категорию."
   ]
  },
  {
   "cell_type": "markdown",
   "id": "46122ad5",
   "metadata": {},
   "source": [
    "## Откроем файл с данными и изучим общую информацию"
   ]
  },
  {
   "cell_type": "code",
   "execution_count": 56,
   "id": "661b8931",
   "metadata": {},
   "outputs": [],
   "source": [
    "import pandas as pd\n",
    "import numpy as np\n",
    "import matplotlib.pyplot as plt\n",
    "import seaborn as sns\n",
    "from scipy import stats as st\n",
    "import datetime as dt\n",
    "import warnings\n",
    "warnings.filterwarnings(\"ignore\")"
   ]
  },
  {
   "cell_type": "code",
   "execution_count": 57,
   "id": "854a63a3",
   "metadata": {},
   "outputs": [],
   "source": [
    "df = pd.read_csv(\n",
    "    r'C:\\Users\\Dell Inspirion 15 #1\\JyputerRoot\\Проекты по Практикуму\\Обработанные проекты\\Datasets\\games.csv')"
   ]
  },
  {
   "cell_type": "code",
   "execution_count": 58,
   "id": "8b3f3ec2",
   "metadata": {},
   "outputs": [
    {
     "data": {
      "text/html": [
       "<div>\n",
       "<style scoped>\n",
       "    .dataframe tbody tr th:only-of-type {\n",
       "        vertical-align: middle;\n",
       "    }\n",
       "\n",
       "    .dataframe tbody tr th {\n",
       "        vertical-align: top;\n",
       "    }\n",
       "\n",
       "    .dataframe thead th {\n",
       "        text-align: right;\n",
       "    }\n",
       "</style>\n",
       "<table border=\"1\" class=\"dataframe\">\n",
       "  <thead>\n",
       "    <tr style=\"text-align: right;\">\n",
       "      <th></th>\n",
       "      <th>Name</th>\n",
       "      <th>Platform</th>\n",
       "      <th>Year_of_Release</th>\n",
       "      <th>Genre</th>\n",
       "      <th>NA_sales</th>\n",
       "      <th>EU_sales</th>\n",
       "      <th>JP_sales</th>\n",
       "      <th>Other_sales</th>\n",
       "      <th>Critic_Score</th>\n",
       "      <th>User_Score</th>\n",
       "      <th>Rating</th>\n",
       "    </tr>\n",
       "  </thead>\n",
       "  <tbody>\n",
       "    <tr>\n",
       "      <th>0</th>\n",
       "      <td>Wii Sports</td>\n",
       "      <td>Wii</td>\n",
       "      <td>2006.0</td>\n",
       "      <td>Sports</td>\n",
       "      <td>41.36</td>\n",
       "      <td>28.96</td>\n",
       "      <td>3.77</td>\n",
       "      <td>8.45</td>\n",
       "      <td>76.0</td>\n",
       "      <td>8</td>\n",
       "      <td>E</td>\n",
       "    </tr>\n",
       "    <tr>\n",
       "      <th>1</th>\n",
       "      <td>Super Mario Bros.</td>\n",
       "      <td>NES</td>\n",
       "      <td>1985.0</td>\n",
       "      <td>Platform</td>\n",
       "      <td>29.08</td>\n",
       "      <td>3.58</td>\n",
       "      <td>6.81</td>\n",
       "      <td>0.77</td>\n",
       "      <td>NaN</td>\n",
       "      <td>NaN</td>\n",
       "      <td>NaN</td>\n",
       "    </tr>\n",
       "    <tr>\n",
       "      <th>2</th>\n",
       "      <td>Mario Kart Wii</td>\n",
       "      <td>Wii</td>\n",
       "      <td>2008.0</td>\n",
       "      <td>Racing</td>\n",
       "      <td>15.68</td>\n",
       "      <td>12.76</td>\n",
       "      <td>3.79</td>\n",
       "      <td>3.29</td>\n",
       "      <td>82.0</td>\n",
       "      <td>8.3</td>\n",
       "      <td>E</td>\n",
       "    </tr>\n",
       "    <tr>\n",
       "      <th>3</th>\n",
       "      <td>Wii Sports Resort</td>\n",
       "      <td>Wii</td>\n",
       "      <td>2009.0</td>\n",
       "      <td>Sports</td>\n",
       "      <td>15.61</td>\n",
       "      <td>10.93</td>\n",
       "      <td>3.28</td>\n",
       "      <td>2.95</td>\n",
       "      <td>80.0</td>\n",
       "      <td>8</td>\n",
       "      <td>E</td>\n",
       "    </tr>\n",
       "    <tr>\n",
       "      <th>4</th>\n",
       "      <td>Pokemon Red/Pokemon Blue</td>\n",
       "      <td>GB</td>\n",
       "      <td>1996.0</td>\n",
       "      <td>Role-Playing</td>\n",
       "      <td>11.27</td>\n",
       "      <td>8.89</td>\n",
       "      <td>10.22</td>\n",
       "      <td>1.00</td>\n",
       "      <td>NaN</td>\n",
       "      <td>NaN</td>\n",
       "      <td>NaN</td>\n",
       "    </tr>\n",
       "    <tr>\n",
       "      <th>5</th>\n",
       "      <td>Tetris</td>\n",
       "      <td>GB</td>\n",
       "      <td>1989.0</td>\n",
       "      <td>Puzzle</td>\n",
       "      <td>23.20</td>\n",
       "      <td>2.26</td>\n",
       "      <td>4.22</td>\n",
       "      <td>0.58</td>\n",
       "      <td>NaN</td>\n",
       "      <td>NaN</td>\n",
       "      <td>NaN</td>\n",
       "    </tr>\n",
       "    <tr>\n",
       "      <th>6</th>\n",
       "      <td>New Super Mario Bros.</td>\n",
       "      <td>DS</td>\n",
       "      <td>2006.0</td>\n",
       "      <td>Platform</td>\n",
       "      <td>11.28</td>\n",
       "      <td>9.14</td>\n",
       "      <td>6.50</td>\n",
       "      <td>2.88</td>\n",
       "      <td>89.0</td>\n",
       "      <td>8.5</td>\n",
       "      <td>E</td>\n",
       "    </tr>\n",
       "    <tr>\n",
       "      <th>7</th>\n",
       "      <td>Wii Play</td>\n",
       "      <td>Wii</td>\n",
       "      <td>2006.0</td>\n",
       "      <td>Misc</td>\n",
       "      <td>13.96</td>\n",
       "      <td>9.18</td>\n",
       "      <td>2.93</td>\n",
       "      <td>2.84</td>\n",
       "      <td>58.0</td>\n",
       "      <td>6.6</td>\n",
       "      <td>E</td>\n",
       "    </tr>\n",
       "    <tr>\n",
       "      <th>8</th>\n",
       "      <td>New Super Mario Bros. Wii</td>\n",
       "      <td>Wii</td>\n",
       "      <td>2009.0</td>\n",
       "      <td>Platform</td>\n",
       "      <td>14.44</td>\n",
       "      <td>6.94</td>\n",
       "      <td>4.70</td>\n",
       "      <td>2.24</td>\n",
       "      <td>87.0</td>\n",
       "      <td>8.4</td>\n",
       "      <td>E</td>\n",
       "    </tr>\n",
       "    <tr>\n",
       "      <th>9</th>\n",
       "      <td>Duck Hunt</td>\n",
       "      <td>NES</td>\n",
       "      <td>1984.0</td>\n",
       "      <td>Shooter</td>\n",
       "      <td>26.93</td>\n",
       "      <td>0.63</td>\n",
       "      <td>0.28</td>\n",
       "      <td>0.47</td>\n",
       "      <td>NaN</td>\n",
       "      <td>NaN</td>\n",
       "      <td>NaN</td>\n",
       "    </tr>\n",
       "  </tbody>\n",
       "</table>\n",
       "</div>"
      ],
      "text/plain": [
       "                        Name Platform  Year_of_Release         Genre  \\\n",
       "0                 Wii Sports      Wii           2006.0        Sports   \n",
       "1          Super Mario Bros.      NES           1985.0      Platform   \n",
       "2             Mario Kart Wii      Wii           2008.0        Racing   \n",
       "3          Wii Sports Resort      Wii           2009.0        Sports   \n",
       "4   Pokemon Red/Pokemon Blue       GB           1996.0  Role-Playing   \n",
       "5                     Tetris       GB           1989.0        Puzzle   \n",
       "6      New Super Mario Bros.       DS           2006.0      Platform   \n",
       "7                   Wii Play      Wii           2006.0          Misc   \n",
       "8  New Super Mario Bros. Wii      Wii           2009.0      Platform   \n",
       "9                  Duck Hunt      NES           1984.0       Shooter   \n",
       "\n",
       "   NA_sales  EU_sales  JP_sales  Other_sales  Critic_Score User_Score Rating  \n",
       "0     41.36     28.96      3.77         8.45          76.0          8      E  \n",
       "1     29.08      3.58      6.81         0.77           NaN        NaN    NaN  \n",
       "2     15.68     12.76      3.79         3.29          82.0        8.3      E  \n",
       "3     15.61     10.93      3.28         2.95          80.0          8      E  \n",
       "4     11.27      8.89     10.22         1.00           NaN        NaN    NaN  \n",
       "5     23.20      2.26      4.22         0.58           NaN        NaN    NaN  \n",
       "6     11.28      9.14      6.50         2.88          89.0        8.5      E  \n",
       "7     13.96      9.18      2.93         2.84          58.0        6.6      E  \n",
       "8     14.44      6.94      4.70         2.24          87.0        8.4      E  \n",
       "9     26.93      0.63      0.28         0.47           NaN        NaN    NaN  "
      ]
     },
     "execution_count": 58,
     "metadata": {},
     "output_type": "execute_result"
    }
   ],
   "source": [
    "df.head(10)"
   ]
  },
  {
   "cell_type": "code",
   "execution_count": 59,
   "id": "3ef9ec04",
   "metadata": {},
   "outputs": [
    {
     "data": {
      "text/html": [
       "<div>\n",
       "<style scoped>\n",
       "    .dataframe tbody tr th:only-of-type {\n",
       "        vertical-align: middle;\n",
       "    }\n",
       "\n",
       "    .dataframe tbody tr th {\n",
       "        vertical-align: top;\n",
       "    }\n",
       "\n",
       "    .dataframe thead th {\n",
       "        text-align: right;\n",
       "    }\n",
       "</style>\n",
       "<table border=\"1\" class=\"dataframe\">\n",
       "  <thead>\n",
       "    <tr style=\"text-align: right;\">\n",
       "      <th></th>\n",
       "      <th>count</th>\n",
       "      <th>mean</th>\n",
       "      <th>std</th>\n",
       "      <th>min</th>\n",
       "      <th>25%</th>\n",
       "      <th>50%</th>\n",
       "      <th>75%</th>\n",
       "      <th>max</th>\n",
       "    </tr>\n",
       "  </thead>\n",
       "  <tbody>\n",
       "    <tr>\n",
       "      <th>Year_of_Release</th>\n",
       "      <td>16446.0</td>\n",
       "      <td>2006.484616</td>\n",
       "      <td>5.877050</td>\n",
       "      <td>1980.0</td>\n",
       "      <td>2003.0</td>\n",
       "      <td>2007.00</td>\n",
       "      <td>2010.00</td>\n",
       "      <td>2016.00</td>\n",
       "    </tr>\n",
       "    <tr>\n",
       "      <th>NA_sales</th>\n",
       "      <td>16715.0</td>\n",
       "      <td>0.263377</td>\n",
       "      <td>0.813604</td>\n",
       "      <td>0.0</td>\n",
       "      <td>0.0</td>\n",
       "      <td>0.08</td>\n",
       "      <td>0.24</td>\n",
       "      <td>41.36</td>\n",
       "    </tr>\n",
       "    <tr>\n",
       "      <th>EU_sales</th>\n",
       "      <td>16715.0</td>\n",
       "      <td>0.145060</td>\n",
       "      <td>0.503339</td>\n",
       "      <td>0.0</td>\n",
       "      <td>0.0</td>\n",
       "      <td>0.02</td>\n",
       "      <td>0.11</td>\n",
       "      <td>28.96</td>\n",
       "    </tr>\n",
       "    <tr>\n",
       "      <th>JP_sales</th>\n",
       "      <td>16715.0</td>\n",
       "      <td>0.077617</td>\n",
       "      <td>0.308853</td>\n",
       "      <td>0.0</td>\n",
       "      <td>0.0</td>\n",
       "      <td>0.00</td>\n",
       "      <td>0.04</td>\n",
       "      <td>10.22</td>\n",
       "    </tr>\n",
       "    <tr>\n",
       "      <th>Other_sales</th>\n",
       "      <td>16715.0</td>\n",
       "      <td>0.047342</td>\n",
       "      <td>0.186731</td>\n",
       "      <td>0.0</td>\n",
       "      <td>0.0</td>\n",
       "      <td>0.01</td>\n",
       "      <td>0.03</td>\n",
       "      <td>10.57</td>\n",
       "    </tr>\n",
       "    <tr>\n",
       "      <th>Critic_Score</th>\n",
       "      <td>8137.0</td>\n",
       "      <td>68.967679</td>\n",
       "      <td>13.938165</td>\n",
       "      <td>13.0</td>\n",
       "      <td>60.0</td>\n",
       "      <td>71.00</td>\n",
       "      <td>79.00</td>\n",
       "      <td>98.00</td>\n",
       "    </tr>\n",
       "  </tbody>\n",
       "</table>\n",
       "</div>"
      ],
      "text/plain": [
       "                   count         mean        std     min     25%      50%  \\\n",
       "Year_of_Release  16446.0  2006.484616   5.877050  1980.0  2003.0  2007.00   \n",
       "NA_sales         16715.0     0.263377   0.813604     0.0     0.0     0.08   \n",
       "EU_sales         16715.0     0.145060   0.503339     0.0     0.0     0.02   \n",
       "JP_sales         16715.0     0.077617   0.308853     0.0     0.0     0.00   \n",
       "Other_sales      16715.0     0.047342   0.186731     0.0     0.0     0.01   \n",
       "Critic_Score      8137.0    68.967679  13.938165    13.0    60.0    71.00   \n",
       "\n",
       "                     75%      max  \n",
       "Year_of_Release  2010.00  2016.00  \n",
       "NA_sales            0.24    41.36  \n",
       "EU_sales            0.11    28.96  \n",
       "JP_sales            0.04    10.22  \n",
       "Other_sales         0.03    10.57  \n",
       "Critic_Score       79.00    98.00  "
      ]
     },
     "execution_count": 59,
     "metadata": {},
     "output_type": "execute_result"
    }
   ],
   "source": [
    "df.describe().transpose()"
   ]
  },
  {
   "cell_type": "code",
   "execution_count": 60,
   "id": "b1fc0b5d",
   "metadata": {},
   "outputs": [
    {
     "data": {
      "text/html": [
       "<div>\n",
       "<style scoped>\n",
       "    .dataframe tbody tr th:only-of-type {\n",
       "        vertical-align: middle;\n",
       "    }\n",
       "\n",
       "    .dataframe tbody tr th {\n",
       "        vertical-align: top;\n",
       "    }\n",
       "\n",
       "    .dataframe thead th {\n",
       "        text-align: right;\n",
       "    }\n",
       "</style>\n",
       "<table border=\"1\" class=\"dataframe\">\n",
       "  <thead>\n",
       "    <tr style=\"text-align: right;\">\n",
       "      <th></th>\n",
       "      <th>Name</th>\n",
       "      <th>Platform</th>\n",
       "      <th>Year_of_Release</th>\n",
       "      <th>Genre</th>\n",
       "      <th>NA_sales</th>\n",
       "      <th>EU_sales</th>\n",
       "      <th>JP_sales</th>\n",
       "      <th>Other_sales</th>\n",
       "      <th>Critic_Score</th>\n",
       "      <th>User_Score</th>\n",
       "      <th>Rating</th>\n",
       "    </tr>\n",
       "  </thead>\n",
       "  <tbody>\n",
       "  </tbody>\n",
       "</table>\n",
       "</div>"
      ],
      "text/plain": [
       "Empty DataFrame\n",
       "Columns: [Name, Platform, Year_of_Release, Genre, NA_sales, EU_sales, JP_sales, Other_sales, Critic_Score, User_Score, Rating]\n",
       "Index: []"
      ]
     },
     "execution_count": 60,
     "metadata": {},
     "output_type": "execute_result"
    }
   ],
   "source": [
    "df[df.duplicated()]"
   ]
  },
  {
   "cell_type": "code",
   "execution_count": 61,
   "id": "d363b801",
   "metadata": {},
   "outputs": [
    {
     "name": "stdout",
     "output_type": "stream",
     "text": [
      "<class 'pandas.core.frame.DataFrame'>\n",
      "RangeIndex: 16715 entries, 0 to 16714\n",
      "Data columns (total 11 columns):\n",
      " #   Column           Non-Null Count  Dtype  \n",
      "---  ------           --------------  -----  \n",
      " 0   Name             16713 non-null  object \n",
      " 1   Platform         16715 non-null  object \n",
      " 2   Year_of_Release  16446 non-null  float64\n",
      " 3   Genre            16713 non-null  object \n",
      " 4   NA_sales         16715 non-null  float64\n",
      " 5   EU_sales         16715 non-null  float64\n",
      " 6   JP_sales         16715 non-null  float64\n",
      " 7   Other_sales      16715 non-null  float64\n",
      " 8   Critic_Score     8137 non-null   float64\n",
      " 9   User_Score       10014 non-null  object \n",
      " 10  Rating           9949 non-null   object \n",
      "dtypes: float64(6), object(5)\n",
      "memory usage: 1.4+ MB\n"
     ]
    }
   ],
   "source": [
    "df.info()"
   ]
  },
  {
   "cell_type": "code",
   "execution_count": 62,
   "id": "2725d266",
   "metadata": {},
   "outputs": [
    {
     "data": {
      "text/plain": [
       "(16715, 11)"
      ]
     },
     "execution_count": 62,
     "metadata": {},
     "output_type": "execute_result"
    }
   ],
   "source": [
    "df.shape"
   ]
  },
  {
   "cell_type": "markdown",
   "id": "08146cc3",
   "metadata": {},
   "source": [
    "Предоставленный датафрейм состоит из 16715 строк и 11 столбцов.  \n",
    "Более чем в половине столбцов содержатся пропуски.\n",
    "В датафрейме значения представвлены двумя типами данных: *float64*, *object*.  \n",
    "Явных дубликатов нет."
   ]
  },
  {
   "cell_type": "markdown",
   "id": "dcd2ddbc",
   "metadata": {},
   "source": [
    "## Подготовим данные"
   ]
  },
  {
   "cell_type": "markdown",
   "id": "ce627a2c",
   "metadata": {},
   "source": [
    "### Приведем к нижнему регистру названия столбцов"
   ]
  },
  {
   "cell_type": "code",
   "execution_count": 63,
   "id": "868aa620",
   "metadata": {},
   "outputs": [
    {
     "data": {
      "text/plain": [
       "Index(['name', 'platform', 'year_of_release', 'genre', 'na_sales', 'eu_sales',\n",
       "       'jp_sales', 'other_sales', 'critic_score', 'user_score', 'rating'],\n",
       "      dtype='object')"
      ]
     },
     "execution_count": 63,
     "metadata": {},
     "output_type": "execute_result"
    }
   ],
   "source": [
    "df.columns = df.columns.str.lower()\n",
    "df.columns"
   ]
  },
  {
   "cell_type": "markdown",
   "id": "23c3f187",
   "metadata": {},
   "source": [
    "### Обработаем пропуски"
   ]
  },
  {
   "cell_type": "markdown",
   "id": "b747069c",
   "metadata": {},
   "source": [
    "Удалим две пустые строки в `name`, так как без назвния игры данные бесполезны. Тем более, в данных строках нет никаких данных."
   ]
  },
  {
   "cell_type": "code",
   "execution_count": 64,
   "id": "7c62b43d",
   "metadata": {},
   "outputs": [
    {
     "data": {
      "text/html": [
       "<div>\n",
       "<style scoped>\n",
       "    .dataframe tbody tr th:only-of-type {\n",
       "        vertical-align: middle;\n",
       "    }\n",
       "\n",
       "    .dataframe tbody tr th {\n",
       "        vertical-align: top;\n",
       "    }\n",
       "\n",
       "    .dataframe thead th {\n",
       "        text-align: right;\n",
       "    }\n",
       "</style>\n",
       "<table border=\"1\" class=\"dataframe\">\n",
       "  <thead>\n",
       "    <tr style=\"text-align: right;\">\n",
       "      <th></th>\n",
       "      <th>name</th>\n",
       "      <th>platform</th>\n",
       "      <th>year_of_release</th>\n",
       "      <th>genre</th>\n",
       "      <th>na_sales</th>\n",
       "      <th>eu_sales</th>\n",
       "      <th>jp_sales</th>\n",
       "      <th>other_sales</th>\n",
       "      <th>critic_score</th>\n",
       "      <th>user_score</th>\n",
       "      <th>rating</th>\n",
       "    </tr>\n",
       "  </thead>\n",
       "  <tbody>\n",
       "    <tr>\n",
       "      <th>659</th>\n",
       "      <td>NaN</td>\n",
       "      <td>GEN</td>\n",
       "      <td>1993.0</td>\n",
       "      <td>NaN</td>\n",
       "      <td>1.78</td>\n",
       "      <td>0.53</td>\n",
       "      <td>0.00</td>\n",
       "      <td>0.08</td>\n",
       "      <td>NaN</td>\n",
       "      <td>NaN</td>\n",
       "      <td>NaN</td>\n",
       "    </tr>\n",
       "    <tr>\n",
       "      <th>14244</th>\n",
       "      <td>NaN</td>\n",
       "      <td>GEN</td>\n",
       "      <td>1993.0</td>\n",
       "      <td>NaN</td>\n",
       "      <td>0.00</td>\n",
       "      <td>0.00</td>\n",
       "      <td>0.03</td>\n",
       "      <td>0.00</td>\n",
       "      <td>NaN</td>\n",
       "      <td>NaN</td>\n",
       "      <td>NaN</td>\n",
       "    </tr>\n",
       "  </tbody>\n",
       "</table>\n",
       "</div>"
      ],
      "text/plain": [
       "      name platform  year_of_release genre  na_sales  eu_sales  jp_sales  \\\n",
       "659    NaN      GEN           1993.0   NaN      1.78      0.53      0.00   \n",
       "14244  NaN      GEN           1993.0   NaN      0.00      0.00      0.03   \n",
       "\n",
       "       other_sales  critic_score user_score rating  \n",
       "659           0.08           NaN        NaN    NaN  \n",
       "14244         0.00           NaN        NaN    NaN  "
      ]
     },
     "execution_count": 64,
     "metadata": {},
     "output_type": "execute_result"
    }
   ],
   "source": [
    "df[df['name'].isna()]"
   ]
  },
  {
   "cell_type": "code",
   "execution_count": 65,
   "id": "597cf1b1",
   "metadata": {},
   "outputs": [
    {
     "data": {
      "text/html": [
       "<div>\n",
       "<style scoped>\n",
       "    .dataframe tbody tr th:only-of-type {\n",
       "        vertical-align: middle;\n",
       "    }\n",
       "\n",
       "    .dataframe tbody tr th {\n",
       "        vertical-align: top;\n",
       "    }\n",
       "\n",
       "    .dataframe thead th {\n",
       "        text-align: right;\n",
       "    }\n",
       "</style>\n",
       "<table border=\"1\" class=\"dataframe\">\n",
       "  <thead>\n",
       "    <tr style=\"text-align: right;\">\n",
       "      <th></th>\n",
       "      <th>name</th>\n",
       "      <th>platform</th>\n",
       "      <th>year_of_release</th>\n",
       "      <th>genre</th>\n",
       "      <th>na_sales</th>\n",
       "      <th>eu_sales</th>\n",
       "      <th>jp_sales</th>\n",
       "      <th>other_sales</th>\n",
       "      <th>critic_score</th>\n",
       "      <th>user_score</th>\n",
       "      <th>rating</th>\n",
       "    </tr>\n",
       "  </thead>\n",
       "  <tbody>\n",
       "  </tbody>\n",
       "</table>\n",
       "</div>"
      ],
      "text/plain": [
       "Empty DataFrame\n",
       "Columns: [name, platform, year_of_release, genre, na_sales, eu_sales, jp_sales, other_sales, critic_score, user_score, rating]\n",
       "Index: []"
      ]
     },
     "execution_count": 65,
     "metadata": {},
     "output_type": "execute_result"
    }
   ],
   "source": [
    "df.dropna(subset=['name'], inplace=True)\n",
    "df[df['name'].isna()]"
   ]
  },
  {
   "cell_type": "markdown",
   "id": "cd636841",
   "metadata": {},
   "source": [
    "Найдем долю пропусков по всем столбцам."
   ]
  },
  {
   "cell_type": "code",
   "execution_count": 66,
   "id": "4cc0989c",
   "metadata": {},
   "outputs": [
    {
     "data": {
      "text/html": [
       "<style type=\"text/css\">\n",
       "#T_416e2_row0_col0, #T_416e2_row1_col0, #T_416e2_row3_col0, #T_416e2_row4_col0, #T_416e2_row5_col0, #T_416e2_row6_col0, #T_416e2_row7_col0 {\n",
       "  background-color: #3b4cc0;\n",
       "  color: #f1f1f1;\n",
       "}\n",
       "#T_416e2_row2_col0 {\n",
       "  background-color: #4358cb;\n",
       "  color: #f1f1f1;\n",
       "}\n",
       "#T_416e2_row8_col0 {\n",
       "  background-color: #b40426;\n",
       "  color: #f1f1f1;\n",
       "}\n",
       "#T_416e2_row9_col0 {\n",
       "  background-color: #f08b6e;\n",
       "  color: #f1f1f1;\n",
       "}\n",
       "#T_416e2_row10_col0 {\n",
       "  background-color: #ef886b;\n",
       "  color: #f1f1f1;\n",
       "}\n",
       "</style>\n",
       "<table id=\"T_416e2\">\n",
       "  <thead>\n",
       "    <tr>\n",
       "      <th class=\"blank level0\" >&nbsp;</th>\n",
       "      <th id=\"T_416e2_level0_col0\" class=\"col_heading level0 col0\" >0</th>\n",
       "    </tr>\n",
       "  </thead>\n",
       "  <tbody>\n",
       "    <tr>\n",
       "      <th id=\"T_416e2_level0_row0\" class=\"row_heading level0 row0\" >name</th>\n",
       "      <td id=\"T_416e2_row0_col0\" class=\"data row0 col0\" >0.000000</td>\n",
       "    </tr>\n",
       "    <tr>\n",
       "      <th id=\"T_416e2_level0_row1\" class=\"row_heading level0 row1\" >platform</th>\n",
       "      <td id=\"T_416e2_row1_col0\" class=\"data row1 col0\" >0.000000</td>\n",
       "    </tr>\n",
       "    <tr>\n",
       "      <th id=\"T_416e2_level0_row2\" class=\"row_heading level0 row2\" >year_of_release</th>\n",
       "      <td id=\"T_416e2_row2_col0\" class=\"data row2 col0\" >1.600000</td>\n",
       "    </tr>\n",
       "    <tr>\n",
       "      <th id=\"T_416e2_level0_row3\" class=\"row_heading level0 row3\" >genre</th>\n",
       "      <td id=\"T_416e2_row3_col0\" class=\"data row3 col0\" >0.000000</td>\n",
       "    </tr>\n",
       "    <tr>\n",
       "      <th id=\"T_416e2_level0_row4\" class=\"row_heading level0 row4\" >na_sales</th>\n",
       "      <td id=\"T_416e2_row4_col0\" class=\"data row4 col0\" >0.000000</td>\n",
       "    </tr>\n",
       "    <tr>\n",
       "      <th id=\"T_416e2_level0_row5\" class=\"row_heading level0 row5\" >eu_sales</th>\n",
       "      <td id=\"T_416e2_row5_col0\" class=\"data row5 col0\" >0.000000</td>\n",
       "    </tr>\n",
       "    <tr>\n",
       "      <th id=\"T_416e2_level0_row6\" class=\"row_heading level0 row6\" >jp_sales</th>\n",
       "      <td id=\"T_416e2_row6_col0\" class=\"data row6 col0\" >0.000000</td>\n",
       "    </tr>\n",
       "    <tr>\n",
       "      <th id=\"T_416e2_level0_row7\" class=\"row_heading level0 row7\" >other_sales</th>\n",
       "      <td id=\"T_416e2_row7_col0\" class=\"data row7 col0\" >0.000000</td>\n",
       "    </tr>\n",
       "    <tr>\n",
       "      <th id=\"T_416e2_level0_row8\" class=\"row_heading level0 row8\" >critic_score</th>\n",
       "      <td id=\"T_416e2_row8_col0\" class=\"data row8 col0\" >51.300000</td>\n",
       "    </tr>\n",
       "    <tr>\n",
       "      <th id=\"T_416e2_level0_row9\" class=\"row_heading level0 row9\" >user_score</th>\n",
       "      <td id=\"T_416e2_row9_col0\" class=\"data row9 col0\" >40.100000</td>\n",
       "    </tr>\n",
       "    <tr>\n",
       "      <th id=\"T_416e2_level0_row10\" class=\"row_heading level0 row10\" >rating</th>\n",
       "      <td id=\"T_416e2_row10_col0\" class=\"data row10 col0\" >40.500000</td>\n",
       "    </tr>\n",
       "  </tbody>\n",
       "</table>\n"
      ],
      "text/plain": [
       "<pandas.io.formats.style.Styler at 0x27864703460>"
      ]
     },
     "execution_count": 66,
     "metadata": {},
     "output_type": "execute_result"
    }
   ],
   "source": [
    "pd.DataFrame(round(df.isna().mean()*100, 1)\n",
    "             ).style.background_gradient('coolwarm')"
   ]
  },
  {
   "cell_type": "markdown",
   "id": "d3f22d88",
   "metadata": {},
   "source": [
    "Попытаемся обработать пропуски в `year_of_release`"
   ]
  },
  {
   "cell_type": "markdown",
   "id": "88a98729",
   "metadata": {},
   "source": [
    "В `year_of_release` всего 1,6% пропусков. От этих данных можно избавиться. Но предварительно заполним пропуски `year_of_release` для игр, в которых год релиза содержится в названии.   \n",
    "В некоторых играх в названии содержится дата их релиза+1 год.  \n",
    "Например *Madden NFL 2004* была релизнута в 2003 году. Обычно это работает так, что серии игр, которые выходят каждый год, имеют в своем названии тот самый год, в котором в неё будут играть. Но так как выпускают её немного ранее, то год релиза будет меньше на единицу."
   ]
  },
  {
   "cell_type": "markdown",
   "id": "3849a2c0",
   "metadata": {},
   "source": [
    "Можно создать функцию, которая \"вытащит\" из названия игры год её релиза."
   ]
  },
  {
   "cell_type": "code",
   "execution_count": 67,
   "id": "273c1792",
   "metadata": {},
   "outputs": [],
   "source": [
    "def find_year(row):\n",
    "    name_list = row.split()\n",
    "    for i in name_list:\n",
    "        try:\n",
    "            if int(i) > 1980:  # отсечем значения ниже 1980, т.к. мы знаем,\n",
    "                # что минимальный год выхода 1980\n",
    "                return int(i)-1\n",
    "        except:\n",
    "            pass"
   ]
  },
  {
   "cell_type": "code",
   "execution_count": 68,
   "id": "3aefd391",
   "metadata": {},
   "outputs": [
    {
     "data": {
      "text/html": [
       "<div>\n",
       "<style scoped>\n",
       "    .dataframe tbody tr th:only-of-type {\n",
       "        vertical-align: middle;\n",
       "    }\n",
       "\n",
       "    .dataframe tbody tr th {\n",
       "        vertical-align: top;\n",
       "    }\n",
       "\n",
       "    .dataframe thead th {\n",
       "        text-align: right;\n",
       "    }\n",
       "</style>\n",
       "<table border=\"1\" class=\"dataframe\">\n",
       "  <thead>\n",
       "    <tr style=\"text-align: right;\">\n",
       "      <th></th>\n",
       "      <th>name</th>\n",
       "      <th>platform</th>\n",
       "      <th>year_of_release</th>\n",
       "      <th>genre</th>\n",
       "      <th>na_sales</th>\n",
       "      <th>eu_sales</th>\n",
       "      <th>jp_sales</th>\n",
       "      <th>other_sales</th>\n",
       "      <th>critic_score</th>\n",
       "      <th>user_score</th>\n",
       "      <th>rating</th>\n",
       "    </tr>\n",
       "  </thead>\n",
       "  <tbody>\n",
       "    <tr>\n",
       "      <th>456</th>\n",
       "      <td>LEGO Batman: The Videogame</td>\n",
       "      <td>Wii</td>\n",
       "      <td>NaN</td>\n",
       "      <td>Action</td>\n",
       "      <td>1.80</td>\n",
       "      <td>0.97</td>\n",
       "      <td>0.00</td>\n",
       "      <td>0.29</td>\n",
       "      <td>74.0</td>\n",
       "      <td>7.9</td>\n",
       "      <td>E10+</td>\n",
       "    </tr>\n",
       "    <tr>\n",
       "      <th>609</th>\n",
       "      <td>Space Invaders</td>\n",
       "      <td>2600</td>\n",
       "      <td>NaN</td>\n",
       "      <td>Shooter</td>\n",
       "      <td>2.36</td>\n",
       "      <td>0.14</td>\n",
       "      <td>0.00</td>\n",
       "      <td>0.03</td>\n",
       "      <td>NaN</td>\n",
       "      <td>NaN</td>\n",
       "      <td>NaN</td>\n",
       "    </tr>\n",
       "    <tr>\n",
       "      <th>627</th>\n",
       "      <td>Rock Band</td>\n",
       "      <td>X360</td>\n",
       "      <td>NaN</td>\n",
       "      <td>Misc</td>\n",
       "      <td>1.93</td>\n",
       "      <td>0.33</td>\n",
       "      <td>0.00</td>\n",
       "      <td>0.21</td>\n",
       "      <td>92.0</td>\n",
       "      <td>8.2</td>\n",
       "      <td>T</td>\n",
       "    </tr>\n",
       "    <tr>\n",
       "      <th>657</th>\n",
       "      <td>Frogger's Adventures: Temple of the Frog</td>\n",
       "      <td>GBA</td>\n",
       "      <td>NaN</td>\n",
       "      <td>Adventure</td>\n",
       "      <td>2.15</td>\n",
       "      <td>0.18</td>\n",
       "      <td>0.00</td>\n",
       "      <td>0.07</td>\n",
       "      <td>73.0</td>\n",
       "      <td>tbd</td>\n",
       "      <td>E</td>\n",
       "    </tr>\n",
       "    <tr>\n",
       "      <th>678</th>\n",
       "      <td>LEGO Indiana Jones: The Original Adventures</td>\n",
       "      <td>Wii</td>\n",
       "      <td>NaN</td>\n",
       "      <td>Action</td>\n",
       "      <td>1.51</td>\n",
       "      <td>0.61</td>\n",
       "      <td>0.00</td>\n",
       "      <td>0.21</td>\n",
       "      <td>78.0</td>\n",
       "      <td>6.6</td>\n",
       "      <td>E10+</td>\n",
       "    </tr>\n",
       "    <tr>\n",
       "      <th>...</th>\n",
       "      <td>...</td>\n",
       "      <td>...</td>\n",
       "      <td>...</td>\n",
       "      <td>...</td>\n",
       "      <td>...</td>\n",
       "      <td>...</td>\n",
       "      <td>...</td>\n",
       "      <td>...</td>\n",
       "      <td>...</td>\n",
       "      <td>...</td>\n",
       "      <td>...</td>\n",
       "    </tr>\n",
       "    <tr>\n",
       "      <th>16348</th>\n",
       "      <td>Agarest Senki: Re-appearance</td>\n",
       "      <td>PS3</td>\n",
       "      <td>NaN</td>\n",
       "      <td>Role-Playing</td>\n",
       "      <td>0.00</td>\n",
       "      <td>0.00</td>\n",
       "      <td>0.01</td>\n",
       "      <td>0.00</td>\n",
       "      <td>NaN</td>\n",
       "      <td>NaN</td>\n",
       "      <td>NaN</td>\n",
       "    </tr>\n",
       "    <tr>\n",
       "      <th>16405</th>\n",
       "      <td>Freaky Flyers</td>\n",
       "      <td>GC</td>\n",
       "      <td>NaN</td>\n",
       "      <td>Racing</td>\n",
       "      <td>0.01</td>\n",
       "      <td>0.00</td>\n",
       "      <td>0.00</td>\n",
       "      <td>0.00</td>\n",
       "      <td>69.0</td>\n",
       "      <td>6.5</td>\n",
       "      <td>T</td>\n",
       "    </tr>\n",
       "    <tr>\n",
       "      <th>16448</th>\n",
       "      <td>Inversion</td>\n",
       "      <td>PC</td>\n",
       "      <td>NaN</td>\n",
       "      <td>Shooter</td>\n",
       "      <td>0.01</td>\n",
       "      <td>0.00</td>\n",
       "      <td>0.00</td>\n",
       "      <td>0.00</td>\n",
       "      <td>59.0</td>\n",
       "      <td>6.7</td>\n",
       "      <td>M</td>\n",
       "    </tr>\n",
       "    <tr>\n",
       "      <th>16458</th>\n",
       "      <td>Hakuouki: Shinsengumi Kitan</td>\n",
       "      <td>PS3</td>\n",
       "      <td>NaN</td>\n",
       "      <td>Adventure</td>\n",
       "      <td>0.01</td>\n",
       "      <td>0.00</td>\n",
       "      <td>0.00</td>\n",
       "      <td>0.00</td>\n",
       "      <td>NaN</td>\n",
       "      <td>NaN</td>\n",
       "      <td>NaN</td>\n",
       "    </tr>\n",
       "    <tr>\n",
       "      <th>16522</th>\n",
       "      <td>Virtua Quest</td>\n",
       "      <td>GC</td>\n",
       "      <td>NaN</td>\n",
       "      <td>Role-Playing</td>\n",
       "      <td>0.01</td>\n",
       "      <td>0.00</td>\n",
       "      <td>0.00</td>\n",
       "      <td>0.00</td>\n",
       "      <td>55.0</td>\n",
       "      <td>5.5</td>\n",
       "      <td>T</td>\n",
       "    </tr>\n",
       "  </tbody>\n",
       "</table>\n",
       "<p>254 rows × 11 columns</p>\n",
       "</div>"
      ],
      "text/plain": [
       "                                              name platform  year_of_release  \\\n",
       "456                     LEGO Batman: The Videogame      Wii              NaN   \n",
       "609                                 Space Invaders     2600              NaN   \n",
       "627                                      Rock Band     X360              NaN   \n",
       "657       Frogger's Adventures: Temple of the Frog      GBA              NaN   \n",
       "678    LEGO Indiana Jones: The Original Adventures      Wii              NaN   \n",
       "...                                            ...      ...              ...   \n",
       "16348                 Agarest Senki: Re-appearance      PS3              NaN   \n",
       "16405                                Freaky Flyers       GC              NaN   \n",
       "16448                                    Inversion       PC              NaN   \n",
       "16458                  Hakuouki: Shinsengumi Kitan      PS3              NaN   \n",
       "16522                                 Virtua Quest       GC              NaN   \n",
       "\n",
       "              genre  na_sales  eu_sales  jp_sales  other_sales  critic_score  \\\n",
       "456          Action      1.80      0.97      0.00         0.29          74.0   \n",
       "609         Shooter      2.36      0.14      0.00         0.03           NaN   \n",
       "627            Misc      1.93      0.33      0.00         0.21          92.0   \n",
       "657       Adventure      2.15      0.18      0.00         0.07          73.0   \n",
       "678          Action      1.51      0.61      0.00         0.21          78.0   \n",
       "...             ...       ...       ...       ...          ...           ...   \n",
       "16348  Role-Playing      0.00      0.00      0.01         0.00           NaN   \n",
       "16405        Racing      0.01      0.00      0.00         0.00          69.0   \n",
       "16448       Shooter      0.01      0.00      0.00         0.00          59.0   \n",
       "16458     Adventure      0.01      0.00      0.00         0.00           NaN   \n",
       "16522  Role-Playing      0.01      0.00      0.00         0.00          55.0   \n",
       "\n",
       "      user_score rating  \n",
       "456          7.9   E10+  \n",
       "609          NaN    NaN  \n",
       "627          8.2      T  \n",
       "657          tbd      E  \n",
       "678          6.6   E10+  \n",
       "...          ...    ...  \n",
       "16348        NaN    NaN  \n",
       "16405        6.5      T  \n",
       "16448        6.7      M  \n",
       "16458        NaN    NaN  \n",
       "16522        5.5      T  \n",
       "\n",
       "[254 rows x 11 columns]"
      ]
     },
     "execution_count": 68,
     "metadata": {},
     "output_type": "execute_result"
    }
   ],
   "source": [
    "df.loc[df['year_of_release'].isna(), 'year_of_release'] = df['name'].apply(\n",
    "    find_year)  # применяем функцию к столбцу\n",
    "df[df['year_of_release'].isna()]  # снова проверяем пропуски"
   ]
  },
  {
   "cell_type": "markdown",
   "id": "fa172f7c",
   "metadata": {},
   "source": [
    "Нам удалось заполнить всего 15 пропусков, оставшиеся удалим, т.к. их менее 1,6%."
   ]
  },
  {
   "cell_type": "code",
   "execution_count": 69,
   "id": "f0f18d92",
   "metadata": {},
   "outputs": [
    {
     "data": {
      "text/plain": [
       "0"
      ]
     },
     "execution_count": 69,
     "metadata": {},
     "output_type": "execute_result"
    }
   ],
   "source": [
    "df.dropna(subset=['year_of_release'], inplace=True)\n",
    "len(df[df['year_of_release'].isna()])  # проверим, что пропусков не осталось"
   ]
  },
  {
   "cell_type": "code",
   "execution_count": 70,
   "id": "5759154c",
   "metadata": {},
   "outputs": [
    {
     "name": "stdout",
     "output_type": "stream",
     "text": [
      "<class 'pandas.core.frame.DataFrame'>\n",
      "Int64Index: 16459 entries, 0 to 16714\n",
      "Data columns (total 11 columns):\n",
      " #   Column           Non-Null Count  Dtype  \n",
      "---  ------           --------------  -----  \n",
      " 0   name             16459 non-null  object \n",
      " 1   platform         16459 non-null  object \n",
      " 2   year_of_release  16459 non-null  float64\n",
      " 3   genre            16459 non-null  object \n",
      " 4   na_sales         16459 non-null  float64\n",
      " 5   eu_sales         16459 non-null  float64\n",
      " 6   jp_sales         16459 non-null  float64\n",
      " 7   other_sales      16459 non-null  float64\n",
      " 8   critic_score     7994 non-null   float64\n",
      " 9   user_score       9850 non-null   object \n",
      " 10  rating           9778 non-null   object \n",
      "dtypes: float64(6), object(5)\n",
      "memory usage: 1.5+ MB\n"
     ]
    }
   ],
   "source": [
    "df.info()"
   ]
  },
  {
   "cell_type": "markdown",
   "id": "1d00d6f0",
   "metadata": {},
   "source": [
    "Пропуски остались в столбцах с оценками критиков и пользователей, и с рейтингом. Нет идей, как заполнить рейтинг и оценку для конкретной игры. Удалить данные мы также не можем, так как они составляют весомую часть от датафрейма.  \n",
    "На данном этапе вижу единственный выход - обозначить эти данные явно выбивающимися значениями."
   ]
  },
  {
   "cell_type": "code",
   "execution_count": 71,
   "id": "d9a5864b",
   "metadata": {},
   "outputs": [],
   "source": [
    "df.loc[df['critic_score'].isna(), 'critic_score'] = 10000\n",
    "df.loc[df['user_score'].isna(), 'user_score'] = 10000\n",
    "df.loc[df['rating'].isna(), 'rating'] = 'Unknown'"
   ]
  },
  {
   "cell_type": "code",
   "execution_count": 72,
   "id": "3eee8c76",
   "metadata": {},
   "outputs": [
    {
     "data": {
      "text/plain": [
       "name               0\n",
       "platform           0\n",
       "year_of_release    0\n",
       "genre              0\n",
       "na_sales           0\n",
       "eu_sales           0\n",
       "jp_sales           0\n",
       "other_sales        0\n",
       "critic_score       0\n",
       "user_score         0\n",
       "rating             0\n",
       "dtype: int64"
      ]
     },
     "execution_count": 72,
     "metadata": {},
     "output_type": "execute_result"
    }
   ],
   "source": [
    "df.isna().sum()"
   ]
  },
  {
   "cell_type": "markdown",
   "id": "b921decb",
   "metadata": {},
   "source": [
    "В столбце с оценкой пользователей встречается значение 'tbd', которое означает 'to be determined', что означает что она будет определена позднее.  \n",
    "Это значение нам ни о чем не говорит, поэтому мы будем считать что оценки пользователя нет."
   ]
  },
  {
   "cell_type": "code",
   "execution_count": 73,
   "id": "b4a275b9",
   "metadata": {},
   "outputs": [],
   "source": [
    "df.loc[df['user_score'] == 'tbd', 'user_score'] = 10000"
   ]
  },
  {
   "cell_type": "markdown",
   "id": "d805b0cd",
   "metadata": {},
   "source": [
    "### Преобразуем данные в нужные типы"
   ]
  },
  {
   "cell_type": "code",
   "execution_count": 74,
   "id": "f4b4bf62",
   "metadata": {},
   "outputs": [],
   "source": [
    "df['year_of_release'] = df['year_of_release'].astype('int')\n",
    "df['critic_score'] = df['critic_score'].astype('int')\n",
    "df['user_score'] = df['user_score'].astype('float')"
   ]
  },
  {
   "cell_type": "markdown",
   "id": "84f3b039",
   "metadata": {},
   "source": [
    "**Причины изменения типа данных**\n",
    "`year_of_release` - изменили тип данных на целочисленный, потому что год - это целое число.   \n",
    "`critic_score` - поменяли тип данных на целочисленный, т.к. изучив датафрейм, поняли что огругление рейтинга происходит до целых значений.  \n",
    "`user_score` - поменяли с *object* на *float*, т.к. оценка считается с точностью до десятых."
   ]
  },
  {
   "cell_type": "markdown",
   "id": "22b81570",
   "metadata": {},
   "source": [
    "### Добавим столбец с суммарными продажами свех регионов"
   ]
  },
  {
   "cell_type": "code",
   "execution_count": 75,
   "id": "4fe5372d",
   "metadata": {},
   "outputs": [],
   "source": [
    "# Добавим столбец с суммарными продажами\n",
    "df['total_sales'] = df[['eu_sales', 'na_sales',\n",
    "                        'jp_sales', 'other_sales']].sum(axis=1)"
   ]
  },
  {
   "cell_type": "markdown",
   "id": "0369f389",
   "metadata": {},
   "source": [
    "### Промежуточные выводы по подготовке данных"
   ]
  },
  {
   "cell_type": "markdown",
   "id": "ee564150",
   "metadata": {},
   "source": [
    "**Причины появления пропусков и методология заполнения**  \n",
    "`name` - пропуски в данном столбце могли быть обусловлены некой ошибкой, т.к. помимо пропусков в столбце отсутствовали и другие данные.  \n",
    "Удаление данных строк кажется более чем оправдано.  \n",
    "\n",
    "`year_of_release` - нет идей почему там могли возникнуть пропуски.  \n",
    "Попытались заполнить год выпуска игры, исходя из её названия. Таких случаев всего 15. Нет представления как восстановить пропуски, поэтому заменил их явными выбросами.  \n",
    "\n",
    "`critic_score` - возможно, пропуски обусловлены непопулярностью игры. Т.е. у неё настолько низкие продажи, что критики обошли данную игру стороной.  \n",
    "Пропуски заполнили явными выбросами.  \n",
    "\n",
    "`user_score` - нет мыслей о причине появления пропусков, так как даже на самые непопулярные игры формируется оценка тех самых немногочисленных игроков.  \n",
    "Заполнили явными выбросами.  \n",
    "*tbd* - скорее всего оценка не успела сформироваться, т.к прошло мало времени с релиза, либо оценок недостаточно для формирования средней оценки.  \n",
    "\n",
    "`rating` - если маркировка игры являеятся обязательной, то непонятно почему отсутствует рейтинг.  \n",
    "Заполнили пропуски значением 'Unknown'."
   ]
  },
  {
   "cell_type": "markdown",
   "id": "8a239eb4",
   "metadata": {},
   "source": [
    "## Исследовательский анализ данных\n"
   ]
  },
  {
   "cell_type": "markdown",
   "id": "042cda44",
   "metadata": {},
   "source": [
    "### Посмотрим сколько игр выпускалось в разные годы"
   ]
  },
  {
   "cell_type": "code",
   "execution_count": 76,
   "id": "91ef617b",
   "metadata": {},
   "outputs": [
    {
     "data": {
      "text/html": [
       "<div>\n",
       "<style scoped>\n",
       "    .dataframe tbody tr th:only-of-type {\n",
       "        vertical-align: middle;\n",
       "    }\n",
       "\n",
       "    .dataframe tbody tr th {\n",
       "        vertical-align: top;\n",
       "    }\n",
       "\n",
       "    .dataframe thead th {\n",
       "        text-align: right;\n",
       "    }\n",
       "</style>\n",
       "<table border=\"1\" class=\"dataframe\">\n",
       "  <thead>\n",
       "    <tr style=\"text-align: right;\">\n",
       "      <th></th>\n",
       "      <th>name</th>\n",
       "    </tr>\n",
       "    <tr>\n",
       "      <th>year_of_release</th>\n",
       "      <th></th>\n",
       "    </tr>\n",
       "  </thead>\n",
       "  <tbody>\n",
       "    <tr>\n",
       "      <th>1980</th>\n",
       "      <td>9</td>\n",
       "    </tr>\n",
       "    <tr>\n",
       "      <th>1981</th>\n",
       "      <td>46</td>\n",
       "    </tr>\n",
       "    <tr>\n",
       "      <th>1982</th>\n",
       "      <td>36</td>\n",
       "    </tr>\n",
       "    <tr>\n",
       "      <th>1983</th>\n",
       "      <td>17</td>\n",
       "    </tr>\n",
       "    <tr>\n",
       "      <th>1984</th>\n",
       "      <td>14</td>\n",
       "    </tr>\n",
       "    <tr>\n",
       "      <th>1985</th>\n",
       "      <td>14</td>\n",
       "    </tr>\n",
       "    <tr>\n",
       "      <th>1986</th>\n",
       "      <td>21</td>\n",
       "    </tr>\n",
       "    <tr>\n",
       "      <th>1987</th>\n",
       "      <td>16</td>\n",
       "    </tr>\n",
       "    <tr>\n",
       "      <th>1988</th>\n",
       "      <td>15</td>\n",
       "    </tr>\n",
       "    <tr>\n",
       "      <th>1989</th>\n",
       "      <td>17</td>\n",
       "    </tr>\n",
       "    <tr>\n",
       "      <th>1990</th>\n",
       "      <td>16</td>\n",
       "    </tr>\n",
       "    <tr>\n",
       "      <th>1991</th>\n",
       "      <td>40</td>\n",
       "    </tr>\n",
       "    <tr>\n",
       "      <th>1992</th>\n",
       "      <td>41</td>\n",
       "    </tr>\n",
       "    <tr>\n",
       "      <th>1993</th>\n",
       "      <td>59</td>\n",
       "    </tr>\n",
       "    <tr>\n",
       "      <th>1994</th>\n",
       "      <td>117</td>\n",
       "    </tr>\n",
       "    <tr>\n",
       "      <th>1995</th>\n",
       "      <td>215</td>\n",
       "    </tr>\n",
       "    <tr>\n",
       "      <th>1996</th>\n",
       "      <td>258</td>\n",
       "    </tr>\n",
       "    <tr>\n",
       "      <th>1997</th>\n",
       "      <td>282</td>\n",
       "    </tr>\n",
       "    <tr>\n",
       "      <th>1998</th>\n",
       "      <td>364</td>\n",
       "    </tr>\n",
       "    <tr>\n",
       "      <th>1999</th>\n",
       "      <td>326</td>\n",
       "    </tr>\n",
       "    <tr>\n",
       "      <th>2000</th>\n",
       "      <td>325</td>\n",
       "    </tr>\n",
       "    <tr>\n",
       "      <th>2001</th>\n",
       "      <td>428</td>\n",
       "    </tr>\n",
       "    <tr>\n",
       "      <th>2002</th>\n",
       "      <td>632</td>\n",
       "    </tr>\n",
       "    <tr>\n",
       "      <th>2003</th>\n",
       "      <td>546</td>\n",
       "    </tr>\n",
       "    <tr>\n",
       "      <th>2004</th>\n",
       "      <td>551</td>\n",
       "    </tr>\n",
       "    <tr>\n",
       "      <th>2005</th>\n",
       "      <td>659</td>\n",
       "    </tr>\n",
       "    <tr>\n",
       "      <th>2006</th>\n",
       "      <td>774</td>\n",
       "    </tr>\n",
       "    <tr>\n",
       "      <th>2007</th>\n",
       "      <td>885</td>\n",
       "    </tr>\n",
       "    <tr>\n",
       "      <th>2008</th>\n",
       "      <td>1039</td>\n",
       "    </tr>\n",
       "    <tr>\n",
       "      <th>2009</th>\n",
       "      <td>1001</td>\n",
       "    </tr>\n",
       "    <tr>\n",
       "      <th>2010</th>\n",
       "      <td>901</td>\n",
       "    </tr>\n",
       "    <tr>\n",
       "      <th>2011</th>\n",
       "      <td>779</td>\n",
       "    </tr>\n",
       "    <tr>\n",
       "      <th>2012</th>\n",
       "      <td>446</td>\n",
       "    </tr>\n",
       "    <tr>\n",
       "      <th>2013</th>\n",
       "      <td>335</td>\n",
       "    </tr>\n",
       "    <tr>\n",
       "      <th>2014</th>\n",
       "      <td>319</td>\n",
       "    </tr>\n",
       "    <tr>\n",
       "      <th>2015</th>\n",
       "      <td>362</td>\n",
       "    </tr>\n",
       "    <tr>\n",
       "      <th>2016</th>\n",
       "      <td>297</td>\n",
       "    </tr>\n",
       "  </tbody>\n",
       "</table>\n",
       "</div>"
      ],
      "text/plain": [
       "                 name\n",
       "year_of_release      \n",
       "1980                9\n",
       "1981               46\n",
       "1982               36\n",
       "1983               17\n",
       "1984               14\n",
       "1985               14\n",
       "1986               21\n",
       "1987               16\n",
       "1988               15\n",
       "1989               17\n",
       "1990               16\n",
       "1991               40\n",
       "1992               41\n",
       "1993               59\n",
       "1994              117\n",
       "1995              215\n",
       "1996              258\n",
       "1997              282\n",
       "1998              364\n",
       "1999              326\n",
       "2000              325\n",
       "2001              428\n",
       "2002              632\n",
       "2003              546\n",
       "2004              551\n",
       "2005              659\n",
       "2006              774\n",
       "2007              885\n",
       "2008             1039\n",
       "2009             1001\n",
       "2010              901\n",
       "2011              779\n",
       "2012              446\n",
       "2013              335\n",
       "2014              319\n",
       "2015              362\n",
       "2016              297"
      ]
     },
     "execution_count": 76,
     "metadata": {},
     "output_type": "execute_result"
    }
   ],
   "source": [
    "df.pivot_table(index='year_of_release', values='name', aggfunc='nunique')"
   ]
  },
  {
   "cell_type": "code",
   "execution_count": 77,
   "id": "cb6372ba",
   "metadata": {},
   "outputs": [
    {
     "data": {
      "image/png": "[encoded data removed]",
      "text/plain": [
       "<Figure size 648x288 with 1 Axes>"
      ]
     },
     "metadata": {
      "needs_background": "light"
     },
     "output_type": "display_data"
    }
   ],
   "source": [
    "(df\n",
    " .pivot_table(index='year_of_release', values='name', aggfunc='count')\n",
    " .plot(y='name', kind='bar', figsize=(9, 4), xlabel='Год выпуска', ylabel='Количество выпущенных игр', color='red', grid=True)\n",
    " )\n",
    "plt.title('Количество релизов за год');"
   ]
  },
  {
   "cell_type": "markdown",
   "id": "9b5dc5e4",
   "metadata": {},
   "source": [
    "Выше представлена диаграмма по количеству различных релизов за весь период времени. Можно видеть, что вплоть до 2009 года количество выпущенных игр постоянно росло. Далее наблюдается тенденция по снижению ежегодного выпуска игр. Так как нам необходимо найти закономерности, определяющие успешность игры, что потенциально поможет спланировать рекламные кампании, то анализировать весь период времени не имеет смысла по причине того, что игровой рынок меняется постоянно и данные для анализа тенденций необходимо брать за последние несколько лет.  \n",
    "До 1994 года выпуск игр был совсем небольшим по сравнению с последующими годами.\n",
    "Для дальнейшего анализа возьмем данные после 1994 года.\n",
    "Так же не стоит забывать, что значение 10000 было присвоено нам в тех случаях, когда год релиза не представлен.\n"
   ]
  },
  {
   "cell_type": "markdown",
   "id": "44f111c4",
   "metadata": {},
   "source": [
    "Создадим новый датасет `games_since1994`, в который включим данные, начиная с 1994 года."
   ]
  },
  {
   "cell_type": "code",
   "execution_count": 78,
   "id": "30836b25",
   "metadata": {},
   "outputs": [
    {
     "data": {
      "text/html": [
       "<div>\n",
       "<style scoped>\n",
       "    .dataframe tbody tr th:only-of-type {\n",
       "        vertical-align: middle;\n",
       "    }\n",
       "\n",
       "    .dataframe tbody tr th {\n",
       "        vertical-align: top;\n",
       "    }\n",
       "\n",
       "    .dataframe thead th {\n",
       "        text-align: right;\n",
       "    }\n",
       "</style>\n",
       "<table border=\"1\" class=\"dataframe\">\n",
       "  <thead>\n",
       "    <tr style=\"text-align: right;\">\n",
       "      <th></th>\n",
       "      <th>name</th>\n",
       "      <th>platform</th>\n",
       "      <th>year_of_release</th>\n",
       "      <th>genre</th>\n",
       "      <th>na_sales</th>\n",
       "      <th>eu_sales</th>\n",
       "      <th>jp_sales</th>\n",
       "      <th>other_sales</th>\n",
       "      <th>critic_score</th>\n",
       "      <th>user_score</th>\n",
       "      <th>rating</th>\n",
       "      <th>total_sales</th>\n",
       "    </tr>\n",
       "  </thead>\n",
       "  <tbody>\n",
       "    <tr>\n",
       "      <th>0</th>\n",
       "      <td>Wii Sports</td>\n",
       "      <td>Wii</td>\n",
       "      <td>2006</td>\n",
       "      <td>Sports</td>\n",
       "      <td>41.36</td>\n",
       "      <td>28.96</td>\n",
       "      <td>3.77</td>\n",
       "      <td>8.45</td>\n",
       "      <td>76</td>\n",
       "      <td>8.0</td>\n",
       "      <td>E</td>\n",
       "      <td>82.54</td>\n",
       "    </tr>\n",
       "    <tr>\n",
       "      <th>2</th>\n",
       "      <td>Mario Kart Wii</td>\n",
       "      <td>Wii</td>\n",
       "      <td>2008</td>\n",
       "      <td>Racing</td>\n",
       "      <td>15.68</td>\n",
       "      <td>12.76</td>\n",
       "      <td>3.79</td>\n",
       "      <td>3.29</td>\n",
       "      <td>82</td>\n",
       "      <td>8.3</td>\n",
       "      <td>E</td>\n",
       "      <td>35.52</td>\n",
       "    </tr>\n",
       "    <tr>\n",
       "      <th>3</th>\n",
       "      <td>Wii Sports Resort</td>\n",
       "      <td>Wii</td>\n",
       "      <td>2009</td>\n",
       "      <td>Sports</td>\n",
       "      <td>15.61</td>\n",
       "      <td>10.93</td>\n",
       "      <td>3.28</td>\n",
       "      <td>2.95</td>\n",
       "      <td>80</td>\n",
       "      <td>8.0</td>\n",
       "      <td>E</td>\n",
       "      <td>32.77</td>\n",
       "    </tr>\n",
       "    <tr>\n",
       "      <th>4</th>\n",
       "      <td>Pokemon Red/Pokemon Blue</td>\n",
       "      <td>GB</td>\n",
       "      <td>1996</td>\n",
       "      <td>Role-Playing</td>\n",
       "      <td>11.27</td>\n",
       "      <td>8.89</td>\n",
       "      <td>10.22</td>\n",
       "      <td>1.00</td>\n",
       "      <td>10000</td>\n",
       "      <td>10000.0</td>\n",
       "      <td>Unknown</td>\n",
       "      <td>31.38</td>\n",
       "    </tr>\n",
       "    <tr>\n",
       "      <th>6</th>\n",
       "      <td>New Super Mario Bros.</td>\n",
       "      <td>DS</td>\n",
       "      <td>2006</td>\n",
       "      <td>Platform</td>\n",
       "      <td>11.28</td>\n",
       "      <td>9.14</td>\n",
       "      <td>6.50</td>\n",
       "      <td>2.88</td>\n",
       "      <td>89</td>\n",
       "      <td>8.5</td>\n",
       "      <td>E</td>\n",
       "      <td>29.80</td>\n",
       "    </tr>\n",
       "    <tr>\n",
       "      <th>...</th>\n",
       "      <td>...</td>\n",
       "      <td>...</td>\n",
       "      <td>...</td>\n",
       "      <td>...</td>\n",
       "      <td>...</td>\n",
       "      <td>...</td>\n",
       "      <td>...</td>\n",
       "      <td>...</td>\n",
       "      <td>...</td>\n",
       "      <td>...</td>\n",
       "      <td>...</td>\n",
       "      <td>...</td>\n",
       "    </tr>\n",
       "    <tr>\n",
       "      <th>16710</th>\n",
       "      <td>Samurai Warriors: Sanada Maru</td>\n",
       "      <td>PS3</td>\n",
       "      <td>2016</td>\n",
       "      <td>Action</td>\n",
       "      <td>0.00</td>\n",
       "      <td>0.00</td>\n",
       "      <td>0.01</td>\n",
       "      <td>0.00</td>\n",
       "      <td>10000</td>\n",
       "      <td>10000.0</td>\n",
       "      <td>Unknown</td>\n",
       "      <td>0.01</td>\n",
       "    </tr>\n",
       "    <tr>\n",
       "      <th>16711</th>\n",
       "      <td>LMA Manager 2007</td>\n",
       "      <td>X360</td>\n",
       "      <td>2006</td>\n",
       "      <td>Sports</td>\n",
       "      <td>0.00</td>\n",
       "      <td>0.01</td>\n",
       "      <td>0.00</td>\n",
       "      <td>0.00</td>\n",
       "      <td>10000</td>\n",
       "      <td>10000.0</td>\n",
       "      <td>Unknown</td>\n",
       "      <td>0.01</td>\n",
       "    </tr>\n",
       "    <tr>\n",
       "      <th>16712</th>\n",
       "      <td>Haitaka no Psychedelica</td>\n",
       "      <td>PSV</td>\n",
       "      <td>2016</td>\n",
       "      <td>Adventure</td>\n",
       "      <td>0.00</td>\n",
       "      <td>0.00</td>\n",
       "      <td>0.01</td>\n",
       "      <td>0.00</td>\n",
       "      <td>10000</td>\n",
       "      <td>10000.0</td>\n",
       "      <td>Unknown</td>\n",
       "      <td>0.01</td>\n",
       "    </tr>\n",
       "    <tr>\n",
       "      <th>16713</th>\n",
       "      <td>Spirits &amp; Spells</td>\n",
       "      <td>GBA</td>\n",
       "      <td>2003</td>\n",
       "      <td>Platform</td>\n",
       "      <td>0.01</td>\n",
       "      <td>0.00</td>\n",
       "      <td>0.00</td>\n",
       "      <td>0.00</td>\n",
       "      <td>10000</td>\n",
       "      <td>10000.0</td>\n",
       "      <td>Unknown</td>\n",
       "      <td>0.01</td>\n",
       "    </tr>\n",
       "    <tr>\n",
       "      <th>16714</th>\n",
       "      <td>Winning Post 8 2016</td>\n",
       "      <td>PSV</td>\n",
       "      <td>2016</td>\n",
       "      <td>Simulation</td>\n",
       "      <td>0.00</td>\n",
       "      <td>0.00</td>\n",
       "      <td>0.01</td>\n",
       "      <td>0.00</td>\n",
       "      <td>10000</td>\n",
       "      <td>10000.0</td>\n",
       "      <td>Unknown</td>\n",
       "      <td>0.01</td>\n",
       "    </tr>\n",
       "  </tbody>\n",
       "</table>\n",
       "<p>16094 rows × 12 columns</p>\n",
       "</div>"
      ],
      "text/plain": [
       "                                name platform  year_of_release         genre  \\\n",
       "0                         Wii Sports      Wii             2006        Sports   \n",
       "2                     Mario Kart Wii      Wii             2008        Racing   \n",
       "3                  Wii Sports Resort      Wii             2009        Sports   \n",
       "4           Pokemon Red/Pokemon Blue       GB             1996  Role-Playing   \n",
       "6              New Super Mario Bros.       DS             2006      Platform   \n",
       "...                              ...      ...              ...           ...   \n",
       "16710  Samurai Warriors: Sanada Maru      PS3             2016        Action   \n",
       "16711               LMA Manager 2007     X360             2006        Sports   \n",
       "16712        Haitaka no Psychedelica      PSV             2016     Adventure   \n",
       "16713               Spirits & Spells      GBA             2003      Platform   \n",
       "16714            Winning Post 8 2016      PSV             2016    Simulation   \n",
       "\n",
       "       na_sales  eu_sales  jp_sales  other_sales  critic_score  user_score  \\\n",
       "0         41.36     28.96      3.77         8.45            76         8.0   \n",
       "2         15.68     12.76      3.79         3.29            82         8.3   \n",
       "3         15.61     10.93      3.28         2.95            80         8.0   \n",
       "4         11.27      8.89     10.22         1.00         10000     10000.0   \n",
       "6         11.28      9.14      6.50         2.88            89         8.5   \n",
       "...         ...       ...       ...          ...           ...         ...   \n",
       "16710      0.00      0.00      0.01         0.00         10000     10000.0   \n",
       "16711      0.00      0.01      0.00         0.00         10000     10000.0   \n",
       "16712      0.00      0.00      0.01         0.00         10000     10000.0   \n",
       "16713      0.01      0.00      0.00         0.00         10000     10000.0   \n",
       "16714      0.00      0.00      0.01         0.00         10000     10000.0   \n",
       "\n",
       "        rating  total_sales  \n",
       "0            E        82.54  \n",
       "2            E        35.52  \n",
       "3            E        32.77  \n",
       "4      Unknown        31.38  \n",
       "6            E        29.80  \n",
       "...        ...          ...  \n",
       "16710  Unknown         0.01  \n",
       "16711  Unknown         0.01  \n",
       "16712  Unknown         0.01  \n",
       "16713  Unknown         0.01  \n",
       "16714  Unknown         0.01  \n",
       "\n",
       "[16094 rows x 12 columns]"
      ]
     },
     "execution_count": 78,
     "metadata": {},
     "output_type": "execute_result"
    }
   ],
   "source": [
    "games_since1994 = df.query('year_of_release > 1993')\n",
    "games_since1994"
   ]
  },
  {
   "cell_type": "markdown",
   "id": "6d2afb22",
   "metadata": {},
   "source": [
    "### Посмотрим как менялись продажи по платформам.\n",
    "Выберем платформы с наибольшими суммарными продажами и построим распределение по годам. Выясним за какой характерный срок появляются новые и исчезают старые платформы."
   ]
  },
  {
   "cell_type": "code",
   "execution_count": 79,
   "id": "0de345a2",
   "metadata": {},
   "outputs": [
    {
     "data": {
      "image/png": "[encoded data removed]",
      "text/plain": [
       "<Figure size 648x288 with 1 Axes>"
      ]
     },
     "metadata": {
      "needs_background": "light"
     },
     "output_type": "display_data"
    }
   ],
   "source": [
    "(games_since1994\n",
    "    .pivot_table(index='platform', values='total_sales', aggfunc='sum').sort_values(by='total_sales', ascending=False)\n",
    "    .plot(y='total_sales', kind='bar', figsize=(9, 4), xlabel='Платформа', ylabel='Количество проданных копий игр',\n",
    "          color='red', grid=True)\n",
    " )\n",
    "plt.title('Количество проданных игр на различных платформах (млн. копий)');"
   ]
  },
  {
   "cell_type": "markdown",
   "id": "32bf5663",
   "metadata": {},
   "source": [
    "Выберем платформы с наибольшими суммарнрыми продажами и построим распределеение по годам. Выберем первые 6 платформ, т.к. они сильно выделяются по общим продажам."
   ]
  },
  {
   "cell_type": "code",
   "execution_count": 80,
   "id": "0d6bafd5",
   "metadata": {},
   "outputs": [
    {
     "data": {
      "image/png": "[encoded data removed]",
      "text/plain": [
       "<Figure size 432x288 with 1 Axes>"
      ]
     },
     "metadata": {
      "needs_background": "light"
     },
     "output_type": "display_data"
    }
   ],
   "source": [
    "# Найдем список названий ТОПа платформ\n",
    "top_platforms_list = games_since1994.groupby('platform')['total_sales'].sum(\n",
    ").sort_values(ascending=False).head(6).index\n",
    "# Построим график распределения по годам\n",
    "(games_since1994\n",
    "    .query('platform in @top_platforms_list')\n",
    "    .pivot_table(index='year_of_release', columns='platform', values='total_sales', aggfunc='sum')\n",
    "    .plot(xlabel='Год', ylabel=\"Количество проданных копий (млн.)\", title='Продажи игр для самых популярных платформ', grid=True)\n",
    " );"
   ]
  },
  {
   "cell_type": "markdown",
   "id": "d166385f",
   "metadata": {},
   "source": [
    "Найдем среднее количество лет когда на платформу выпускаются игры."
   ]
  },
  {
   "cell_type": "code",
   "execution_count": 81,
   "id": "454c22e0",
   "metadata": {},
   "outputs": [
    {
     "name": "stdout",
     "output_type": "stream",
     "text": [
      "    platform  year_of_release  name\n",
      "0        3DO             1994     1\n",
      "1        3DO             1995     2\n",
      "2        3DS             2011   116\n",
      "3        3DS             2012    93\n",
      "4        3DS             2013    91\n",
      "..       ...              ...   ...\n",
      "192       XB             2008     1\n",
      "193     XOne             2013    19\n",
      "194     XOne             2014    61\n",
      "195     XOne             2015    80\n",
      "196     XOne             2016    87\n",
      "\n",
      "[197 rows x 3 columns]\n"
     ]
    },
    {
     "data": {
      "text/plain": [
       "year_of_release    6.0\n",
       "dtype: float64"
      ]
     },
     "execution_count": 81,
     "metadata": {},
     "output_type": "execute_result"
    }
   ],
   "source": [
    "# создадим датафрейм с инофрмацией о платформе и количестве игр, выпущенных для неё в определенном году\n",
    "platforms = (games_since1994\n",
    "             .query('year_of_release < 10000')\n",
    "             .pivot_table(index=['platform', 'year_of_release'], values='name', aggfunc='count').reset_index()\n",
    "             )\n",
    "print(platforms)\n",
    "# найдем медианное значение для количества лет, в течение которых на платформу выпускались игры\n",
    "platforms.pivot_table(\n",
    "    index='platform', values='year_of_release', aggfunc='count').median()"
   ]
  },
  {
   "cell_type": "markdown",
   "id": "0a4ab56a",
   "metadata": {},
   "source": [
    "Среднее время жизни платформы составляет 6 лет. Так же по графику распределения продаж по времени видно, что половину срока \"жизни\" платформы продажи растут, а половину падают."
   ]
  },
  {
   "cell_type": "markdown",
   "id": "84846a5c",
   "metadata": {},
   "source": [
    "### Выберем актуальный период"
   ]
  },
  {
   "cell_type": "markdown",
   "id": "95273ef3",
   "metadata": {},
   "source": [
    "На предыдущих этапах анализа мы определили, что среднее время смены платформ - 6 лет. Половину жизненного цикла продажи растут, а половину падают. Для того, чтобы построить прогноз на следующий 2017 год нам не нужны данные с 1994 года. Поэтому, для дальнейшего анализа будем использовать данные за три последних года. Три года - это половина жизненного цикла платформы.  \n",
    "\n",
    "**Выделим отдельный датафрейм `games` в который вклюдим данные за 2014, 2015 и 2016 годы.**"
   ]
  },
  {
   "cell_type": "code",
   "execution_count": 82,
   "id": "479d21a1",
   "metadata": {},
   "outputs": [
    {
     "data": {
      "text/html": [
       "<div>\n",
       "<style scoped>\n",
       "    .dataframe tbody tr th:only-of-type {\n",
       "        vertical-align: middle;\n",
       "    }\n",
       "\n",
       "    .dataframe tbody tr th {\n",
       "        vertical-align: top;\n",
       "    }\n",
       "\n",
       "    .dataframe thead th {\n",
       "        text-align: right;\n",
       "    }\n",
       "</style>\n",
       "<table border=\"1\" class=\"dataframe\">\n",
       "  <thead>\n",
       "    <tr style=\"text-align: right;\">\n",
       "      <th></th>\n",
       "      <th>name</th>\n",
       "      <th>platform</th>\n",
       "      <th>year_of_release</th>\n",
       "      <th>genre</th>\n",
       "      <th>na_sales</th>\n",
       "      <th>eu_sales</th>\n",
       "      <th>jp_sales</th>\n",
       "      <th>other_sales</th>\n",
       "      <th>critic_score</th>\n",
       "      <th>user_score</th>\n",
       "      <th>rating</th>\n",
       "      <th>total_sales</th>\n",
       "    </tr>\n",
       "  </thead>\n",
       "  <tbody>\n",
       "    <tr>\n",
       "      <th>31</th>\n",
       "      <td>Call of Duty: Black Ops 3</td>\n",
       "      <td>PS4</td>\n",
       "      <td>2015</td>\n",
       "      <td>Shooter</td>\n",
       "      <td>6.03</td>\n",
       "      <td>5.86</td>\n",
       "      <td>0.36</td>\n",
       "      <td>2.38</td>\n",
       "      <td>10000</td>\n",
       "      <td>10000.0</td>\n",
       "      <td>Unknown</td>\n",
       "      <td>14.63</td>\n",
       "    </tr>\n",
       "    <tr>\n",
       "      <th>42</th>\n",
       "      <td>Grand Theft Auto V</td>\n",
       "      <td>PS4</td>\n",
       "      <td>2014</td>\n",
       "      <td>Action</td>\n",
       "      <td>3.96</td>\n",
       "      <td>6.31</td>\n",
       "      <td>0.38</td>\n",
       "      <td>1.97</td>\n",
       "      <td>97</td>\n",
       "      <td>8.3</td>\n",
       "      <td>M</td>\n",
       "      <td>12.62</td>\n",
       "    </tr>\n",
       "    <tr>\n",
       "      <th>47</th>\n",
       "      <td>Pokemon Omega Ruby/Pokemon Alpha Sapphire</td>\n",
       "      <td>3DS</td>\n",
       "      <td>2014</td>\n",
       "      <td>Role-Playing</td>\n",
       "      <td>4.35</td>\n",
       "      <td>3.49</td>\n",
       "      <td>3.10</td>\n",
       "      <td>0.74</td>\n",
       "      <td>10000</td>\n",
       "      <td>10000.0</td>\n",
       "      <td>Unknown</td>\n",
       "      <td>11.68</td>\n",
       "    </tr>\n",
       "    <tr>\n",
       "      <th>77</th>\n",
       "      <td>FIFA 16</td>\n",
       "      <td>PS4</td>\n",
       "      <td>2015</td>\n",
       "      <td>Sports</td>\n",
       "      <td>1.12</td>\n",
       "      <td>6.12</td>\n",
       "      <td>0.06</td>\n",
       "      <td>1.28</td>\n",
       "      <td>82</td>\n",
       "      <td>4.3</td>\n",
       "      <td>E</td>\n",
       "      <td>8.58</td>\n",
       "    </tr>\n",
       "    <tr>\n",
       "      <th>87</th>\n",
       "      <td>Star Wars Battlefront (2015)</td>\n",
       "      <td>PS4</td>\n",
       "      <td>2015</td>\n",
       "      <td>Shooter</td>\n",
       "      <td>2.99</td>\n",
       "      <td>3.49</td>\n",
       "      <td>0.22</td>\n",
       "      <td>1.28</td>\n",
       "      <td>10000</td>\n",
       "      <td>10000.0</td>\n",
       "      <td>Unknown</td>\n",
       "      <td>7.98</td>\n",
       "    </tr>\n",
       "    <tr>\n",
       "      <th>...</th>\n",
       "      <td>...</td>\n",
       "      <td>...</td>\n",
       "      <td>...</td>\n",
       "      <td>...</td>\n",
       "      <td>...</td>\n",
       "      <td>...</td>\n",
       "      <td>...</td>\n",
       "      <td>...</td>\n",
       "      <td>...</td>\n",
       "      <td>...</td>\n",
       "      <td>...</td>\n",
       "      <td>...</td>\n",
       "    </tr>\n",
       "    <tr>\n",
       "      <th>16703</th>\n",
       "      <td>Strawberry Nauts</td>\n",
       "      <td>PSV</td>\n",
       "      <td>2016</td>\n",
       "      <td>Adventure</td>\n",
       "      <td>0.00</td>\n",
       "      <td>0.00</td>\n",
       "      <td>0.01</td>\n",
       "      <td>0.00</td>\n",
       "      <td>10000</td>\n",
       "      <td>10000.0</td>\n",
       "      <td>Unknown</td>\n",
       "      <td>0.01</td>\n",
       "    </tr>\n",
       "    <tr>\n",
       "      <th>16707</th>\n",
       "      <td>Aiyoku no Eustia</td>\n",
       "      <td>PSV</td>\n",
       "      <td>2014</td>\n",
       "      <td>Misc</td>\n",
       "      <td>0.00</td>\n",
       "      <td>0.00</td>\n",
       "      <td>0.01</td>\n",
       "      <td>0.00</td>\n",
       "      <td>10000</td>\n",
       "      <td>10000.0</td>\n",
       "      <td>Unknown</td>\n",
       "      <td>0.01</td>\n",
       "    </tr>\n",
       "    <tr>\n",
       "      <th>16710</th>\n",
       "      <td>Samurai Warriors: Sanada Maru</td>\n",
       "      <td>PS3</td>\n",
       "      <td>2016</td>\n",
       "      <td>Action</td>\n",
       "      <td>0.00</td>\n",
       "      <td>0.00</td>\n",
       "      <td>0.01</td>\n",
       "      <td>0.00</td>\n",
       "      <td>10000</td>\n",
       "      <td>10000.0</td>\n",
       "      <td>Unknown</td>\n",
       "      <td>0.01</td>\n",
       "    </tr>\n",
       "    <tr>\n",
       "      <th>16712</th>\n",
       "      <td>Haitaka no Psychedelica</td>\n",
       "      <td>PSV</td>\n",
       "      <td>2016</td>\n",
       "      <td>Adventure</td>\n",
       "      <td>0.00</td>\n",
       "      <td>0.00</td>\n",
       "      <td>0.01</td>\n",
       "      <td>0.00</td>\n",
       "      <td>10000</td>\n",
       "      <td>10000.0</td>\n",
       "      <td>Unknown</td>\n",
       "      <td>0.01</td>\n",
       "    </tr>\n",
       "    <tr>\n",
       "      <th>16714</th>\n",
       "      <td>Winning Post 8 2016</td>\n",
       "      <td>PSV</td>\n",
       "      <td>2016</td>\n",
       "      <td>Simulation</td>\n",
       "      <td>0.00</td>\n",
       "      <td>0.00</td>\n",
       "      <td>0.01</td>\n",
       "      <td>0.00</td>\n",
       "      <td>10000</td>\n",
       "      <td>10000.0</td>\n",
       "      <td>Unknown</td>\n",
       "      <td>0.01</td>\n",
       "    </tr>\n",
       "  </tbody>\n",
       "</table>\n",
       "<p>1689 rows × 12 columns</p>\n",
       "</div>"
      ],
      "text/plain": [
       "                                            name platform  year_of_release  \\\n",
       "31                     Call of Duty: Black Ops 3      PS4             2015   \n",
       "42                            Grand Theft Auto V      PS4             2014   \n",
       "47     Pokemon Omega Ruby/Pokemon Alpha Sapphire      3DS             2014   \n",
       "77                                       FIFA 16      PS4             2015   \n",
       "87                  Star Wars Battlefront (2015)      PS4             2015   \n",
       "...                                          ...      ...              ...   \n",
       "16703                           Strawberry Nauts      PSV             2016   \n",
       "16707                           Aiyoku no Eustia      PSV             2014   \n",
       "16710              Samurai Warriors: Sanada Maru      PS3             2016   \n",
       "16712                    Haitaka no Psychedelica      PSV             2016   \n",
       "16714                        Winning Post 8 2016      PSV             2016   \n",
       "\n",
       "              genre  na_sales  eu_sales  jp_sales  other_sales  critic_score  \\\n",
       "31          Shooter      6.03      5.86      0.36         2.38         10000   \n",
       "42           Action      3.96      6.31      0.38         1.97            97   \n",
       "47     Role-Playing      4.35      3.49      3.10         0.74         10000   \n",
       "77           Sports      1.12      6.12      0.06         1.28            82   \n",
       "87          Shooter      2.99      3.49      0.22         1.28         10000   \n",
       "...             ...       ...       ...       ...          ...           ...   \n",
       "16703     Adventure      0.00      0.00      0.01         0.00         10000   \n",
       "16707          Misc      0.00      0.00      0.01         0.00         10000   \n",
       "16710        Action      0.00      0.00      0.01         0.00         10000   \n",
       "16712     Adventure      0.00      0.00      0.01         0.00         10000   \n",
       "16714    Simulation      0.00      0.00      0.01         0.00         10000   \n",
       "\n",
       "       user_score   rating  total_sales  \n",
       "31        10000.0  Unknown        14.63  \n",
       "42            8.3        M        12.62  \n",
       "47        10000.0  Unknown        11.68  \n",
       "77            4.3        E         8.58  \n",
       "87        10000.0  Unknown         7.98  \n",
       "...           ...      ...          ...  \n",
       "16703     10000.0  Unknown         0.01  \n",
       "16707     10000.0  Unknown         0.01  \n",
       "16710     10000.0  Unknown         0.01  \n",
       "16712     10000.0  Unknown         0.01  \n",
       "16714     10000.0  Unknown         0.01  \n",
       "\n",
       "[1689 rows x 12 columns]"
      ]
     },
     "execution_count": 82,
     "metadata": {},
     "output_type": "execute_result"
    }
   ],
   "source": [
    "# не забываем про загрушку =10000 в годе релиза,\n",
    "# далее эти данные с собой не берем\n",
    "games = df.query('year_of_release > 2013 and year_of_release < 10000')\n",
    "games"
   ]
  },
  {
   "cell_type": "markdown",
   "id": "cce693aa",
   "metadata": {},
   "source": [
    "### Выберем несколько потенциально прибыльных плафторм.\n",
    "Какие платформы лидируют по продажам, растут или падают?"
   ]
  },
  {
   "cell_type": "code",
   "execution_count": 83,
   "id": "cfb28d9b",
   "metadata": {},
   "outputs": [
    {
     "data": {
      "image/png": "[encoded data removed]",
      "text/plain": [
       "<Figure size 648x288 with 1 Axes>"
      ]
     },
     "metadata": {
      "needs_background": "light"
     },
     "output_type": "display_data"
    }
   ],
   "source": [
    "(games\n",
    "    .pivot_table(index='platform', values='total_sales', aggfunc='sum').sort_values(by='total_sales', ascending=False)\n",
    "    .plot(y='total_sales', kind='bar', figsize=(9, 4), xlabel='Платформа', ylabel='Количество проданных копий игр',\n",
    "          color='red', grid=True)\n",
    " )\n",
    "plt.title('Количество проданных игр на различных платформах (млн. копий)');"
   ]
  },
  {
   "cell_type": "markdown",
   "id": "c02eba9d",
   "metadata": {},
   "source": [
    "Выберем первые 7 платформ по продажам (влоть до PC включительно). PC (персональный компьютер) как платформа может быть нам интересен, т.к. игры на PC могут выходить на протяжении всего рассматриваемого периода из-за того, что прогресс в \"железе\" сопутствует \"эволюции\" игр."
   ]
  },
  {
   "cell_type": "code",
   "execution_count": 84,
   "id": "814d090f",
   "metadata": {},
   "outputs": [
    {
     "data": {
      "text/plain": [
       "31       2015\n",
       "42       2014\n",
       "47       2014\n",
       "77       2015\n",
       "87       2015\n",
       "         ... \n",
       "16703    2016\n",
       "16707    2014\n",
       "16710    2016\n",
       "16712    2016\n",
       "16714    2016\n",
       "Name: year_of_release, Length: 1689, dtype: int32"
      ]
     },
     "execution_count": 84,
     "metadata": {},
     "output_type": "execute_result"
    }
   ],
   "source": [
    "games['year_of_release'].astype('int')"
   ]
  },
  {
   "cell_type": "code",
   "execution_count": 85,
   "id": "61c4d43b",
   "metadata": {},
   "outputs": [
    {
     "data": {
      "image/png": "[encoded data removed]",
      "text/plain": [
       "<Figure size 432x288 with 1 Axes>"
      ]
     },
     "metadata": {
      "needs_background": "light"
     },
     "output_type": "display_data"
    }
   ],
   "source": [
    "# Найдем список названий ТОПа платформ\n",
    "top_platforms_list = games.groupby('platform')['total_sales'].sum(\n",
    ").sort_values(ascending=False).head(7).index\n",
    "# Построим график распределения по годам\n",
    "(games\n",
    "    .query('platform in @top_platforms_list')\n",
    "    .pivot_table(index='year_of_release', columns='platform', values='total_sales', aggfunc='sum')\n",
    "    .plot(xlabel='Год', ylabel=\"Количество проданных копий (млн.)\", title='Продажи игр для самых популярных платформ', grid=True)\n",
    " )\n",
    "plt.xticks(ticks=games['year_of_release'].unique());"
   ]
  },
  {
   "cell_type": "markdown",
   "id": "27576171",
   "metadata": {},
   "source": [
    "По данным графика распределения продаж для самых популярных платформ можно сделать следующие промежуточные выводы:  \n",
    "- По всем платформам наблюдается падение продаж;   \n",
    "- С 2014 года по 2016 лидируют по продажам PS4, XOne и 3DS. \n",
    "- Потенциально прибыльными можно назвать следующие платформы:  \n",
    "-- PS4, XOne, 3DS, PC, потому что показывают самые высокие результаты по продажам;\n",
    "-- PC оставим для рассмотрения, потому что снижение продаж наименее острое на всем протяжении наблюдения, что может говорить о хорошей прогнозируемости результатов, так же PC занимает 4-е место к 2016 году в топе платформ, после вышеописанных лидеров.\n"
   ]
  },
  {
   "cell_type": "markdown",
   "id": "7fe1586e",
   "metadata": {},
   "source": [
    "### Построим ящики с усами для перспективных платформ"
   ]
  },
  {
   "cell_type": "code",
   "execution_count": 86,
   "id": "e8e87fc5",
   "metadata": {},
   "outputs": [],
   "source": [
    "new_top_platforms_list = ['PS4', 'XOne', '3DS', 'PC']"
   ]
  },
  {
   "cell_type": "code",
   "execution_count": 87,
   "id": "94b8c092",
   "metadata": {},
   "outputs": [
    {
     "data": {
      "image/png": "[encoded data removed]",
      "text/plain": [
       "<Figure size 360x360 with 1 Axes>"
      ]
     },
     "metadata": {
      "needs_background": "light"
     },
     "output_type": "display_data"
    }
   ],
   "source": [
    "games = games.query('platform in @new_top_platforms_list')\n",
    "sns.catplot(data=games, x='platform', y='total_sales', kind='box')\n",
    "plt.ylim(0, 1.75)\n",
    "plt.ylabel('Количество проданных копий, млн.')\n",
    "plt.grid();"
   ]
  },
  {
   "cell_type": "markdown",
   "id": "0f366552",
   "metadata": {},
   "source": [
    "Диаграммы размаха для PS4 и XOne очень похожи. Медианное значение для XOne даже выше. При этом диапазон нормальных значений для PS4 шире и область ограниченная первым и третьим квартилями больше. Это подтверждает информацию о том, что PS4 лидирует по объемам продаж, не смотря на то, что медианное значение для XOne больше.\n",
    "\n",
    "Две оставшиеся платформы (3DS и PC) значительно отстают от лидеров. 3DS опережает PC как по величине медианы, так и по диапазону нормальных значений.      "
   ]
  },
  {
   "cell_type": "markdown",
   "id": "919abd86",
   "metadata": {},
   "source": [
    "### Проверим как влияют отзывы пользователей и критиков на продажи для популярных платформ"
   ]
  },
  {
   "cell_type": "code",
   "execution_count": 88,
   "id": "9eaa2e0c",
   "metadata": {},
   "outputs": [],
   "source": [
    "# Отсечем от нашего датасета выбросы в оценках\n",
    "games = games.query('user_score < 10000 and critic_score < 10000')"
   ]
  },
  {
   "cell_type": "code",
   "execution_count": 89,
   "id": "abbbf5ea",
   "metadata": {},
   "outputs": [],
   "source": [
    "# Созздадим функцию scatters_and_corr, которая будет строить диаграммы рассеяния и считать корреляции\n",
    "def scatters_and_corr(games, plat):\n",
    "    # будем строить два графика в ряд\n",
    "    fig, axes = plt.subplots(1, 2, figsize=(8, 3))\n",
    "    axes[0].scatter(games.loc[games['platform'] == plat, 'user_score'],\n",
    "                    games.loc[games['platform'] == plat, 'total_sales'], s=8)\n",
    "    axes[1].scatter(games.loc[games['platform'] == plat, 'critic_score'],\n",
    "                    games.loc[games['platform'] == plat, 'total_sales'], s=8)\n",
    "    axes[0].set_title(\n",
    "        'Зависимость между оценками пользователей \\n  (ось x) и общими продажами (ось y)', size=9)\n",
    "    axes[1].set_title(\n",
    "        'Зависимость между оценками критиков \\n (ось x) и общими продажами (ось y)', size=9)\n",
    "    axes[0].set_xlabel(plat, size=15)\n",
    "    axes[1].set_xlabel(plat, size=15)\n",
    "\n",
    "    print(f\"Корреляция между оценками пользователей и продажами для платформы {plat}:\\\n",
    "       {games.loc[games['platform']==plat, 'user_score'].corr(games.loc[games['platform']== plat, 'total_sales'])}\")\n",
    "    print(f\"Корреляция между оценками критиков и продажами для платформы {plat}:\\\n",
    "       {games.loc[games['platform']== plat, 'critic_score'].corr(games.loc[games['platform']== plat, 'total_sales'])}\")"
   ]
  },
  {
   "cell_type": "code",
   "execution_count": 90,
   "id": "77c66fe6",
   "metadata": {},
   "outputs": [
    {
     "name": "stdout",
     "output_type": "stream",
     "text": [
      "Корреляция между оценками пользователей и продажами для платформы PS4:       -0.04318585997193634\n",
      "Корреляция между оценками критиков и продажами для платформы PS4:       0.40190287811475334\n"
     ]
    },
    {
     "data": {
      "image/png": "[encoded data removed]",
      "text/plain": [
       "<Figure size 576x216 with 2 Axes>"
      ]
     },
     "metadata": {
      "needs_background": "light"
     },
     "output_type": "display_data"
    }
   ],
   "source": [
    "scatters_and_corr(games=games, plat='PS4')"
   ]
  },
  {
   "cell_type": "markdown",
   "id": "743fca23",
   "metadata": {},
   "source": [
    "Для PS4 мы наблюдаем отсутствие зависимости между оценками пользователей и общими продажами игр для этой платформы.  \n",
    "Но можем наблюдать слабо-умеренную корреляцию между оценками критиков и уровнем продаж. По графику распределения заметно, что уровень продаж значительно увеличивается , когда значение оценки критиков больше 70."
   ]
  },
  {
   "cell_type": "code",
   "execution_count": 91,
   "id": "e518bc9c",
   "metadata": {},
   "outputs": [
    {
     "name": "stdout",
     "output_type": "stream",
     "text": [
      "Корреляция между оценками пользователей и продажами для платформы XOne:       -0.0917343450331075\n",
      "Корреляция между оценками критиков и продажами для платформы XOne:       0.42211185105557647\n"
     ]
    },
    {
     "data": {
      "image/png": "[encoded data removed]",
      "text/plain": [
       "<Figure size 576x216 with 2 Axes>"
      ]
     },
     "metadata": {
      "needs_background": "light"
     },
     "output_type": "display_data"
    }
   ],
   "source": [
    "scatters_and_corr(games=games, plat='XOne')"
   ]
  },
  {
   "cell_type": "markdown",
   "id": "24de3e3d",
   "metadata": {},
   "source": [
    "Для XOne наблюдается аналогичная картина, что и для PS4."
   ]
  },
  {
   "cell_type": "code",
   "execution_count": 92,
   "id": "c28e5393",
   "metadata": {},
   "outputs": [
    {
     "name": "stdout",
     "output_type": "stream",
     "text": [
      "Корреляция между оценками пользователей и продажами для платформы 3DS:       0.2798498792503281\n",
      "Корреляция между оценками критиков и продажами для платформы 3DS:       0.28468579095782925\n"
     ]
    },
    {
     "data": {
      "image/png": "[encoded data removed]",
      "text/plain": [
       "<Figure size 576x216 with 2 Axes>"
      ]
     },
     "metadata": {
      "needs_background": "light"
     },
     "output_type": "display_data"
    }
   ],
   "source": [
    "scatters_and_corr(games=games, plat='3DS')"
   ]
  },
  {
   "cell_type": "markdown",
   "id": "7f1d153f",
   "metadata": {},
   "source": [
    "Для 3DS наблюдается слабая корреляция между оценками критиков или пользователей и уровнем продаж."
   ]
  },
  {
   "cell_type": "code",
   "execution_count": 93,
   "id": "4abb0b44",
   "metadata": {},
   "outputs": [
    {
     "name": "stdout",
     "output_type": "stream",
     "text": [
      "Корреляция между оценками пользователей и продажами для платформы PC:       -0.08997391228554938\n",
      "Корреляция между оценками критиков и продажами для платформы PC:       0.17206091490145103\n"
     ]
    },
    {
     "data": {
      "image/png": "[encoded data removed]",
      "text/plain": [
       "<Figure size 576x216 with 2 Axes>"
      ]
     },
     "metadata": {
      "needs_background": "light"
     },
     "output_type": "display_data"
    }
   ],
   "source": [
    "scatters_and_corr(games=games, plat='PC')"
   ]
  },
  {
   "cell_type": "markdown",
   "id": "7791845f",
   "metadata": {},
   "source": [
    "Для персональных компьютеров отсутствует корреляция между оценками пользователей и общими продажами. Оценки критиков тоже практически не влияют на продажи."
   ]
  },
  {
   "cell_type": "markdown",
   "id": "bfd12aeb",
   "metadata": {},
   "source": [
    "### Посмотрим на общее распределение игр по жанрам\n",
    "\n",
    "Рассмотрим общее распределение игр по жанрам. Проанализируем самые прибыльные жанры? Выделяются ли жанры с высокими и низкими продажами?"
   ]
  },
  {
   "cell_type": "code",
   "execution_count": 94,
   "id": "1f148301",
   "metadata": {},
   "outputs": [
    {
     "data": {
      "text/html": [
       "<div>\n",
       "<style scoped>\n",
       "    .dataframe tbody tr th:only-of-type {\n",
       "        vertical-align: middle;\n",
       "    }\n",
       "\n",
       "    .dataframe tbody tr th {\n",
       "        vertical-align: top;\n",
       "    }\n",
       "\n",
       "    .dataframe thead th {\n",
       "        text-align: right;\n",
       "    }\n",
       "</style>\n",
       "<table border=\"1\" class=\"dataframe\">\n",
       "  <thead>\n",
       "    <tr style=\"text-align: right;\">\n",
       "      <th></th>\n",
       "      <th>platform</th>\n",
       "      <th>genre</th>\n",
       "      <th>count</th>\n",
       "      <th>median</th>\n",
       "    </tr>\n",
       "  </thead>\n",
       "  <tbody>\n",
       "    <tr>\n",
       "      <th>42</th>\n",
       "      <td>XOne</td>\n",
       "      <td>Shooter</td>\n",
       "      <td>29</td>\n",
       "      <td>1.13</td>\n",
       "    </tr>\n",
       "    <tr>\n",
       "      <th>41</th>\n",
       "      <td>PS4</td>\n",
       "      <td>Shooter</td>\n",
       "      <td>31</td>\n",
       "      <td>0.88</td>\n",
       "    </tr>\n",
       "    <tr>\n",
       "      <th>40</th>\n",
       "      <td>PS4</td>\n",
       "      <td>Sports</td>\n",
       "      <td>37</td>\n",
       "      <td>0.60</td>\n",
       "    </tr>\n",
       "    <tr>\n",
       "      <th>39</th>\n",
       "      <td>3DS</td>\n",
       "      <td>Sports</td>\n",
       "      <td>1</td>\n",
       "      <td>0.48</td>\n",
       "    </tr>\n",
       "    <tr>\n",
       "      <th>38</th>\n",
       "      <td>XOne</td>\n",
       "      <td>Sports</td>\n",
       "      <td>27</td>\n",
       "      <td>0.46</td>\n",
       "    </tr>\n",
       "    <tr>\n",
       "      <th>37</th>\n",
       "      <td>3DS</td>\n",
       "      <td>Simulation</td>\n",
       "      <td>3</td>\n",
       "      <td>0.42</td>\n",
       "    </tr>\n",
       "    <tr>\n",
       "      <th>36</th>\n",
       "      <td>XOne</td>\n",
       "      <td>Role-Playing</td>\n",
       "      <td>9</td>\n",
       "      <td>0.39</td>\n",
       "    </tr>\n",
       "    <tr>\n",
       "      <th>35</th>\n",
       "      <td>PS4</td>\n",
       "      <td>Simulation</td>\n",
       "      <td>2</td>\n",
       "      <td>0.37</td>\n",
       "    </tr>\n",
       "    <tr>\n",
       "      <th>34</th>\n",
       "      <td>PS4</td>\n",
       "      <td>Misc</td>\n",
       "      <td>7</td>\n",
       "      <td>0.36</td>\n",
       "    </tr>\n",
       "    <tr>\n",
       "      <th>33</th>\n",
       "      <td>3DS</td>\n",
       "      <td>Misc</td>\n",
       "      <td>4</td>\n",
       "      <td>0.35</td>\n",
       "    </tr>\n",
       "  </tbody>\n",
       "</table>\n",
       "</div>"
      ],
      "text/plain": [
       "   platform         genre  count  median\n",
       "42     XOne       Shooter     29    1.13\n",
       "41      PS4       Shooter     31    0.88\n",
       "40      PS4        Sports     37    0.60\n",
       "39      3DS        Sports      1    0.48\n",
       "38     XOne        Sports     27    0.46\n",
       "37      3DS    Simulation      3    0.42\n",
       "36     XOne  Role-Playing      9    0.39\n",
       "35      PS4    Simulation      2    0.37\n",
       "34      PS4          Misc      7    0.36\n",
       "33      3DS          Misc      4    0.35"
      ]
     },
     "execution_count": 94,
     "metadata": {},
     "output_type": "execute_result"
    }
   ],
   "source": [
    "genres = (games\n",
    "          .pivot_table(index=['platform', 'genre'], values=['total_sales', 'name'], aggfunc={'total_sales': 'median', 'name': 'count'})\n",
    "          .sort_values(by='total_sales', ascending=True)\n",
    "          .reset_index()\n",
    "          .sort_values(by='total_sales', ascending=False)\n",
    "          .rename(columns={'name': 'count', 'total_sales': 'median'})\n",
    "          .head(10)\n",
    "          )\n",
    "genres"
   ]
  },
  {
   "cell_type": "code",
   "execution_count": 95,
   "id": "bd63f110",
   "metadata": {},
   "outputs": [
    {
     "data": {
      "image/png": "[encoded data removed]",
      "text/plain": [
       "<Figure size 1080x360 with 1 Axes>"
      ]
     },
     "metadata": {
      "needs_background": "light"
     },
     "output_type": "display_data"
    },
    {
     "data": {
      "image/png": "[encoded data removed]",
      "text/plain": [
       "<Figure size 1142.5x360 with 1 Axes>"
      ]
     },
     "metadata": {
      "needs_background": "light"
     },
     "output_type": "display_data"
    }
   ],
   "source": [
    "sns.catplot(data=games, x='genre', y='total_sales', kind='box', aspect=3)\n",
    "plt.ylim(0, 4.5)\n",
    "plt.grid()\n",
    "sns.catplot(data=games, x='genre', y='total_sales',\n",
    "            kind='box', aspect=3, hue='platform')\n",
    "plt.ylim(0, 4.5)\n",
    "plt.grid()"
   ]
  },
  {
   "cell_type": "markdown",
   "id": "2645d256",
   "metadata": {},
   "source": [
    "Диаграммы размаха иллюстрируют наиболее популярные жанры.  \n",
    "Shooter - наиболее популярный жанр, чаще всего в него играют на PS4 и XOne. Далее по-убыванию:  \n",
    "В Sports играют чаще всего все на тех же платформах, небольшая часть приходится на PC.  \n",
    "Action следующий по популярности, пользуется спросом на всех топовых платформах, но лидерами являются все те же PS4 и XOne.\n",
    "\n",
    "Можно отметить, что для PS4 и XOne распределение по жанрам похоже. Но для 3DS наблюдается иная картина, там наибольшим спросом пользуются жанры Simulation и Platform (платформер)."
   ]
  },
  {
   "cell_type": "markdown",
   "id": "feed9b7a",
   "metadata": {},
   "source": [
    "## Составим портрет пользователя каждого региона"
   ]
  },
  {
   "cell_type": "markdown",
   "id": "e0fc5ecf",
   "metadata": {},
   "source": [
    "### Выделим Топ-5 самых популярных платформ для каждого региона"
   ]
  },
  {
   "cell_type": "code",
   "execution_count": 96,
   "id": "24c18334",
   "metadata": {},
   "outputs": [],
   "source": [
    "def top5_platforms(games, region):\n",
    "    top5_for_region = (games\n",
    "                       .pivot_table(index='platform', values=region, aggfunc='sum')\n",
    "                       .sort_values(by=region, ascending=False)\n",
    "                       .head(5)\n",
    "                       .reset_index()\n",
    "                       )\n",
    "    print(top5_for_region)\n",
    "    return top5_for_region"
   ]
  },
  {
   "cell_type": "code",
   "execution_count": 97,
   "id": "39d93b46",
   "metadata": {},
   "outputs": [
    {
     "name": "stdout",
     "output_type": "stream",
     "text": [
      "--------Северная америка--------\n",
      "  platform  na_sales\n",
      "0      PS4     74.79\n",
      "1     XOne     66.71\n",
      "2      3DS      7.80\n",
      "3       PC      6.89\n",
      "--------Европа--------\n",
      "  platform  eu_sales\n",
      "0      PS4    101.69\n",
      "1     XOne     38.03\n",
      "2       PC     15.24\n",
      "3      3DS      5.25\n",
      "--------Япония--------\n",
      "  platform  jp_sales\n",
      "0      3DS      9.94\n",
      "1      PS4      8.49\n",
      "2     XOne      0.27\n",
      "3       PC      0.00\n",
      "--------Остальной мир--------\n",
      "  platform  other_sales\n",
      "0      PS4        34.23\n",
      "1     XOne        10.28\n",
      "2       PC         1.68\n",
      "3      3DS         1.22\n"
     ]
    }
   ],
   "source": [
    "print('--------Северная америка--------')\n",
    "top5_na = top5_platforms(games=games, region='na_sales')\n",
    "print('--------Европа--------')\n",
    "top5_eu = top5_platforms(games=games, region='eu_sales')\n",
    "print('--------Япония--------')\n",
    "top5_jp = top5_platforms(games=games, region='jp_sales')\n",
    "print('--------Остальной мир--------')\n",
    "top5_other = top5_platforms(games=games, region='other_sales')"
   ]
  },
  {
   "cell_type": "code",
   "execution_count": 98,
   "id": "e43288fd",
   "metadata": {},
   "outputs": [],
   "source": [
    "# исключим PC в Японии, т.к равно нулю.\n",
    "top5_jp = top5_jp.query('platform != \"PC\"')"
   ]
  },
  {
   "cell_type": "markdown",
   "id": "8e6ed55c",
   "metadata": {},
   "source": [
    "Визуализируем распределение жанров по регионам с помощью круговых диаграмм."
   ]
  },
  {
   "cell_type": "code",
   "execution_count": 104,
   "id": "9da3b8b1",
   "metadata": {},
   "outputs": [
    {
     "data": {
      "image/png": "[encoded data removed]",
      "text/plain": [
       "<Figure size 432x288 with 4 Axes>"
      ]
     },
     "metadata": {},
     "output_type": "display_data"
    }
   ],
   "source": [
    "fig, axes = plt.subplots(2, 2)\n",
    "plt.subplots_adjust(hspace=2, wspace=7)\n",
    "\n",
    "axes[0, 0].pie(top5_na['na_sales'], labels=top5_na['platform'], radius=4,\n",
    "               autopct='%1.1f%%', wedgeprops={\"linewidth\": 1, \"edgecolor\": \"white\"},)\n",
    "axes[0, 1].pie(top5_eu['eu_sales'], labels=top5_eu['platform'], radius=4,\n",
    "               autopct='%1.1f%%', wedgeprops={\"linewidth\": 1, \"edgecolor\": \"white\"})\n",
    "axes[1, 0].pie(top5_jp['jp_sales'], labels=top5_jp['platform'], radius=4,\n",
    "               autopct='%1.1f%%', wedgeprops={\"linewidth\": 1, \"edgecolor\": \"white\"}, pctdistance=.7)\n",
    "axes[1, 1].pie(top5_other['other_sales'], labels=top5_other['platform'], radius=4,\n",
    "               autopct='%1.1f%%', wedgeprops={\"linewidth\": 1, \"edgecolor\": \"white\"}, pctdistance=.7)\n",
    "\n",
    "axes[0, 0].set_title('Северная Америка', loc='center', pad=70)\n",
    "axes[0, 1].set_title('Европа', loc='center', pad=70)\n",
    "axes[1, 0].set_title('Япония', loc='center', pad=70)\n",
    "axes[1, 1].set_title('Другие страны', loc='center', pad=70);"
   ]
  },
  {
   "cell_type": "markdown",
   "id": "e27e0cd7",
   "metadata": {},
   "source": [
    "Для Северной Америки и Европы самыми популярными платформами являются PS4 и XOne, на их долю приходится более 80% продаж. \"Остальной мир\" очень похож по распределению на европейский рынок.\n",
    "\n",
    "В Японии же лидируют по продажам игры на 3DS, далее следует PS4. На долю родных для Японии Nintendo и Sony приходится более 98% продаж."
   ]
  },
  {
   "cell_type": "markdown",
   "id": "b39b82e8",
   "metadata": {},
   "source": [
    "### Выделим Топ-5 самых популярных жанров для каждого региона"
   ]
  },
  {
   "cell_type": "code",
   "execution_count": 105,
   "id": "d833b0f9",
   "metadata": {},
   "outputs": [],
   "source": [
    "def top5_genres(games, region):\n",
    "    top5_for_region = (games\n",
    "                       .pivot_table(index='genre', values=region, aggfunc='sum')\n",
    "                       .sort_values(by=region, ascending=False)\n",
    "                       .head(5)\n",
    "                       .reset_index()\n",
    "                       )\n",
    "    print(top5_for_region)\n",
    "    return top5_for_region"
   ]
  },
  {
   "cell_type": "code",
   "execution_count": 106,
   "id": "78cd1743",
   "metadata": {},
   "outputs": [
    {
     "name": "stdout",
     "output_type": "stream",
     "text": [
      "--------Северная америка--------\n",
      "          genre  na_sales\n",
      "0       Shooter     47.02\n",
      "1        Action     43.60\n",
      "2        Sports     31.28\n",
      "3  Role-Playing     15.20\n",
      "4      Fighting      4.42\n",
      "--------Европа--------\n",
      "          genre  eu_sales\n",
      "0        Action     47.39\n",
      "1       Shooter     39.93\n",
      "2        Sports     32.12\n",
      "3  Role-Playing     14.63\n",
      "4        Racing      8.26\n",
      "--------Япония--------\n",
      "          genre  jp_sales\n",
      "0  Role-Playing      6.16\n",
      "1        Action      4.87\n",
      "2       Shooter      2.04\n",
      "3    Simulation      1.83\n",
      "4      Platform      1.20\n",
      "--------Остальной мир--------\n",
      "          genre  other_sales\n",
      "0        Action        14.32\n",
      "1       Shooter        12.77\n",
      "2        Sports        10.15\n",
      "3  Role-Playing         4.18\n",
      "4        Racing         1.56\n"
     ]
    }
   ],
   "source": [
    "print('--------Северная америка--------')\n",
    "top5_na = top5_genres(games=games, region='na_sales')\n",
    "print('--------Европа--------')\n",
    "top5_eu = top5_genres(games=games, region='eu_sales')\n",
    "print('--------Япония--------')\n",
    "top5_jp = top5_genres(games=games, region='jp_sales')\n",
    "print('--------Остальной мир--------')\n",
    "top5_other = top5_genres(games=games, region='other_sales')"
   ]
  },
  {
   "cell_type": "code",
   "execution_count": 107,
   "id": "4524587a",
   "metadata": {},
   "outputs": [
    {
     "data": {
      "text/plain": [
       "Text(0.5, 1.0, 'Другие страны')"
      ]
     },
     "execution_count": 107,
     "metadata": {},
     "output_type": "execute_result"
    },
    {
     "data": {
      "image/png": "[encoded data removed]",
      "text/plain": [
       "<Figure size 432x288 with 4 Axes>"
      ]
     },
     "metadata": {},
     "output_type": "display_data"
    }
   ],
   "source": [
    "fig, axes = plt.subplots(2, 2)\n",
    "plt.subplots_adjust(hspace=2, wspace=7)\n",
    "\n",
    "axes[0, 0].pie(top5_na['na_sales'], labels=top5_na['genre'], radius=4,\n",
    "               autopct='%1.1f%%', wedgeprops={\"linewidth\": 1, \"edgecolor\": \"white\"},)\n",
    "axes[0, 1].pie(top5_eu['eu_sales'], labels=top5_eu['genre'], radius=4,\n",
    "               autopct='%1.1f%%', wedgeprops={\"linewidth\": 1, \"edgecolor\": \"white\"})\n",
    "axes[1, 0].pie(top5_jp['jp_sales'], labels=top5_jp['genre'], radius=4,\n",
    "               autopct='%1.1f%%', wedgeprops={\"linewidth\": 1, \"edgecolor\": \"white\"})\n",
    "axes[1, 1].pie(top5_other['other_sales'], labels=top5_other['genre'], radius=4,\n",
    "               autopct='%1.1f%%', wedgeprops={\"linewidth\": 1, \"edgecolor\": \"white\"})\n",
    "\n",
    "axes[0, 0].set_title('Северная Америка', loc='center', pad=70)\n",
    "axes[0, 1].set_title('Европа', loc='center', pad=70)\n",
    "axes[1, 0].set_title('Япония', loc='center', pad=60)\n",
    "axes[1, 1].set_title('Другие страны', loc='center', pad=60);"
   ]
  },
  {
   "cell_type": "markdown",
   "id": "63ebb125",
   "metadata": {},
   "source": [
    "Для Европы Топ жанров выглядит так: Action, Shooter, Sports, Role-play и Racing.  \n",
    "Распределение для \"остального\" мира очень похоже на европейское.  \n",
    "В Северной Америке похожая картина, но на первое место паподает Shooter, затем Action, Sports, Role-play и завершает топ-5 Fighting. \n",
    "Япония же сильно выделяется, отдавая предпочтения в первую очередь ролевым играм. Далее следуют в порядке убывания привычные нам Action и Shooter, а завершают топ Simulation и Platform. "
   ]
  },
  {
   "cell_type": "markdown",
   "id": "fddf1eb2",
   "metadata": {},
   "source": [
    "### Выясним: влияет ли рейтинг ESRB на продажи в отдельном регионе?"
   ]
  },
  {
   "cell_type": "code",
   "execution_count": 48,
   "id": "6dfc3039",
   "metadata": {},
   "outputs": [],
   "source": [
    "def esrb_in_region(games, region):\n",
    "    esrb_in_region = (games\n",
    "                      .query('rating != \"Unknown\"')\n",
    "                      .pivot_table(index='rating', values=region, aggfunc='sum')\n",
    "                      .sort_values(by=region, ascending=False)\n",
    "                      .reset_index()\n",
    "                      # исключим из рассмотрения рейтинг RP (Rating Pending): рейтинг ожидается.\n",
    "                      .query('rating != \"RP\"')\n",
    "                      )\n",
    "    print(esrb_in_region)\n",
    "    return esrb_in_region"
   ]
  },
  {
   "cell_type": "code",
   "execution_count": 49,
   "id": "7d595545",
   "metadata": {},
   "outputs": [
    {
     "name": "stdout",
     "output_type": "stream",
     "text": [
      "--------Северная америка--------\n",
      "  rating  na_sales\n",
      "0      M     80.28\n",
      "1      T     29.73\n",
      "2      E     29.17\n",
      "3   E10+     16.26\n",
      "--------Европа--------\n",
      "  rating  eu_sales\n",
      "0      M     80.38\n",
      "1      E     39.14\n",
      "2      T     27.89\n",
      "3   E10+     11.19\n",
      "--------Япония--------\n",
      "  rating  jp_sales\n",
      "0      T      6.35\n",
      "1      M      5.35\n",
      "2      E      4.82\n",
      "3   E10+      2.04\n",
      "--------Остальной мир--------\n",
      "  rating  other_sales\n",
      "0      M        24.15\n",
      "1      E        10.11\n",
      "2      T         8.90\n",
      "3   E10+         3.98\n"
     ]
    }
   ],
   "source": [
    "print('--------Северная америка--------')\n",
    "esrb_na = esrb_in_region(games=games, region='na_sales')\n",
    "print('--------Европа--------')\n",
    "esrb_eu = esrb_in_region(games=games, region='eu_sales')\n",
    "print('--------Япония--------')\n",
    "esrb_jp = esrb_in_region(games=games, region='jp_sales')\n",
    "print('--------Остальной мир--------')\n",
    "esrb_other = esrb_in_region(games=games, region='other_sales')"
   ]
  },
  {
   "cell_type": "code",
   "execution_count": 50,
   "id": "20825dcd",
   "metadata": {},
   "outputs": [
    {
     "data": {
      "text/plain": [
       "Text(0.5, 1.0, 'Другие страны')"
      ]
     },
     "execution_count": 50,
     "metadata": {},
     "output_type": "execute_result"
    },
    {
     "data": {
      "image/png": "[encoded data removed]",
      "text/plain": [
       "<Figure size 432x288 with 4 Axes>"
      ]
     },
     "metadata": {},
     "output_type": "display_data"
    }
   ],
   "source": [
    "fig, axes = plt.subplots(2, 2)\n",
    "plt.subplots_adjust(hspace=2, wspace=7)\n",
    "\n",
    "axes[0, 0].pie(esrb_na['na_sales'], labels=esrb_na['rating'], radius=4,\n",
    "               autopct='%1.1f%%', wedgeprops={\"linewidth\": 1, \"edgecolor\": \"white\"},)\n",
    "axes[0, 1].pie(esrb_eu['eu_sales'], labels=esrb_eu['rating'], radius=4,\n",
    "               autopct='%1.1f%%', wedgeprops={\"linewidth\": 1, \"edgecolor\": \"white\"})\n",
    "axes[1, 0].pie(esrb_jp['jp_sales'], labels=esrb_jp['rating'], radius=4,\n",
    "               autopct='%1.1f%%', wedgeprops={\"linewidth\": 1, \"edgecolor\": \"white\"})\n",
    "axes[1, 1].pie(esrb_other['other_sales'], labels=esrb_other['rating'], radius=4,\n",
    "               autopct='%1.1f%%', wedgeprops={\"linewidth\": 1, \"edgecolor\": \"white\"})\n",
    "\n",
    "axes[0, 0].set_title('Северная Америка', loc='center', pad=70)\n",
    "axes[0, 1].set_title('Европа', loc='center', pad=70)\n",
    "axes[1, 0].set_title('Япония', loc='center', pad=70)\n",
    "axes[1, 1].set_title('Другие страны', loc='center', pad=70);"
   ]
  },
  {
   "cell_type": "markdown",
   "id": "c9b27646",
   "metadata": {},
   "source": [
    "Рейтинг \"М\" (\"mature\", не подходит для лиц младше 17 лет) - самый популярный на просторах Северной Америки, Европы и оставшихся стран, кроме Японии. В Японии данный рейтинг уступает по популярности рейтингу \"T\" (\"teen\") - играм для подростков старше 13 лет.  \n",
    "Распределение рейтингов для \"остального\" мира так же похоже на европейское: M (\"mature\"), E (\"everyone\", для всех), T (\"teen\"), E10+ (для лиц старше 10 лет). "
   ]
  },
  {
   "cell_type": "markdown",
   "id": "fc399f59",
   "metadata": {},
   "source": [
    "## Проверка гипотез"
   ]
  },
  {
   "cell_type": "markdown",
   "id": "4e96ad9c",
   "metadata": {},
   "source": [
    "### Проверим, что средние пользовательские рейтинги платформ Xbox One и PC одинаковые\n",
    "Для этого сформулируем нулевую теорию H0 и альтернативную H1:  \n",
    "H0 - cредние пользовательские рейтинги платформ Xbox One и PC одинаковые.  \n",
    "H1 - cредние пользовательские рейтинги платформ Xbox One и PC отличаются."
   ]
  },
  {
   "cell_type": "code",
   "execution_count": 51,
   "id": "ef08a294",
   "metadata": {},
   "outputs": [],
   "source": [
    "xone_user_rating = games.loc[games['platform'] == 'XOne', 'user_score']\n",
    "pc_user_rating = games.loc[games['platform'] == 'PC', 'user_score']"
   ]
  },
  {
   "cell_type": "code",
   "execution_count": 52,
   "id": "32fa6d2d",
   "metadata": {},
   "outputs": [
    {
     "name": "stdout",
     "output_type": "stream",
     "text": [
      "Значение p-value: 0.12817793652639856\n",
      "Не отвергаем нулевую гипотезу\n"
     ]
    }
   ],
   "source": [
    "alpha = .05\n",
    "result = st.ttest_ind(xone_user_rating, pc_user_rating)\n",
    "print(f'Значение p-value: {result.pvalue}')\n",
    "\n",
    "if (result.pvalue < alpha):\n",
    "    print('Отвергаем нулевую гипотезу')\n",
    "else:\n",
    "    print('Не отвергаем нулевую гипотезу')"
   ]
  },
  {
   "cell_type": "markdown",
   "id": "a83b4662",
   "metadata": {},
   "source": [
    "Для уровня значимости $\\alpha = 0.05$ нет оснований отвергнуть нулевую гипотезу о том, что средние пользовательские рейтинги платформ Xbox One и PC одинаковые. </div>"
   ]
  },
  {
   "cell_type": "markdown",
   "id": "e3571626",
   "metadata": {},
   "source": [
    "### Проверим, что средние пользовательские рейтинги жанров Action и Sports разные.\n",
    "Для этого сформулируем нулевую теорию H0 и альтернативную H1:  \n",
    "H0 - cредние пользовательские рейтинги жанров Action и Sports одинаковые.  \n",
    "H1 - cредние пользовательские рейтинги жанров Action и Sports разные."
   ]
  },
  {
   "cell_type": "code",
   "execution_count": 53,
   "id": "23e1eb2f",
   "metadata": {},
   "outputs": [],
   "source": [
    "action_user_rating = games.loc[games['genre'] == 'Action', 'user_score']\n",
    "sports_user_rating = games.loc[games['genre'] == 'Sports', 'user_score']"
   ]
  },
  {
   "cell_type": "code",
   "execution_count": 54,
   "id": "4fc94199",
   "metadata": {},
   "outputs": [
    {
     "name": "stdout",
     "output_type": "stream",
     "text": [
      "Значение p-value: 3.767962260268026e-07\n",
      "Отвергаем нулевую гипотезу\n"
     ]
    }
   ],
   "source": [
    "alpha = .05\n",
    "result = st.ttest_ind(action_user_rating, sports_user_rating)\n",
    "print(f'Значение p-value: {result.pvalue}')\n",
    "\n",
    "if (result.pvalue < alpha):\n",
    "    print('Отвергаем нулевую гипотезу')\n",
    "else:\n",
    "    print('Не отвергаем нулевую гипотезу')"
   ]
  },
  {
   "cell_type": "markdown",
   "id": "70a16a80",
   "metadata": {},
   "source": [
    "Для уровня значимости $\\alpha = 0.05$ есть основания отказаться от нулевой гипотезы в пользу альтернативной о том, что срелние пользовательские рейтинги жанров Action и Sports разные."
   ]
  },
  {
   "cell_type": "markdown",
   "id": "79109340",
   "metadata": {},
   "source": [
    "## Вывод\n",
    "\n",
    "Было проведено исследование данных о продаже игр за 2009-2016 годы.  \n",
    "По результатам исследования были сделаны следующие выводы:  \n",
    "- Среднее время \"жизни\" платформы - 7 лет.  \n",
    "- Наиболее популярные по продажам платформы: 'PS3', 'X360', 'Wii', 'PS4', 'XOne'.  \n",
    "- Максимальные продажи игр наблюдались в 2008-2009 годах и с тех пор падают вплоть до 2016 года.  \n",
    "- К 2016 году наиболее актуальными платформами являются: PlayStation 4, Xbox One, Nintendo 3DS и PC. Но судя по графикам продаж, продажи для данных платформ будут в 2017 году ниже, чем в 2016.  \n",
    "- Почти отсутствует влияние оценок пользователей на продажи игр.  \n",
    "- Для некоторых платформ характерно слабое влияние оценок критиков на общие продажи.  \n",
    "- Северная Америка и Европа похожи по жанровым предпочтениям.  \n",
    "\n",
    "    Если говорить о результатах исследования в рамках ранее поставленной цели исследования, то можно сказать, что:\n",
    "- Наиболее успешными для Северной Америки будут являться игры жанра экшн, шутер и спорт, доля их продаж почти 80%, с возрастным рейтингом 17+. Играть в них будут предпочтительнее на Xbox и PlayStation.  \n",
    "- Европа по своим игровым предпочтениям очень похожа на Северную Америку. Но стоит отметить, что в Европе чаще отдают предпочтение приставке от Sony: лидирует PS3, на втором месте Xbox, а на третьем,набирающая обороты относительно PS3 и Xbox 360, PlayStation 4.\n",
    "- Япония имеет специфичные игровые предпочтения, уделяя большое внимание приставкам от родных Nintendo и Sony. Предпочитают японцы играть в ролевые игры, экшены и платформеры. Так же они соблюдают возрастной рейтинг, либо просто отдают предпочтения играм для всех и подростковым играм.  \n",
    "\n",
    "Обобщая, сделаем такой вывод: упор по продажам стоит делать на экшены, шутеры и спортивные игры, предназначенные для взрослой аудитории. Предпочтительными платформами будут являться PS4 и Xbox One, не смотря на популярность своих предшественников в прошлом, эти самые предшественники (PS3 и Xbox 360) находятся на исходе своей популярности."
   ]
  }
 ],
 "metadata": {
  "ExecuteTimeLog": [
   {
    "duration": 1341,
    "start_time": "2022-11-24T17:22:09.396Z"
   },
   {
    "duration": 229,
    "start_time": "2022-11-24T17:22:10.739Z"
   },
   {
    "duration": 20,
    "start_time": "2022-11-24T17:22:10.970Z"
   },
   {
    "duration": 31,
    "start_time": "2022-11-24T17:22:10.992Z"
   },
   {
    "duration": 17,
    "start_time": "2022-11-24T17:22:11.025Z"
   },
   {
    "duration": 13,
    "start_time": "2022-11-24T17:22:11.044Z"
   },
   {
    "duration": 3,
    "start_time": "2022-11-24T17:22:11.059Z"
   },
   {
    "duration": 5,
    "start_time": "2022-11-24T17:22:11.064Z"
   },
   {
    "duration": 44,
    "start_time": "2022-11-24T17:22:11.070Z"
   },
   {
    "duration": 15,
    "start_time": "2022-11-24T17:22:11.116Z"
   },
   {
    "duration": 20,
    "start_time": "2022-11-24T17:22:11.133Z"
   },
   {
    "duration": 4,
    "start_time": "2022-11-24T17:22:11.155Z"
   },
   {
    "duration": 117,
    "start_time": "2022-11-24T17:22:11.161Z"
   },
   {
    "duration": 9,
    "start_time": "2022-11-24T17:22:11.282Z"
   },
   {
    "duration": 33,
    "start_time": "2022-11-24T17:22:11.292Z"
   },
   {
    "duration": 9,
    "start_time": "2022-11-24T17:22:11.328Z"
   },
   {
    "duration": 9,
    "start_time": "2022-11-24T17:22:11.339Z"
   },
   {
    "duration": 5,
    "start_time": "2022-11-24T17:22:11.350Z"
   },
   {
    "duration": 8,
    "start_time": "2022-11-24T17:22:11.356Z"
   },
   {
    "duration": 390,
    "start_time": "2022-11-24T17:22:11.366Z"
   },
   {
    "duration": 17,
    "start_time": "2022-11-24T17:22:11.758Z"
   },
   {
    "duration": 7,
    "start_time": "2022-11-24T17:22:11.777Z"
   },
   {
    "duration": 222,
    "start_time": "2022-11-24T17:22:11.786Z"
   },
   {
    "duration": 26,
    "start_time": "2022-11-24T17:22:12.013Z"
   },
   {
    "duration": 248,
    "start_time": "2022-11-24T17:22:12.041Z"
   },
   {
    "duration": 3,
    "start_time": "2022-11-24T17:22:12.291Z"
   },
   {
    "duration": 177,
    "start_time": "2022-11-24T17:22:12.295Z"
   },
   {
    "duration": 6,
    "start_time": "2022-11-24T17:22:12.473Z"
   },
   {
    "duration": 6,
    "start_time": "2022-11-24T17:22:12.480Z"
   },
   {
    "duration": 243,
    "start_time": "2022-11-24T17:22:12.488Z"
   },
   {
    "duration": 210,
    "start_time": "2022-11-24T17:22:12.733Z"
   },
   {
    "duration": 208,
    "start_time": "2022-11-24T17:22:12.945Z"
   },
   {
    "duration": 264,
    "start_time": "2022-11-24T17:22:13.155Z"
   },
   {
    "duration": 17,
    "start_time": "2022-11-24T17:22:13.421Z"
   },
   {
    "duration": 232,
    "start_time": "2022-11-24T17:22:13.440Z"
   },
   {
    "duration": 3,
    "start_time": "2022-11-24T17:22:13.673Z"
   },
   {
    "duration": 45,
    "start_time": "2022-11-24T17:22:13.678Z"
   },
   {
    "duration": 310,
    "start_time": "2022-11-24T17:22:13.725Z"
   },
   {
    "duration": 3,
    "start_time": "2022-11-24T17:22:14.036Z"
   },
   {
    "duration": 34,
    "start_time": "2022-11-24T17:22:14.040Z"
   },
   {
    "duration": 336,
    "start_time": "2022-11-24T17:22:14.077Z"
   },
   {
    "duration": 4,
    "start_time": "2022-11-24T17:22:14.414Z"
   },
   {
    "duration": 47,
    "start_time": "2022-11-24T17:22:14.420Z"
   },
   {
    "duration": 316,
    "start_time": "2022-11-24T17:22:14.469Z"
   },
   {
    "duration": 4,
    "start_time": "2022-11-24T17:22:14.787Z"
   },
   {
    "duration": 21,
    "start_time": "2022-11-24T17:22:14.793Z"
   },
   {
    "duration": 9,
    "start_time": "2022-11-24T17:22:14.816Z"
   },
   {
    "duration": 7,
    "start_time": "2022-11-24T17:22:14.826Z"
   },
   {
    "duration": 19,
    "start_time": "2022-11-24T17:55:22.701Z"
   },
   {
    "duration": 1059,
    "start_time": "2022-11-24T17:55:34.453Z"
   },
   {
    "duration": 216,
    "start_time": "2022-11-24T17:55:35.516Z"
   },
   {
    "duration": 18,
    "start_time": "2022-11-24T17:55:35.733Z"
   },
   {
    "duration": 28,
    "start_time": "2022-11-24T17:55:35.753Z"
   },
   {
    "duration": 31,
    "start_time": "2022-11-24T17:55:35.782Z"
   },
   {
    "duration": 12,
    "start_time": "2022-11-24T17:55:35.815Z"
   },
   {
    "duration": 3,
    "start_time": "2022-11-24T17:55:35.829Z"
   },
   {
    "duration": 6,
    "start_time": "2022-11-24T17:55:35.834Z"
   },
   {
    "duration": 16,
    "start_time": "2022-11-24T17:55:35.841Z"
   },
   {
    "duration": 15,
    "start_time": "2022-11-24T17:55:35.860Z"
   },
   {
    "duration": 48,
    "start_time": "2022-11-24T17:55:35.877Z"
   },
   {
    "duration": 3,
    "start_time": "2022-11-24T17:55:35.926Z"
   },
   {
    "duration": 89,
    "start_time": "2022-11-24T17:55:35.931Z"
   },
   {
    "duration": 10,
    "start_time": "2022-11-24T17:55:36.022Z"
   },
   {
    "duration": 13,
    "start_time": "2022-11-24T17:55:36.033Z"
   },
   {
    "duration": 8,
    "start_time": "2022-11-24T17:55:36.048Z"
   },
   {
    "duration": 9,
    "start_time": "2022-11-24T17:55:36.057Z"
   },
   {
    "duration": 5,
    "start_time": "2022-11-24T17:55:36.068Z"
   },
   {
    "duration": 9,
    "start_time": "2022-11-24T17:55:36.112Z"
   },
   {
    "duration": 20,
    "start_time": "2022-11-24T17:55:36.123Z"
   },
   {
    "duration": 357,
    "start_time": "2022-11-24T17:55:36.146Z"
   },
   {
    "duration": 21,
    "start_time": "2022-11-24T17:55:36.504Z"
   },
   {
    "duration": 7,
    "start_time": "2022-11-24T17:55:36.526Z"
   },
   {
    "duration": 202,
    "start_time": "2022-11-24T17:55:36.535Z"
   },
   {
    "duration": 27,
    "start_time": "2022-11-24T17:55:36.739Z"
   },
   {
    "duration": 271,
    "start_time": "2022-11-24T17:55:36.767Z"
   },
   {
    "duration": 3,
    "start_time": "2022-11-24T17:55:37.039Z"
   },
   {
    "duration": 162,
    "start_time": "2022-11-24T17:55:37.044Z"
   },
   {
    "duration": 6,
    "start_time": "2022-11-24T17:55:37.212Z"
   },
   {
    "duration": 5,
    "start_time": "2022-11-24T17:55:37.220Z"
   },
   {
    "duration": 226,
    "start_time": "2022-11-24T17:55:37.227Z"
   },
   {
    "duration": 224,
    "start_time": "2022-11-24T17:55:37.454Z"
   },
   {
    "duration": 202,
    "start_time": "2022-11-24T17:55:37.679Z"
   },
   {
    "duration": 275,
    "start_time": "2022-11-24T17:55:37.883Z"
   },
   {
    "duration": 17,
    "start_time": "2022-11-24T17:55:38.160Z"
   },
   {
    "duration": 237,
    "start_time": "2022-11-24T17:55:38.178Z"
   },
   {
    "duration": 3,
    "start_time": "2022-11-24T17:55:38.416Z"
   },
   {
    "duration": 33,
    "start_time": "2022-11-24T17:55:38.421Z"
   },
   {
    "duration": 327,
    "start_time": "2022-11-24T17:55:38.455Z"
   },
   {
    "duration": 4,
    "start_time": "2022-11-24T17:55:38.784Z"
   },
   {
    "duration": 53,
    "start_time": "2022-11-24T17:55:38.789Z"
   },
   {
    "duration": 335,
    "start_time": "2022-11-24T17:55:38.844Z"
   },
   {
    "duration": 4,
    "start_time": "2022-11-24T17:55:39.180Z"
   },
   {
    "duration": 58,
    "start_time": "2022-11-24T17:55:39.185Z"
   },
   {
    "duration": 293,
    "start_time": "2022-11-24T17:55:39.245Z"
   },
   {
    "duration": 4,
    "start_time": "2022-11-24T17:55:39.540Z"
   },
   {
    "duration": 7,
    "start_time": "2022-11-24T17:55:39.546Z"
   },
   {
    "duration": 8,
    "start_time": "2022-11-24T17:55:39.554Z"
   },
   {
    "duration": 6,
    "start_time": "2022-11-24T17:55:39.564Z"
   }
  ],
  "kernelspec": {
   "display_name": "Python 3 (ipykernel)",
   "language": "python",
   "name": "python3"
  },
  "language_info": {
   "codemirror_mode": {
    "name": "ipython",
    "version": 3
   },
   "file_extension": ".py",
   "mimetype": "text/x-python",
   "name": "python",
   "nbconvert_exporter": "python",
   "pygments_lexer": "ipython3",
   "version": "3.8.12"
  },
  "toc": {
   "base_numbering": 1,
   "nav_menu": {
    "height": "159px",
    "width": "192px"
   },
   "number_sections": true,
   "sideBar": true,
   "skip_h1_title": false,
   "title_cell": "Содержание",
   "title_sidebar": "Contents",
   "toc_cell": true,
   "toc_position": {
    "height": "626.222px",
    "left": "839.44px",
    "top": "111.139px",
    "width": "165px"
   },
   "toc_section_display": true,
   "toc_window_display": true
  }
 },
 "nbformat": 4,
 "nbformat_minor": 5
}
