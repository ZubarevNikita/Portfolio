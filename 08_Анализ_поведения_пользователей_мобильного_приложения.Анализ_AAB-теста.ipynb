{
 "cells": [
  {
   "cell_type": "markdown",
   "id": "e51dc57d",
   "metadata": {},
   "source": [
    "# Анализ поведения пользователей мобильного приложения. Анализ ААВ-теста"
   ]
  },
  {
   "cell_type": "markdown",
   "id": "2acccf3e",
   "metadata": {
    "toc": true
   },
   "source": [
    "<h1>Содержание<span class=\"tocSkip\"></span></h1>\n",
    "<div class=\"toc\"><ul class=\"toc-item\"><li><span><a href=\"#Анализ-поведения-пользователей-мобильного-приложения.-Анализ-ААВ-теста\" data-toc-modified-id=\"Анализ-поведения-пользователей-мобильного-приложения.-Анализ-ААВ-теста-1\"><span class=\"toc-item-num\">1&nbsp;&nbsp;</span>Анализ поведения пользователей мобильного приложения. Анализ ААВ-теста</a></span></li><li><span><a href=\"#Описание-проекта\" data-toc-modified-id=\"Описание-проекта-2\"><span class=\"toc-item-num\">2&nbsp;&nbsp;</span>Описание проекта</a></span></li><li><span><a href=\"#Описание-данных\" data-toc-modified-id=\"Описание-данных-3\"><span class=\"toc-item-num\">3&nbsp;&nbsp;</span>Описание данных</a></span></li><li><span><a href=\"#Откроем-датасет-и-изучим-общую-информацию\" data-toc-modified-id=\"Откроем-датасет-и-изучим-общую-информацию-4\"><span class=\"toc-item-num\">4&nbsp;&nbsp;</span>Откроем датасет и изучим общую информацию</a></span></li><li><span><a href=\"#Изучим-и-проверим-данные\" data-toc-modified-id=\"Изучим-и-проверим-данные-5\"><span class=\"toc-item-num\">5&nbsp;&nbsp;</span>Изучим и проверим данные</a></span></li><li><span><a href=\"#Изучим-воронку-событий\" data-toc-modified-id=\"Изучим-воронку-событий-6\"><span class=\"toc-item-num\">6&nbsp;&nbsp;</span>Изучим воронку событий</a></span><ul class=\"toc-item\"><li><span><a href=\"#Посмотрим-какие-события-есть-в-логах-и-как-часто-они-встречаются.\" data-toc-modified-id=\"Посмотрим-какие-события-есть-в-логах-и-как-часто-они-встречаются.-6.1\"><span class=\"toc-item-num\">6.1&nbsp;&nbsp;</span>Посмотрим какие события есть в логах и как часто они встречаются.</a></span></li><li><span><a href=\"#Посчитаем-долю-пользователей,-которые-хотя-бы-раз-совершали-событие\" data-toc-modified-id=\"Посчитаем-долю-пользователей,-которые-хотя-бы-раз-совершали-событие-6.2\"><span class=\"toc-item-num\">6.2&nbsp;&nbsp;</span>Посчитаем долю пользователей, которые хотя бы раз совершали событие</a></span></li><li><span><a href=\"#Порядок-событий\" data-toc-modified-id=\"Порядок-событий-6.3\"><span class=\"toc-item-num\">6.3&nbsp;&nbsp;</span>Порядок событий</a></span></li><li><span><a href=\"#По-воронке-событий-посчитаем,-какая-доля-пользователей-проходит-на-следующий-шаг-воронки-(от-числа-пользователей-на-предыдущем)\" data-toc-modified-id=\"По-воронке-событий-посчитаем,-какая-доля-пользователей-проходит-на-следующий-шаг-воронки-(от-числа-пользователей-на-предыдущем)-6.4\"><span class=\"toc-item-num\">6.4&nbsp;&nbsp;</span>По воронке событий посчитаем, какая доля пользователей проходит на следующий шаг воронки (от числа пользователей на предыдущем)</a></span></li></ul></li><li><span><a href=\"#Изучение-результатов-эксперимента\" data-toc-modified-id=\"Изучение-результатов-эксперимента-7\"><span class=\"toc-item-num\">7&nbsp;&nbsp;</span>Изучение результатов эксперимента</a></span><ul class=\"toc-item\"><li><span><a href=\"#Сколько-пользователей-в-каждой-экспериментальной-группе?\" data-toc-modified-id=\"Сколько-пользователей-в-каждой-экспериментальной-группе?-7.1\"><span class=\"toc-item-num\">7.1&nbsp;&nbsp;</span>Сколько пользователей в каждой экспериментальной группе?</a></span></li><li><span><a href=\"#Проверка-статистической-разницы-между-выборками-246-и-247-(контрольный-группы-А1-и-А2)\" data-toc-modified-id=\"Проверка-статистической-разницы-между-выборками-246-и-247-(контрольный-группы-А1-и-А2)-7.2\"><span class=\"toc-item-num\">7.2&nbsp;&nbsp;</span>Проверка статистической разницы между выборками 246 и 247 (контрольный группы А1 и А2)</a></span></li><li><span><a href=\"#Проверим-корректность-разбиения-на-группы\" data-toc-modified-id=\"Проверим-корректность-разбиения-на-группы-7.3\"><span class=\"toc-item-num\">7.3&nbsp;&nbsp;</span>Проверим корректность разбиения на группы</a></span></li><li><span><a href=\"#Проверим-статистическую-разницу-между-экспериментальной-группой-и-каждой-контрольной-группой-в-отдельности\" data-toc-modified-id=\"Проверим-статистическую-разницу-между-экспериментальной-группой-и-каждой-контрольной-группой-в-отдельности-7.4\"><span class=\"toc-item-num\">7.4&nbsp;&nbsp;</span>Проверим статистическую разницу между экспериментальной группой и каждой контрольной группой в отдельности</a></span><ul class=\"toc-item\"><li><span><a href=\"#Сравним-А1-и-В\" data-toc-modified-id=\"Сравним-А1-и-В-7.4.1\"><span class=\"toc-item-num\">7.4.1&nbsp;&nbsp;</span>Сравним А1 и В</a></span></li><li><span><a href=\"#Сравним-А2-и-В\" data-toc-modified-id=\"Сравним-А2-и-В-7.4.2\"><span class=\"toc-item-num\">7.4.2&nbsp;&nbsp;</span>Сравним А2 и В</a></span></li><li><span><a href=\"#Сравним-результаты-в-группе-В-с-объединенной-контрольной-группой-(А1+А2)\" data-toc-modified-id=\"Сравним-результаты-в-группе-В-с-объединенной-контрольной-группой-(А1+А2)-7.4.3\"><span class=\"toc-item-num\">7.4.3&nbsp;&nbsp;</span>Сравним результаты в группе В с объединенной контрольной группой (А1+А2)</a></span></li></ul></li><li><span><a href=\"#Анализ-уровня-значимости\" data-toc-modified-id=\"Анализ-уровня-значимости-7.5\"><span class=\"toc-item-num\">7.5&nbsp;&nbsp;</span>Анализ уровня значимости</a></span></li></ul></li></ul></div>"
   ]
  },
  {
   "cell_type": "markdown",
   "id": "ac8f25e8",
   "metadata": {},
   "source": [
    "# Описание проекта"
   ]
  },
  {
   "cell_type": "markdown",
   "id": "088db8a7",
   "metadata": {},
   "source": [
    "Мы работаем в стартапе, который продает продукты питания. Нужно разобраться как ведут себя пользователи мобильного приложения.  \n",
    "\n",
    "**Необходимо:**  \n",
    "\n",
    "- Изучить воронку продаж. Узнать, как пользователи доходят до покупки. Сколько пользователей доходит до покупки, а сколько — «застревает» на предыдущих шагах? *На каких именно?*  \n",
    "\n",
    "- Исследовать результаты А/А/В-эксперимента.  \n",
    "\n",
    "Дизайнеры захотели поменять шрифты во всём приложении, а менеджеры испугались, что пользователям будет непривычно. Договорились принять решение по результатам A/A/B-теста. Пользователей разбили на 3 группы: 2 контрольные со старыми шрифтами и одну экспериментальную — с новыми.  \n",
    "\n",
    "*Выяснить, какой шрифт лучше.*  \n",
    "\n",
    "*P.S. Создание двух групп A вместо одной имеет определённые преимущества. Если две контрольные группы окажутся равны, вы можете быть уверены в точности проведенного тестирования. Если же между значениями A и A будут существенные различия, это поможет обнаружить факторы, которые привели к искажению результатов. Сравнение контрольных групп также помогает понять, сколько времени и данных потребуется для дальнейших тестов.*"
   ]
  },
  {
   "cell_type": "markdown",
   "id": "19474b19",
   "metadata": {},
   "source": [
    "# Описание данных"
   ]
  },
  {
   "cell_type": "markdown",
   "id": "7a3a9770",
   "metadata": {},
   "source": [
    "Каждая запись в логе - это действие пользователя, или событие.  \n",
    "\n",
    "`EventName` - название события;  \n",
    "`DeviceHash` - уникальный идентификатор пользователя;  \n",
    "`EventTimestamp` - время события;  \n",
    "`ExpID` - номер эксперимента: **246** и **247** - контрольные группы, а **248** - экспериментальная."
   ]
  },
  {
   "cell_type": "markdown",
   "id": "f982a6d2",
   "metadata": {},
   "source": [
    "# Откроем датасет и изучим общую информацию"
   ]
  },
  {
   "cell_type": "code",
   "execution_count": 1,
   "id": "8ca39fee",
   "metadata": {},
   "outputs": [],
   "source": [
    "import math as mth\n",
    "import numpy as np\n",
    "from scipy import stats as st\n",
    "import plotly.graph_objs as go\n",
    "import plotly\n",
    "import pandas as pd\n",
    "import plotly.express as px\n",
    "import matplotlib.pyplot as plt\n",
    "import seaborn as sns\n",
    "import datetime as dt\n",
    "import warnings\n",
    "warnings.filterwarnings(\"ignore\")"
   ]
  },
  {
   "cell_type": "code",
   "execution_count": 2,
   "id": "48be338d",
   "metadata": {},
   "outputs": [],
   "source": [
    "data = pd.read_csv(\n",
    "    r'C:\\Users\\Dell Inspirion 15 #1\\JyputerRoot\\Проекты по Практикуму\\Обработанные проекты\\Datasets\\logs_exp.csv', sep='\\t')"
   ]
  },
  {
   "cell_type": "code",
   "execution_count": 3,
   "id": "6c7c4c00",
   "metadata": {},
   "outputs": [
    {
     "data": {
      "text/html": [
       "<div>\n",
       "<style scoped>\n",
       "    .dataframe tbody tr th:only-of-type {\n",
       "        vertical-align: middle;\n",
       "    }\n",
       "\n",
       "    .dataframe tbody tr th {\n",
       "        vertical-align: top;\n",
       "    }\n",
       "\n",
       "    .dataframe thead th {\n",
       "        text-align: right;\n",
       "    }\n",
       "</style>\n",
       "<table border=\"1\" class=\"dataframe\">\n",
       "  <thead>\n",
       "    <tr style=\"text-align: right;\">\n",
       "      <th></th>\n",
       "      <th>EventName</th>\n",
       "      <th>DeviceIDHash</th>\n",
       "      <th>EventTimestamp</th>\n",
       "      <th>ExpId</th>\n",
       "    </tr>\n",
       "  </thead>\n",
       "  <tbody>\n",
       "    <tr>\n",
       "      <th>0</th>\n",
       "      <td>MainScreenAppear</td>\n",
       "      <td>4575588528974610257</td>\n",
       "      <td>1564029816</td>\n",
       "      <td>246</td>\n",
       "    </tr>\n",
       "    <tr>\n",
       "      <th>1</th>\n",
       "      <td>MainScreenAppear</td>\n",
       "      <td>7416695313311560658</td>\n",
       "      <td>1564053102</td>\n",
       "      <td>246</td>\n",
       "    </tr>\n",
       "    <tr>\n",
       "      <th>2</th>\n",
       "      <td>PaymentScreenSuccessful</td>\n",
       "      <td>3518123091307005509</td>\n",
       "      <td>1564054127</td>\n",
       "      <td>248</td>\n",
       "    </tr>\n",
       "    <tr>\n",
       "      <th>3</th>\n",
       "      <td>CartScreenAppear</td>\n",
       "      <td>3518123091307005509</td>\n",
       "      <td>1564054127</td>\n",
       "      <td>248</td>\n",
       "    </tr>\n",
       "    <tr>\n",
       "      <th>4</th>\n",
       "      <td>PaymentScreenSuccessful</td>\n",
       "      <td>6217807653094995999</td>\n",
       "      <td>1564055322</td>\n",
       "      <td>248</td>\n",
       "    </tr>\n",
       "  </tbody>\n",
       "</table>\n",
       "</div>"
      ],
      "text/plain": [
       "                 EventName         DeviceIDHash  EventTimestamp  ExpId\n",
       "0         MainScreenAppear  4575588528974610257      1564029816    246\n",
       "1         MainScreenAppear  7416695313311560658      1564053102    246\n",
       "2  PaymentScreenSuccessful  3518123091307005509      1564054127    248\n",
       "3         CartScreenAppear  3518123091307005509      1564054127    248\n",
       "4  PaymentScreenSuccessful  6217807653094995999      1564055322    248"
      ]
     },
     "execution_count": 3,
     "metadata": {},
     "output_type": "execute_result"
    }
   ],
   "source": [
    "data.head()"
   ]
  },
  {
   "cell_type": "code",
   "execution_count": 4,
   "id": "d9b74aa9",
   "metadata": {},
   "outputs": [
    {
     "name": "stdout",
     "output_type": "stream",
     "text": [
      "<class 'pandas.core.frame.DataFrame'>\n",
      "RangeIndex: 244126 entries, 0 to 244125\n",
      "Data columns (total 4 columns):\n",
      " #   Column          Non-Null Count   Dtype \n",
      "---  ------          --------------   ----- \n",
      " 0   EventName       244126 non-null  object\n",
      " 1   DeviceIDHash    244126 non-null  int64 \n",
      " 2   EventTimestamp  244126 non-null  int64 \n",
      " 3   ExpId           244126 non-null  int64 \n",
      "dtypes: int64(3), object(1)\n",
      "memory usage: 7.5+ MB\n"
     ]
    }
   ],
   "source": [
    "# проверим общую информацию о датасете\n",
    "data.info()"
   ]
  },
  {
   "cell_type": "markdown",
   "id": "e046bedc",
   "metadata": {},
   "source": [
    "В датасете нет пропусков, тип данных столбца с временем событий необходимо преобразовать к datetime."
   ]
  },
  {
   "cell_type": "code",
   "execution_count": 5,
   "id": "102b5f5f",
   "metadata": {},
   "outputs": [
    {
     "data": {
      "text/plain": [
       "413"
      ]
     },
     "execution_count": 5,
     "metadata": {},
     "output_type": "execute_result"
    }
   ],
   "source": [
    "data.duplicated().sum()"
   ]
  },
  {
   "cell_type": "code",
   "execution_count": 6,
   "id": "bbc0e14a",
   "metadata": {},
   "outputs": [
    {
     "data": {
      "text/plain": [
       "0"
      ]
     },
     "execution_count": 6,
     "metadata": {},
     "output_type": "execute_result"
    }
   ],
   "source": [
    "# Удалим явные дубликаты\n",
    "data = data.drop_duplicates()\n",
    "data.duplicated().sum()"
   ]
  },
  {
   "cell_type": "code",
   "execution_count": 7,
   "id": "4886c8c1",
   "metadata": {},
   "outputs": [],
   "source": [
    "# переименуем названия столбцов\n",
    "data = data.rename(columns={'EventName': 'event',\n",
    "                            'DeviceIDHash': 'user_id',\n",
    "                            'EventTimestamp': 'event_timestamp',\n",
    "                            'ExpId': 'exp_id'\n",
    "                            })"
   ]
  },
  {
   "cell_type": "code",
   "execution_count": 8,
   "id": "ea596c6e",
   "metadata": {},
   "outputs": [],
   "source": [
    "# добавим столбец даты и времени\n",
    "data['event_time'] = pd.to_datetime(data['event_timestamp'], unit='s')"
   ]
  },
  {
   "cell_type": "code",
   "execution_count": 9,
   "id": "a2ae667e",
   "metadata": {},
   "outputs": [],
   "source": [
    "data['event_date'] = data['event_time'].dt.date.astype('datetime64[ns]')"
   ]
  },
  {
   "cell_type": "code",
   "execution_count": 10,
   "id": "84279ead",
   "metadata": {},
   "outputs": [],
   "source": [
    "# добавим навания контрольных и тестовых групп\n",
    "# заменим 246 и 247 в exp_id на А1 и А2, а 248 на B.\n",
    "\n",
    "data['group'] = data['exp_id'].replace(246, 'A1')\n",
    "data['group'] = data['group'].replace(247, 'A2')\n",
    "data['group'] = data['group'].replace(248, 'B')"
   ]
  },
  {
   "cell_type": "code",
   "execution_count": 11,
   "id": "7799ded4",
   "metadata": {},
   "outputs": [
    {
     "data": {
      "text/html": [
       "<div>\n",
       "<style scoped>\n",
       "    .dataframe tbody tr th:only-of-type {\n",
       "        vertical-align: middle;\n",
       "    }\n",
       "\n",
       "    .dataframe tbody tr th {\n",
       "        vertical-align: top;\n",
       "    }\n",
       "\n",
       "    .dataframe thead th {\n",
       "        text-align: right;\n",
       "    }\n",
       "</style>\n",
       "<table border=\"1\" class=\"dataframe\">\n",
       "  <thead>\n",
       "    <tr style=\"text-align: right;\">\n",
       "      <th></th>\n",
       "      <th>event</th>\n",
       "      <th>user_id</th>\n",
       "      <th>event_timestamp</th>\n",
       "      <th>exp_id</th>\n",
       "      <th>event_time</th>\n",
       "      <th>event_date</th>\n",
       "      <th>group</th>\n",
       "    </tr>\n",
       "  </thead>\n",
       "  <tbody>\n",
       "    <tr>\n",
       "      <th>0</th>\n",
       "      <td>MainScreenAppear</td>\n",
       "      <td>4575588528974610257</td>\n",
       "      <td>1564029816</td>\n",
       "      <td>246</td>\n",
       "      <td>2019-07-25 04:43:36</td>\n",
       "      <td>2019-07-25</td>\n",
       "      <td>A1</td>\n",
       "    </tr>\n",
       "    <tr>\n",
       "      <th>1</th>\n",
       "      <td>MainScreenAppear</td>\n",
       "      <td>7416695313311560658</td>\n",
       "      <td>1564053102</td>\n",
       "      <td>246</td>\n",
       "      <td>2019-07-25 11:11:42</td>\n",
       "      <td>2019-07-25</td>\n",
       "      <td>A1</td>\n",
       "    </tr>\n",
       "    <tr>\n",
       "      <th>2</th>\n",
       "      <td>PaymentScreenSuccessful</td>\n",
       "      <td>3518123091307005509</td>\n",
       "      <td>1564054127</td>\n",
       "      <td>248</td>\n",
       "      <td>2019-07-25 11:28:47</td>\n",
       "      <td>2019-07-25</td>\n",
       "      <td>B</td>\n",
       "    </tr>\n",
       "    <tr>\n",
       "      <th>3</th>\n",
       "      <td>CartScreenAppear</td>\n",
       "      <td>3518123091307005509</td>\n",
       "      <td>1564054127</td>\n",
       "      <td>248</td>\n",
       "      <td>2019-07-25 11:28:47</td>\n",
       "      <td>2019-07-25</td>\n",
       "      <td>B</td>\n",
       "    </tr>\n",
       "    <tr>\n",
       "      <th>4</th>\n",
       "      <td>PaymentScreenSuccessful</td>\n",
       "      <td>6217807653094995999</td>\n",
       "      <td>1564055322</td>\n",
       "      <td>248</td>\n",
       "      <td>2019-07-25 11:48:42</td>\n",
       "      <td>2019-07-25</td>\n",
       "      <td>B</td>\n",
       "    </tr>\n",
       "  </tbody>\n",
       "</table>\n",
       "</div>"
      ],
      "text/plain": [
       "                     event              user_id  event_timestamp  exp_id  \\\n",
       "0         MainScreenAppear  4575588528974610257       1564029816     246   \n",
       "1         MainScreenAppear  7416695313311560658       1564053102     246   \n",
       "2  PaymentScreenSuccessful  3518123091307005509       1564054127     248   \n",
       "3         CartScreenAppear  3518123091307005509       1564054127     248   \n",
       "4  PaymentScreenSuccessful  6217807653094995999       1564055322     248   \n",
       "\n",
       "           event_time event_date group  \n",
       "0 2019-07-25 04:43:36 2019-07-25    A1  \n",
       "1 2019-07-25 11:11:42 2019-07-25    A1  \n",
       "2 2019-07-25 11:28:47 2019-07-25     B  \n",
       "3 2019-07-25 11:28:47 2019-07-25     B  \n",
       "4 2019-07-25 11:48:42 2019-07-25     B  "
      ]
     },
     "execution_count": 11,
     "metadata": {},
     "output_type": "execute_result"
    }
   ],
   "source": [
    "data.head()"
   ]
  },
  {
   "cell_type": "markdown",
   "id": "03b7032a",
   "metadata": {},
   "source": [
    "**Промежуточный вывод:**  \n",
    "\n",
    "На данном этапе мы удалили явные дубликаты из датасета, преобразовали необходимые значения к datetime, добавили новые столбцы с датой и временем и просто с датой времени события. Пропусков в датасете не было.\n",
    "\n",
    "Изменили названия столбцов, теперь:  \n",
    "`event` - название события;  \n",
    "`user_id` - уникальный идентификатор пользователя; `event_timestamp` - время события;  \n",
    "`exp_id` - номер эксперимента: **246** и **247** - контрольные группы, а **248** - экспериментальная;  \n",
    "`event_time` - дата и время события;  \n",
    "`event_date` - дата события.  \n",
    "Добавили столбец `group`, в котором обозначили группы пользователей через А1, А2, В, согласно номеру эксперимента из столбца `exp_id`."
   ]
  },
  {
   "cell_type": "markdown",
   "id": "42880c3a",
   "metadata": {},
   "source": [
    "Проверим отсутствие пересечения пользователей в группах."
   ]
  },
  {
   "cell_type": "code",
   "execution_count": 12,
   "id": "e848ef5b",
   "metadata": {},
   "outputs": [
    {
     "data": {
      "text/plain": [
       "'Количество пользователей сразу в нескольких группах:'"
      ]
     },
     "metadata": {},
     "output_type": "display_data"
    },
    {
     "data": {
      "text/plain": [
       "0"
      ]
     },
     "metadata": {},
     "output_type": "display_data"
    }
   ],
   "source": [
    "overlap = data[['user_id', 'group']].drop_duplicates().drop(columns='group')\n",
    "display('Количество пользователей сразу в нескольких группах:',\n",
    "        overlap.duplicated().sum())"
   ]
  },
  {
   "cell_type": "markdown",
   "id": "1e44e009",
   "metadata": {},
   "source": [
    "# Изучим и проверим данные"
   ]
  },
  {
   "cell_type": "code",
   "execution_count": 13,
   "id": "132bbeb0",
   "metadata": {},
   "outputs": [
    {
     "data": {
      "text/plain": [
       "array(['MainScreenAppear', 'PaymentScreenSuccessful', 'CartScreenAppear',\n",
       "       'OffersScreenAppear', 'Tutorial'], dtype=object)"
      ]
     },
     "metadata": {},
     "output_type": "display_data"
    },
    {
     "data": {
      "text/plain": [
       "'Всего разных ивентов:'"
      ]
     },
     "metadata": {},
     "output_type": "display_data"
    },
    {
     "data": {
      "text/plain": [
       "5"
      ]
     },
     "metadata": {},
     "output_type": "display_data"
    },
    {
     "data": {
      "text/plain": [
       "'Всего событий:'"
      ]
     },
     "metadata": {},
     "output_type": "display_data"
    },
    {
     "data": {
      "text/plain": [
       "243713"
      ]
     },
     "metadata": {},
     "output_type": "display_data"
    }
   ],
   "source": [
    "# сколько всего событий в логе\n",
    "display(data['event'].unique())\n",
    "display('Всего разных ивентов:', len(data['event'].unique()))\n",
    "display('Всего событий:', len(data['event']))"
   ]
  },
  {
   "cell_type": "markdown",
   "id": "78d03b45",
   "metadata": {},
   "source": [
    "**Итог:**  \n",
    "В логе имеется 5 уникальных событий:  \n",
    "\n",
    "**MainScreenAppear** - основной экран приложения  \n",
    "**OffersScreenAppear** - экран спец-предложения  \n",
    "**CartScreenAppear** - экран корзины покупки  \n",
    "**PaymentScreenSuccessful** - оплата совершена  \n",
    "**Tutorial** - старт обучения новых пользователей  \n",
    "\n",
    "Всего записей в логе: 243713"
   ]
  },
  {
   "cell_type": "code",
   "execution_count": 14,
   "id": "cecf91ab",
   "metadata": {},
   "outputs": [
    {
     "data": {
      "text/plain": [
       "'Общее количество уникальных пользователей:'"
      ]
     },
     "metadata": {},
     "output_type": "display_data"
    },
    {
     "data": {
      "text/plain": [
       "7551"
      ]
     },
     "metadata": {},
     "output_type": "display_data"
    }
   ],
   "source": [
    "# найдем общее количестов пользователей в логе\n",
    "display('Общее количество уникальных пользователей:',\n",
    "        len(data['user_id'].unique()))"
   ]
  },
  {
   "cell_type": "code",
   "execution_count": 15,
   "id": "e0f29aaf",
   "metadata": {},
   "outputs": [
    {
     "data": {
      "text/plain": [
       "'В среднем на событий на одного пользоваателя:'"
      ]
     },
     "metadata": {},
     "output_type": "display_data"
    },
    {
     "data": {
      "text/plain": [
       "32"
      ]
     },
     "metadata": {},
     "output_type": "display_data"
    }
   ],
   "source": [
    "# найдем в среднем сколько событий приходится на пользователя\n",
    "display('В среднем на событий на одного пользоваателя:',\n",
    "        round(data.shape[0] / data['user_id'].nunique()))"
   ]
  },
  {
   "cell_type": "code",
   "execution_count": 16,
   "id": "03bca291",
   "metadata": {},
   "outputs": [
    {
     "data": {
      "text/plain": [
       "'Среднее количество событий на одного пользователя'"
      ]
     },
     "metadata": {},
     "output_type": "display_data"
    },
    {
     "data": {
      "text/plain": [
       "32.27559263673685"
      ]
     },
     "metadata": {},
     "output_type": "display_data"
    },
    {
     "data": {
      "text/plain": [
       "'Медианное количество событий на одного пользователя'"
      ]
     },
     "metadata": {},
     "output_type": "display_data"
    },
    {
     "data": {
      "text/plain": [
       "20.0"
      ]
     },
     "metadata": {},
     "output_type": "display_data"
    }
   ],
   "source": [
    "# посчитаем сколько событий совершает каждый пользователь\n",
    "avg_event = data.pivot_table(index='user_id', values='event', aggfunc='count')\n",
    "display('Среднее количество событий на одного пользователя',\n",
    "        avg_event.event.mean())\n",
    "display('Медианное количество событий на одного пользователя',\n",
    "        avg_event.event.median())"
   ]
  },
  {
   "cell_type": "code",
   "execution_count": 17,
   "id": "2b3d7ea6",
   "metadata": {},
   "outputs": [
    {
     "data": {
      "text/html": [
       "<div>\n",
       "<style scoped>\n",
       "    .dataframe tbody tr th:only-of-type {\n",
       "        vertical-align: middle;\n",
       "    }\n",
       "\n",
       "    .dataframe tbody tr th {\n",
       "        vertical-align: top;\n",
       "    }\n",
       "\n",
       "    .dataframe thead th {\n",
       "        text-align: right;\n",
       "    }\n",
       "</style>\n",
       "<table border=\"1\" class=\"dataframe\">\n",
       "  <thead>\n",
       "    <tr style=\"text-align: right;\">\n",
       "      <th></th>\n",
       "      <th>count</th>\n",
       "      <th>mean</th>\n",
       "      <th>std</th>\n",
       "      <th>min</th>\n",
       "      <th>25%</th>\n",
       "      <th>50%</th>\n",
       "      <th>75%</th>\n",
       "      <th>max</th>\n",
       "    </tr>\n",
       "  </thead>\n",
       "  <tbody>\n",
       "    <tr>\n",
       "      <th>event</th>\n",
       "      <td>7551.0</td>\n",
       "      <td>32.275593</td>\n",
       "      <td>65.154219</td>\n",
       "      <td>1.0</td>\n",
       "      <td>9.0</td>\n",
       "      <td>20.0</td>\n",
       "      <td>37.0</td>\n",
       "      <td>2307.0</td>\n",
       "    </tr>\n",
       "  </tbody>\n",
       "</table>\n",
       "</div>"
      ],
      "text/plain": [
       "        count       mean        std  min  25%   50%   75%     max\n",
       "event  7551.0  32.275593  65.154219  1.0  9.0  20.0  37.0  2307.0"
      ]
     },
     "execution_count": 17,
     "metadata": {},
     "output_type": "execute_result"
    }
   ],
   "source": [
    "avg_event.describe().transpose()"
   ]
  },
  {
   "cell_type": "markdown",
   "id": "03391bc5",
   "metadata": {},
   "source": [
    "Проверим наличие выбросов в количестве событий на одного пользователя."
   ]
  },
  {
   "cell_type": "code",
   "execution_count": 18,
   "id": "df9c1434",
   "metadata": {},
   "outputs": [
    {
     "data": {
      "text/plain": [
       "Text(0.5, 1.0, 'График размаха для количества событий на одного пользователя')"
      ]
     },
     "execution_count": 18,
     "metadata": {},
     "output_type": "execute_result"
    },
    {
     "data": {
      "image/png": "[encoded data removed]",
      "text/plain": [
       "<Figure size 360x360 with 1 Axes>"
      ]
     },
     "metadata": {
      "needs_background": "light"
     },
     "output_type": "display_data"
    }
   ],
   "source": [
    "sns.catplot(data=avg_event, y='event', kind='box')\n",
    "plt.ylim(0, 100)\n",
    "plt.ylabel('Количество событий на пользователя')\n",
    "plt.title('График размаха для количества событий на одного пользователя')"
   ]
  },
  {
   "cell_type": "code",
   "execution_count": 19,
   "id": "5dfc2d7a",
   "metadata": {},
   "outputs": [
    {
     "data": {
      "text/plain": [
       "89.0"
      ]
     },
     "execution_count": 19,
     "metadata": {},
     "output_type": "execute_result"
    }
   ],
   "source": [
    "np.percentile(avg_event['event'], 95)"
   ]
  },
  {
   "cell_type": "markdown",
   "id": "60e4c341",
   "metadata": {},
   "source": [
    "Медианное значение событий на одного пользователя - 20.  \n",
    "При этом в среднем каждый пользователь совершает 32 события.\n",
    "Такое различие в этих двух значениях вызвано выбросами: некоторые пользователи особенно активно пользуются приложением.  \n",
    "    \n",
    "5% пользователей совершают более 89 действий в приложении за период проведения эксперимента.\n"
   ]
  },
  {
   "cell_type": "code",
   "execution_count": 20,
   "id": "4d0eb4e0",
   "metadata": {},
   "outputs": [
    {
     "data": {
      "text/plain": [
       "'Первая запись в логе:'"
      ]
     },
     "metadata": {},
     "output_type": "display_data"
    },
    {
     "data": {
      "text/plain": [
       "Timestamp('2019-07-25 00:00:00')"
      ]
     },
     "metadata": {},
     "output_type": "display_data"
    },
    {
     "data": {
      "text/plain": [
       "'Последняя запись в логе'"
      ]
     },
     "metadata": {},
     "output_type": "display_data"
    },
    {
     "data": {
      "text/plain": [
       "Timestamp('2019-08-07 00:00:00')"
      ]
     },
     "metadata": {},
     "output_type": "display_data"
    },
    {
     "data": {
      "text/plain": [
       "'Период исследования:'"
      ]
     },
     "metadata": {},
     "output_type": "display_data"
    },
    {
     "data": {
      "text/plain": [
       "Timedelta('13 days 00:00:00')"
      ]
     },
     "metadata": {},
     "output_type": "display_data"
    }
   ],
   "source": [
    "# найдем минимальную и максимальную дату событий\n",
    "\n",
    "min_date = data['event_date'].min()\n",
    "max_date = data['event_date'].max()\n",
    "display('Первая запись в логе:', min_date,\n",
    "        'Последняя запись в логе', max_date)\n",
    "display('Период исследования:', max_date-min_date)"
   ]
  },
  {
   "cell_type": "code",
   "execution_count": 21,
   "id": "3afa02f0",
   "metadata": {},
   "outputs": [
    {
     "data": {
      "text/plain": [
       "Text(0.5, 1.0, 'Гистограмма по дате и времени')"
      ]
     },
     "execution_count": 21,
     "metadata": {},
     "output_type": "execute_result"
    },
    {
     "data": {
      "image/png": "[encoded data removed]",
      "text/plain": [
       "<Figure size 360x360 with 1 Axes>"
      ]
     },
     "metadata": {
      "needs_background": "light"
     },
     "output_type": "display_data"
    }
   ],
   "source": [
    "sns.displot(data=data['event_date'], bins=50)\n",
    "plt.xlabel('Время')\n",
    "plt.ylabel('Частота')\n",
    "plt.xticks(rotation=45)\n",
    "plt.title('Гистограмма по дате и времени')"
   ]
  },
  {
   "cell_type": "markdown",
   "id": "ab2082df",
   "metadata": {},
   "source": [
    "Гистограмма говорит о том, что полными данными можно считать те, что появились не ранее 31 июля. По итогу, эксперимент проводился только неделю вместо ранее определенных двух недель.  \n",
    "Для продолжения анализа, отбросим все данные ранее 31 июля."
   ]
  },
  {
   "cell_type": "code",
   "execution_count": 22,
   "id": "9ddb67ca",
   "metadata": {},
   "outputs": [],
   "source": [
    "logs = data[data['event_date'] > '2019-07-31']"
   ]
  },
  {
   "cell_type": "code",
   "execution_count": 23,
   "id": "8af06c9f",
   "metadata": {},
   "outputs": [
    {
     "data": {
      "text/plain": [
       "'Первая запись в логе:'"
      ]
     },
     "metadata": {},
     "output_type": "display_data"
    },
    {
     "data": {
      "text/plain": [
       "Timestamp('2019-08-01 00:00:00')"
      ]
     },
     "metadata": {},
     "output_type": "display_data"
    },
    {
     "data": {
      "text/plain": [
       "'Последняя запись в логе'"
      ]
     },
     "metadata": {},
     "output_type": "display_data"
    },
    {
     "data": {
      "text/plain": [
       "Timestamp('2019-08-07 00:00:00')"
      ]
     },
     "metadata": {},
     "output_type": "display_data"
    },
    {
     "data": {
      "text/plain": [
       "'Период исследования:'"
      ]
     },
     "metadata": {},
     "output_type": "display_data"
    },
    {
     "data": {
      "text/plain": [
       "Timedelta('6 days 00:00:00')"
      ]
     },
     "metadata": {},
     "output_type": "display_data"
    }
   ],
   "source": [
    "min_date = logs['event_date'].min()\n",
    "max_date = logs['event_date'].max()\n",
    "display('Первая запись в логе:', min_date,\n",
    "        'Последняя запись в логе', max_date)\n",
    "display('Период исследования:', max_date-min_date)"
   ]
  },
  {
   "cell_type": "code",
   "execution_count": 24,
   "id": "6d6e9b3a",
   "metadata": {},
   "outputs": [
    {
     "data": {
      "text/plain": [
       "Text(0, 0.5, 'Частота')"
      ]
     },
     "execution_count": 24,
     "metadata": {},
     "output_type": "execute_result"
    },
    {
     "data": {
      "image/png": "[encoded data removed]",
      "text/plain": [
       "<Figure size 432x288 with 1 Axes>"
      ]
     },
     "metadata": {
      "needs_background": "light"
     },
     "output_type": "display_data"
    }
   ],
   "source": [
    "sns.histplot(logs['event_time'], bins=100)\n",
    "plt.xticks(rotation=45)\n",
    "plt.title('Гистограмма по дате и времени')\n",
    "plt.xlabel('День')\n",
    "plt.ylabel('Частота')"
   ]
  },
  {
   "cell_type": "markdown",
   "id": "91e544b2",
   "metadata": {},
   "source": [
    "Проверим как изменились данные после изменеиня периода проведния теста."
   ]
  },
  {
   "cell_type": "code",
   "execution_count": 25,
   "id": "480c6417",
   "metadata": {},
   "outputs": [
    {
     "data": {
      "text/plain": [
       "'Записей потеряно после уменьшения периода:'"
      ]
     },
     "metadata": {},
     "output_type": "display_data"
    },
    {
     "data": {
      "text/plain": [
       "2826"
      ]
     },
     "metadata": {},
     "output_type": "display_data"
    },
    {
     "data": {
      "text/plain": [
       "'Записей потеряно (%):'"
      ]
     },
     "metadata": {},
     "output_type": "display_data"
    },
    {
     "data": {
      "text/plain": [
       "1.16"
      ]
     },
     "metadata": {},
     "output_type": "display_data"
    },
    {
     "data": {
      "text/plain": [
       "'Потеряно пользователей:'"
      ]
     },
     "metadata": {},
     "output_type": "display_data"
    },
    {
     "data": {
      "text/plain": [
       "17"
      ]
     },
     "metadata": {},
     "output_type": "display_data"
    },
    {
     "data": {
      "text/plain": [
       "'Потеряно пользователей (%):'"
      ]
     },
     "metadata": {},
     "output_type": "display_data"
    },
    {
     "data": {
      "text/plain": [
       "0.23"
      ]
     },
     "metadata": {},
     "output_type": "display_data"
    }
   ],
   "source": [
    "delta = data.shape[0]-logs.shape[0]\n",
    "display('Записей потеряно после уменьшения периода:',\n",
    "        delta)\n",
    "display('Записей потеряно (%):', round((delta/data.shape[0])*100, 2))\n",
    "\n",
    "# посчитаем сколько пользователей потеряно\n",
    "delta_usr = data['user_id'].nunique() - logs['user_id'].nunique()\n",
    "display('Потеряно пользователей:', delta_usr)\n",
    "display('Потеряно пользователей (%):',\n",
    "        round(delta_usr/data['user_id'].nunique() * 100, 2))"
   ]
  },
  {
   "cell_type": "markdown",
   "id": "ca5d92fa",
   "metadata": {},
   "source": [
    "Найдем новое количество пользователей в каждой группе."
   ]
  },
  {
   "cell_type": "code",
   "execution_count": 26,
   "id": "8cc22ba9",
   "metadata": {},
   "outputs": [
    {
     "data": {
      "text/html": [
       "<div>\n",
       "<style scoped>\n",
       "    .dataframe tbody tr th:only-of-type {\n",
       "        vertical-align: middle;\n",
       "    }\n",
       "\n",
       "    .dataframe tbody tr th {\n",
       "        vertical-align: top;\n",
       "    }\n",
       "\n",
       "    .dataframe thead th {\n",
       "        text-align: right;\n",
       "    }\n",
       "</style>\n",
       "<table border=\"1\" class=\"dataframe\">\n",
       "  <thead>\n",
       "    <tr style=\"text-align: right;\">\n",
       "      <th></th>\n",
       "      <th>user_id</th>\n",
       "    </tr>\n",
       "    <tr>\n",
       "      <th>group</th>\n",
       "      <th></th>\n",
       "    </tr>\n",
       "  </thead>\n",
       "  <tbody>\n",
       "    <tr>\n",
       "      <th>A1</th>\n",
       "      <td>2484</td>\n",
       "    </tr>\n",
       "    <tr>\n",
       "      <th>A2</th>\n",
       "      <td>2513</td>\n",
       "    </tr>\n",
       "    <tr>\n",
       "      <th>B</th>\n",
       "      <td>2537</td>\n",
       "    </tr>\n",
       "  </tbody>\n",
       "</table>\n",
       "</div>"
      ],
      "text/plain": [
       "       user_id\n",
       "group         \n",
       "A1        2484\n",
       "A2        2513\n",
       "B         2537"
      ]
     },
     "execution_count": 26,
     "metadata": {},
     "output_type": "execute_result"
    }
   ],
   "source": [
    "logs.pivot_table(index='group', values='user_id', aggfunc='nunique')"
   ]
  },
  {
   "cell_type": "code",
   "execution_count": 27,
   "id": "ce2acb84",
   "metadata": {},
   "outputs": [
    {
     "data": {
      "text/plain": [
       "'В среднем событий на пользователя до отчистки:'"
      ]
     },
     "metadata": {},
     "output_type": "display_data"
    },
    {
     "data": {
      "text/plain": [
       "32"
      ]
     },
     "metadata": {},
     "output_type": "display_data"
    },
    {
     "data": {
      "text/plain": [
       "'В среднем событий на пользователя после отчистки:'"
      ]
     },
     "metadata": {},
     "output_type": "display_data"
    },
    {
     "data": {
      "text/plain": [
       "32"
      ]
     },
     "metadata": {},
     "output_type": "display_data"
    },
    {
     "data": {
      "text/plain": [
       "'Медианное значение до очистки:'"
      ]
     },
     "metadata": {},
     "output_type": "display_data"
    },
    {
     "data": {
      "text/plain": [
       "20.0"
      ]
     },
     "metadata": {},
     "output_type": "display_data"
    },
    {
     "data": {
      "text/plain": [
       "'Медианное значение после очистки:'"
      ]
     },
     "metadata": {},
     "output_type": "display_data"
    },
    {
     "data": {
      "text/plain": [
       "19.0"
      ]
     },
     "metadata": {},
     "output_type": "display_data"
    }
   ],
   "source": [
    "display('В среднем событий на пользователя до отчистки:',\n",
    "        round(data.shape[0] / data['user_id'].nunique()))\n",
    "display('В среднем событий на пользователя после отчистки:',\n",
    "        round(logs.shape[0] / logs['user_id'].nunique()))\n",
    "\n",
    "# посмотрим как изменилось медианное значение\n",
    "before = data.pivot_table(index='user_id', values='event', aggfunc='count')\n",
    "display('Медианное значение до очистки:', before.event.median())\n",
    "after = logs.pivot_table(index='user_id', values='event', aggfunc='count')\n",
    "display('Медианное значение после очистки:', after.event.median())"
   ]
  },
  {
   "cell_type": "markdown",
   "id": "5a1de83a",
   "metadata": {},
   "source": [
    "**Вывод:**  \n",
    "- Как выяснилось: полными данными можно назвать только те, которые собирались за последнюю неделю активности пользователей, т.к. в первую неделю количество активностей сильно меньше, чем во вторую.\n",
    "- После фильтрации данных, мы потеряли немногим больше одного процента записей, что приемлемо.  \n",
    "- В каждой группе исследования имеются пользователи.  \n",
    "- После очистки, количество событий на одного пользователя практически не изменилось.\n",
    "\n",
    "Далее будем работать с очищенными данными."
   ]
  },
  {
   "cell_type": "markdown",
   "id": "122831f1",
   "metadata": {},
   "source": [
    "# Изучим воронку событий"
   ]
  },
  {
   "cell_type": "markdown",
   "id": "6d1ba307",
   "metadata": {},
   "source": [
    "## Посмотрим какие события есть в логах и как часто они встречаются."
   ]
  },
  {
   "cell_type": "code",
   "execution_count": 28,
   "id": "e2e455c7",
   "metadata": {},
   "outputs": [
    {
     "data": {
      "text/html": [
       "<div>\n",
       "<style scoped>\n",
       "    .dataframe tbody tr th:only-of-type {\n",
       "        vertical-align: middle;\n",
       "    }\n",
       "\n",
       "    .dataframe tbody tr th {\n",
       "        vertical-align: top;\n",
       "    }\n",
       "\n",
       "    .dataframe thead th {\n",
       "        text-align: right;\n",
       "    }\n",
       "</style>\n",
       "<table border=\"1\" class=\"dataframe\">\n",
       "  <thead>\n",
       "    <tr style=\"text-align: right;\">\n",
       "      <th></th>\n",
       "      <th>event</th>\n",
       "      <th>event_count</th>\n",
       "    </tr>\n",
       "  </thead>\n",
       "  <tbody>\n",
       "    <tr>\n",
       "      <th>1</th>\n",
       "      <td>MainScreenAppear</td>\n",
       "      <td>117328</td>\n",
       "    </tr>\n",
       "    <tr>\n",
       "      <th>2</th>\n",
       "      <td>OffersScreenAppear</td>\n",
       "      <td>46333</td>\n",
       "    </tr>\n",
       "    <tr>\n",
       "      <th>0</th>\n",
       "      <td>CartScreenAppear</td>\n",
       "      <td>42303</td>\n",
       "    </tr>\n",
       "    <tr>\n",
       "      <th>3</th>\n",
       "      <td>PaymentScreenSuccessful</td>\n",
       "      <td>33918</td>\n",
       "    </tr>\n",
       "    <tr>\n",
       "      <th>4</th>\n",
       "      <td>Tutorial</td>\n",
       "      <td>1005</td>\n",
       "    </tr>\n",
       "  </tbody>\n",
       "</table>\n",
       "</div>"
      ],
      "text/plain": [
       "                     event  event_count\n",
       "1         MainScreenAppear       117328\n",
       "2       OffersScreenAppear        46333\n",
       "0         CartScreenAppear        42303\n",
       "3  PaymentScreenSuccessful        33918\n",
       "4                 Tutorial         1005"
      ]
     },
     "execution_count": 28,
     "metadata": {},
     "output_type": "execute_result"
    }
   ],
   "source": [
    "logs_funnel = (logs\n",
    "               .pivot_table(index='event', values='user_id', aggfunc='count')\n",
    "               .reset_index()\n",
    "               .rename(columns={'user_id': 'event_count', })\n",
    "               .sort_values(by='event_count', ascending=False)\n",
    "               )\n",
    "logs_funnel"
   ]
  },
  {
   "cell_type": "markdown",
   "id": "21e4d3c1",
   "metadata": {},
   "source": [
    "В логах встречаются все события, которые были в начальных данных.  \n",
    "Список событий от самых частых до самых редких представлен в таблице выше."
   ]
  },
  {
   "cell_type": "markdown",
   "id": "a897f08c",
   "metadata": {},
   "source": [
    "## Посчитаем долю пользователей, которые хотя бы раз совершали событие\n"
   ]
  },
  {
   "cell_type": "markdown",
   "id": "38705892",
   "metadata": {},
   "source": [
    "В новой сводной таблице найдем количество уникальных пользователей, совершивших каждое событие."
   ]
  },
  {
   "cell_type": "code",
   "execution_count": 29,
   "id": "49dfab06",
   "metadata": {},
   "outputs": [
    {
     "data": {
      "text/html": [
       "<div>\n",
       "<style scoped>\n",
       "    .dataframe tbody tr th:only-of-type {\n",
       "        vertical-align: middle;\n",
       "    }\n",
       "\n",
       "    .dataframe tbody tr th {\n",
       "        vertical-align: top;\n",
       "    }\n",
       "\n",
       "    .dataframe thead th {\n",
       "        text-align: right;\n",
       "    }\n",
       "</style>\n",
       "<table border=\"1\" class=\"dataframe\">\n",
       "  <thead>\n",
       "    <tr style=\"text-align: right;\">\n",
       "      <th></th>\n",
       "      <th>user_id</th>\n",
       "    </tr>\n",
       "    <tr>\n",
       "      <th>event</th>\n",
       "      <th></th>\n",
       "    </tr>\n",
       "  </thead>\n",
       "  <tbody>\n",
       "    <tr>\n",
       "      <th>MainScreenAppear</th>\n",
       "      <td>7419</td>\n",
       "    </tr>\n",
       "    <tr>\n",
       "      <th>OffersScreenAppear</th>\n",
       "      <td>4593</td>\n",
       "    </tr>\n",
       "    <tr>\n",
       "      <th>CartScreenAppear</th>\n",
       "      <td>3734</td>\n",
       "    </tr>\n",
       "    <tr>\n",
       "      <th>PaymentScreenSuccessful</th>\n",
       "      <td>3539</td>\n",
       "    </tr>\n",
       "    <tr>\n",
       "      <th>Tutorial</th>\n",
       "      <td>840</td>\n",
       "    </tr>\n",
       "  </tbody>\n",
       "</table>\n",
       "</div>"
      ],
      "text/plain": [
       "                         user_id\n",
       "event                           \n",
       "MainScreenAppear            7419\n",
       "OffersScreenAppear          4593\n",
       "CartScreenAppear            3734\n",
       "PaymentScreenSuccessful     3539\n",
       "Tutorial                     840"
      ]
     },
     "execution_count": 29,
     "metadata": {},
     "output_type": "execute_result"
    }
   ],
   "source": [
    "logs_funnel_2 = (logs\n",
    "                 .pivot_table(index='event', values='user_id', aggfunc='nunique')\n",
    "                 .sort_values(by='user_id', ascending=False)\n",
    "                 )\n",
    "logs_funnel_2"
   ]
  },
  {
   "cell_type": "code",
   "execution_count": 30,
   "id": "75f247bb",
   "metadata": {},
   "outputs": [
    {
     "data": {
      "text/plain": [
       "7534"
      ]
     },
     "execution_count": 30,
     "metadata": {},
     "output_type": "execute_result"
    }
   ],
   "source": [
    "# Найдем общее количество уникальных пользователей в логах после очистки\n",
    "users = logs['user_id'].nunique()\n",
    "users"
   ]
  },
  {
   "cell_type": "code",
   "execution_count": 31,
   "id": "4f90e389",
   "metadata": {},
   "outputs": [
    {
     "data": {
      "text/html": [
       "<div>\n",
       "<style scoped>\n",
       "    .dataframe tbody tr th:only-of-type {\n",
       "        vertical-align: middle;\n",
       "    }\n",
       "\n",
       "    .dataframe tbody tr th {\n",
       "        vertical-align: top;\n",
       "    }\n",
       "\n",
       "    .dataframe thead th {\n",
       "        text-align: right;\n",
       "    }\n",
       "</style>\n",
       "<table border=\"1\" class=\"dataframe\">\n",
       "  <thead>\n",
       "    <tr style=\"text-align: right;\">\n",
       "      <th></th>\n",
       "      <th>event</th>\n",
       "      <th>user_id</th>\n",
       "      <th>user_rate</th>\n",
       "    </tr>\n",
       "  </thead>\n",
       "  <tbody>\n",
       "    <tr>\n",
       "      <th>0</th>\n",
       "      <td>MainScreenAppear</td>\n",
       "      <td>7419</td>\n",
       "      <td>98.47</td>\n",
       "    </tr>\n",
       "    <tr>\n",
       "      <th>1</th>\n",
       "      <td>OffersScreenAppear</td>\n",
       "      <td>4593</td>\n",
       "      <td>60.96</td>\n",
       "    </tr>\n",
       "    <tr>\n",
       "      <th>2</th>\n",
       "      <td>CartScreenAppear</td>\n",
       "      <td>3734</td>\n",
       "      <td>49.56</td>\n",
       "    </tr>\n",
       "    <tr>\n",
       "      <th>3</th>\n",
       "      <td>PaymentScreenSuccessful</td>\n",
       "      <td>3539</td>\n",
       "      <td>46.97</td>\n",
       "    </tr>\n",
       "    <tr>\n",
       "      <th>4</th>\n",
       "      <td>Tutorial</td>\n",
       "      <td>840</td>\n",
       "      <td>11.15</td>\n",
       "    </tr>\n",
       "  </tbody>\n",
       "</table>\n",
       "</div>"
      ],
      "text/plain": [
       "                     event  user_id  user_rate\n",
       "0         MainScreenAppear     7419      98.47\n",
       "1       OffersScreenAppear     4593      60.96\n",
       "2         CartScreenAppear     3734      49.56\n",
       "3  PaymentScreenSuccessful     3539      46.97\n",
       "4                 Tutorial      840      11.15"
      ]
     },
     "execution_count": 31,
     "metadata": {},
     "output_type": "execute_result"
    }
   ],
   "source": [
    "# Найдем долю пользователей для каждого события\n",
    "logs_funnel_2['user_rate'] = round((logs_funnel_2['user_id']/users)*100, 2)\n",
    "logs_funnel_2 = logs_funnel_2.reset_index()\n",
    "logs_funnel_2"
   ]
  },
  {
   "cell_type": "markdown",
   "id": "1ceafc2d",
   "metadata": {},
   "source": [
    "На главный экран приложения попадают 98.47% пользователей.  \n",
    "До экрана спец.предложения досодят лишь 60.96% пользователей.  \n",
    "Экран корзины покупки открывают 49.56%.\n",
    "Совершают оплату 46.97% всех пользователей.\n",
    "Обучение проходят 11.15% пользователей."
   ]
  },
  {
   "cell_type": "markdown",
   "id": "c9f27152",
   "metadata": {},
   "source": [
    "## Порядок событий"
   ]
  },
  {
   "cell_type": "markdown",
   "id": "e4674672",
   "metadata": {},
   "source": [
    "Можно предположить, что обучение происходит в самом начале.  \n",
    "Далее пользователь видит главный экран приложения, после чего они видят предложения, потом окно оплаты и после успешной покупки они видят соответствующее окно.  \n",
    "\n",
    "После формирования воронки, мы видим, что обучение находится в самом её низу. Но будет очевидным предположить, что маловероятно, что данное окно будет находится после всех событий, вплоть до успешного оформления заказа.\n",
    "Чаще всего обучение - это начальное событие при работе с любым приложением.    \n",
    "\n",
    "При построении воронки, будем исключать событие Tutorial, так как оно не является необходимым для последующих этапов. И у нас нет данных о том, появляется ли данное окно у всех пользователей, но 90% его пропускают, лиюо обучение находится на отдельной вкладке, которое пользователь может открыть в любое время по желанию."
   ]
  },
  {
   "attachments": {
    "newplot.png": {
     "image/png": "[encoded data removed]"
    }
   },
   "cell_type": "markdown",
   "id": "ecb5db9e",
   "metadata": {},
   "source": [
    "![newplot.png](attachment:newplot.png)"
   ]
  },
  {
   "cell_type": "code",
   "execution_count": 66,
   "id": "21cda771",
   "metadata": {
    "scrolled": false
   },
   "outputs": [
    {
     "data": {
      "application/vnd.plotly.v1+json": {
       "config": {
        "plotlyServerURL": "https://plot.ly"
       },
       "data": [
        {
         "hovertemplate": "user_rate=%{x}<br>event=%{y}<extra></extra>",
         "legendgroup": "",
         "marker": {
          "color": "#636efa"
         },
         "name": "",
         "orientation": "h",
         "showlegend": false,
         "type": "funnel",
         "x": [
          98.47,
          60.96,
          49.56,
          46.97
         ],
         "xaxis": "x",
         "y": [
          "MainScreenAppear",
          "OffersScreenAppear",
          "CartScreenAppear",
          "PaymentScreenSuccessful"
         ],
         "yaxis": "y"
        }
       ],
       "layout": {
        "legend": {
         "tracegroupgap": 0
        },
        "margin": {
         "t": 60
        },
        "template": {
         "data": {
          "bar": [
           {
            "error_x": {
             "color": "#2a3f5f"
            },
            "error_y": {
             "color": "#2a3f5f"
            },
            "marker": {
             "line": {
              "color": "#E5ECF6",
              "width": 0.5
             },
             "pattern": {
              "fillmode": "overlay",
              "size": 10,
              "solidity": 0.2
             }
            },
            "type": "bar"
           }
          ],
          "barpolar": [
           {
            "marker": {
             "line": {
              "color": "#E5ECF6",
              "width": 0.5
             },
             "pattern": {
              "fillmode": "overlay",
              "size": 10,
              "solidity": 0.2
             }
            },
            "type": "barpolar"
           }
          ],
          "carpet": [
           {
            "aaxis": {
             "endlinecolor": "#2a3f5f",
             "gridcolor": "white",
             "linecolor": "white",
             "minorgridcolor": "white",
             "startlinecolor": "#2a3f5f"
            },
            "baxis": {
             "endlinecolor": "#2a3f5f",
             "gridcolor": "white",
             "linecolor": "white",
             "minorgridcolor": "white",
             "startlinecolor": "#2a3f5f"
            },
            "type": "carpet"
           }
          ],
          "choropleth": [
           {
            "colorbar": {
             "outlinewidth": 0,
             "ticks": ""
            },
            "type": "choropleth"
           }
          ],
          "contour": [
           {
            "colorbar": {
             "outlinewidth": 0,
             "ticks": ""
            },
            "colorscale": [
             [
              0,
              "#0d0887"
             ],
             [
              0.1111111111111111,
              "#46039f"
             ],
             [
              0.2222222222222222,
              "#7201a8"
             ],
             [
              0.3333333333333333,
              "#9c179e"
             ],
             [
              0.4444444444444444,
              "#bd3786"
             ],
             [
              0.5555555555555556,
              "#d8576b"
             ],
             [
              0.6666666666666666,
              "#ed7953"
             ],
             [
              0.7777777777777778,
              "#fb9f3a"
             ],
             [
              0.8888888888888888,
              "#fdca26"
             ],
             [
              1,
              "#f0f921"
             ]
            ],
            "type": "contour"
           }
          ],
          "contourcarpet": [
           {
            "colorbar": {
             "outlinewidth": 0,
             "ticks": ""
            },
            "type": "contourcarpet"
           }
          ],
          "heatmap": [
           {
            "colorbar": {
             "outlinewidth": 0,
             "ticks": ""
            },
            "colorscale": [
             [
              0,
              "#0d0887"
             ],
             [
              0.1111111111111111,
              "#46039f"
             ],
             [
              0.2222222222222222,
              "#7201a8"
             ],
             [
              0.3333333333333333,
              "#9c179e"
             ],
             [
              0.4444444444444444,
              "#bd3786"
             ],
             [
              0.5555555555555556,
              "#d8576b"
             ],
             [
              0.6666666666666666,
              "#ed7953"
             ],
             [
              0.7777777777777778,
              "#fb9f3a"
             ],
             [
              0.8888888888888888,
              "#fdca26"
             ],
             [
              1,
              "#f0f921"
             ]
            ],
            "type": "heatmap"
           }
          ],
          "heatmapgl": [
           {
            "colorbar": {
             "outlinewidth": 0,
             "ticks": ""
            },
            "colorscale": [
             [
              0,
              "#0d0887"
             ],
             [
              0.1111111111111111,
              "#46039f"
             ],
             [
              0.2222222222222222,
              "#7201a8"
             ],
             [
              0.3333333333333333,
              "#9c179e"
             ],
             [
              0.4444444444444444,
              "#bd3786"
             ],
             [
              0.5555555555555556,
              "#d8576b"
             ],
             [
              0.6666666666666666,
              "#ed7953"
             ],
             [
              0.7777777777777778,
              "#fb9f3a"
             ],
             [
              0.8888888888888888,
              "#fdca26"
             ],
             [
              1,
              "#f0f921"
             ]
            ],
            "type": "heatmapgl"
           }
          ],
          "histogram": [
           {
            "marker": {
             "pattern": {
              "fillmode": "overlay",
              "size": 10,
              "solidity": 0.2
             }
            },
            "type": "histogram"
           }
          ],
          "histogram2d": [
           {
            "colorbar": {
             "outlinewidth": 0,
             "ticks": ""
            },
            "colorscale": [
             [
              0,
              "#0d0887"
             ],
             [
              0.1111111111111111,
              "#46039f"
             ],
             [
              0.2222222222222222,
              "#7201a8"
             ],
             [
              0.3333333333333333,
              "#9c179e"
             ],
             [
              0.4444444444444444,
              "#bd3786"
             ],
             [
              0.5555555555555556,
              "#d8576b"
             ],
             [
              0.6666666666666666,
              "#ed7953"
             ],
             [
              0.7777777777777778,
              "#fb9f3a"
             ],
             [
              0.8888888888888888,
              "#fdca26"
             ],
             [
              1,
              "#f0f921"
             ]
            ],
            "type": "histogram2d"
           }
          ],
          "histogram2dcontour": [
           {
            "colorbar": {
             "outlinewidth": 0,
             "ticks": ""
            },
            "colorscale": [
             [
              0,
              "#0d0887"
             ],
             [
              0.1111111111111111,
              "#46039f"
             ],
             [
              0.2222222222222222,
              "#7201a8"
             ],
             [
              0.3333333333333333,
              "#9c179e"
             ],
             [
              0.4444444444444444,
              "#bd3786"
             ],
             [
              0.5555555555555556,
              "#d8576b"
             ],
             [
              0.6666666666666666,
              "#ed7953"
             ],
             [
              0.7777777777777778,
              "#fb9f3a"
             ],
             [
              0.8888888888888888,
              "#fdca26"
             ],
             [
              1,
              "#f0f921"
             ]
            ],
            "type": "histogram2dcontour"
           }
          ],
          "mesh3d": [
           {
            "colorbar": {
             "outlinewidth": 0,
             "ticks": ""
            },
            "type": "mesh3d"
           }
          ],
          "parcoords": [
           {
            "line": {
             "colorbar": {
              "outlinewidth": 0,
              "ticks": ""
             }
            },
            "type": "parcoords"
           }
          ],
          "pie": [
           {
            "automargin": true,
            "type": "pie"
           }
          ],
          "scatter": [
           {
            "fillpattern": {
             "fillmode": "overlay",
             "size": 10,
             "solidity": 0.2
            },
            "type": "scatter"
           }
          ],
          "scatter3d": [
           {
            "line": {
             "colorbar": {
              "outlinewidth": 0,
              "ticks": ""
             }
            },
            "marker": {
             "colorbar": {
              "outlinewidth": 0,
              "ticks": ""
             }
            },
            "type": "scatter3d"
           }
          ],
          "scattercarpet": [
           {
            "marker": {
             "colorbar": {
              "outlinewidth": 0,
              "ticks": ""
             }
            },
            "type": "scattercarpet"
           }
          ],
          "scattergeo": [
           {
            "marker": {
             "colorbar": {
              "outlinewidth": 0,
              "ticks": ""
             }
            },
            "type": "scattergeo"
           }
          ],
          "scattergl": [
           {
            "marker": {
             "colorbar": {
              "outlinewidth": 0,
              "ticks": ""
             }
            },
            "type": "scattergl"
           }
          ],
          "scattermapbox": [
           {
            "marker": {
             "colorbar": {
              "outlinewidth": 0,
              "ticks": ""
             }
            },
            "type": "scattermapbox"
           }
          ],
          "scatterpolar": [
           {
            "marker": {
             "colorbar": {
              "outlinewidth": 0,
              "ticks": ""
             }
            },
            "type": "scatterpolar"
           }
          ],
          "scatterpolargl": [
           {
            "marker": {
             "colorbar": {
              "outlinewidth": 0,
              "ticks": ""
             }
            },
            "type": "scatterpolargl"
           }
          ],
          "scatterternary": [
           {
            "marker": {
             "colorbar": {
              "outlinewidth": 0,
              "ticks": ""
             }
            },
            "type": "scatterternary"
           }
          ],
          "surface": [
           {
            "colorbar": {
             "outlinewidth": 0,
             "ticks": ""
            },
            "colorscale": [
             [
              0,
              "#0d0887"
             ],
             [
              0.1111111111111111,
              "#46039f"
             ],
             [
              0.2222222222222222,
              "#7201a8"
             ],
             [
              0.3333333333333333,
              "#9c179e"
             ],
             [
              0.4444444444444444,
              "#bd3786"
             ],
             [
              0.5555555555555556,
              "#d8576b"
             ],
             [
              0.6666666666666666,
              "#ed7953"
             ],
             [
              0.7777777777777778,
              "#fb9f3a"
             ],
             [
              0.8888888888888888,
              "#fdca26"
             ],
             [
              1,
              "#f0f921"
             ]
            ],
            "type": "surface"
           }
          ],
          "table": [
           {
            "cells": {
             "fill": {
              "color": "#EBF0F8"
             },
             "line": {
              "color": "white"
             }
            },
            "header": {
             "fill": {
              "color": "#C8D4E3"
             },
             "line": {
              "color": "white"
             }
            },
            "type": "table"
           }
          ]
         },
         "layout": {
          "annotationdefaults": {
           "arrowcolor": "#2a3f5f",
           "arrowhead": 0,
           "arrowwidth": 1
          },
          "autotypenumbers": "strict",
          "coloraxis": {
           "colorbar": {
            "outlinewidth": 0,
            "ticks": ""
           }
          },
          "colorscale": {
           "diverging": [
            [
             0,
             "#8e0152"
            ],
            [
             0.1,
             "#c51b7d"
            ],
            [
             0.2,
             "#de77ae"
            ],
            [
             0.3,
             "#f1b6da"
            ],
            [
             0.4,
             "#fde0ef"
            ],
            [
             0.5,
             "#f7f7f7"
            ],
            [
             0.6,
             "#e6f5d0"
            ],
            [
             0.7,
             "#b8e186"
            ],
            [
             0.8,
             "#7fbc41"
            ],
            [
             0.9,
             "#4d9221"
            ],
            [
             1,
             "#276419"
            ]
           ],
           "sequential": [
            [
             0,
             "#0d0887"
            ],
            [
             0.1111111111111111,
             "#46039f"
            ],
            [
             0.2222222222222222,
             "#7201a8"
            ],
            [
             0.3333333333333333,
             "#9c179e"
            ],
            [
             0.4444444444444444,
             "#bd3786"
            ],
            [
             0.5555555555555556,
             "#d8576b"
            ],
            [
             0.6666666666666666,
             "#ed7953"
            ],
            [
             0.7777777777777778,
             "#fb9f3a"
            ],
            [
             0.8888888888888888,
             "#fdca26"
            ],
            [
             1,
             "#f0f921"
            ]
           ],
           "sequentialminus": [
            [
             0,
             "#0d0887"
            ],
            [
             0.1111111111111111,
             "#46039f"
            ],
            [
             0.2222222222222222,
             "#7201a8"
            ],
            [
             0.3333333333333333,
             "#9c179e"
            ],
            [
             0.4444444444444444,
             "#bd3786"
            ],
            [
             0.5555555555555556,
             "#d8576b"
            ],
            [
             0.6666666666666666,
             "#ed7953"
            ],
            [
             0.7777777777777778,
             "#fb9f3a"
            ],
            [
             0.8888888888888888,
             "#fdca26"
            ],
            [
             1,
             "#f0f921"
            ]
           ]
          },
          "colorway": [
           "#636efa",
           "#EF553B",
           "#00cc96",
           "#ab63fa",
           "#FFA15A",
           "#19d3f3",
           "#FF6692",
           "#B6E880",
           "#FF97FF",
           "#FECB52"
          ],
          "font": {
           "color": "#2a3f5f"
          },
          "geo": {
           "bgcolor": "white",
           "lakecolor": "white",
           "landcolor": "#E5ECF6",
           "showlakes": true,
           "showland": true,
           "subunitcolor": "white"
          },
          "hoverlabel": {
           "align": "left"
          },
          "hovermode": "closest",
          "mapbox": {
           "style": "light"
          },
          "paper_bgcolor": "white",
          "plot_bgcolor": "#E5ECF6",
          "polar": {
           "angularaxis": {
            "gridcolor": "white",
            "linecolor": "white",
            "ticks": ""
           },
           "bgcolor": "#E5ECF6",
           "radialaxis": {
            "gridcolor": "white",
            "linecolor": "white",
            "ticks": ""
           }
          },
          "scene": {
           "xaxis": {
            "backgroundcolor": "#E5ECF6",
            "gridcolor": "white",
            "gridwidth": 2,
            "linecolor": "white",
            "showbackground": true,
            "ticks": "",
            "zerolinecolor": "white"
           },
           "yaxis": {
            "backgroundcolor": "#E5ECF6",
            "gridcolor": "white",
            "gridwidth": 2,
            "linecolor": "white",
            "showbackground": true,
            "ticks": "",
            "zerolinecolor": "white"
           },
           "zaxis": {
            "backgroundcolor": "#E5ECF6",
            "gridcolor": "white",
            "gridwidth": 2,
            "linecolor": "white",
            "showbackground": true,
            "ticks": "",
            "zerolinecolor": "white"
           }
          },
          "shapedefaults": {
           "line": {
            "color": "#2a3f5f"
           }
          },
          "ternary": {
           "aaxis": {
            "gridcolor": "white",
            "linecolor": "white",
            "ticks": ""
           },
           "baxis": {
            "gridcolor": "white",
            "linecolor": "white",
            "ticks": ""
           },
           "bgcolor": "#E5ECF6",
           "caxis": {
            "gridcolor": "white",
            "linecolor": "white",
            "ticks": ""
           }
          },
          "title": {
           "x": 0.05
          },
          "xaxis": {
           "automargin": true,
           "gridcolor": "white",
           "linecolor": "white",
           "ticks": "",
           "title": {
            "standoff": 15
           },
           "zerolinecolor": "white",
           "zerolinewidth": 2
          },
          "yaxis": {
           "automargin": true,
           "gridcolor": "white",
           "linecolor": "white",
           "ticks": "",
           "title": {
            "standoff": 15
           },
           "zerolinecolor": "white",
           "zerolinewidth": 2
          }
         }
        },
        "title": {
         "text": "Воронка пользователей по событиям",
         "x": 0.55
        },
        "xaxis": {
         "anchor": "y",
         "domain": [
          0,
          1
         ],
         "title": {
          "text": "user_rate"
         }
        },
        "yaxis": {
         "anchor": "x",
         "domain": [
          0,
          1
         ],
         "title": {
          "text": "event"
         }
        }
       }
      },
      "text/html": [
       "<div>                            <div id=\"a068909b-1ce0-4484-bb02-73797bcdd7e1\" class=\"plotly-graph-div\" style=\"height:525px; width:100%;\"></div>            <script type=\"text/javascript\">                require([\"plotly\"], function(Plotly) {                    window.PLOTLYENV=window.PLOTLYENV || {};                                    if (document.getElementById(\"a068909b-1ce0-4484-bb02-73797bcdd7e1\")) {                    Plotly.newPlot(                        \"a068909b-1ce0-4484-bb02-73797bcdd7e1\",                        [{\"hovertemplate\":\"user_rate=%{x}<br>event=%{y}<extra></extra>\",\"legendgroup\":\"\",\"marker\":{\"color\":\"#636efa\"},\"name\":\"\",\"orientation\":\"h\",\"showlegend\":false,\"x\":[98.47,60.96,49.56,46.97],\"xaxis\":\"x\",\"y\":[\"MainScreenAppear\",\"OffersScreenAppear\",\"CartScreenAppear\",\"PaymentScreenSuccessful\"],\"yaxis\":\"y\",\"type\":\"funnel\"}],                        {\"template\":{\"data\":{\"histogram2dcontour\":[{\"type\":\"histogram2dcontour\",\"colorbar\":{\"outlinewidth\":0,\"ticks\":\"\"},\"colorscale\":[[0.0,\"#0d0887\"],[0.1111111111111111,\"#46039f\"],[0.2222222222222222,\"#7201a8\"],[0.3333333333333333,\"#9c179e\"],[0.4444444444444444,\"#bd3786\"],[0.5555555555555556,\"#d8576b\"],[0.6666666666666666,\"#ed7953\"],[0.7777777777777778,\"#fb9f3a\"],[0.8888888888888888,\"#fdca26\"],[1.0,\"#f0f921\"]]}],\"choropleth\":[{\"type\":\"choropleth\",\"colorbar\":{\"outlinewidth\":0,\"ticks\":\"\"}}],\"histogram2d\":[{\"type\":\"histogram2d\",\"colorbar\":{\"outlinewidth\":0,\"ticks\":\"\"},\"colorscale\":[[0.0,\"#0d0887\"],[0.1111111111111111,\"#46039f\"],[0.2222222222222222,\"#7201a8\"],[0.3333333333333333,\"#9c179e\"],[0.4444444444444444,\"#bd3786\"],[0.5555555555555556,\"#d8576b\"],[0.6666666666666666,\"#ed7953\"],[0.7777777777777778,\"#fb9f3a\"],[0.8888888888888888,\"#fdca26\"],[1.0,\"#f0f921\"]]}],\"heatmap\":[{\"type\":\"heatmap\",\"colorbar\":{\"outlinewidth\":0,\"ticks\":\"\"},\"colorscale\":[[0.0,\"#0d0887\"],[0.1111111111111111,\"#46039f\"],[0.2222222222222222,\"#7201a8\"],[0.3333333333333333,\"#9c179e\"],[0.4444444444444444,\"#bd3786\"],[0.5555555555555556,\"#d8576b\"],[0.6666666666666666,\"#ed7953\"],[0.7777777777777778,\"#fb9f3a\"],[0.8888888888888888,\"#fdca26\"],[1.0,\"#f0f921\"]]}],\"heatmapgl\":[{\"type\":\"heatmapgl\",\"colorbar\":{\"outlinewidth\":0,\"ticks\":\"\"},\"colorscale\":[[0.0,\"#0d0887\"],[0.1111111111111111,\"#46039f\"],[0.2222222222222222,\"#7201a8\"],[0.3333333333333333,\"#9c179e\"],[0.4444444444444444,\"#bd3786\"],[0.5555555555555556,\"#d8576b\"],[0.6666666666666666,\"#ed7953\"],[0.7777777777777778,\"#fb9f3a\"],[0.8888888888888888,\"#fdca26\"],[1.0,\"#f0f921\"]]}],\"contourcarpet\":[{\"type\":\"contourcarpet\",\"colorbar\":{\"outlinewidth\":0,\"ticks\":\"\"}}],\"contour\":[{\"type\":\"contour\",\"colorbar\":{\"outlinewidth\":0,\"ticks\":\"\"},\"colorscale\":[[0.0,\"#0d0887\"],[0.1111111111111111,\"#46039f\"],[0.2222222222222222,\"#7201a8\"],[0.3333333333333333,\"#9c179e\"],[0.4444444444444444,\"#bd3786\"],[0.5555555555555556,\"#d8576b\"],[0.6666666666666666,\"#ed7953\"],[0.7777777777777778,\"#fb9f3a\"],[0.8888888888888888,\"#fdca26\"],[1.0,\"#f0f921\"]]}],\"surface\":[{\"type\":\"surface\",\"colorbar\":{\"outlinewidth\":0,\"ticks\":\"\"},\"colorscale\":[[0.0,\"#0d0887\"],[0.1111111111111111,\"#46039f\"],[0.2222222222222222,\"#7201a8\"],[0.3333333333333333,\"#9c179e\"],[0.4444444444444444,\"#bd3786\"],[0.5555555555555556,\"#d8576b\"],[0.6666666666666666,\"#ed7953\"],[0.7777777777777778,\"#fb9f3a\"],[0.8888888888888888,\"#fdca26\"],[1.0,\"#f0f921\"]]}],\"mesh3d\":[{\"type\":\"mesh3d\",\"colorbar\":{\"outlinewidth\":0,\"ticks\":\"\"}}],\"scatter\":[{\"fillpattern\":{\"fillmode\":\"overlay\",\"size\":10,\"solidity\":0.2},\"type\":\"scatter\"}],\"parcoords\":[{\"type\":\"parcoords\",\"line\":{\"colorbar\":{\"outlinewidth\":0,\"ticks\":\"\"}}}],\"scatterpolargl\":[{\"type\":\"scatterpolargl\",\"marker\":{\"colorbar\":{\"outlinewidth\":0,\"ticks\":\"\"}}}],\"bar\":[{\"error_x\":{\"color\":\"#2a3f5f\"},\"error_y\":{\"color\":\"#2a3f5f\"},\"marker\":{\"line\":{\"color\":\"#E5ECF6\",\"width\":0.5},\"pattern\":{\"fillmode\":\"overlay\",\"size\":10,\"solidity\":0.2}},\"type\":\"bar\"}],\"scattergeo\":[{\"type\":\"scattergeo\",\"marker\":{\"colorbar\":{\"outlinewidth\":0,\"ticks\":\"\"}}}],\"scatterpolar\":[{\"type\":\"scatterpolar\",\"marker\":{\"colorbar\":{\"outlinewidth\":0,\"ticks\":\"\"}}}],\"histogram\":[{\"marker\":{\"pattern\":{\"fillmode\":\"overlay\",\"size\":10,\"solidity\":0.2}},\"type\":\"histogram\"}],\"scattergl\":[{\"type\":\"scattergl\",\"marker\":{\"colorbar\":{\"outlinewidth\":0,\"ticks\":\"\"}}}],\"scatter3d\":[{\"type\":\"scatter3d\",\"line\":{\"colorbar\":{\"outlinewidth\":0,\"ticks\":\"\"}},\"marker\":{\"colorbar\":{\"outlinewidth\":0,\"ticks\":\"\"}}}],\"scattermapbox\":[{\"type\":\"scattermapbox\",\"marker\":{\"colorbar\":{\"outlinewidth\":0,\"ticks\":\"\"}}}],\"scatterternary\":[{\"type\":\"scatterternary\",\"marker\":{\"colorbar\":{\"outlinewidth\":0,\"ticks\":\"\"}}}],\"scattercarpet\":[{\"type\":\"scattercarpet\",\"marker\":{\"colorbar\":{\"outlinewidth\":0,\"ticks\":\"\"}}}],\"carpet\":[{\"aaxis\":{\"endlinecolor\":\"#2a3f5f\",\"gridcolor\":\"white\",\"linecolor\":\"white\",\"minorgridcolor\":\"white\",\"startlinecolor\":\"#2a3f5f\"},\"baxis\":{\"endlinecolor\":\"#2a3f5f\",\"gridcolor\":\"white\",\"linecolor\":\"white\",\"minorgridcolor\":\"white\",\"startlinecolor\":\"#2a3f5f\"},\"type\":\"carpet\"}],\"table\":[{\"cells\":{\"fill\":{\"color\":\"#EBF0F8\"},\"line\":{\"color\":\"white\"}},\"header\":{\"fill\":{\"color\":\"#C8D4E3\"},\"line\":{\"color\":\"white\"}},\"type\":\"table\"}],\"barpolar\":[{\"marker\":{\"line\":{\"color\":\"#E5ECF6\",\"width\":0.5},\"pattern\":{\"fillmode\":\"overlay\",\"size\":10,\"solidity\":0.2}},\"type\":\"barpolar\"}],\"pie\":[{\"automargin\":true,\"type\":\"pie\"}]},\"layout\":{\"autotypenumbers\":\"strict\",\"colorway\":[\"#636efa\",\"#EF553B\",\"#00cc96\",\"#ab63fa\",\"#FFA15A\",\"#19d3f3\",\"#FF6692\",\"#B6E880\",\"#FF97FF\",\"#FECB52\"],\"font\":{\"color\":\"#2a3f5f\"},\"hovermode\":\"closest\",\"hoverlabel\":{\"align\":\"left\"},\"paper_bgcolor\":\"white\",\"plot_bgcolor\":\"#E5ECF6\",\"polar\":{\"bgcolor\":\"#E5ECF6\",\"angularaxis\":{\"gridcolor\":\"white\",\"linecolor\":\"white\",\"ticks\":\"\"},\"radialaxis\":{\"gridcolor\":\"white\",\"linecolor\":\"white\",\"ticks\":\"\"}},\"ternary\":{\"bgcolor\":\"#E5ECF6\",\"aaxis\":{\"gridcolor\":\"white\",\"linecolor\":\"white\",\"ticks\":\"\"},\"baxis\":{\"gridcolor\":\"white\",\"linecolor\":\"white\",\"ticks\":\"\"},\"caxis\":{\"gridcolor\":\"white\",\"linecolor\":\"white\",\"ticks\":\"\"}},\"coloraxis\":{\"colorbar\":{\"outlinewidth\":0,\"ticks\":\"\"}},\"colorscale\":{\"sequential\":[[0.0,\"#0d0887\"],[0.1111111111111111,\"#46039f\"],[0.2222222222222222,\"#7201a8\"],[0.3333333333333333,\"#9c179e\"],[0.4444444444444444,\"#bd3786\"],[0.5555555555555556,\"#d8576b\"],[0.6666666666666666,\"#ed7953\"],[0.7777777777777778,\"#fb9f3a\"],[0.8888888888888888,\"#fdca26\"],[1.0,\"#f0f921\"]],\"sequentialminus\":[[0.0,\"#0d0887\"],[0.1111111111111111,\"#46039f\"],[0.2222222222222222,\"#7201a8\"],[0.3333333333333333,\"#9c179e\"],[0.4444444444444444,\"#bd3786\"],[0.5555555555555556,\"#d8576b\"],[0.6666666666666666,\"#ed7953\"],[0.7777777777777778,\"#fb9f3a\"],[0.8888888888888888,\"#fdca26\"],[1.0,\"#f0f921\"]],\"diverging\":[[0,\"#8e0152\"],[0.1,\"#c51b7d\"],[0.2,\"#de77ae\"],[0.3,\"#f1b6da\"],[0.4,\"#fde0ef\"],[0.5,\"#f7f7f7\"],[0.6,\"#e6f5d0\"],[0.7,\"#b8e186\"],[0.8,\"#7fbc41\"],[0.9,\"#4d9221\"],[1,\"#276419\"]]},\"xaxis\":{\"gridcolor\":\"white\",\"linecolor\":\"white\",\"ticks\":\"\",\"title\":{\"standoff\":15},\"zerolinecolor\":\"white\",\"automargin\":true,\"zerolinewidth\":2},\"yaxis\":{\"gridcolor\":\"white\",\"linecolor\":\"white\",\"ticks\":\"\",\"title\":{\"standoff\":15},\"zerolinecolor\":\"white\",\"automargin\":true,\"zerolinewidth\":2},\"scene\":{\"xaxis\":{\"backgroundcolor\":\"#E5ECF6\",\"gridcolor\":\"white\",\"linecolor\":\"white\",\"showbackground\":true,\"ticks\":\"\",\"zerolinecolor\":\"white\",\"gridwidth\":2},\"yaxis\":{\"backgroundcolor\":\"#E5ECF6\",\"gridcolor\":\"white\",\"linecolor\":\"white\",\"showbackground\":true,\"ticks\":\"\",\"zerolinecolor\":\"white\",\"gridwidth\":2},\"zaxis\":{\"backgroundcolor\":\"#E5ECF6\",\"gridcolor\":\"white\",\"linecolor\":\"white\",\"showbackground\":true,\"ticks\":\"\",\"zerolinecolor\":\"white\",\"gridwidth\":2}},\"shapedefaults\":{\"line\":{\"color\":\"#2a3f5f\"}},\"annotationdefaults\":{\"arrowcolor\":\"#2a3f5f\",\"arrowhead\":0,\"arrowwidth\":1},\"geo\":{\"bgcolor\":\"white\",\"landcolor\":\"#E5ECF6\",\"subunitcolor\":\"white\",\"showland\":true,\"showlakes\":true,\"lakecolor\":\"white\"},\"title\":{\"x\":0.05},\"mapbox\":{\"style\":\"light\"}}},\"xaxis\":{\"anchor\":\"y\",\"domain\":[0.0,1.0],\"title\":{\"text\":\"user_rate\"}},\"yaxis\":{\"anchor\":\"x\",\"domain\":[0.0,1.0],\"title\":{\"text\":\"event\"}},\"legend\":{\"tracegroupgap\":0},\"margin\":{\"t\":60},\"title\":{\"x\":0.55,\"text\":\"\\u0412\\u043e\\u0440\\u043e\\u043d\\u043a\\u0430 \\u043f\\u043e\\u043b\\u044c\\u0437\\u043e\\u0432\\u0430\\u0442\\u0435\\u043b\\u0435\\u0439 \\u043f\\u043e \\u0441\\u043e\\u0431\\u044b\\u0442\\u0438\\u044f\\u043c\"}},                        {\"responsive\": true}                    ).then(function(){\n",
       "                            \n",
       "var gd = document.getElementById('a068909b-1ce0-4484-bb02-73797bcdd7e1');\n",
       "var x = new MutationObserver(function (mutations, observer) {{\n",
       "        var display = window.getComputedStyle(gd).display;\n",
       "        if (!display || display === 'none') {{\n",
       "            console.log([gd, 'removed!']);\n",
       "            Plotly.purge(gd);\n",
       "            observer.disconnect();\n",
       "        }}\n",
       "}});\n",
       "\n",
       "// Listen for the removal of the full notebook cells\n",
       "var notebookContainer = gd.closest('#notebook-container');\n",
       "if (notebookContainer) {{\n",
       "    x.observe(notebookContainer, {childList: true});\n",
       "}}\n",
       "\n",
       "// Listen for the clearing of the current output cell\n",
       "var outputEl = gd.closest('.output');\n",
       "if (outputEl) {{\n",
       "    x.observe(outputEl, {childList: true});\n",
       "}}\n",
       "\n",
       "                        })                };                });            </script>        </div>"
      ]
     },
     "metadata": {},
     "output_type": "display_data"
    }
   ],
   "source": [
    "fig = px.funnel(logs_funnel_2[:-1], x='user_rate', y='event')\n",
    "fig.update_layout(\n",
    "    title={'x': 0.55, 'text': 'Воронка пользователей по событиям'})\n",
    "fig.show()"
   ]
  },
  {
   "cell_type": "markdown",
   "id": "796c0415",
   "metadata": {},
   "source": [
    "## По воронке событий посчитаем, какая доля пользователей проходит на следующий шаг воронки (от числа пользователей на предыдущем)"
   ]
  },
  {
   "cell_type": "markdown",
   "id": "2d972157",
   "metadata": {},
   "source": [
    "Для последовательности событий А-В-С посчитаем отношение числа пользователей с событием В к количеству пользователей с событием А, а также отнешение числа пользователей с событием С к количеству пользователей с событием В."
   ]
  },
  {
   "cell_type": "code",
   "execution_count": 33,
   "id": "12bb5a6e",
   "metadata": {},
   "outputs": [
    {
     "data": {
      "text/plain": [
       "array(['MainScreenAppear', 'OffersScreenAppear', 'CartScreenAppear',\n",
       "       'PaymentScreenSuccessful'], dtype=object)"
      ]
     },
     "execution_count": 33,
     "metadata": {},
     "output_type": "execute_result"
    }
   ],
   "source": [
    "# создадим список из необходимых нам событий (исключим Tutorial)\n",
    "event_list = logs_funnel_2[:-1].event.unique()\n",
    "event_list"
   ]
  },
  {
   "cell_type": "code",
   "execution_count": 34,
   "id": "5a507731",
   "metadata": {},
   "outputs": [],
   "source": [
    "# создадим новый датафрейм, оставим в нем данные только по нужным событиям\n",
    "logs_new = logs.query('event in @event_list')"
   ]
  },
  {
   "cell_type": "code",
   "execution_count": 35,
   "id": "547eca92",
   "metadata": {},
   "outputs": [
    {
     "data": {
      "text/plain": [
       "7530"
      ]
     },
     "execution_count": 35,
     "metadata": {},
     "output_type": "execute_result"
    }
   ],
   "source": [
    "# найдем колическтво уникальных пользователей\n",
    "unique_users = logs_new['user_id'].nunique()\n",
    "unique_users"
   ]
  },
  {
   "cell_type": "markdown",
   "id": "86e64f3e",
   "metadata": {},
   "source": [
    "Создадим сводную таблицу, в которой отобразим количество уникальных пользователей для каждого события."
   ]
  },
  {
   "cell_type": "code",
   "execution_count": 36,
   "id": "d83acea4",
   "metadata": {},
   "outputs": [
    {
     "data": {
      "text/html": [
       "<div>\n",
       "<style scoped>\n",
       "    .dataframe tbody tr th:only-of-type {\n",
       "        vertical-align: middle;\n",
       "    }\n",
       "\n",
       "    .dataframe tbody tr th {\n",
       "        vertical-align: top;\n",
       "    }\n",
       "\n",
       "    .dataframe thead th {\n",
       "        text-align: right;\n",
       "    }\n",
       "</style>\n",
       "<table border=\"1\" class=\"dataframe\">\n",
       "  <thead>\n",
       "    <tr style=\"text-align: right;\">\n",
       "      <th>group</th>\n",
       "      <th>event</th>\n",
       "      <th>A1</th>\n",
       "      <th>A2</th>\n",
       "      <th>B</th>\n",
       "      <th>sum</th>\n",
       "    </tr>\n",
       "  </thead>\n",
       "  <tbody>\n",
       "    <tr>\n",
       "      <th>1</th>\n",
       "      <td>MainScreenAppear</td>\n",
       "      <td>2450</td>\n",
       "      <td>2476</td>\n",
       "      <td>2493</td>\n",
       "      <td>7419</td>\n",
       "    </tr>\n",
       "    <tr>\n",
       "      <th>2</th>\n",
       "      <td>OffersScreenAppear</td>\n",
       "      <td>1542</td>\n",
       "      <td>1520</td>\n",
       "      <td>1531</td>\n",
       "      <td>4593</td>\n",
       "    </tr>\n",
       "    <tr>\n",
       "      <th>0</th>\n",
       "      <td>CartScreenAppear</td>\n",
       "      <td>1266</td>\n",
       "      <td>1238</td>\n",
       "      <td>1230</td>\n",
       "      <td>3734</td>\n",
       "    </tr>\n",
       "    <tr>\n",
       "      <th>3</th>\n",
       "      <td>PaymentScreenSuccessful</td>\n",
       "      <td>1200</td>\n",
       "      <td>1158</td>\n",
       "      <td>1181</td>\n",
       "      <td>3539</td>\n",
       "    </tr>\n",
       "  </tbody>\n",
       "</table>\n",
       "</div>"
      ],
      "text/plain": [
       "group                    event    A1    A2     B   sum\n",
       "1             MainScreenAppear  2450  2476  2493  7419\n",
       "2           OffersScreenAppear  1542  1520  1531  4593\n",
       "0             CartScreenAppear  1266  1238  1230  3734\n",
       "3      PaymentScreenSuccessful  1200  1158  1181  3539"
      ]
     },
     "execution_count": 36,
     "metadata": {},
     "output_type": "execute_result"
    }
   ],
   "source": [
    "pivot = (logs_new\n",
    "         .pivot_table(index='event', values='user_id', columns='group', aggfunc='nunique')\n",
    "         .reset_index()\n",
    "\n",
    "\n",
    "         )\n",
    "pivot['sum'] = pivot.sum(axis=1)\n",
    "pivot = pivot.sort_values(by='sum', ascending=False)\n",
    "pivot"
   ]
  },
  {
   "cell_type": "markdown",
   "id": "d02d2794",
   "metadata": {},
   "source": [
    "Добавим столбцы, отражающие общую конверсию и конверсию с предыдущего этапа."
   ]
  },
  {
   "cell_type": "code",
   "execution_count": 37,
   "id": "6d7210d9",
   "metadata": {},
   "outputs": [
    {
     "data": {
      "text/html": [
       "<div>\n",
       "<style scoped>\n",
       "    .dataframe tbody tr th:only-of-type {\n",
       "        vertical-align: middle;\n",
       "    }\n",
       "\n",
       "    .dataframe tbody tr th {\n",
       "        vertical-align: top;\n",
       "    }\n",
       "\n",
       "    .dataframe thead th {\n",
       "        text-align: right;\n",
       "    }\n",
       "</style>\n",
       "<table border=\"1\" class=\"dataframe\">\n",
       "  <thead>\n",
       "    <tr style=\"text-align: right;\">\n",
       "      <th>group</th>\n",
       "      <th>event</th>\n",
       "      <th>A1</th>\n",
       "      <th>A2</th>\n",
       "      <th>B</th>\n",
       "      <th>sum</th>\n",
       "      <th>conversion</th>\n",
       "      <th>step_conversion</th>\n",
       "    </tr>\n",
       "  </thead>\n",
       "  <tbody>\n",
       "    <tr>\n",
       "      <th>1</th>\n",
       "      <td>MainScreenAppear</td>\n",
       "      <td>2450</td>\n",
       "      <td>2476</td>\n",
       "      <td>2493</td>\n",
       "      <td>7419</td>\n",
       "      <td>98.53</td>\n",
       "      <td>100.00</td>\n",
       "    </tr>\n",
       "    <tr>\n",
       "      <th>2</th>\n",
       "      <td>OffersScreenAppear</td>\n",
       "      <td>1542</td>\n",
       "      <td>1520</td>\n",
       "      <td>1531</td>\n",
       "      <td>4593</td>\n",
       "      <td>61.00</td>\n",
       "      <td>61.91</td>\n",
       "    </tr>\n",
       "    <tr>\n",
       "      <th>0</th>\n",
       "      <td>CartScreenAppear</td>\n",
       "      <td>1266</td>\n",
       "      <td>1238</td>\n",
       "      <td>1230</td>\n",
       "      <td>3734</td>\n",
       "      <td>49.59</td>\n",
       "      <td>81.30</td>\n",
       "    </tr>\n",
       "    <tr>\n",
       "      <th>3</th>\n",
       "      <td>PaymentScreenSuccessful</td>\n",
       "      <td>1200</td>\n",
       "      <td>1158</td>\n",
       "      <td>1181</td>\n",
       "      <td>3539</td>\n",
       "      <td>47.00</td>\n",
       "      <td>94.78</td>\n",
       "    </tr>\n",
       "  </tbody>\n",
       "</table>\n",
       "</div>"
      ],
      "text/plain": [
       "group                    event    A1    A2     B   sum  conversion  \\\n",
       "1             MainScreenAppear  2450  2476  2493  7419       98.53   \n",
       "2           OffersScreenAppear  1542  1520  1531  4593       61.00   \n",
       "0             CartScreenAppear  1266  1238  1230  3734       49.59   \n",
       "3      PaymentScreenSuccessful  1200  1158  1181  3539       47.00   \n",
       "\n",
       "group  step_conversion  \n",
       "1               100.00  \n",
       "2                61.91  \n",
       "0                81.30  \n",
       "3                94.78  "
      ]
     },
     "execution_count": 37,
     "metadata": {},
     "output_type": "execute_result"
    }
   ],
   "source": [
    "pivot['conversion'] = round((pivot['sum'] / unique_users) * 100, 2)\n",
    "pivot['step_conversion'] = round(\n",
    "    (pivot['sum'] / pivot['sum'].shift(1)) * 100, 2).fillna(100)\n",
    "pivot"
   ]
  },
  {
   "cell_type": "markdown",
   "id": "9f16b340",
   "metadata": {},
   "source": [
    "Построим воронку с рпзбиением по группам."
   ]
  },
  {
   "cell_type": "code",
   "execution_count": 38,
   "id": "6121a181",
   "metadata": {},
   "outputs": [
    {
     "data": {
      "application/vnd.plotly.v1+json": {
       "config": {
        "plotlyServerURL": "https://plot.ly"
       },
       "data": [
        {
         "name": "A1",
         "textinfo": "value+percent previous",
         "type": "funnel",
         "x": [
          2450,
          1542,
          1266,
          1200
         ],
         "y": [
          "MainScreenAppear",
          "OffersScreenAppear",
          "CartScreenAppear",
          "PaymentScreenSuccessful"
         ]
        },
        {
         "name": "A2",
         "textinfo": "value+percent previous",
         "type": "funnel",
         "x": [
          2476,
          1520,
          1238,
          1158
         ],
         "y": [
          "MainScreenAppear",
          "OffersScreenAppear",
          "CartScreenAppear",
          "PaymentScreenSuccessful"
         ]
        },
        {
         "name": "B",
         "textinfo": "value+percent previous",
         "type": "funnel",
         "x": [
          2493,
          1531,
          1230,
          1181
         ],
         "y": [
          "MainScreenAppear",
          "OffersScreenAppear",
          "CartScreenAppear",
          "PaymentScreenSuccessful"
         ]
        }
       ],
       "layout": {
        "template": {
         "data": {
          "bar": [
           {
            "error_x": {
             "color": "#2a3f5f"
            },
            "error_y": {
             "color": "#2a3f5f"
            },
            "marker": {
             "line": {
              "color": "#E5ECF6",
              "width": 0.5
             },
             "pattern": {
              "fillmode": "overlay",
              "size": 10,
              "solidity": 0.2
             }
            },
            "type": "bar"
           }
          ],
          "barpolar": [
           {
            "marker": {
             "line": {
              "color": "#E5ECF6",
              "width": 0.5
             },
             "pattern": {
              "fillmode": "overlay",
              "size": 10,
              "solidity": 0.2
             }
            },
            "type": "barpolar"
           }
          ],
          "carpet": [
           {
            "aaxis": {
             "endlinecolor": "#2a3f5f",
             "gridcolor": "white",
             "linecolor": "white",
             "minorgridcolor": "white",
             "startlinecolor": "#2a3f5f"
            },
            "baxis": {
             "endlinecolor": "#2a3f5f",
             "gridcolor": "white",
             "linecolor": "white",
             "minorgridcolor": "white",
             "startlinecolor": "#2a3f5f"
            },
            "type": "carpet"
           }
          ],
          "choropleth": [
           {
            "colorbar": {
             "outlinewidth": 0,
             "ticks": ""
            },
            "type": "choropleth"
           }
          ],
          "contour": [
           {
            "colorbar": {
             "outlinewidth": 0,
             "ticks": ""
            },
            "colorscale": [
             [
              0,
              "#0d0887"
             ],
             [
              0.1111111111111111,
              "#46039f"
             ],
             [
              0.2222222222222222,
              "#7201a8"
             ],
             [
              0.3333333333333333,
              "#9c179e"
             ],
             [
              0.4444444444444444,
              "#bd3786"
             ],
             [
              0.5555555555555556,
              "#d8576b"
             ],
             [
              0.6666666666666666,
              "#ed7953"
             ],
             [
              0.7777777777777778,
              "#fb9f3a"
             ],
             [
              0.8888888888888888,
              "#fdca26"
             ],
             [
              1,
              "#f0f921"
             ]
            ],
            "type": "contour"
           }
          ],
          "contourcarpet": [
           {
            "colorbar": {
             "outlinewidth": 0,
             "ticks": ""
            },
            "type": "contourcarpet"
           }
          ],
          "heatmap": [
           {
            "colorbar": {
             "outlinewidth": 0,
             "ticks": ""
            },
            "colorscale": [
             [
              0,
              "#0d0887"
             ],
             [
              0.1111111111111111,
              "#46039f"
             ],
             [
              0.2222222222222222,
              "#7201a8"
             ],
             [
              0.3333333333333333,
              "#9c179e"
             ],
             [
              0.4444444444444444,
              "#bd3786"
             ],
             [
              0.5555555555555556,
              "#d8576b"
             ],
             [
              0.6666666666666666,
              "#ed7953"
             ],
             [
              0.7777777777777778,
              "#fb9f3a"
             ],
             [
              0.8888888888888888,
              "#fdca26"
             ],
             [
              1,
              "#f0f921"
             ]
            ],
            "type": "heatmap"
           }
          ],
          "heatmapgl": [
           {
            "colorbar": {
             "outlinewidth": 0,
             "ticks": ""
            },
            "colorscale": [
             [
              0,
              "#0d0887"
             ],
             [
              0.1111111111111111,
              "#46039f"
             ],
             [
              0.2222222222222222,
              "#7201a8"
             ],
             [
              0.3333333333333333,
              "#9c179e"
             ],
             [
              0.4444444444444444,
              "#bd3786"
             ],
             [
              0.5555555555555556,
              "#d8576b"
             ],
             [
              0.6666666666666666,
              "#ed7953"
             ],
             [
              0.7777777777777778,
              "#fb9f3a"
             ],
             [
              0.8888888888888888,
              "#fdca26"
             ],
             [
              1,
              "#f0f921"
             ]
            ],
            "type": "heatmapgl"
           }
          ],
          "histogram": [
           {
            "marker": {
             "pattern": {
              "fillmode": "overlay",
              "size": 10,
              "solidity": 0.2
             }
            },
            "type": "histogram"
           }
          ],
          "histogram2d": [
           {
            "colorbar": {
             "outlinewidth": 0,
             "ticks": ""
            },
            "colorscale": [
             [
              0,
              "#0d0887"
             ],
             [
              0.1111111111111111,
              "#46039f"
             ],
             [
              0.2222222222222222,
              "#7201a8"
             ],
             [
              0.3333333333333333,
              "#9c179e"
             ],
             [
              0.4444444444444444,
              "#bd3786"
             ],
             [
              0.5555555555555556,
              "#d8576b"
             ],
             [
              0.6666666666666666,
              "#ed7953"
             ],
             [
              0.7777777777777778,
              "#fb9f3a"
             ],
             [
              0.8888888888888888,
              "#fdca26"
             ],
             [
              1,
              "#f0f921"
             ]
            ],
            "type": "histogram2d"
           }
          ],
          "histogram2dcontour": [
           {
            "colorbar": {
             "outlinewidth": 0,
             "ticks": ""
            },
            "colorscale": [
             [
              0,
              "#0d0887"
             ],
             [
              0.1111111111111111,
              "#46039f"
             ],
             [
              0.2222222222222222,
              "#7201a8"
             ],
             [
              0.3333333333333333,
              "#9c179e"
             ],
             [
              0.4444444444444444,
              "#bd3786"
             ],
             [
              0.5555555555555556,
              "#d8576b"
             ],
             [
              0.6666666666666666,
              "#ed7953"
             ],
             [
              0.7777777777777778,
              "#fb9f3a"
             ],
             [
              0.8888888888888888,
              "#fdca26"
             ],
             [
              1,
              "#f0f921"
             ]
            ],
            "type": "histogram2dcontour"
           }
          ],
          "mesh3d": [
           {
            "colorbar": {
             "outlinewidth": 0,
             "ticks": ""
            },
            "type": "mesh3d"
           }
          ],
          "parcoords": [
           {
            "line": {
             "colorbar": {
              "outlinewidth": 0,
              "ticks": ""
             }
            },
            "type": "parcoords"
           }
          ],
          "pie": [
           {
            "automargin": true,
            "type": "pie"
           }
          ],
          "scatter": [
           {
            "fillpattern": {
             "fillmode": "overlay",
             "size": 10,
             "solidity": 0.2
            },
            "type": "scatter"
           }
          ],
          "scatter3d": [
           {
            "line": {
             "colorbar": {
              "outlinewidth": 0,
              "ticks": ""
             }
            },
            "marker": {
             "colorbar": {
              "outlinewidth": 0,
              "ticks": ""
             }
            },
            "type": "scatter3d"
           }
          ],
          "scattercarpet": [
           {
            "marker": {
             "colorbar": {
              "outlinewidth": 0,
              "ticks": ""
             }
            },
            "type": "scattercarpet"
           }
          ],
          "scattergeo": [
           {
            "marker": {
             "colorbar": {
              "outlinewidth": 0,
              "ticks": ""
             }
            },
            "type": "scattergeo"
           }
          ],
          "scattergl": [
           {
            "marker": {
             "colorbar": {
              "outlinewidth": 0,
              "ticks": ""
             }
            },
            "type": "scattergl"
           }
          ],
          "scattermapbox": [
           {
            "marker": {
             "colorbar": {
              "outlinewidth": 0,
              "ticks": ""
             }
            },
            "type": "scattermapbox"
           }
          ],
          "scatterpolar": [
           {
            "marker": {
             "colorbar": {
              "outlinewidth": 0,
              "ticks": ""
             }
            },
            "type": "scatterpolar"
           }
          ],
          "scatterpolargl": [
           {
            "marker": {
             "colorbar": {
              "outlinewidth": 0,
              "ticks": ""
             }
            },
            "type": "scatterpolargl"
           }
          ],
          "scatterternary": [
           {
            "marker": {
             "colorbar": {
              "outlinewidth": 0,
              "ticks": ""
             }
            },
            "type": "scatterternary"
           }
          ],
          "surface": [
           {
            "colorbar": {
             "outlinewidth": 0,
             "ticks": ""
            },
            "colorscale": [
             [
              0,
              "#0d0887"
             ],
             [
              0.1111111111111111,
              "#46039f"
             ],
             [
              0.2222222222222222,
              "#7201a8"
             ],
             [
              0.3333333333333333,
              "#9c179e"
             ],
             [
              0.4444444444444444,
              "#bd3786"
             ],
             [
              0.5555555555555556,
              "#d8576b"
             ],
             [
              0.6666666666666666,
              "#ed7953"
             ],
             [
              0.7777777777777778,
              "#fb9f3a"
             ],
             [
              0.8888888888888888,
              "#fdca26"
             ],
             [
              1,
              "#f0f921"
             ]
            ],
            "type": "surface"
           }
          ],
          "table": [
           {
            "cells": {
             "fill": {
              "color": "#EBF0F8"
             },
             "line": {
              "color": "white"
             }
            },
            "header": {
             "fill": {
              "color": "#C8D4E3"
             },
             "line": {
              "color": "white"
             }
            },
            "type": "table"
           }
          ]
         },
         "layout": {
          "annotationdefaults": {
           "arrowcolor": "#2a3f5f",
           "arrowhead": 0,
           "arrowwidth": 1
          },
          "autotypenumbers": "strict",
          "coloraxis": {
           "colorbar": {
            "outlinewidth": 0,
            "ticks": ""
           }
          },
          "colorscale": {
           "diverging": [
            [
             0,
             "#8e0152"
            ],
            [
             0.1,
             "#c51b7d"
            ],
            [
             0.2,
             "#de77ae"
            ],
            [
             0.3,
             "#f1b6da"
            ],
            [
             0.4,
             "#fde0ef"
            ],
            [
             0.5,
             "#f7f7f7"
            ],
            [
             0.6,
             "#e6f5d0"
            ],
            [
             0.7,
             "#b8e186"
            ],
            [
             0.8,
             "#7fbc41"
            ],
            [
             0.9,
             "#4d9221"
            ],
            [
             1,
             "#276419"
            ]
           ],
           "sequential": [
            [
             0,
             "#0d0887"
            ],
            [
             0.1111111111111111,
             "#46039f"
            ],
            [
             0.2222222222222222,
             "#7201a8"
            ],
            [
             0.3333333333333333,
             "#9c179e"
            ],
            [
             0.4444444444444444,
             "#bd3786"
            ],
            [
             0.5555555555555556,
             "#d8576b"
            ],
            [
             0.6666666666666666,
             "#ed7953"
            ],
            [
             0.7777777777777778,
             "#fb9f3a"
            ],
            [
             0.8888888888888888,
             "#fdca26"
            ],
            [
             1,
             "#f0f921"
            ]
           ],
           "sequentialminus": [
            [
             0,
             "#0d0887"
            ],
            [
             0.1111111111111111,
             "#46039f"
            ],
            [
             0.2222222222222222,
             "#7201a8"
            ],
            [
             0.3333333333333333,
             "#9c179e"
            ],
            [
             0.4444444444444444,
             "#bd3786"
            ],
            [
             0.5555555555555556,
             "#d8576b"
            ],
            [
             0.6666666666666666,
             "#ed7953"
            ],
            [
             0.7777777777777778,
             "#fb9f3a"
            ],
            [
             0.8888888888888888,
             "#fdca26"
            ],
            [
             1,
             "#f0f921"
            ]
           ]
          },
          "colorway": [
           "#636efa",
           "#EF553B",
           "#00cc96",
           "#ab63fa",
           "#FFA15A",
           "#19d3f3",
           "#FF6692",
           "#B6E880",
           "#FF97FF",
           "#FECB52"
          ],
          "font": {
           "color": "#2a3f5f"
          },
          "geo": {
           "bgcolor": "white",
           "lakecolor": "white",
           "landcolor": "#E5ECF6",
           "showlakes": true,
           "showland": true,
           "subunitcolor": "white"
          },
          "hoverlabel": {
           "align": "left"
          },
          "hovermode": "closest",
          "mapbox": {
           "style": "light"
          },
          "paper_bgcolor": "white",
          "plot_bgcolor": "#E5ECF6",
          "polar": {
           "angularaxis": {
            "gridcolor": "white",
            "linecolor": "white",
            "ticks": ""
           },
           "bgcolor": "#E5ECF6",
           "radialaxis": {
            "gridcolor": "white",
            "linecolor": "white",
            "ticks": ""
           }
          },
          "scene": {
           "xaxis": {
            "backgroundcolor": "#E5ECF6",
            "gridcolor": "white",
            "gridwidth": 2,
            "linecolor": "white",
            "showbackground": true,
            "ticks": "",
            "zerolinecolor": "white"
           },
           "yaxis": {
            "backgroundcolor": "#E5ECF6",
            "gridcolor": "white",
            "gridwidth": 2,
            "linecolor": "white",
            "showbackground": true,
            "ticks": "",
            "zerolinecolor": "white"
           },
           "zaxis": {
            "backgroundcolor": "#E5ECF6",
            "gridcolor": "white",
            "gridwidth": 2,
            "linecolor": "white",
            "showbackground": true,
            "ticks": "",
            "zerolinecolor": "white"
           }
          },
          "shapedefaults": {
           "line": {
            "color": "#2a3f5f"
           }
          },
          "ternary": {
           "aaxis": {
            "gridcolor": "white",
            "linecolor": "white",
            "ticks": ""
           },
           "baxis": {
            "gridcolor": "white",
            "linecolor": "white",
            "ticks": ""
           },
           "bgcolor": "#E5ECF6",
           "caxis": {
            "gridcolor": "white",
            "linecolor": "white",
            "ticks": ""
           }
          },
          "title": {
           "x": 0.05
          },
          "xaxis": {
           "automargin": true,
           "gridcolor": "white",
           "linecolor": "white",
           "ticks": "",
           "title": {
            "standoff": 15
           },
           "zerolinecolor": "white",
           "zerolinewidth": 2
          },
          "yaxis": {
           "automargin": true,
           "gridcolor": "white",
           "linecolor": "white",
           "ticks": "",
           "title": {
            "standoff": 15
           },
           "zerolinecolor": "white",
           "zerolinewidth": 2
          }
         }
        },
        "title": {
         "text": "Воронка по шагам",
         "x": 0.55
        }
       }
      },
      "text/html": [
       "<div>                            <div id=\"5d73b506-1888-49a9-8e64-ec33150a25df\" class=\"plotly-graph-div\" style=\"height:525px; width:100%;\"></div>            <script type=\"text/javascript\">                require([\"plotly\"], function(Plotly) {                    window.PLOTLYENV=window.PLOTLYENV || {};                                    if (document.getElementById(\"5d73b506-1888-49a9-8e64-ec33150a25df\")) {                    Plotly.newPlot(                        \"5d73b506-1888-49a9-8e64-ec33150a25df\",                        [{\"name\":\"A1\",\"textinfo\":\"value+percent previous\",\"x\":[2450,1542,1266,1200],\"y\":[\"MainScreenAppear\",\"OffersScreenAppear\",\"CartScreenAppear\",\"PaymentScreenSuccessful\"],\"type\":\"funnel\"},{\"name\":\"A2\",\"textinfo\":\"value+percent previous\",\"x\":[2476,1520,1238,1158],\"y\":[\"MainScreenAppear\",\"OffersScreenAppear\",\"CartScreenAppear\",\"PaymentScreenSuccessful\"],\"type\":\"funnel\"},{\"name\":\"B\",\"textinfo\":\"value+percent previous\",\"x\":[2493,1531,1230,1181],\"y\":[\"MainScreenAppear\",\"OffersScreenAppear\",\"CartScreenAppear\",\"PaymentScreenSuccessful\"],\"type\":\"funnel\"}],                        {\"template\":{\"data\":{\"histogram2dcontour\":[{\"type\":\"histogram2dcontour\",\"colorbar\":{\"outlinewidth\":0,\"ticks\":\"\"},\"colorscale\":[[0.0,\"#0d0887\"],[0.1111111111111111,\"#46039f\"],[0.2222222222222222,\"#7201a8\"],[0.3333333333333333,\"#9c179e\"],[0.4444444444444444,\"#bd3786\"],[0.5555555555555556,\"#d8576b\"],[0.6666666666666666,\"#ed7953\"],[0.7777777777777778,\"#fb9f3a\"],[0.8888888888888888,\"#fdca26\"],[1.0,\"#f0f921\"]]}],\"choropleth\":[{\"type\":\"choropleth\",\"colorbar\":{\"outlinewidth\":0,\"ticks\":\"\"}}],\"histogram2d\":[{\"type\":\"histogram2d\",\"colorbar\":{\"outlinewidth\":0,\"ticks\":\"\"},\"colorscale\":[[0.0,\"#0d0887\"],[0.1111111111111111,\"#46039f\"],[0.2222222222222222,\"#7201a8\"],[0.3333333333333333,\"#9c179e\"],[0.4444444444444444,\"#bd3786\"],[0.5555555555555556,\"#d8576b\"],[0.6666666666666666,\"#ed7953\"],[0.7777777777777778,\"#fb9f3a\"],[0.8888888888888888,\"#fdca26\"],[1.0,\"#f0f921\"]]}],\"heatmap\":[{\"type\":\"heatmap\",\"colorbar\":{\"outlinewidth\":0,\"ticks\":\"\"},\"colorscale\":[[0.0,\"#0d0887\"],[0.1111111111111111,\"#46039f\"],[0.2222222222222222,\"#7201a8\"],[0.3333333333333333,\"#9c179e\"],[0.4444444444444444,\"#bd3786\"],[0.5555555555555556,\"#d8576b\"],[0.6666666666666666,\"#ed7953\"],[0.7777777777777778,\"#fb9f3a\"],[0.8888888888888888,\"#fdca26\"],[1.0,\"#f0f921\"]]}],\"heatmapgl\":[{\"type\":\"heatmapgl\",\"colorbar\":{\"outlinewidth\":0,\"ticks\":\"\"},\"colorscale\":[[0.0,\"#0d0887\"],[0.1111111111111111,\"#46039f\"],[0.2222222222222222,\"#7201a8\"],[0.3333333333333333,\"#9c179e\"],[0.4444444444444444,\"#bd3786\"],[0.5555555555555556,\"#d8576b\"],[0.6666666666666666,\"#ed7953\"],[0.7777777777777778,\"#fb9f3a\"],[0.8888888888888888,\"#fdca26\"],[1.0,\"#f0f921\"]]}],\"contourcarpet\":[{\"type\":\"contourcarpet\",\"colorbar\":{\"outlinewidth\":0,\"ticks\":\"\"}}],\"contour\":[{\"type\":\"contour\",\"colorbar\":{\"outlinewidth\":0,\"ticks\":\"\"},\"colorscale\":[[0.0,\"#0d0887\"],[0.1111111111111111,\"#46039f\"],[0.2222222222222222,\"#7201a8\"],[0.3333333333333333,\"#9c179e\"],[0.4444444444444444,\"#bd3786\"],[0.5555555555555556,\"#d8576b\"],[0.6666666666666666,\"#ed7953\"],[0.7777777777777778,\"#fb9f3a\"],[0.8888888888888888,\"#fdca26\"],[1.0,\"#f0f921\"]]}],\"surface\":[{\"type\":\"surface\",\"colorbar\":{\"outlinewidth\":0,\"ticks\":\"\"},\"colorscale\":[[0.0,\"#0d0887\"],[0.1111111111111111,\"#46039f\"],[0.2222222222222222,\"#7201a8\"],[0.3333333333333333,\"#9c179e\"],[0.4444444444444444,\"#bd3786\"],[0.5555555555555556,\"#d8576b\"],[0.6666666666666666,\"#ed7953\"],[0.7777777777777778,\"#fb9f3a\"],[0.8888888888888888,\"#fdca26\"],[1.0,\"#f0f921\"]]}],\"mesh3d\":[{\"type\":\"mesh3d\",\"colorbar\":{\"outlinewidth\":0,\"ticks\":\"\"}}],\"scatter\":[{\"fillpattern\":{\"fillmode\":\"overlay\",\"size\":10,\"solidity\":0.2},\"type\":\"scatter\"}],\"parcoords\":[{\"type\":\"parcoords\",\"line\":{\"colorbar\":{\"outlinewidth\":0,\"ticks\":\"\"}}}],\"scatterpolargl\":[{\"type\":\"scatterpolargl\",\"marker\":{\"colorbar\":{\"outlinewidth\":0,\"ticks\":\"\"}}}],\"bar\":[{\"error_x\":{\"color\":\"#2a3f5f\"},\"error_y\":{\"color\":\"#2a3f5f\"},\"marker\":{\"line\":{\"color\":\"#E5ECF6\",\"width\":0.5},\"pattern\":{\"fillmode\":\"overlay\",\"size\":10,\"solidity\":0.2}},\"type\":\"bar\"}],\"scattergeo\":[{\"type\":\"scattergeo\",\"marker\":{\"colorbar\":{\"outlinewidth\":0,\"ticks\":\"\"}}}],\"scatterpolar\":[{\"type\":\"scatterpolar\",\"marker\":{\"colorbar\":{\"outlinewidth\":0,\"ticks\":\"\"}}}],\"histogram\":[{\"marker\":{\"pattern\":{\"fillmode\":\"overlay\",\"size\":10,\"solidity\":0.2}},\"type\":\"histogram\"}],\"scattergl\":[{\"type\":\"scattergl\",\"marker\":{\"colorbar\":{\"outlinewidth\":0,\"ticks\":\"\"}}}],\"scatter3d\":[{\"type\":\"scatter3d\",\"line\":{\"colorbar\":{\"outlinewidth\":0,\"ticks\":\"\"}},\"marker\":{\"colorbar\":{\"outlinewidth\":0,\"ticks\":\"\"}}}],\"scattermapbox\":[{\"type\":\"scattermapbox\",\"marker\":{\"colorbar\":{\"outlinewidth\":0,\"ticks\":\"\"}}}],\"scatterternary\":[{\"type\":\"scatterternary\",\"marker\":{\"colorbar\":{\"outlinewidth\":0,\"ticks\":\"\"}}}],\"scattercarpet\":[{\"type\":\"scattercarpet\",\"marker\":{\"colorbar\":{\"outlinewidth\":0,\"ticks\":\"\"}}}],\"carpet\":[{\"aaxis\":{\"endlinecolor\":\"#2a3f5f\",\"gridcolor\":\"white\",\"linecolor\":\"white\",\"minorgridcolor\":\"white\",\"startlinecolor\":\"#2a3f5f\"},\"baxis\":{\"endlinecolor\":\"#2a3f5f\",\"gridcolor\":\"white\",\"linecolor\":\"white\",\"minorgridcolor\":\"white\",\"startlinecolor\":\"#2a3f5f\"},\"type\":\"carpet\"}],\"table\":[{\"cells\":{\"fill\":{\"color\":\"#EBF0F8\"},\"line\":{\"color\":\"white\"}},\"header\":{\"fill\":{\"color\":\"#C8D4E3\"},\"line\":{\"color\":\"white\"}},\"type\":\"table\"}],\"barpolar\":[{\"marker\":{\"line\":{\"color\":\"#E5ECF6\",\"width\":0.5},\"pattern\":{\"fillmode\":\"overlay\",\"size\":10,\"solidity\":0.2}},\"type\":\"barpolar\"}],\"pie\":[{\"automargin\":true,\"type\":\"pie\"}]},\"layout\":{\"autotypenumbers\":\"strict\",\"colorway\":[\"#636efa\",\"#EF553B\",\"#00cc96\",\"#ab63fa\",\"#FFA15A\",\"#19d3f3\",\"#FF6692\",\"#B6E880\",\"#FF97FF\",\"#FECB52\"],\"font\":{\"color\":\"#2a3f5f\"},\"hovermode\":\"closest\",\"hoverlabel\":{\"align\":\"left\"},\"paper_bgcolor\":\"white\",\"plot_bgcolor\":\"#E5ECF6\",\"polar\":{\"bgcolor\":\"#E5ECF6\",\"angularaxis\":{\"gridcolor\":\"white\",\"linecolor\":\"white\",\"ticks\":\"\"},\"radialaxis\":{\"gridcolor\":\"white\",\"linecolor\":\"white\",\"ticks\":\"\"}},\"ternary\":{\"bgcolor\":\"#E5ECF6\",\"aaxis\":{\"gridcolor\":\"white\",\"linecolor\":\"white\",\"ticks\":\"\"},\"baxis\":{\"gridcolor\":\"white\",\"linecolor\":\"white\",\"ticks\":\"\"},\"caxis\":{\"gridcolor\":\"white\",\"linecolor\":\"white\",\"ticks\":\"\"}},\"coloraxis\":{\"colorbar\":{\"outlinewidth\":0,\"ticks\":\"\"}},\"colorscale\":{\"sequential\":[[0.0,\"#0d0887\"],[0.1111111111111111,\"#46039f\"],[0.2222222222222222,\"#7201a8\"],[0.3333333333333333,\"#9c179e\"],[0.4444444444444444,\"#bd3786\"],[0.5555555555555556,\"#d8576b\"],[0.6666666666666666,\"#ed7953\"],[0.7777777777777778,\"#fb9f3a\"],[0.8888888888888888,\"#fdca26\"],[1.0,\"#f0f921\"]],\"sequentialminus\":[[0.0,\"#0d0887\"],[0.1111111111111111,\"#46039f\"],[0.2222222222222222,\"#7201a8\"],[0.3333333333333333,\"#9c179e\"],[0.4444444444444444,\"#bd3786\"],[0.5555555555555556,\"#d8576b\"],[0.6666666666666666,\"#ed7953\"],[0.7777777777777778,\"#fb9f3a\"],[0.8888888888888888,\"#fdca26\"],[1.0,\"#f0f921\"]],\"diverging\":[[0,\"#8e0152\"],[0.1,\"#c51b7d\"],[0.2,\"#de77ae\"],[0.3,\"#f1b6da\"],[0.4,\"#fde0ef\"],[0.5,\"#f7f7f7\"],[0.6,\"#e6f5d0\"],[0.7,\"#b8e186\"],[0.8,\"#7fbc41\"],[0.9,\"#4d9221\"],[1,\"#276419\"]]},\"xaxis\":{\"gridcolor\":\"white\",\"linecolor\":\"white\",\"ticks\":\"\",\"title\":{\"standoff\":15},\"zerolinecolor\":\"white\",\"automargin\":true,\"zerolinewidth\":2},\"yaxis\":{\"gridcolor\":\"white\",\"linecolor\":\"white\",\"ticks\":\"\",\"title\":{\"standoff\":15},\"zerolinecolor\":\"white\",\"automargin\":true,\"zerolinewidth\":2},\"scene\":{\"xaxis\":{\"backgroundcolor\":\"#E5ECF6\",\"gridcolor\":\"white\",\"linecolor\":\"white\",\"showbackground\":true,\"ticks\":\"\",\"zerolinecolor\":\"white\",\"gridwidth\":2},\"yaxis\":{\"backgroundcolor\":\"#E5ECF6\",\"gridcolor\":\"white\",\"linecolor\":\"white\",\"showbackground\":true,\"ticks\":\"\",\"zerolinecolor\":\"white\",\"gridwidth\":2},\"zaxis\":{\"backgroundcolor\":\"#E5ECF6\",\"gridcolor\":\"white\",\"linecolor\":\"white\",\"showbackground\":true,\"ticks\":\"\",\"zerolinecolor\":\"white\",\"gridwidth\":2}},\"shapedefaults\":{\"line\":{\"color\":\"#2a3f5f\"}},\"annotationdefaults\":{\"arrowcolor\":\"#2a3f5f\",\"arrowhead\":0,\"arrowwidth\":1},\"geo\":{\"bgcolor\":\"white\",\"landcolor\":\"#E5ECF6\",\"subunitcolor\":\"white\",\"showland\":true,\"showlakes\":true,\"lakecolor\":\"white\"},\"title\":{\"x\":0.05},\"mapbox\":{\"style\":\"light\"}}},\"title\":{\"x\":0.55,\"text\":\"\\u0412\\u043e\\u0440\\u043e\\u043d\\u043a\\u0430 \\u043f\\u043e \\u0448\\u0430\\u0433\\u0430\\u043c\"}},                        {\"responsive\": true}                    ).then(function(){\n",
       "                            \n",
       "var gd = document.getElementById('5d73b506-1888-49a9-8e64-ec33150a25df');\n",
       "var x = new MutationObserver(function (mutations, observer) {{\n",
       "        var display = window.getComputedStyle(gd).display;\n",
       "        if (!display || display === 'none') {{\n",
       "            console.log([gd, 'removed!']);\n",
       "            Plotly.purge(gd);\n",
       "            observer.disconnect();\n",
       "        }}\n",
       "}});\n",
       "\n",
       "// Listen for the removal of the full notebook cells\n",
       "var notebookContainer = gd.closest('#notebook-container');\n",
       "if (notebookContainer) {{\n",
       "    x.observe(notebookContainer, {childList: true});\n",
       "}}\n",
       "\n",
       "// Listen for the clearing of the current output cell\n",
       "var outputEl = gd.closest('.output');\n",
       "if (outputEl) {{\n",
       "    x.observe(outputEl, {childList: true});\n",
       "}}\n",
       "\n",
       "                        })                };                });            </script>        </div>"
      ]
     },
     "metadata": {},
     "output_type": "display_data"
    }
   ],
   "source": [
    "steps = ['MainScreenAppear', 'OffersScreenAppear', 'CartScreenAppear',\n",
    "         'PaymentScreenSuccessful']\n",
    "fig = go.Figure()\n",
    "fig.add_trace(go.Funnel(\n",
    "\n",
    "    y=steps,\n",
    "    x=pivot['A1'],\n",
    "    textinfo=\"value+percent previous\", name='A1'))\n",
    "\n",
    "fig.add_trace(go.Funnel(\n",
    "\n",
    "    y=steps,\n",
    "    x=pivot['A2'],\n",
    "    textinfo=\"value+percent previous\", name='A2'))\n",
    "\n",
    "fig.add_trace(go.Funnel(\n",
    "\n",
    "    y=steps,\n",
    "    x=pivot['B'],\n",
    "    textinfo=\"value+percent previous\", name='B'))\n",
    "fig.update_layout(title={'x': 0.55, 'text': 'Воронка по шагам'})\n",
    "fig.show()"
   ]
  },
  {
   "attachments": {
    "2023-02-09_13-33-10.png": {
     "image/png": "[encoded data removed]"
    }
   },
   "cell_type": "markdown",
   "id": "8c61831a",
   "metadata": {},
   "source": [
    "**На каком шаге теряется больше всего пользователей?**  \n",
    "По воронке пользователей можно понять, что больше всего пользователей теряется на этапе перехода с главного экрана на экран с предложениями: только 61% пользователей переходит с главного экрана на экран с предложениями.  \n",
    "С экрана с предложениями в корзину переходит 81,3% пользователей.  \n",
    "А из корзины до успешной оплаты доходит 94,8% пользователей.  \n",
    "\n",
    "**Какая доля пользователей доходит от первого события до оплаты?**\n",
    "От первого события до оплаты доходит 47% пользователей.\n",
    "![2023-02-09_13-33-10.png](attachment:2023-02-09_13-33-10.png)"
   ]
  },
  {
   "cell_type": "markdown",
   "id": "9ee99cca",
   "metadata": {},
   "source": [
    "# Изучение результатов эксперимента"
   ]
  },
  {
   "cell_type": "markdown",
   "id": "5056e093",
   "metadata": {},
   "source": [
    "## Сколько пользователей в каждой экспериментальной группе?"
   ]
  },
  {
   "cell_type": "code",
   "execution_count": 39,
   "id": "b9b5793c",
   "metadata": {},
   "outputs": [
    {
     "data": {
      "text/html": [
       "<div>\n",
       "<style scoped>\n",
       "    .dataframe tbody tr th:only-of-type {\n",
       "        vertical-align: middle;\n",
       "    }\n",
       "\n",
       "    .dataframe tbody tr th {\n",
       "        vertical-align: top;\n",
       "    }\n",
       "\n",
       "    .dataframe thead th {\n",
       "        text-align: right;\n",
       "    }\n",
       "</style>\n",
       "<table border=\"1\" class=\"dataframe\">\n",
       "  <thead>\n",
       "    <tr style=\"text-align: right;\">\n",
       "      <th></th>\n",
       "      <th>user_id</th>\n",
       "    </tr>\n",
       "    <tr>\n",
       "      <th>group</th>\n",
       "      <th></th>\n",
       "    </tr>\n",
       "  </thead>\n",
       "  <tbody>\n",
       "    <tr>\n",
       "      <th>A1</th>\n",
       "      <td>2483</td>\n",
       "    </tr>\n",
       "    <tr>\n",
       "      <th>A2</th>\n",
       "      <td>2512</td>\n",
       "    </tr>\n",
       "    <tr>\n",
       "      <th>B</th>\n",
       "      <td>2535</td>\n",
       "    </tr>\n",
       "  </tbody>\n",
       "</table>\n",
       "</div>"
      ],
      "text/plain": [
       "       user_id\n",
       "group         \n",
       "A1        2483\n",
       "A2        2512\n",
       "B         2535"
      ]
     },
     "execution_count": 39,
     "metadata": {},
     "output_type": "execute_result"
    }
   ],
   "source": [
    "users_in_group = (logs_new\n",
    "                  .pivot_table(index='group', values='user_id', aggfunc='nunique'))\n",
    "users_in_group"
   ]
  },
  {
   "cell_type": "markdown",
   "id": "bd99f36b",
   "metadata": {},
   "source": [
    "## Проверка статистической разницы между выборками 246 и 247 (контрольный группы А1 и А2)"
   ]
  },
  {
   "cell_type": "markdown",
   "id": "011da810",
   "metadata": {},
   "source": [
    "**Сформулируем гипотезы:**  \n",
    "\n",
    "Н0: Статистической разницы между контрольными группами А1 и А2 нет.  \n",
    "Н1: Между контрольными группами А1 и А2 есть статистически значимая разница."
   ]
  },
  {
   "cell_type": "code",
   "execution_count": 40,
   "id": "54e2e167",
   "metadata": {},
   "outputs": [],
   "source": [
    "# Найдем общее число пользователей для каждой контрольной группы\n",
    "def count_unuque_users_in_group(data, group):\n",
    "    '''Находим количество уникальных пользователей в группе.\n",
    "    data=data\n",
    "    group='name_of_group'\n",
    "    '''\n",
    "    if group == 'A1+A2':\n",
    "        unique_users = logs_new.query(\"group == 'A1' or group == 'A2'\")[\n",
    "            'user_id'].nunique()\n",
    "    else:\n",
    "\n",
    "        unique_users = data[data['group'] == group]['user_id'].nunique()\n",
    "    display(f'Пользователей группы {group}: {unique_users}')\n",
    "    return unique_users"
   ]
  },
  {
   "cell_type": "code",
   "execution_count": 41,
   "id": "ff56c862",
   "metadata": {},
   "outputs": [
    {
     "data": {
      "text/plain": [
       "'Пользователей группы A1: 2483'"
      ]
     },
     "metadata": {},
     "output_type": "display_data"
    },
    {
     "data": {
      "text/plain": [
       "'Пользователей группы A2: 2512'"
      ]
     },
     "metadata": {},
     "output_type": "display_data"
    }
   ],
   "source": [
    "users_in_a1 = count_unuque_users_in_group(logs_new, 'A1')\n",
    "users_in_a2 = count_unuque_users_in_group(logs_new, 'A2')"
   ]
  },
  {
   "cell_type": "code",
   "execution_count": 42,
   "id": "257e31d0",
   "metadata": {},
   "outputs": [
    {
     "name": "stdout",
     "output_type": "stream",
     "text": [
      "p-значение 0.6157227013842994\n",
      "Не получилось отвергнуть нулевую гипотезу, нет оснований считать доли разными\n"
     ]
    }
   ],
   "source": [
    "alpha = 0.05\n",
    "# определяем количество пользователей для каждой контрольной группы\n",
    "successes = np.array(\n",
    "    [users_in_a1, users_in_a2])\n",
    "# Тут определяем общее количество пользователей (равно для каждой группы)\n",
    "trials = np.array([unique_users, unique_users])\n",
    "\n",
    "# пропорция успехов в первой группе\n",
    "p1 = successes[0]/trials[0]\n",
    "# пропорция успехов во второй группе:\n",
    "p2 = successes[1]/trials[1]\n",
    "# пропорция успехов в комбинированном датасете:\n",
    "p_combined = (successes[0] + successes[1]) / (trials[0] + trials[1])\n",
    "# разница пропорций в датасетах\n",
    "difference = p1 - p2\n",
    "\n",
    "# считаем статистику в ст.отклонениях стандартного нормального распределения\n",
    "z_value = (difference /\n",
    "           mth.sqrt(p_combined * (1 - p_combined)\n",
    "                    * (1/trials[0] + 1/trials[1]))\n",
    "           )\n",
    "\n",
    "# задаем стандартное нормальное распределение (среднее 0, ст.отклонение 1)\n",
    "distr = st.norm(0, 1)\n",
    "\n",
    "p_value = (1 - distr.cdf(abs(z_value))) * 2\n",
    "print(f\"p-значение\", p_value)\n",
    "\n",
    "if p_value < alpha:\n",
    "    print('Отвергаем нулевую гипотезу: между долями есть значимая разница')\n",
    "else:\n",
    "    print(\n",
    "        'Не получилось отвергнуть нулевую гипотезу, нет оснований считать доли разными'\n",
    "    )"
   ]
  },
  {
   "cell_type": "markdown",
   "id": "ba249939",
   "metadata": {},
   "source": [
    "**Статистической разницы между контрольными группами не обнаружено**"
   ]
  },
  {
   "cell_type": "markdown",
   "id": "32149ff6",
   "metadata": {},
   "source": [
    "## Проверим корректность разбиения на группы"
   ]
  },
  {
   "cell_type": "markdown",
   "id": "a7d2b699",
   "metadata": {},
   "source": [
    "В данном пункте я не выбирал самое популярное событие, для которого необходимо проверить различие между группами, так как дальше по заданию это необходимо сделать и для всех оставшихся событий тоже. Поэтому делаем сразу для всех."
   ]
  },
  {
   "cell_type": "markdown",
   "id": "411df244",
   "metadata": {},
   "source": [
    "**Сформулируем гипотезы для каждого события:**  \n",
    "\n",
    "Н0: Статистической разницы между контрольными группами А1 и А2 нет.  \n",
    "Н1: Между контрольными группами А1 и А2 есть статистически значимая разница."
   ]
  },
  {
   "cell_type": "markdown",
   "id": "d2eb715f",
   "metadata": {},
   "source": [
    "Ранее мы уже находили количество уникальных пользователей для каждого шага по группам.  \n",
    "Выберем оттуда только нужные колонки"
   ]
  },
  {
   "cell_type": "code",
   "execution_count": 43,
   "id": "7f2adc0b",
   "metadata": {},
   "outputs": [
    {
     "data": {
      "text/html": [
       "<div>\n",
       "<style scoped>\n",
       "    .dataframe tbody tr th:only-of-type {\n",
       "        vertical-align: middle;\n",
       "    }\n",
       "\n",
       "    .dataframe tbody tr th {\n",
       "        vertical-align: top;\n",
       "    }\n",
       "\n",
       "    .dataframe thead th {\n",
       "        text-align: right;\n",
       "    }\n",
       "</style>\n",
       "<table border=\"1\" class=\"dataframe\">\n",
       "  <thead>\n",
       "    <tr style=\"text-align: right;\">\n",
       "      <th>group</th>\n",
       "      <th>event</th>\n",
       "      <th>A1</th>\n",
       "      <th>A2</th>\n",
       "    </tr>\n",
       "  </thead>\n",
       "  <tbody>\n",
       "    <tr>\n",
       "      <th>1</th>\n",
       "      <td>MainScreenAppear</td>\n",
       "      <td>2450</td>\n",
       "      <td>2476</td>\n",
       "    </tr>\n",
       "    <tr>\n",
       "      <th>2</th>\n",
       "      <td>OffersScreenAppear</td>\n",
       "      <td>1542</td>\n",
       "      <td>1520</td>\n",
       "    </tr>\n",
       "    <tr>\n",
       "      <th>0</th>\n",
       "      <td>CartScreenAppear</td>\n",
       "      <td>1266</td>\n",
       "      <td>1238</td>\n",
       "    </tr>\n",
       "    <tr>\n",
       "      <th>3</th>\n",
       "      <td>PaymentScreenSuccessful</td>\n",
       "      <td>1200</td>\n",
       "      <td>1158</td>\n",
       "    </tr>\n",
       "  </tbody>\n",
       "</table>\n",
       "</div>"
      ],
      "text/plain": [
       "group                    event    A1    A2\n",
       "1             MainScreenAppear  2450  2476\n",
       "2           OffersScreenAppear  1542  1520\n",
       "0             CartScreenAppear  1266  1238\n",
       "3      PaymentScreenSuccessful  1200  1158"
      ]
     },
     "execution_count": 43,
     "metadata": {},
     "output_type": "execute_result"
    }
   ],
   "source": [
    "pivot_a1_a2 = pivot[['event', 'A1', 'A2']]\n",
    "pivot_a1_a2"
   ]
  },
  {
   "cell_type": "markdown",
   "id": "5c280d0e",
   "metadata": {},
   "source": [
    "Так как сводную таблицу мы отсторитровали изначально по убыванию популярности событий, то самым популярным событием будет первое."
   ]
  },
  {
   "cell_type": "code",
   "execution_count": 44,
   "id": "b4d7c01c",
   "metadata": {},
   "outputs": [
    {
     "data": {
      "text/plain": [
       "'Самое популярное событие:'"
      ]
     },
     "metadata": {},
     "output_type": "display_data"
    },
    {
     "data": {
      "text/plain": [
       "'CartScreenAppear'"
      ]
     },
     "metadata": {},
     "output_type": "display_data"
    }
   ],
   "source": [
    "display('Самое популярное событие:', pivot_a1_a2.loc[0, 'event'])"
   ]
  },
  {
   "cell_type": "code",
   "execution_count": 45,
   "id": "614cff3c",
   "metadata": {},
   "outputs": [],
   "source": [
    "# рассчитаем конверсию на каждом шагу для групп А1 и А2\n",
    "def conversion_for_group(data, group, unique_users):\n",
    "    '''Рассчитывает конверсию по шагам для заданной группы'''\n",
    "    data[f'conversion_{group.lower()}'] = round(\n",
    "        (data[group] / unique_users) * 100, 2)\n",
    "    data = data.rename(columns={'x': 'converion'})"
   ]
  },
  {
   "cell_type": "code",
   "execution_count": 46,
   "id": "03a4960c",
   "metadata": {},
   "outputs": [],
   "source": [
    "conversion_for_group(pivot_a1_a2, 'A1', users_in_a1)\n",
    "conversion_for_group(pivot_a1_a2, 'A2', users_in_a2)"
   ]
  },
  {
   "cell_type": "code",
   "execution_count": 47,
   "id": "f9b92168",
   "metadata": {},
   "outputs": [
    {
     "data": {
      "text/html": [
       "<div>\n",
       "<style scoped>\n",
       "    .dataframe tbody tr th:only-of-type {\n",
       "        vertical-align: middle;\n",
       "    }\n",
       "\n",
       "    .dataframe tbody tr th {\n",
       "        vertical-align: top;\n",
       "    }\n",
       "\n",
       "    .dataframe thead th {\n",
       "        text-align: right;\n",
       "    }\n",
       "</style>\n",
       "<table border=\"1\" class=\"dataframe\">\n",
       "  <thead>\n",
       "    <tr style=\"text-align: right;\">\n",
       "      <th>group</th>\n",
       "      <th>event</th>\n",
       "      <th>A1</th>\n",
       "      <th>A2</th>\n",
       "      <th>conversion_a1</th>\n",
       "      <th>conversion_a2</th>\n",
       "    </tr>\n",
       "  </thead>\n",
       "  <tbody>\n",
       "    <tr>\n",
       "      <th>0</th>\n",
       "      <td>MainScreenAppear</td>\n",
       "      <td>2450</td>\n",
       "      <td>2476</td>\n",
       "      <td>98.67</td>\n",
       "      <td>98.57</td>\n",
       "    </tr>\n",
       "    <tr>\n",
       "      <th>1</th>\n",
       "      <td>OffersScreenAppear</td>\n",
       "      <td>1542</td>\n",
       "      <td>1520</td>\n",
       "      <td>62.10</td>\n",
       "      <td>60.51</td>\n",
       "    </tr>\n",
       "    <tr>\n",
       "      <th>2</th>\n",
       "      <td>CartScreenAppear</td>\n",
       "      <td>1266</td>\n",
       "      <td>1238</td>\n",
       "      <td>50.99</td>\n",
       "      <td>49.28</td>\n",
       "    </tr>\n",
       "    <tr>\n",
       "      <th>3</th>\n",
       "      <td>PaymentScreenSuccessful</td>\n",
       "      <td>1200</td>\n",
       "      <td>1158</td>\n",
       "      <td>48.33</td>\n",
       "      <td>46.10</td>\n",
       "    </tr>\n",
       "  </tbody>\n",
       "</table>\n",
       "</div>"
      ],
      "text/plain": [
       "group                    event    A1    A2  conversion_a1  conversion_a2\n",
       "0             MainScreenAppear  2450  2476          98.67          98.57\n",
       "1           OffersScreenAppear  1542  1520          62.10          60.51\n",
       "2             CartScreenAppear  1266  1238          50.99          49.28\n",
       "3      PaymentScreenSuccessful  1200  1158          48.33          46.10"
      ]
     },
     "execution_count": 47,
     "metadata": {},
     "output_type": "execute_result"
    }
   ],
   "source": [
    "pivot_a1_a2.index = range(len(pivot_a1_a2))\n",
    "pivot_a1_a2"
   ]
  },
  {
   "cell_type": "markdown",
   "id": "b3bd4925",
   "metadata": {},
   "source": [
    "Проверим различие между группами."
   ]
  },
  {
   "cell_type": "markdown",
   "id": "d46bdbcd",
   "metadata": {},
   "source": [
    "Напишем фунцию, чтобы проверять сразу по всем событиям воронки."
   ]
  },
  {
   "cell_type": "code",
   "execution_count": 48,
   "id": "9dc8116c",
   "metadata": {},
   "outputs": [],
   "source": [
    "def share_comparison(data, alpha, group_1, group_2):\n",
    "\n",
    "    # используем функцию count_unuque_users_in_group, чтобы получить\n",
    "    # общее количество пользователей в группе\n",
    "    unique_users_1 = count_unuque_users_in_group(logs_new, group_1)\n",
    "    unique_users_2 = count_unuque_users_in_group(logs_new, group_2)\n",
    "\n",
    "    # пройдемся по каждому шагу воронки\n",
    "    for i in range(len(data)):\n",
    "        successes = np.array(\n",
    "            [data.loc[i, group_1], data.loc[i, group_2]])\n",
    "        trials = np.array([unique_users_1, unique_users_2])\n",
    "\n",
    "        # пропорция успехов в первой группе\n",
    "        p1 = successes[0]/trials[0]\n",
    "        # пропорция успехов во второй группе:\n",
    "        p2 = successes[1]/trials[1]\n",
    "        # пропорция успехов в комбинированном датасете:\n",
    "        p_combined = (successes[0] + successes[1]) / (trials[0] + trials[1])\n",
    "        # разница пропорций в датасетах\n",
    "        difference = p1 - p2\n",
    "\n",
    "        # считаем статистику в ст.отклонениях стандартного нормального распределения\n",
    "        z_value = (difference /\n",
    "                   mth.sqrt(p_combined * (1 - p_combined)\n",
    "                            * (1/trials[0] + 1/trials[1]))\n",
    "                   )\n",
    "\n",
    "        # задаем стандартное нормальное распределение (среднее 0, ст.отклонение 1)\n",
    "        distr = st.norm(0, 1)\n",
    "\n",
    "        p_value = (1 - distr.cdf(abs(z_value))) * 2\n",
    "        print(f\"p-значение для {data.loc[i,'event']}\", p_value)\n",
    "\n",
    "        if p_value < alpha:\n",
    "            print('Отвергаем нулевую гипотезу: между долями есть значимая разница')\n",
    "        else:\n",
    "            print(\n",
    "                'Не получилось отвергнуть нулевую гипотезу, нет оснований считать доли разными'\n",
    "            )"
   ]
  },
  {
   "cell_type": "code",
   "execution_count": 49,
   "id": "f872a8bf",
   "metadata": {},
   "outputs": [
    {
     "data": {
      "text/plain": [
       "'Пользователей группы A1: 2483'"
      ]
     },
     "metadata": {},
     "output_type": "display_data"
    },
    {
     "data": {
      "text/plain": [
       "'Пользователей группы A2: 2512'"
      ]
     },
     "metadata": {},
     "output_type": "display_data"
    },
    {
     "name": "stdout",
     "output_type": "stream",
     "text": [
      "p-значение для MainScreenAppear 0.7526703436483038\n",
      "Не получилось отвергнуть нулевую гипотезу, нет оснований считать доли разными\n",
      "p-значение для OffersScreenAppear 0.24786096925282264\n",
      "Не получилось отвергнуть нулевую гипотезу, нет оснований считать доли разными\n",
      "p-значение для CartScreenAppear 0.22867643757335676\n",
      "Не получилось отвергнуть нулевую гипотезу, нет оснований считать доли разными\n",
      "p-значение для PaymentScreenSuccessful 0.11446627829276612\n",
      "Не получилось отвергнуть нулевую гипотезу, нет оснований считать доли разными\n"
     ]
    }
   ],
   "source": [
    "share_comparison(pivot_a1_a2, .05, 'A1', 'A2')"
   ]
  },
  {
   "cell_type": "markdown",
   "id": "16567296",
   "metadata": {},
   "source": [
    "**Статистической разницы между двумя контрольными группами (А1 и А2) на каждом этапе событий не обнаружено.**"
   ]
  },
  {
   "cell_type": "markdown",
   "id": "e4a70967",
   "metadata": {},
   "source": [
    "## Проверим статистическую разницу между экспериментальной группой и каждой контрольной группой в отдельности"
   ]
  },
  {
   "cell_type": "markdown",
   "id": "879c199d",
   "metadata": {},
   "source": [
    "Для начала создадим новую сводную таблицу по аналогии с таблицей для групп А1 и А1"
   ]
  },
  {
   "cell_type": "code",
   "execution_count": 50,
   "id": "1c892e91",
   "metadata": {},
   "outputs": [
    {
     "data": {
      "text/html": [
       "<div>\n",
       "<style scoped>\n",
       "    .dataframe tbody tr th:only-of-type {\n",
       "        vertical-align: middle;\n",
       "    }\n",
       "\n",
       "    .dataframe tbody tr th {\n",
       "        vertical-align: top;\n",
       "    }\n",
       "\n",
       "    .dataframe thead th {\n",
       "        text-align: right;\n",
       "    }\n",
       "</style>\n",
       "<table border=\"1\" class=\"dataframe\">\n",
       "  <thead>\n",
       "    <tr style=\"text-align: right;\">\n",
       "      <th>group</th>\n",
       "      <th>event</th>\n",
       "      <th>A1</th>\n",
       "      <th>A2</th>\n",
       "      <th>conversion_a1</th>\n",
       "      <th>conversion_a2</th>\n",
       "    </tr>\n",
       "  </thead>\n",
       "  <tbody>\n",
       "    <tr>\n",
       "      <th>0</th>\n",
       "      <td>MainScreenAppear</td>\n",
       "      <td>2450</td>\n",
       "      <td>2476</td>\n",
       "      <td>98.67</td>\n",
       "      <td>98.57</td>\n",
       "    </tr>\n",
       "    <tr>\n",
       "      <th>1</th>\n",
       "      <td>OffersScreenAppear</td>\n",
       "      <td>1542</td>\n",
       "      <td>1520</td>\n",
       "      <td>62.10</td>\n",
       "      <td>60.51</td>\n",
       "    </tr>\n",
       "    <tr>\n",
       "      <th>2</th>\n",
       "      <td>CartScreenAppear</td>\n",
       "      <td>1266</td>\n",
       "      <td>1238</td>\n",
       "      <td>50.99</td>\n",
       "      <td>49.28</td>\n",
       "    </tr>\n",
       "    <tr>\n",
       "      <th>3</th>\n",
       "      <td>PaymentScreenSuccessful</td>\n",
       "      <td>1200</td>\n",
       "      <td>1158</td>\n",
       "      <td>48.33</td>\n",
       "      <td>46.10</td>\n",
       "    </tr>\n",
       "  </tbody>\n",
       "</table>\n",
       "</div>"
      ],
      "text/plain": [
       "group                    event    A1    A2  conversion_a1  conversion_a2\n",
       "0             MainScreenAppear  2450  2476          98.67          98.57\n",
       "1           OffersScreenAppear  1542  1520          62.10          60.51\n",
       "2             CartScreenAppear  1266  1238          50.99          49.28\n",
       "3      PaymentScreenSuccessful  1200  1158          48.33          46.10"
      ]
     },
     "execution_count": 50,
     "metadata": {},
     "output_type": "execute_result"
    }
   ],
   "source": [
    "# Сводная для А1 и А2\n",
    "pivot_a1_a2"
   ]
  },
  {
   "cell_type": "code",
   "execution_count": 51,
   "id": "4bb27e2c",
   "metadata": {},
   "outputs": [
    {
     "data": {
      "text/html": [
       "<div>\n",
       "<style scoped>\n",
       "    .dataframe tbody tr th:only-of-type {\n",
       "        vertical-align: middle;\n",
       "    }\n",
       "\n",
       "    .dataframe tbody tr th {\n",
       "        vertical-align: top;\n",
       "    }\n",
       "\n",
       "    .dataframe thead th {\n",
       "        text-align: right;\n",
       "    }\n",
       "</style>\n",
       "<table border=\"1\" class=\"dataframe\">\n",
       "  <thead>\n",
       "    <tr style=\"text-align: right;\">\n",
       "      <th>group</th>\n",
       "      <th>event</th>\n",
       "      <th>A1</th>\n",
       "      <th>A2</th>\n",
       "      <th>B</th>\n",
       "      <th>sum</th>\n",
       "      <th>conversion</th>\n",
       "      <th>step_conversion</th>\n",
       "    </tr>\n",
       "  </thead>\n",
       "  <tbody>\n",
       "    <tr>\n",
       "      <th>0</th>\n",
       "      <td>MainScreenAppear</td>\n",
       "      <td>2450</td>\n",
       "      <td>2476</td>\n",
       "      <td>2493</td>\n",
       "      <td>7419</td>\n",
       "      <td>98.53</td>\n",
       "      <td>100.00</td>\n",
       "    </tr>\n",
       "    <tr>\n",
       "      <th>1</th>\n",
       "      <td>OffersScreenAppear</td>\n",
       "      <td>1542</td>\n",
       "      <td>1520</td>\n",
       "      <td>1531</td>\n",
       "      <td>4593</td>\n",
       "      <td>61.00</td>\n",
       "      <td>61.91</td>\n",
       "    </tr>\n",
       "    <tr>\n",
       "      <th>2</th>\n",
       "      <td>CartScreenAppear</td>\n",
       "      <td>1266</td>\n",
       "      <td>1238</td>\n",
       "      <td>1230</td>\n",
       "      <td>3734</td>\n",
       "      <td>49.59</td>\n",
       "      <td>81.30</td>\n",
       "    </tr>\n",
       "    <tr>\n",
       "      <th>3</th>\n",
       "      <td>PaymentScreenSuccessful</td>\n",
       "      <td>1200</td>\n",
       "      <td>1158</td>\n",
       "      <td>1181</td>\n",
       "      <td>3539</td>\n",
       "      <td>47.00</td>\n",
       "      <td>94.78</td>\n",
       "    </tr>\n",
       "  </tbody>\n",
       "</table>\n",
       "</div>"
      ],
      "text/plain": [
       "group                    event    A1    A2     B   sum  conversion  \\\n",
       "0             MainScreenAppear  2450  2476  2493  7419       98.53   \n",
       "1           OffersScreenAppear  1542  1520  1531  4593       61.00   \n",
       "2             CartScreenAppear  1266  1238  1230  3734       49.59   \n",
       "3      PaymentScreenSuccessful  1200  1158  1181  3539       47.00   \n",
       "\n",
       "group  step_conversion  \n",
       "0               100.00  \n",
       "1                61.91  \n",
       "2                81.30  \n",
       "3                94.78  "
      ]
     },
     "execution_count": 51,
     "metadata": {},
     "output_type": "execute_result"
    }
   ],
   "source": [
    "# приведем индексы в порядок перед\n",
    "pivot.index = range(len(pivot))\n",
    "pivot"
   ]
  },
  {
   "cell_type": "code",
   "execution_count": 52,
   "id": "4e70900e",
   "metadata": {},
   "outputs": [
    {
     "data": {
      "text/html": [
       "<div>\n",
       "<style scoped>\n",
       "    .dataframe tbody tr th:only-of-type {\n",
       "        vertical-align: middle;\n",
       "    }\n",
       "\n",
       "    .dataframe tbody tr th {\n",
       "        vertical-align: top;\n",
       "    }\n",
       "\n",
       "    .dataframe thead th {\n",
       "        text-align: right;\n",
       "    }\n",
       "</style>\n",
       "<table border=\"1\" class=\"dataframe\">\n",
       "  <thead>\n",
       "    <tr style=\"text-align: right;\">\n",
       "      <th>group</th>\n",
       "      <th>event</th>\n",
       "      <th>A1</th>\n",
       "      <th>A2</th>\n",
       "      <th>B</th>\n",
       "      <th>conversion_a1</th>\n",
       "      <th>conversion_a2</th>\n",
       "    </tr>\n",
       "  </thead>\n",
       "  <tbody>\n",
       "    <tr>\n",
       "      <th>0</th>\n",
       "      <td>MainScreenAppear</td>\n",
       "      <td>2450</td>\n",
       "      <td>2476</td>\n",
       "      <td>2493</td>\n",
       "      <td>98.67</td>\n",
       "      <td>98.57</td>\n",
       "    </tr>\n",
       "    <tr>\n",
       "      <th>1</th>\n",
       "      <td>OffersScreenAppear</td>\n",
       "      <td>1542</td>\n",
       "      <td>1520</td>\n",
       "      <td>1531</td>\n",
       "      <td>62.10</td>\n",
       "      <td>60.51</td>\n",
       "    </tr>\n",
       "    <tr>\n",
       "      <th>2</th>\n",
       "      <td>CartScreenAppear</td>\n",
       "      <td>1266</td>\n",
       "      <td>1238</td>\n",
       "      <td>1230</td>\n",
       "      <td>50.99</td>\n",
       "      <td>49.28</td>\n",
       "    </tr>\n",
       "    <tr>\n",
       "      <th>3</th>\n",
       "      <td>PaymentScreenSuccessful</td>\n",
       "      <td>1200</td>\n",
       "      <td>1158</td>\n",
       "      <td>1181</td>\n",
       "      <td>48.33</td>\n",
       "      <td>46.10</td>\n",
       "    </tr>\n",
       "  </tbody>\n",
       "</table>\n",
       "</div>"
      ],
      "text/plain": [
       "group                    event    A1    A2     B  conversion_a1  conversion_a2\n",
       "0             MainScreenAppear  2450  2476  2493          98.67          98.57\n",
       "1           OffersScreenAppear  1542  1520  1531          62.10          60.51\n",
       "2             CartScreenAppear  1266  1238  1230          50.99          49.28\n",
       "3      PaymentScreenSuccessful  1200  1158  1181          48.33          46.10"
      ]
     },
     "execution_count": 52,
     "metadata": {},
     "output_type": "execute_result"
    }
   ],
   "source": [
    "pivot_a1_a2_b = pivot_a1_a2\n",
    "# добавим новый столбец с данными по группе В\n",
    "pivot_a1_a2_b['B'] = pivot['B']\n",
    "# поменяем порядок столбцов на более удобный\n",
    "pivot_a1_a2_b = pivot_a1_a2_b[['event', 'A1',\n",
    "                               'A2', 'B', 'conversion_a1', 'conversion_a2']]\n",
    "pivot_a1_a2_b"
   ]
  },
  {
   "cell_type": "code",
   "execution_count": 53,
   "id": "cd60ad1a",
   "metadata": {},
   "outputs": [
    {
     "data": {
      "text/plain": [
       "'Пользователей группы B: 2535'"
      ]
     },
     "metadata": {},
     "output_type": "display_data"
    },
    {
     "data": {
      "text/html": [
       "<div>\n",
       "<style scoped>\n",
       "    .dataframe tbody tr th:only-of-type {\n",
       "        vertical-align: middle;\n",
       "    }\n",
       "\n",
       "    .dataframe tbody tr th {\n",
       "        vertical-align: top;\n",
       "    }\n",
       "\n",
       "    .dataframe thead th {\n",
       "        text-align: right;\n",
       "    }\n",
       "</style>\n",
       "<table border=\"1\" class=\"dataframe\">\n",
       "  <thead>\n",
       "    <tr style=\"text-align: right;\">\n",
       "      <th>group</th>\n",
       "      <th>event</th>\n",
       "      <th>A1</th>\n",
       "      <th>A2</th>\n",
       "      <th>B</th>\n",
       "      <th>conversion_a1</th>\n",
       "      <th>conversion_a2</th>\n",
       "      <th>conversion_b</th>\n",
       "    </tr>\n",
       "  </thead>\n",
       "  <tbody>\n",
       "    <tr>\n",
       "      <th>0</th>\n",
       "      <td>MainScreenAppear</td>\n",
       "      <td>2450</td>\n",
       "      <td>2476</td>\n",
       "      <td>2493</td>\n",
       "      <td>98.67</td>\n",
       "      <td>98.57</td>\n",
       "      <td>99.24</td>\n",
       "    </tr>\n",
       "    <tr>\n",
       "      <th>1</th>\n",
       "      <td>OffersScreenAppear</td>\n",
       "      <td>1542</td>\n",
       "      <td>1520</td>\n",
       "      <td>1531</td>\n",
       "      <td>62.10</td>\n",
       "      <td>60.51</td>\n",
       "      <td>60.95</td>\n",
       "    </tr>\n",
       "    <tr>\n",
       "      <th>2</th>\n",
       "      <td>CartScreenAppear</td>\n",
       "      <td>1266</td>\n",
       "      <td>1238</td>\n",
       "      <td>1230</td>\n",
       "      <td>50.99</td>\n",
       "      <td>49.28</td>\n",
       "      <td>48.96</td>\n",
       "    </tr>\n",
       "    <tr>\n",
       "      <th>3</th>\n",
       "      <td>PaymentScreenSuccessful</td>\n",
       "      <td>1200</td>\n",
       "      <td>1158</td>\n",
       "      <td>1181</td>\n",
       "      <td>48.33</td>\n",
       "      <td>46.10</td>\n",
       "      <td>47.01</td>\n",
       "    </tr>\n",
       "  </tbody>\n",
       "</table>\n",
       "</div>"
      ],
      "text/plain": [
       "group                    event    A1    A2     B  conversion_a1  \\\n",
       "0             MainScreenAppear  2450  2476  2493          98.67   \n",
       "1           OffersScreenAppear  1542  1520  1531          62.10   \n",
       "2             CartScreenAppear  1266  1238  1230          50.99   \n",
       "3      PaymentScreenSuccessful  1200  1158  1181          48.33   \n",
       "\n",
       "group  conversion_a2  conversion_b  \n",
       "0              98.57         99.24  \n",
       "1              60.51         60.95  \n",
       "2              49.28         48.96  \n",
       "3              46.10         47.01  "
      ]
     },
     "execution_count": 53,
     "metadata": {},
     "output_type": "execute_result"
    }
   ],
   "source": [
    "# найдем общее количество пользователей в группе B\n",
    "users_in_b = count_unuque_users_in_group(logs_new, 'B')\n",
    "# найдем конверсию для каждого шага от общего количества пользователей\n",
    "conversion_for_group(pivot_a1_a2_b, 'B', users_in_a2)\n",
    "pivot_a1_a2_b"
   ]
  },
  {
   "cell_type": "markdown",
   "id": "896c49a8",
   "metadata": {},
   "source": [
    "### Сравним А1 и В"
   ]
  },
  {
   "cell_type": "markdown",
   "id": "d5fbfc78",
   "metadata": {},
   "source": [
    "**Сформулируем гипотезы для каждого события:**  \n",
    "\n",
    "Н0: Статистической разницы между группами А1 и В нет.  \n",
    "Н1: Между группами А1 и В есть статистически значимая разница."
   ]
  },
  {
   "cell_type": "code",
   "execution_count": 54,
   "id": "3a6f40d6",
   "metadata": {},
   "outputs": [
    {
     "data": {
      "text/plain": [
       "'Пользователей группы A1: 2483'"
      ]
     },
     "metadata": {},
     "output_type": "display_data"
    },
    {
     "data": {
      "text/plain": [
       "'Пользователей группы B: 2535'"
      ]
     },
     "metadata": {},
     "output_type": "display_data"
    },
    {
     "name": "stdout",
     "output_type": "stream",
     "text": [
      "p-значение для MainScreenAppear 0.3387114076159288\n",
      "Не получилось отвергнуть нулевую гипотезу, нет оснований считать доли разными\n",
      "p-значение для OffersScreenAppear 0.21442476639710506\n",
      "Не получилось отвергнуть нулевую гипотезу, нет оснований считать доли разными\n",
      "p-значение для CartScreenAppear 0.08067367598823139\n",
      "Не получилось отвергнуть нулевую гипотезу, нет оснований считать доли разными\n",
      "p-значение для PaymentScreenSuccessful 0.21693033984516674\n",
      "Не получилось отвергнуть нулевую гипотезу, нет оснований считать доли разными\n"
     ]
    }
   ],
   "source": [
    "share_comparison(pivot_a1_a2_b, .05, 'A1', 'B')"
   ]
  },
  {
   "cell_type": "markdown",
   "id": "bc5fc3ef",
   "metadata": {},
   "source": [
    "**Статистической разницы между экспериментальной группой В и контрольной группой А1 нет**"
   ]
  },
  {
   "cell_type": "markdown",
   "id": "2faeafd0",
   "metadata": {},
   "source": [
    "### Сравним А2 и В"
   ]
  },
  {
   "cell_type": "markdown",
   "id": "728eabd8",
   "metadata": {},
   "source": [
    "**Сформулируем гипотезы для каждого события:**  \n",
    "\n",
    "Н0: Статистической разницы между группами А2 и В нет.  \n",
    "Н1: Между группами А2 и В есть статистически значимая разница."
   ]
  },
  {
   "cell_type": "code",
   "execution_count": 55,
   "id": "4365545d",
   "metadata": {
    "scrolled": true
   },
   "outputs": [
    {
     "data": {
      "text/plain": [
       "'Пользователей группы A2: 2512'"
      ]
     },
     "metadata": {},
     "output_type": "display_data"
    },
    {
     "data": {
      "text/plain": [
       "'Пользователей группы B: 2535'"
      ]
     },
     "metadata": {},
     "output_type": "display_data"
    },
    {
     "name": "stdout",
     "output_type": "stream",
     "text": [
      "p-значение для MainScreenAppear 0.5194964354051703\n",
      "Не получилось отвергнуть нулевую гипотезу, нет оснований считать доли разными\n",
      "p-значение для OffersScreenAppear 0.9333751305879443\n",
      "Не получилось отвергнуть нулевую гипотезу, нет оснований считать доли разными\n",
      "p-значение для CartScreenAppear 0.5878284605111943\n",
      "Не получилось отвергнуть нулевую гипотезу, нет оснований считать доли разными\n",
      "p-значение для PaymentScreenSuccessful 0.7275718682261119\n",
      "Не получилось отвергнуть нулевую гипотезу, нет оснований считать доли разными\n"
     ]
    }
   ],
   "source": [
    "share_comparison(pivot_a1_a2_b, .05, 'A2', 'B')"
   ]
  },
  {
   "cell_type": "markdown",
   "id": "967b860b",
   "metadata": {},
   "source": [
    "**Статистической разницы между экспериментальной группой В и контрольной группой А2 нет**"
   ]
  },
  {
   "cell_type": "markdown",
   "id": "12dfc314",
   "metadata": {},
   "source": [
    "### Сравним результаты в группе В с объединенной контрольной группой (А1+А2)"
   ]
  },
  {
   "cell_type": "markdown",
   "id": "4a1c6d69",
   "metadata": {},
   "source": [
    "**Сформулируем гипотезы для каждого события:**  \n",
    "\n",
    "Н0: Статистической разницы между обединенной контрольной группой (А1+А2) и В нет.  \n",
    "Н1: Между группами А1+А2 и В есть статистически значимая разница."
   ]
  },
  {
   "cell_type": "code",
   "execution_count": 56,
   "id": "257738b1",
   "metadata": {},
   "outputs": [
    {
     "data": {
      "text/html": [
       "<div>\n",
       "<style scoped>\n",
       "    .dataframe tbody tr th:only-of-type {\n",
       "        vertical-align: middle;\n",
       "    }\n",
       "\n",
       "    .dataframe tbody tr th {\n",
       "        vertical-align: top;\n",
       "    }\n",
       "\n",
       "    .dataframe thead th {\n",
       "        text-align: right;\n",
       "    }\n",
       "</style>\n",
       "<table border=\"1\" class=\"dataframe\">\n",
       "  <thead>\n",
       "    <tr style=\"text-align: right;\">\n",
       "      <th>group</th>\n",
       "      <th>event</th>\n",
       "      <th>A1</th>\n",
       "      <th>A2</th>\n",
       "      <th>B</th>\n",
       "      <th>conversion_a1</th>\n",
       "      <th>conversion_a2</th>\n",
       "      <th>conversion_b</th>\n",
       "      <th>A1+A2</th>\n",
       "    </tr>\n",
       "  </thead>\n",
       "  <tbody>\n",
       "    <tr>\n",
       "      <th>0</th>\n",
       "      <td>MainScreenAppear</td>\n",
       "      <td>2450</td>\n",
       "      <td>2476</td>\n",
       "      <td>2493</td>\n",
       "      <td>98.67</td>\n",
       "      <td>98.57</td>\n",
       "      <td>99.24</td>\n",
       "      <td>4926</td>\n",
       "    </tr>\n",
       "    <tr>\n",
       "      <th>1</th>\n",
       "      <td>OffersScreenAppear</td>\n",
       "      <td>1542</td>\n",
       "      <td>1520</td>\n",
       "      <td>1531</td>\n",
       "      <td>62.10</td>\n",
       "      <td>60.51</td>\n",
       "      <td>60.95</td>\n",
       "      <td>3062</td>\n",
       "    </tr>\n",
       "    <tr>\n",
       "      <th>2</th>\n",
       "      <td>CartScreenAppear</td>\n",
       "      <td>1266</td>\n",
       "      <td>1238</td>\n",
       "      <td>1230</td>\n",
       "      <td>50.99</td>\n",
       "      <td>49.28</td>\n",
       "      <td>48.96</td>\n",
       "      <td>2504</td>\n",
       "    </tr>\n",
       "    <tr>\n",
       "      <th>3</th>\n",
       "      <td>PaymentScreenSuccessful</td>\n",
       "      <td>1200</td>\n",
       "      <td>1158</td>\n",
       "      <td>1181</td>\n",
       "      <td>48.33</td>\n",
       "      <td>46.10</td>\n",
       "      <td>47.01</td>\n",
       "      <td>2358</td>\n",
       "    </tr>\n",
       "  </tbody>\n",
       "</table>\n",
       "</div>"
      ],
      "text/plain": [
       "group                    event    A1    A2     B  conversion_a1  \\\n",
       "0             MainScreenAppear  2450  2476  2493          98.67   \n",
       "1           OffersScreenAppear  1542  1520  1531          62.10   \n",
       "2             CartScreenAppear  1266  1238  1230          50.99   \n",
       "3      PaymentScreenSuccessful  1200  1158  1181          48.33   \n",
       "\n",
       "group  conversion_a2  conversion_b  A1+A2  \n",
       "0              98.57         99.24   4926  \n",
       "1              60.51         60.95   3062  \n",
       "2              49.28         48.96   2504  \n",
       "3              46.10         47.01   2358  "
      ]
     },
     "execution_count": 56,
     "metadata": {},
     "output_type": "execute_result"
    }
   ],
   "source": [
    "pivot_a1_a2_b['A1+A2'] = pivot_a1_a2_b['A1'] + pivot_a1_a2_b['A2']\n",
    "pivot_a1_a2_b"
   ]
  },
  {
   "cell_type": "code",
   "execution_count": 57,
   "id": "7c163dd4",
   "metadata": {},
   "outputs": [
    {
     "data": {
      "text/plain": [
       "4995"
      ]
     },
     "execution_count": 57,
     "metadata": {},
     "output_type": "execute_result"
    }
   ],
   "source": [
    "users_in_a1_a2 = logs_new.query(\"group == 'A1' or group == 'A2'\")[\n",
    "    'user_id'].nunique()\n",
    "users_in_a1_a2"
   ]
  },
  {
   "cell_type": "code",
   "execution_count": 58,
   "id": "9dca663d",
   "metadata": {},
   "outputs": [
    {
     "data": {
      "text/plain": [
       "'Пользователей группы A1+A2: 4995'"
      ]
     },
     "metadata": {},
     "output_type": "display_data"
    },
    {
     "data": {
      "text/plain": [
       "'Пользователей группы B: 2535'"
      ]
     },
     "metadata": {},
     "output_type": "display_data"
    },
    {
     "name": "stdout",
     "output_type": "stream",
     "text": [
      "p-значение для MainScreenAppear 0.3486684291093256\n",
      "Не получилось отвергнуть нулевую гипотезу, нет оснований считать доли разными\n",
      "p-значение для OffersScreenAppear 0.44582745409482394\n",
      "Не получилось отвергнуть нулевую гипотезу, нет оснований считать доли разными\n",
      "p-значение для CartScreenAppear 0.18683558686831558\n",
      "Не получилось отвергнуть нулевую гипотезу, нет оснований считать доли разными\n",
      "p-значение для PaymentScreenSuccessful 0.6107918742187335\n",
      "Не получилось отвергнуть нулевую гипотезу, нет оснований считать доли разными\n"
     ]
    }
   ],
   "source": [
    "share_comparison(pivot_a1_a2_b, .05, 'A1+A2', 'B')"
   ]
  },
  {
   "cell_type": "markdown",
   "id": "9de04c9a",
   "metadata": {},
   "source": [
    "**Вывод**  \n",
    "\n",
    "Судя по проведенным тестам, можно сделать вывод что нет статистического различия долей.  \n",
    "Изменение шрифта не повлияло на пользователей.\n"
   ]
  },
  {
   "cell_type": "markdown",
   "id": "af5c5ac2",
   "metadata": {},
   "source": [
    "## Анализ уровня значимости"
   ]
  },
  {
   "cell_type": "markdown",
   "id": "69babd37",
   "metadata": {},
   "source": [
    "- Для проверки статистических гипотез был выбран уровень статистической значимости равный 0,05.  \n",
    "- В ходе проета мы сделали 16 статистических проверок.  \n",
    "\n",
    "Для множественных проверок следует применять поправки.  \n",
    "Сделаем поправку методом Бонферрони и проведем тесты повторно."
   ]
  },
  {
   "cell_type": "code",
   "execution_count": 59,
   "id": "cc668dca",
   "metadata": {},
   "outputs": [],
   "source": [
    "bonferroni = 0.05/16"
   ]
  },
  {
   "cell_type": "code",
   "execution_count": 60,
   "id": "80ece88b",
   "metadata": {},
   "outputs": [
    {
     "data": {
      "text/plain": [
       "'Пользователей группы A1: 2483'"
      ]
     },
     "metadata": {},
     "output_type": "display_data"
    },
    {
     "data": {
      "text/plain": [
       "'Пользователей группы A2: 2512'"
      ]
     },
     "metadata": {},
     "output_type": "display_data"
    },
    {
     "name": "stdout",
     "output_type": "stream",
     "text": [
      "p-значение для MainScreenAppear 0.7526703436483038\n",
      "Не получилось отвергнуть нулевую гипотезу, нет оснований считать доли разными\n",
      "p-значение для OffersScreenAppear 0.24786096925282264\n",
      "Не получилось отвергнуть нулевую гипотезу, нет оснований считать доли разными\n",
      "p-значение для CartScreenAppear 0.22867643757335676\n",
      "Не получилось отвергнуть нулевую гипотезу, нет оснований считать доли разными\n",
      "p-значение для PaymentScreenSuccessful 0.11446627829276612\n",
      "Не получилось отвергнуть нулевую гипотезу, нет оснований считать доли разными\n"
     ]
    }
   ],
   "source": [
    "share_comparison(pivot_a1_a2, bonferroni, 'A1', 'A2')"
   ]
  },
  {
   "cell_type": "code",
   "execution_count": 61,
   "id": "f8683143",
   "metadata": {},
   "outputs": [
    {
     "data": {
      "text/plain": [
       "'Пользователей группы A1: 2483'"
      ]
     },
     "metadata": {},
     "output_type": "display_data"
    },
    {
     "data": {
      "text/plain": [
       "'Пользователей группы B: 2535'"
      ]
     },
     "metadata": {},
     "output_type": "display_data"
    },
    {
     "name": "stdout",
     "output_type": "stream",
     "text": [
      "p-значение для MainScreenAppear 0.3387114076159288\n",
      "Не получилось отвергнуть нулевую гипотезу, нет оснований считать доли разными\n",
      "p-значение для OffersScreenAppear 0.21442476639710506\n",
      "Не получилось отвергнуть нулевую гипотезу, нет оснований считать доли разными\n",
      "p-значение для CartScreenAppear 0.08067367598823139\n",
      "Не получилось отвергнуть нулевую гипотезу, нет оснований считать доли разными\n",
      "p-значение для PaymentScreenSuccessful 0.21693033984516674\n",
      "Не получилось отвергнуть нулевую гипотезу, нет оснований считать доли разными\n"
     ]
    }
   ],
   "source": [
    "share_comparison(pivot_a1_a2_b, bonferroni, 'A1', 'B')"
   ]
  },
  {
   "cell_type": "code",
   "execution_count": 62,
   "id": "b0b7bc89",
   "metadata": {},
   "outputs": [
    {
     "data": {
      "text/plain": [
       "'Пользователей группы A2: 2512'"
      ]
     },
     "metadata": {},
     "output_type": "display_data"
    },
    {
     "data": {
      "text/plain": [
       "'Пользователей группы B: 2535'"
      ]
     },
     "metadata": {},
     "output_type": "display_data"
    },
    {
     "name": "stdout",
     "output_type": "stream",
     "text": [
      "p-значение для MainScreenAppear 0.5194964354051703\n",
      "Не получилось отвергнуть нулевую гипотезу, нет оснований считать доли разными\n",
      "p-значение для OffersScreenAppear 0.9333751305879443\n",
      "Не получилось отвергнуть нулевую гипотезу, нет оснований считать доли разными\n",
      "p-значение для CartScreenAppear 0.5878284605111943\n",
      "Не получилось отвергнуть нулевую гипотезу, нет оснований считать доли разными\n",
      "p-значение для PaymentScreenSuccessful 0.7275718682261119\n",
      "Не получилось отвергнуть нулевую гипотезу, нет оснований считать доли разными\n"
     ]
    }
   ],
   "source": [
    "share_comparison(pivot_a1_a2_b, bonferroni, 'A2', 'B')"
   ]
  },
  {
   "cell_type": "code",
   "execution_count": 63,
   "id": "8df5eb00",
   "metadata": {},
   "outputs": [
    {
     "data": {
      "text/plain": [
       "'Пользователей группы A1+A2: 4995'"
      ]
     },
     "metadata": {},
     "output_type": "display_data"
    },
    {
     "data": {
      "text/plain": [
       "'Пользователей группы B: 2535'"
      ]
     },
     "metadata": {},
     "output_type": "display_data"
    },
    {
     "name": "stdout",
     "output_type": "stream",
     "text": [
      "p-значение для MainScreenAppear 0.3486684291093256\n",
      "Не получилось отвергнуть нулевую гипотезу, нет оснований считать доли разными\n",
      "p-значение для OffersScreenAppear 0.44582745409482394\n",
      "Не получилось отвергнуть нулевую гипотезу, нет оснований считать доли разными\n",
      "p-значение для CartScreenAppear 0.18683558686831558\n",
      "Не получилось отвергнуть нулевую гипотезу, нет оснований считать доли разными\n",
      "p-значение для PaymentScreenSuccessful 0.6107918742187335\n",
      "Не получилось отвергнуть нулевую гипотезу, нет оснований считать доли разными\n"
     ]
    }
   ],
   "source": [
    "share_comparison(pivot_a1_a2_b, bonferroni, 'A1+A2', 'B')"
   ]
  },
  {
   "cell_type": "markdown",
   "id": "1fe219ab",
   "metadata": {},
   "source": [
    "**Вывод**\n",
    "\n",
    "Даже с учетом поправки, нет статистических различий между группами.  \n",
    "При сравнении двух контрольных групп - это хорошо, т.к. такой результат говорит нам о том, что не было никаких непредвиденных факторов, влияющих на поведение пользователя.  \n",
    "\n",
    "При сравнении результатов эксперимента между контрольными группами и экпериментальными мы так же не обнаружили никаких изменений.  Следовательно, изменение шрифта никак не повлияло на поведение пользователей.  \n",
    "Следует ответить на вопрос, зачем дизайнеры решили провести данный эксперимент?   \n",
    "\n",
    "В ходе проекта стало понятно, что большинство пользователей отсеивается после перехода с главного экрана на экран с предложениями. Необходимо обратьть внимание на данный факт, и например, сделать информацию на главном эеране более привлекательной, либо провести тесты по изменению кнопки перехода с главного экрана на эеран с предложениями продукции."
   ]
  }
 ],
 "metadata": {
  "ExecuteTimeLog": [
   {
    "duration": 662,
    "start_time": "2023-02-09T19:30:19.817Z"
   },
   {
    "duration": 0,
    "start_time": "2023-02-09T19:30:20.519Z"
   },
   {
    "duration": 0,
    "start_time": "2023-02-09T19:30:20.521Z"
   },
   {
    "duration": 0,
    "start_time": "2023-02-09T19:30:20.523Z"
   },
   {
    "duration": 0,
    "start_time": "2023-02-09T19:30:20.524Z"
   },
   {
    "duration": 0,
    "start_time": "2023-02-09T19:30:20.525Z"
   },
   {
    "duration": 0,
    "start_time": "2023-02-09T19:30:20.527Z"
   },
   {
    "duration": 0,
    "start_time": "2023-02-09T19:30:20.538Z"
   },
   {
    "duration": 0,
    "start_time": "2023-02-09T19:30:20.539Z"
   },
   {
    "duration": 1,
    "start_time": "2023-02-09T19:30:20.540Z"
   },
   {
    "duration": 0,
    "start_time": "2023-02-09T19:30:20.542Z"
   },
   {
    "duration": 0,
    "start_time": "2023-02-09T19:30:20.543Z"
   },
   {
    "duration": 0,
    "start_time": "2023-02-09T19:30:20.544Z"
   },
   {
    "duration": 0,
    "start_time": "2023-02-09T19:30:20.545Z"
   },
   {
    "duration": 0,
    "start_time": "2023-02-09T19:30:20.546Z"
   },
   {
    "duration": 0,
    "start_time": "2023-02-09T19:30:20.548Z"
   },
   {
    "duration": 0,
    "start_time": "2023-02-09T19:30:20.549Z"
   },
   {
    "duration": 0,
    "start_time": "2023-02-09T19:30:20.549Z"
   },
   {
    "duration": 0,
    "start_time": "2023-02-09T19:30:20.550Z"
   },
   {
    "duration": 0,
    "start_time": "2023-02-09T19:30:20.551Z"
   },
   {
    "duration": 0,
    "start_time": "2023-02-09T19:30:20.553Z"
   },
   {
    "duration": 0,
    "start_time": "2023-02-09T19:30:20.554Z"
   },
   {
    "duration": 0,
    "start_time": "2023-02-09T19:30:20.555Z"
   },
   {
    "duration": 0,
    "start_time": "2023-02-09T19:30:20.555Z"
   },
   {
    "duration": 0,
    "start_time": "2023-02-09T19:30:20.556Z"
   },
   {
    "duration": 0,
    "start_time": "2023-02-09T19:30:20.558Z"
   },
   {
    "duration": 0,
    "start_time": "2023-02-09T19:30:20.559Z"
   },
   {
    "duration": 0,
    "start_time": "2023-02-09T19:30:20.561Z"
   },
   {
    "duration": 0,
    "start_time": "2023-02-09T19:30:20.562Z"
   },
   {
    "duration": 0,
    "start_time": "2023-02-09T19:30:20.564Z"
   },
   {
    "duration": 0,
    "start_time": "2023-02-09T19:30:20.565Z"
   },
   {
    "duration": 0,
    "start_time": "2023-02-09T19:30:20.566Z"
   },
   {
    "duration": 0,
    "start_time": "2023-02-09T19:30:20.570Z"
   },
   {
    "duration": 0,
    "start_time": "2023-02-09T19:30:20.572Z"
   },
   {
    "duration": 0,
    "start_time": "2023-02-09T19:30:20.573Z"
   },
   {
    "duration": 1,
    "start_time": "2023-02-09T19:30:20.574Z"
   },
   {
    "duration": 0,
    "start_time": "2023-02-09T19:30:20.576Z"
   },
   {
    "duration": 0,
    "start_time": "2023-02-09T19:30:20.577Z"
   },
   {
    "duration": 0,
    "start_time": "2023-02-09T19:30:20.578Z"
   },
   {
    "duration": 0,
    "start_time": "2023-02-09T19:30:20.580Z"
   },
   {
    "duration": 0,
    "start_time": "2023-02-09T19:30:20.581Z"
   },
   {
    "duration": 0,
    "start_time": "2023-02-09T19:30:20.639Z"
   },
   {
    "duration": 0,
    "start_time": "2023-02-09T19:30:20.644Z"
   },
   {
    "duration": 0,
    "start_time": "2023-02-09T19:30:20.645Z"
   },
   {
    "duration": 0,
    "start_time": "2023-02-09T19:30:20.646Z"
   },
   {
    "duration": 0,
    "start_time": "2023-02-09T19:30:20.647Z"
   },
   {
    "duration": 1,
    "start_time": "2023-02-09T19:30:20.648Z"
   },
   {
    "duration": 0,
    "start_time": "2023-02-09T19:30:20.650Z"
   },
   {
    "duration": 0,
    "start_time": "2023-02-09T19:30:20.651Z"
   },
   {
    "duration": 0,
    "start_time": "2023-02-09T19:30:20.652Z"
   },
   {
    "duration": 0,
    "start_time": "2023-02-09T19:30:20.654Z"
   },
   {
    "duration": 0,
    "start_time": "2023-02-09T19:30:20.655Z"
   },
   {
    "duration": 0,
    "start_time": "2023-02-09T19:30:20.658Z"
   },
   {
    "duration": 0,
    "start_time": "2023-02-09T19:30:20.659Z"
   },
   {
    "duration": 0,
    "start_time": "2023-02-09T19:30:20.661Z"
   },
   {
    "duration": 0,
    "start_time": "2023-02-09T19:30:20.665Z"
   },
   {
    "duration": 0,
    "start_time": "2023-02-09T19:30:20.666Z"
   },
   {
    "duration": 0,
    "start_time": "2023-02-09T19:30:20.670Z"
   },
   {
    "duration": 0,
    "start_time": "2023-02-09T19:30:20.671Z"
   },
   {
    "duration": 1594,
    "start_time": "2023-02-09T19:30:41.053Z"
   },
   {
    "duration": 761,
    "start_time": "2023-02-09T19:30:42.650Z"
   },
   {
    "duration": 14,
    "start_time": "2023-02-09T19:30:43.413Z"
   },
   {
    "duration": 38,
    "start_time": "2023-02-09T19:30:43.429Z"
   },
   {
    "duration": 85,
    "start_time": "2023-02-09T19:30:43.470Z"
   },
   {
    "duration": 190,
    "start_time": "2023-02-09T19:30:43.557Z"
   },
   {
    "duration": 8,
    "start_time": "2023-02-09T19:30:43.753Z"
   },
   {
    "duration": 24,
    "start_time": "2023-02-09T19:30:43.763Z"
   },
   {
    "duration": 184,
    "start_time": "2023-02-09T19:30:43.789Z"
   },
   {
    "duration": 42,
    "start_time": "2023-02-09T19:30:43.975Z"
   },
   {
    "duration": 27,
    "start_time": "2023-02-09T19:30:44.019Z"
   },
   {
    "duration": 48,
    "start_time": "2023-02-09T19:30:44.048Z"
   },
   {
    "duration": 7,
    "start_time": "2023-02-09T19:30:44.097Z"
   },
   {
    "duration": 27,
    "start_time": "2023-02-09T19:30:44.107Z"
   },
   {
    "duration": 22,
    "start_time": "2023-02-09T19:30:44.140Z"
   },
   {
    "duration": 1464,
    "start_time": "2023-02-09T19:30:44.163Z"
   },
   {
    "duration": 32,
    "start_time": "2023-02-09T19:30:45.630Z"
   },
   {
    "duration": 13,
    "start_time": "2023-02-09T19:30:45.664Z"
   },
   {
    "duration": 1164,
    "start_time": "2023-02-09T19:30:45.679Z"
   },
   {
    "duration": 21,
    "start_time": "2023-02-09T19:30:46.846Z"
   },
   {
    "duration": 79,
    "start_time": "2023-02-09T19:30:46.869Z"
   },
   {
    "duration": 19,
    "start_time": "2023-02-09T19:30:46.950Z"
   },
   {
    "duration": 39,
    "start_time": "2023-02-09T19:30:46.972Z"
   },
   {
    "duration": 80,
    "start_time": "2023-02-09T19:30:47.038Z"
   },
   {
    "duration": 24,
    "start_time": "2023-02-09T19:30:47.120Z"
   },
   {
    "duration": 12,
    "start_time": "2023-02-09T19:30:47.155Z"
   },
   {
    "duration": 18,
    "start_time": "2023-02-09T19:30:47.168Z"
   },
   {
    "duration": 472,
    "start_time": "2023-02-09T19:30:47.188Z"
   },
   {
    "duration": 7,
    "start_time": "2023-02-09T19:30:47.662Z"
   },
   {
    "duration": 82,
    "start_time": "2023-02-09T19:30:47.671Z"
   },
   {
    "duration": 9,
    "start_time": "2023-02-09T19:30:47.755Z"
   },
   {
    "duration": 162,
    "start_time": "2023-02-09T19:30:47.766Z"
   },
   {
    "duration": 23,
    "start_time": "2023-02-09T19:30:47.930Z"
   },
   {
    "duration": 39,
    "start_time": "2023-02-09T19:30:47.955Z"
   },
   {
    "duration": 66,
    "start_time": "2023-02-09T19:30:47.996Z"
   },
   {
    "duration": 5,
    "start_time": "2023-02-09T19:30:48.064Z"
   },
   {
    "duration": 74,
    "start_time": "2023-02-09T19:30:48.071Z"
   },
   {
    "duration": 14,
    "start_time": "2023-02-09T19:30:48.151Z"
   },
   {
    "duration": 27,
    "start_time": "2023-02-09T19:30:48.167Z"
   },
   {
    "duration": 14,
    "start_time": "2023-02-09T19:30:48.197Z"
   },
   {
    "duration": 3,
    "start_time": "2023-02-09T19:30:48.217Z"
   },
   {
    "duration": 31,
    "start_time": "2023-02-09T19:30:48.222Z"
   },
   {
    "duration": 26,
    "start_time": "2023-02-09T19:30:48.255Z"
   },
   {
    "duration": 10,
    "start_time": "2023-02-09T19:30:48.284Z"
   },
   {
    "duration": 70,
    "start_time": "2023-02-09T19:30:48.296Z"
   },
   {
    "duration": 9,
    "start_time": "2023-02-09T19:30:48.369Z"
   },
   {
    "duration": 19,
    "start_time": "2023-02-09T19:30:48.380Z"
   },
   {
    "duration": 21,
    "start_time": "2023-02-09T19:30:48.401Z"
   },
   {
    "duration": 51,
    "start_time": "2023-02-09T19:30:48.424Z"
   },
   {
    "duration": 64,
    "start_time": "2023-02-09T19:30:48.477Z"
   },
   {
    "duration": 56,
    "start_time": "2023-02-09T19:30:48.543Z"
   },
   {
    "duration": 44,
    "start_time": "2023-02-09T19:30:48.601Z"
   },
   {
    "duration": 44,
    "start_time": "2023-02-09T19:30:48.649Z"
   },
   {
    "duration": 68,
    "start_time": "2023-02-09T19:30:48.694Z"
   },
   {
    "duration": 3,
    "start_time": "2023-02-09T19:30:48.764Z"
   },
   {
    "duration": 66,
    "start_time": "2023-02-09T19:30:48.768Z"
   },
   {
    "duration": 58,
    "start_time": "2023-02-09T19:30:48.836Z"
   },
   {
    "duration": 88,
    "start_time": "2023-02-09T19:30:48.896Z"
   },
   {
    "duration": 87,
    "start_time": "2023-02-09T19:30:48.986Z"
   },
   {
    "duration": 1268,
    "start_time": "2023-02-10T21:00:35.402Z"
   },
   {
    "duration": 167,
    "start_time": "2023-02-10T21:00:36.673Z"
   },
   {
    "duration": 26,
    "start_time": "2023-02-10T21:00:36.842Z"
   },
   {
    "duration": 31,
    "start_time": "2023-02-10T21:00:36.871Z"
   },
   {
    "duration": 72,
    "start_time": "2023-02-10T21:00:36.903Z"
   },
   {
    "duration": 142,
    "start_time": "2023-02-10T21:00:36.977Z"
   },
   {
    "duration": 8,
    "start_time": "2023-02-10T21:00:37.120Z"
   },
   {
    "duration": 29,
    "start_time": "2023-02-10T21:00:37.130Z"
   },
   {
    "duration": 116,
    "start_time": "2023-02-10T21:00:37.168Z"
   },
   {
    "duration": 50,
    "start_time": "2023-02-10T21:00:37.287Z"
   },
   {
    "duration": 29,
    "start_time": "2023-02-10T21:00:37.339Z"
   },
   {
    "duration": 45,
    "start_time": "2023-02-10T21:00:37.370Z"
   },
   {
    "duration": 55,
    "start_time": "2023-02-10T21:00:37.416Z"
   },
   {
    "duration": 6,
    "start_time": "2023-02-10T21:00:37.472Z"
   },
   {
    "duration": 9,
    "start_time": "2023-02-10T21:00:37.480Z"
   },
   {
    "duration": 70,
    "start_time": "2023-02-10T21:00:37.490Z"
   },
   {
    "duration": 18,
    "start_time": "2023-02-10T21:00:37.564Z"
   },
   {
    "duration": 350,
    "start_time": "2023-02-10T21:00:37.584Z"
   },
   {
    "duration": 286,
    "start_time": "2023-02-10T21:00:37.936Z"
   },
   {
    "duration": 6,
    "start_time": "2023-02-10T21:00:38.223Z"
   },
   {
    "duration": 40,
    "start_time": "2023-02-10T21:00:38.230Z"
   },
   {
    "duration": 1406,
    "start_time": "2023-02-10T21:00:38.271Z"
   },
   {
    "duration": 14,
    "start_time": "2023-02-10T21:00:39.680Z"
   },
   {
    "duration": 14,
    "start_time": "2023-02-10T21:00:39.696Z"
   },
   {
    "duration": 1114,
    "start_time": "2023-02-10T21:00:39.712Z"
   },
   {
    "duration": 40,
    "start_time": "2023-02-10T21:00:40.828Z"
   },
   {
    "duration": 57,
    "start_time": "2023-02-10T21:00:40.870Z"
   },
   {
    "duration": 126,
    "start_time": "2023-02-10T21:00:40.951Z"
   },
   {
    "duration": 47,
    "start_time": "2023-02-10T21:00:41.079Z"
   },
   {
    "duration": 92,
    "start_time": "2023-02-10T21:00:41.128Z"
   },
   {
    "duration": 10,
    "start_time": "2023-02-10T21:00:41.222Z"
   },
   {
    "duration": 31,
    "start_time": "2023-02-10T21:00:41.233Z"
   },
   {
    "duration": 9,
    "start_time": "2023-02-10T21:00:41.265Z"
   },
   {
    "duration": 442,
    "start_time": "2023-02-10T21:00:41.275Z"
   },
   {
    "duration": 7,
    "start_time": "2023-02-10T21:00:41.720Z"
   },
   {
    "duration": 41,
    "start_time": "2023-02-10T21:00:41.729Z"
   },
   {
    "duration": 9,
    "start_time": "2023-02-10T21:00:41.772Z"
   },
   {
    "duration": 188,
    "start_time": "2023-02-10T21:00:41.783Z"
   },
   {
    "duration": 12,
    "start_time": "2023-02-10T21:00:41.973Z"
   },
   {
    "duration": 13,
    "start_time": "2023-02-10T21:00:41.987Z"
   },
   {
    "duration": 102,
    "start_time": "2023-02-10T21:00:42.002Z"
   },
   {
    "duration": 4,
    "start_time": "2023-02-10T21:00:42.106Z"
   },
   {
    "duration": 74,
    "start_time": "2023-02-10T21:00:42.112Z"
   },
   {
    "duration": 10,
    "start_time": "2023-02-10T21:00:42.188Z"
   },
   {
    "duration": 15,
    "start_time": "2023-02-10T21:00:42.200Z"
   },
   {
    "duration": 14,
    "start_time": "2023-02-10T21:00:42.216Z"
   },
   {
    "duration": 6,
    "start_time": "2023-02-10T21:00:42.232Z"
   },
   {
    "duration": 20,
    "start_time": "2023-02-10T21:00:42.240Z"
   },
   {
    "duration": 22,
    "start_time": "2023-02-10T21:00:42.261Z"
   },
   {
    "duration": 7,
    "start_time": "2023-02-10T21:00:42.285Z"
   },
   {
    "duration": 61,
    "start_time": "2023-02-10T21:00:42.294Z"
   },
   {
    "duration": 9,
    "start_time": "2023-02-10T21:00:42.356Z"
   },
   {
    "duration": 16,
    "start_time": "2023-02-10T21:00:42.367Z"
   },
   {
    "duration": 13,
    "start_time": "2023-02-10T21:00:42.385Z"
   },
   {
    "duration": 29,
    "start_time": "2023-02-10T21:00:42.399Z"
   },
   {
    "duration": 79,
    "start_time": "2023-02-10T21:00:42.430Z"
   },
   {
    "duration": 77,
    "start_time": "2023-02-10T21:00:42.511Z"
   },
   {
    "duration": 11,
    "start_time": "2023-02-10T21:00:42.590Z"
   },
   {
    "duration": 54,
    "start_time": "2023-02-10T21:00:42.603Z"
   },
   {
    "duration": 63,
    "start_time": "2023-02-10T21:00:42.659Z"
   },
   {
    "duration": 3,
    "start_time": "2023-02-10T21:00:42.723Z"
   },
   {
    "duration": 66,
    "start_time": "2023-02-10T21:00:42.728Z"
   },
   {
    "duration": 80,
    "start_time": "2023-02-10T21:00:42.795Z"
   },
   {
    "duration": 80,
    "start_time": "2023-02-10T21:00:42.877Z"
   },
   {
    "duration": 89,
    "start_time": "2023-02-10T21:00:42.960Z"
   }
  ],
  "kernelspec": {
   "display_name": "Python 3 (ipykernel)",
   "language": "python",
   "name": "python3"
  },
  "language_info": {
   "codemirror_mode": {
    "name": "ipython",
    "version": 3
   },
   "file_extension": ".py",
   "mimetype": "text/x-python",
   "name": "python",
   "nbconvert_exporter": "python",
   "pygments_lexer": "ipython3",
   "version": "3.8.12"
  },
  "toc": {
   "base_numbering": 1,
   "nav_menu": {},
   "number_sections": true,
   "sideBar": true,
   "skip_h1_title": false,
   "title_cell": "Содержание",
   "title_sidebar": "Contents",
   "toc_cell": true,
   "toc_position": {
    "height": "503.188px",
    "left": "30px",
    "top": "159px",
    "width": "153.594px"
   },
   "toc_section_display": true,
   "toc_window_display": true
  }
 },
 "nbformat": 4,
 "nbformat_minor": 5
}
